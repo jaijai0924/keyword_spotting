{
 "cells": [
  {
   "attachments": {},
   "cell_type": "markdown",
   "metadata": {},
   "source": [
    "# Exploratory Data Analysis"
   ]
  },
  {
   "attachments": {},
   "cell_type": "markdown",
   "metadata": {},
   "source": [
    "# Imports"
   ]
  },
  {
   "cell_type": "code",
   "execution_count": 1,
   "metadata": {},
   "outputs": [],
   "source": [
    "import pandas as pd\n",
    "import numpy as np\n",
    "import matplotlib.pylab as plt\n",
    "import seaborn as sns\n",
    "from glob import glob\n",
    "\n",
    "import noisereduce as nr\n",
    "\n",
    "import tensorflow as tf\n",
    "from sklearn.model_selection import train_test_split\n",
    "from sklearn.preprocessing import LabelEncoder\n",
    "from tensorflow.keras.preprocessing.sequence import pad_sequences\n",
    "from tensorflow.keras.utils import to_categorical\n",
    "\n",
    "import librosa\n",
    "import librosa.display\n",
    "import IPython.display as ipd\n",
    "\n",
    "from itertools import cycle\n",
    "sns.set_theme(style=\"white\", palette=None)\n",
    "color_pal = plt.rcParams[\"axes.prop_cycle\"].by_key()[\"color\"]\n",
    "color_cycle = cycle(plt.rcParams[\"axes.prop_cycle\"].by_key()[\"color\"])"
   ]
  },
  {
   "attachments": {},
   "cell_type": "markdown",
   "metadata": {},
   "source": [
    "## Local file path"
   ]
  },
  {
   "attachments": {},
   "cell_type": "markdown",
   "metadata": {},
   "source": [
    "### Only use 6db sample\n",
    "* Experiment with using 0db or -6dB samples as we do not have baseline background noise"
   ]
  },
  {
   "cell_type": "code",
   "execution_count": 2,
   "metadata": {},
   "outputs": [],
   "source": [
    "\n",
    "# audio_files = glob('/Users/jaimacabangon/Downloads/slider_0db/*/*/*.wav')\n",
    "# audio_files_minus_6 = glob('/Users/jaimacabangon/Downloads/slider_-6db/*/*/*.wav')\n",
    "audio_files = glob('/Users/jaimacabangon/Downloads/slider_6db/*/*/*.wav')\n",
    "# audio_files_fan_0 = glob('/Users/jaimacabangon/Downloads/fan_0db/*/*/*.wav')\n",
    "# audio_files_fan_minus_6 = glob('/Users/jaimacabangon/Downloads/fan_-6db/*/*/*.wav')\n",
    "audio_files_fan_6 = glob('/Users/jaimacabangon/Downloads/fan_6db/*/*/*.wav')\n",
    "# audio_files_pump_0 = glob('/Users/jaimacabangon/Downloads/pump_0db/*/*/*.wav')\n",
    "# audio_files_pump_minus_6 = glob('/Users/jaimacabangon/Downloads/pump_-6db/*/*/*.wav')\n",
    "audio_files_pump_6 = glob('/Users/jaimacabangon/Downloads/pump_6db/*/*/*.wav')\n",
    "# audio_files_valve_0 = glob('/Users/jaimacabangon/Downloads/valve_0db/*/*/*.wav')\n",
    "# audio_files_valve_minus_6 = glob('/Users/jaimacabangon/Downloads/valve_-6db/*/*/*.wav')\n",
    "audio_files_valve_6 = glob('/Users/jaimacabangon/Downloads/valve_6db/*/*/*.wav')\n",
    "\n",
    "\n",
    "# audio_files.extend(audio_files_6)\n",
    "# audio_files.extend(audio_files_minus_6)\n",
    "\n",
    "\n",
    "# audio_files.extend(audio_files_fan_0)\n",
    "# audio_files.extend(audio_files_fan_minus_6)\n",
    "audio_files.extend(audio_files_fan_6)\n",
    "\n",
    "# audio_files.extend(audio_files_pump_0)\n",
    "# audio_files.extend(audio_files_pump_minus_6)\n",
    "audio_files.extend(audio_files_pump_6)\n",
    "\n",
    "# audio_files.extend(audio_files_valve_0)\n",
    "# audio_files.extend(audio_files_valve_minus_6)\n",
    "audio_files.extend(audio_files_valve_6)\n"
   ]
  },
  {
   "attachments": {},
   "cell_type": "markdown",
   "metadata": {},
   "source": [
    "# Create initial Dataframe\n",
    "* Split string for data frame creation\n",
    "* Initial dataframe will include:\n",
    "    * Machine type (slider, valve, fan, pump)\n",
    "    * unique machine ID (id_NN)\n",
    "    * wav file name\n",
    "    * Sound type (normal vs abnormal)\n",
    "    * Raw data (raw audio data)"
   ]
  },
  {
   "cell_type": "code",
   "execution_count": 3,
   "metadata": {},
   "outputs": [
    {
     "name": "stdout",
     "output_type": "stream",
     "text": [
      "['', 'Users', 'jaimacabangon', 'Downloads', 'slider_6db', 'id_00', 'abnormal', '00000059.wav']\n"
     ]
    }
   ],
   "source": [
    "test = audio_files[0]\n",
    "new = test.split('/')\n",
    "print(new)"
   ]
  },
  {
   "cell_type": "code",
   "execution_count": 4,
   "metadata": {},
   "outputs": [],
   "source": [
    "raw_data_list = [] \n",
    "sample_rate_list = []\n",
    "sound_source_list = [] \n",
    "binary_classification_list = [] \n",
    "wav_file_list = [] \n",
    "name_classification_list = []\n",
    "\n",
    "for audio_file in audio_files:\n",
    "    split_string = str(audio_file).split('/')\n",
    "    sound_source = split_string[4]\n",
    "    name_classification = sound_source.split(\"_\")[0]\n",
    "    binary_classification = split_string[6]\n",
    "    wav_file = split_string[7]\n",
    "    raw_data, sample_rate = librosa.load(audio_file, sr=None)\n",
    "    sound_source_list.append(sound_source)\n",
    "    binary_classification_list.append(binary_classification)\n",
    "    wav_file_list.append(wav_file)\n",
    "    raw_data_list.append(raw_data)\n",
    "    sample_rate_list.append(sample_rate)\n",
    "    name_classification_list.append(name_classification)\n",
    "\n",
    "\n",
    "    "
   ]
  },
  {
   "attachments": {},
   "cell_type": "markdown",
   "metadata": {},
   "source": [
    "### 50k samples average time to DF ~5mins"
   ]
  },
  {
   "cell_type": "code",
   "execution_count": 5,
   "metadata": {},
   "outputs": [],
   "source": [
    "df = pd.DataFrame(columns=[\"Sound Source\",\"Machine Type\", \"Classification\", \".wav File\", \"Sample Rate\", \"Raw Data\"])"
   ]
  },
  {
   "cell_type": "code",
   "execution_count": 6,
   "metadata": {},
   "outputs": [],
   "source": [
    "df[\"Sound Source\"] = sound_source_list\n",
    "df[\"Machine Type\"] = name_classification_list # label for machine type \n",
    "df[\"Classification\"] = binary_classification_list # label for 0 or 1 (normal vs abnormal)\n",
    "df[\".wav File\"] = wav_file_list\n",
    "df[\"Sample Rate\"] = sample_rate_list\n",
    "df[\"Raw Data\"] = raw_data_list"
   ]
  },
  {
   "cell_type": "code",
   "execution_count": 7,
   "metadata": {},
   "outputs": [
    {
     "data": {
      "text/html": [
       "<div>\n",
       "<style scoped>\n",
       "    .dataframe tbody tr th:only-of-type {\n",
       "        vertical-align: middle;\n",
       "    }\n",
       "\n",
       "    .dataframe tbody tr th {\n",
       "        vertical-align: top;\n",
       "    }\n",
       "\n",
       "    .dataframe thead th {\n",
       "        text-align: right;\n",
       "    }\n",
       "</style>\n",
       "<table border=\"1\" class=\"dataframe\">\n",
       "  <thead>\n",
       "    <tr style=\"text-align: right;\">\n",
       "      <th></th>\n",
       "      <th>Sound Source</th>\n",
       "      <th>Machine Type</th>\n",
       "      <th>Classification</th>\n",
       "      <th>.wav File</th>\n",
       "      <th>Sample Rate</th>\n",
       "      <th>Raw Data</th>\n",
       "    </tr>\n",
       "  </thead>\n",
       "  <tbody>\n",
       "    <tr>\n",
       "      <th>0</th>\n",
       "      <td>slider_6db</td>\n",
       "      <td>slider</td>\n",
       "      <td>abnormal</td>\n",
       "      <td>00000059.wav</td>\n",
       "      <td>16000</td>\n",
       "      <td>[0.0011634827, 0.00012207031, -0.00046539307, ...</td>\n",
       "    </tr>\n",
       "    <tr>\n",
       "      <th>1</th>\n",
       "      <td>slider_6db</td>\n",
       "      <td>slider</td>\n",
       "      <td>abnormal</td>\n",
       "      <td>00000071.wav</td>\n",
       "      <td>16000</td>\n",
       "      <td>[0.004940033, 0.0047073364, 0.0077323914, -0.0...</td>\n",
       "    </tr>\n",
       "    <tr>\n",
       "      <th>2</th>\n",
       "      <td>slider_6db</td>\n",
       "      <td>slider</td>\n",
       "      <td>abnormal</td>\n",
       "      <td>00000065.wav</td>\n",
       "      <td>16000</td>\n",
       "      <td>[0.0025291443, 0.002922058, 0.0031700134, 0.00...</td>\n",
       "    </tr>\n",
       "    <tr>\n",
       "      <th>3</th>\n",
       "      <td>slider_6db</td>\n",
       "      <td>slider</td>\n",
       "      <td>abnormal</td>\n",
       "      <td>00000273.wav</td>\n",
       "      <td>16000</td>\n",
       "      <td>[-0.007286072, -0.0062065125, -0.0077590942, -...</td>\n",
       "    </tr>\n",
       "    <tr>\n",
       "      <th>4</th>\n",
       "      <td>slider_6db</td>\n",
       "      <td>slider</td>\n",
       "      <td>abnormal</td>\n",
       "      <td>00000267.wav</td>\n",
       "      <td>16000</td>\n",
       "      <td>[-0.0026016235, -0.0023345947, -0.002998352, -...</td>\n",
       "    </tr>\n",
       "    <tr>\n",
       "      <th>...</th>\n",
       "      <td>...</td>\n",
       "      <td>...</td>\n",
       "      <td>...</td>\n",
       "      <td>...</td>\n",
       "      <td>...</td>\n",
       "      <td>...</td>\n",
       "    </tr>\n",
       "    <tr>\n",
       "      <th>18014</th>\n",
       "      <td>valve_6db</td>\n",
       "      <td>valve</td>\n",
       "      <td>normal</td>\n",
       "      <td>00000083.wav</td>\n",
       "      <td>16000</td>\n",
       "      <td>[-0.0015220642, -0.0024032593, -0.0027389526, ...</td>\n",
       "    </tr>\n",
       "    <tr>\n",
       "      <th>18015</th>\n",
       "      <td>valve_6db</td>\n",
       "      <td>valve</td>\n",
       "      <td>normal</td>\n",
       "      <td>00000097.wav</td>\n",
       "      <td>16000</td>\n",
       "      <td>[-0.0033035278, -0.0030288696, -0.0026435852, ...</td>\n",
       "    </tr>\n",
       "    <tr>\n",
       "      <th>18016</th>\n",
       "      <td>valve_6db</td>\n",
       "      <td>valve</td>\n",
       "      <td>normal</td>\n",
       "      <td>00000068.wav</td>\n",
       "      <td>16000</td>\n",
       "      <td>[-0.0005912781, -1.9073486e-05, 0.00062179565,...</td>\n",
       "    </tr>\n",
       "    <tr>\n",
       "      <th>18017</th>\n",
       "      <td>valve_6db</td>\n",
       "      <td>valve</td>\n",
       "      <td>normal</td>\n",
       "      <td>00000040.wav</td>\n",
       "      <td>16000</td>\n",
       "      <td>[-0.00061035156, -0.0008201599, -0.00074768066...</td>\n",
       "    </tr>\n",
       "    <tr>\n",
       "      <th>18018</th>\n",
       "      <td>valve_6db</td>\n",
       "      <td>valve</td>\n",
       "      <td>normal</td>\n",
       "      <td>00000054.wav</td>\n",
       "      <td>16000</td>\n",
       "      <td>[-0.0022010803, -0.0014953613, -0.00020980835,...</td>\n",
       "    </tr>\n",
       "  </tbody>\n",
       "</table>\n",
       "<p>18019 rows × 6 columns</p>\n",
       "</div>"
      ],
      "text/plain": [
       "      Sound Source Machine Type Classification     .wav File  Sample Rate  \\\n",
       "0       slider_6db       slider       abnormal  00000059.wav        16000   \n",
       "1       slider_6db       slider       abnormal  00000071.wav        16000   \n",
       "2       slider_6db       slider       abnormal  00000065.wav        16000   \n",
       "3       slider_6db       slider       abnormal  00000273.wav        16000   \n",
       "4       slider_6db       slider       abnormal  00000267.wav        16000   \n",
       "...            ...          ...            ...           ...          ...   \n",
       "18014    valve_6db        valve         normal  00000083.wav        16000   \n",
       "18015    valve_6db        valve         normal  00000097.wav        16000   \n",
       "18016    valve_6db        valve         normal  00000068.wav        16000   \n",
       "18017    valve_6db        valve         normal  00000040.wav        16000   \n",
       "18018    valve_6db        valve         normal  00000054.wav        16000   \n",
       "\n",
       "                                                Raw Data  \n",
       "0      [0.0011634827, 0.00012207031, -0.00046539307, ...  \n",
       "1      [0.004940033, 0.0047073364, 0.0077323914, -0.0...  \n",
       "2      [0.0025291443, 0.002922058, 0.0031700134, 0.00...  \n",
       "3      [-0.007286072, -0.0062065125, -0.0077590942, -...  \n",
       "4      [-0.0026016235, -0.0023345947, -0.002998352, -...  \n",
       "...                                                  ...  \n",
       "18014  [-0.0015220642, -0.0024032593, -0.0027389526, ...  \n",
       "18015  [-0.0033035278, -0.0030288696, -0.0026435852, ...  \n",
       "18016  [-0.0005912781, -1.9073486e-05, 0.00062179565,...  \n",
       "18017  [-0.00061035156, -0.0008201599, -0.00074768066...  \n",
       "18018  [-0.0022010803, -0.0014953613, -0.00020980835,...  \n",
       "\n",
       "[18019 rows x 6 columns]"
      ]
     },
     "execution_count": 7,
     "metadata": {},
     "output_type": "execute_result"
    }
   ],
   "source": [
    "df"
   ]
  },
  {
   "attachments": {},
   "cell_type": "markdown",
   "metadata": {},
   "source": [
    "# Calculate percentage difference between mean normal RMS/ZCR and mean abnormal RMS/ZCR\n",
    "\n",
    "$$\\text{Percentage Difference} = \\left| \\frac{\\text{abnormal RMS/ZCR} - \\text{normal RMS/ZCR}}{\\text{normal RMS/ZCR}} \\right| \\times 100$$\n",
    "\n"
   ]
  },
  {
   "attachments": {},
   "cell_type": "markdown",
   "metadata": {},
   "source": [
    "# Results (-6dB Slider)\n",
    "\n",
    "|  |Normal |  Abnormal | Percent Difference \n",
    "| :--------------| :---------:|:---------:|:---------:|\n",
    "| ZMS Mean  |0.009614 | 0.010491 | 9.1%\n",
    "| ZCR Mean  |0.064470| 0.076893 | 19.2%\n",
    "\n",
    "# Results (0dB Slider)\n",
    "\n",
    "|  |Normal |  Abnormal | Percent Difference \n",
    "| :--------------| :---------:|:---------:|:---------:|\n",
    "| ZMS Mean  |0.005687 | 0.006960 | 22.3%\n",
    "| ZCR Mean  |0.064451| 0.086448 | 34%\n",
    "\n",
    "\n",
    "# Results (6dB Slider)\n",
    "\n",
    "|  |Normal |  Abnormal | Percent Difference \n",
    "| :--------------| :---------:|:---------:|:---------:|\n",
    "| ZMS Mean  |0.004132| 0.005705| 38.0%\n",
    "| ZCR Mean  |0.060384| 0.087477 | 44.86%\n",
    "\n",
    "\n",
    "\n",
    "\n",
    "\n"
   ]
  },
  {
   "attachments": {},
   "cell_type": "markdown",
   "metadata": {},
   "source": [
    "# Baseline Markdown folder determination\n",
    "\n",
    "### Based on percent difference above of 9.1% (lowest), the difference between the mean of normal vs abnormal in the -6dB samples are relatively small indicating their mean are close to eachother.\n",
    "### Now given the sorted sound sources above we can see the following: \n",
    "- Based on the visualizations we can see the -6dB samples have a pretty consistent .0010/.00098 RMS mean\n",
    "- The sorted stats above are sorted via rms mean and rms standard deviation \n",
    "   - We see that the lowest standard deviation is for the -6dB samples.\n",
    "        - Indicating that the distribution of the values in the -6dB samples are close to the mean\n",
    "        - Low standard deviation means that the audio signals are consistent over time, which is typical for background noise (white noise, constant machinery noise etc)\n",
    "        - This is backed by the visualizations above wether the classification is abnormal or normal the -6dB sample looks to be the least variable over time. "
   ]
  },
  {
   "attachments": {},
   "cell_type": "markdown",
   "metadata": {},
   "source": [
    "# Baseline background noise\n",
    "\n",
    "* RMS Value: -6db sample\n",
    "\n",
    "\n",
    "|  |Normal |  Abnormal | Percent Difference \n",
    "| :--------------| :---------:|:---------:|:---------:|\n",
    "| ZMS Mean  |0.009614 | 0.010491 | 9.1%\n"
   ]
  },
  {
   "attachments": {},
   "cell_type": "markdown",
   "metadata": {},
   "source": [
    "# Filter background noise from 6dB signal\n",
    "* NOTE: There is no attenuation happening here, if the audio_data is determined to be noise we zero those samples\n",
    "  * Attenuation can be done but costly in compute.\n",
    "     * Attenuation can also overfit our model\n",
    "     * Example: take an attenuation factor if audio is determined as noise."
   ]
  },
  {
   "attachments": {},
   "cell_type": "markdown",
   "metadata": {},
   "source": [
    "# Below encoding is for anomaly detection (Binary classification)\n",
    "* Determine if anomaly is found (normal vs abnormal)"
   ]
  },
  {
   "attachments": {},
   "cell_type": "markdown",
   "metadata": {},
   "source": [
    "### Breakdown\n",
    "* label_encoder: Converts each unique label to a numerical value (int)\n",
    "* y: normal vs abnormal\n",
    "* y_encoded = (normal = 0, abnormal = 1)\n",
    "* one hot vectorizes "
   ]
  },
  {
   "cell_type": "code",
   "execution_count": 8,
   "metadata": {},
   "outputs": [],
   "source": [
    "import numpy as np\n",
    "import tensorflow as tf\n",
    "\n",
    "def build_model_binary_classification(input_shape, learning_rate=0.001):\n",
    "    \"\"\"Builds and compiles a simpler binary classification model.\"\"\"\n",
    "    tf.keras.backend.clear_session()  # Clear any previous session\n",
    "    np.random.seed(0)\n",
    "    tf.random.set_seed(0)\n",
    "\n",
    "    model = tf.keras.Sequential()  # Create a new model where layers can be stacked linearly\n",
    "    model.add(tf.keras.layers.Input(shape=input_shape))  # Ensure we're taking the shape of 1 audio sample\n",
    "    model.add(tf.keras.layers.Flatten())  # Flatten the input\n",
    "\n",
    "    # Add simplified dense layers\n",
    "    model.add(tf.keras.layers.Dense(32, activation='relu'))  # Reduced number of neurons\n",
    "    model.add(tf.keras.layers.Dense(16, activation='relu'))  # Further reduced number of neurons\n",
    "    model.add(tf.keras.layers.Dense(1, activation='sigmoid'))  # Output layer for binary classification\n",
    "\n",
    "    optimizer = tf.keras.optimizers.Adam(learning_rate=learning_rate)  # Define optimizer\n",
    "\n",
    "    model.compile(\n",
    "        loss='binary_crossentropy',  # Use binary_crossentropy for binary classification\n",
    "        optimizer=optimizer,\n",
    "        metrics=['accuracy', tf.keras.metrics.Precision(), tf.keras.metrics.Recall()]  # Use tf.keras.metrics for precision and recall\n",
    "    )\n",
    "    \n",
    "    return model\n"
   ]
  },
  {
   "cell_type": "code",
   "execution_count": 9,
   "metadata": {},
   "outputs": [],
   "source": [
    "def create_training_data(data_frame: pd.DataFrame):\n",
    "    \"\"\"Create training data for mel_sgram\"\"\"\n",
    "    raw_audio = []\n",
    "    labels = []\n",
    "    for index, row in data_frame.iterrows():\n",
    "        audio_vector = np.array(row['Raw Data'])  # Convert the raw audio data from the DataFrame row to a numpy array\n",
    "        sr = row['Sample Rate']  # Get the sample rate\n",
    "        label = 1 if row['Classification'] == 'abnormal' else 0  # Binary classification: 1 for abnormal, 0 for normal\n",
    "\n",
    "        # mel_sgram = generate_mel_spectrogram(audio_vector, sr)  # Generate Mel spectrogram\n",
    "\n",
    "        # # Normalize the Mel spectrogram for consistent input size\n",
    "        # img_array = cv2.normalize(mel_sgram, None, 0, 1, cv2.NORM_MINMAX)\n",
    "        # img_array = img_array.astype(np.uint8)  # Convert to unsigned 8-bit integer type\n",
    "        # img_array = cv2.cvtColor(img_array, cv2.COLOR_GRAY2BGR)  # Convert to 3-channel image (RGB)\n",
    "        # new_img = cv2.resize(img_array, (224, 224))  # Resize to 224x224 pixels\n",
    "\n",
    "        raw_audio.append(audio_vector)\n",
    "        labels.append(label)\n",
    "    \n",
    "    return np.array(raw_audio), np.array(labels)"
   ]
  },
  {
   "cell_type": "code",
   "execution_count": 10,
   "metadata": {},
   "outputs": [],
   "source": [
    "slider_df = df[df['Machine Type'] == 'slider']\n",
    "fan_df = df[df['Machine Type'] == 'fan']\n",
    "pump_df = df[df['Machine Type'] == 'pump']\n",
    "valve_df = df[df['Machine Type'] == 'valve']"
   ]
  },
  {
   "cell_type": "code",
   "execution_count": 11,
   "metadata": {},
   "outputs": [
    {
     "name": "stdout",
     "output_type": "stream",
     "text": [
      "Training data shape: (3275, 160000), Training labels shape: (3275,)\n",
      "Testing data shape: (819, 160000), Testing labels shape: (819,)\n"
     ]
    }
   ],
   "source": [
    "X, y = create_training_data(slider_df)\n",
    "\n",
    "\n",
    "# Split the data into training and testing sets\n",
    "X_train, X_test, y_train, y_test = train_test_split(X, y, test_size=0.2, random_state=42)\n",
    "\n",
    "# Check the shapes of the splits\n",
    "print(f'Training data shape: {X_train.shape}, Training labels shape: {y_train.shape}')\n",
    "print(f'Testing data shape: {X_test.shape}, Testing labels shape: {y_test.shape}')"
   ]
  },
  {
   "cell_type": "code",
   "execution_count": 12,
   "metadata": {},
   "outputs": [
    {
     "data": {
      "text/html": [
       "<pre style=\"white-space:pre;overflow-x:auto;line-height:normal;font-family:Menlo,'DejaVu Sans Mono',consolas,'Courier New',monospace\"><span style=\"font-weight: bold\">Model: \"sequential\"</span>\n",
       "</pre>\n"
      ],
      "text/plain": [
       "\u001b[1mModel: \"sequential\"\u001b[0m\n"
      ]
     },
     "metadata": {},
     "output_type": "display_data"
    },
    {
     "data": {
      "text/html": [
       "<pre style=\"white-space:pre;overflow-x:auto;line-height:normal;font-family:Menlo,'DejaVu Sans Mono',consolas,'Courier New',monospace\">┏━━━━━━━━━━━━━━━━━━━━━━━━━━━━━━━━━┳━━━━━━━━━━━━━━━━━━━━━━━━┳━━━━━━━━━━━━━━━┓\n",
       "┃<span style=\"font-weight: bold\"> Layer (type)                    </span>┃<span style=\"font-weight: bold\"> Output Shape           </span>┃<span style=\"font-weight: bold\">       Param # </span>┃\n",
       "┡━━━━━━━━━━━━━━━━━━━━━━━━━━━━━━━━━╇━━━━━━━━━━━━━━━━━━━━━━━━╇━━━━━━━━━━━━━━━┩\n",
       "│ flatten (<span style=\"color: #0087ff; text-decoration-color: #0087ff\">Flatten</span>)               │ (<span style=\"color: #00d7ff; text-decoration-color: #00d7ff\">None</span>, <span style=\"color: #00af00; text-decoration-color: #00af00\">160000</span>)         │             <span style=\"color: #00af00; text-decoration-color: #00af00\">0</span> │\n",
       "├─────────────────────────────────┼────────────────────────┼───────────────┤\n",
       "│ dense (<span style=\"color: #0087ff; text-decoration-color: #0087ff\">Dense</span>)                   │ (<span style=\"color: #00d7ff; text-decoration-color: #00d7ff\">None</span>, <span style=\"color: #00af00; text-decoration-color: #00af00\">32</span>)             │     <span style=\"color: #00af00; text-decoration-color: #00af00\">5,120,032</span> │\n",
       "├─────────────────────────────────┼────────────────────────┼───────────────┤\n",
       "│ dense_1 (<span style=\"color: #0087ff; text-decoration-color: #0087ff\">Dense</span>)                 │ (<span style=\"color: #00d7ff; text-decoration-color: #00d7ff\">None</span>, <span style=\"color: #00af00; text-decoration-color: #00af00\">16</span>)             │           <span style=\"color: #00af00; text-decoration-color: #00af00\">528</span> │\n",
       "├─────────────────────────────────┼────────────────────────┼───────────────┤\n",
       "│ dense_2 (<span style=\"color: #0087ff; text-decoration-color: #0087ff\">Dense</span>)                 │ (<span style=\"color: #00d7ff; text-decoration-color: #00d7ff\">None</span>, <span style=\"color: #00af00; text-decoration-color: #00af00\">1</span>)              │            <span style=\"color: #00af00; text-decoration-color: #00af00\">17</span> │\n",
       "└─────────────────────────────────┴────────────────────────┴───────────────┘\n",
       "</pre>\n"
      ],
      "text/plain": [
       "┏━━━━━━━━━━━━━━━━━━━━━━━━━━━━━━━━━┳━━━━━━━━━━━━━━━━━━━━━━━━┳━━━━━━━━━━━━━━━┓\n",
       "┃\u001b[1m \u001b[0m\u001b[1mLayer (type)                   \u001b[0m\u001b[1m \u001b[0m┃\u001b[1m \u001b[0m\u001b[1mOutput Shape          \u001b[0m\u001b[1m \u001b[0m┃\u001b[1m \u001b[0m\u001b[1m      Param #\u001b[0m\u001b[1m \u001b[0m┃\n",
       "┡━━━━━━━━━━━━━━━━━━━━━━━━━━━━━━━━━╇━━━━━━━━━━━━━━━━━━━━━━━━╇━━━━━━━━━━━━━━━┩\n",
       "│ flatten (\u001b[38;5;33mFlatten\u001b[0m)               │ (\u001b[38;5;45mNone\u001b[0m, \u001b[38;5;34m160000\u001b[0m)         │             \u001b[38;5;34m0\u001b[0m │\n",
       "├─────────────────────────────────┼────────────────────────┼───────────────┤\n",
       "│ dense (\u001b[38;5;33mDense\u001b[0m)                   │ (\u001b[38;5;45mNone\u001b[0m, \u001b[38;5;34m32\u001b[0m)             │     \u001b[38;5;34m5,120,032\u001b[0m │\n",
       "├─────────────────────────────────┼────────────────────────┼───────────────┤\n",
       "│ dense_1 (\u001b[38;5;33mDense\u001b[0m)                 │ (\u001b[38;5;45mNone\u001b[0m, \u001b[38;5;34m16\u001b[0m)             │           \u001b[38;5;34m528\u001b[0m │\n",
       "├─────────────────────────────────┼────────────────────────┼───────────────┤\n",
       "│ dense_2 (\u001b[38;5;33mDense\u001b[0m)                 │ (\u001b[38;5;45mNone\u001b[0m, \u001b[38;5;34m1\u001b[0m)              │            \u001b[38;5;34m17\u001b[0m │\n",
       "└─────────────────────────────────┴────────────────────────┴───────────────┘\n"
      ]
     },
     "metadata": {},
     "output_type": "display_data"
    },
    {
     "data": {
      "text/html": [
       "<pre style=\"white-space:pre;overflow-x:auto;line-height:normal;font-family:Menlo,'DejaVu Sans Mono',consolas,'Courier New',monospace\"><span style=\"font-weight: bold\"> Total params: </span><span style=\"color: #00af00; text-decoration-color: #00af00\">5,120,577</span> (19.53 MB)\n",
       "</pre>\n"
      ],
      "text/plain": [
       "\u001b[1m Total params: \u001b[0m\u001b[38;5;34m5,120,577\u001b[0m (19.53 MB)\n"
      ]
     },
     "metadata": {},
     "output_type": "display_data"
    },
    {
     "data": {
      "text/html": [
       "<pre style=\"white-space:pre;overflow-x:auto;line-height:normal;font-family:Menlo,'DejaVu Sans Mono',consolas,'Courier New',monospace\"><span style=\"font-weight: bold\"> Trainable params: </span><span style=\"color: #00af00; text-decoration-color: #00af00\">5,120,577</span> (19.53 MB)\n",
       "</pre>\n"
      ],
      "text/plain": [
       "\u001b[1m Trainable params: \u001b[0m\u001b[38;5;34m5,120,577\u001b[0m (19.53 MB)\n"
      ]
     },
     "metadata": {},
     "output_type": "display_data"
    },
    {
     "data": {
      "text/html": [
       "<pre style=\"white-space:pre;overflow-x:auto;line-height:normal;font-family:Menlo,'DejaVu Sans Mono',consolas,'Courier New',monospace\"><span style=\"font-weight: bold\"> Non-trainable params: </span><span style=\"color: #00af00; text-decoration-color: #00af00\">0</span> (0.00 B)\n",
       "</pre>\n"
      ],
      "text/plain": [
       "\u001b[1m Non-trainable params: \u001b[0m\u001b[38;5;34m0\u001b[0m (0.00 B)\n"
      ]
     },
     "metadata": {},
     "output_type": "display_data"
    },
    {
     "name": "stdout",
     "output_type": "stream",
     "text": [
      "None\n"
     ]
    }
   ],
   "source": [
    "# Define the input shape\n",
    "input_shape = (160000,)\n",
    "learning_rate = 0.001\n",
    "\n",
    "# Build the model\n",
    "model_slider = build_model_binary_classification(input_shape, learning_rate)\n",
    "print(model_slider.summary())"
   ]
  },
  {
   "cell_type": "code",
   "execution_count": 13,
   "metadata": {},
   "outputs": [
    {
     "name": "stdout",
     "output_type": "stream",
     "text": [
      "Epoch 1/5\n",
      "\u001b[1m103/103\u001b[0m \u001b[32m━━━━━━━━━━━━━━━━━━━━\u001b[0m\u001b[37m\u001b[0m \u001b[1m3s\u001b[0m 23ms/step - accuracy: 0.7311 - loss: 0.5927 - precision: 0.4357 - recall: 0.3627 - val_accuracy: 0.8632 - val_loss: 0.3618 - val_precision: 0.9873 - val_recall: 0.4127\n",
      "Epoch 2/5\n",
      "\u001b[1m103/103\u001b[0m \u001b[32m━━━━━━━━━━━━━━━━━━━━\u001b[0m\u001b[37m\u001b[0m \u001b[1m1s\u001b[0m 14ms/step - accuracy: 0.9052 - loss: 0.2445 - precision: 0.9917 - recall: 0.5546 - val_accuracy: 0.8706 - val_loss: 0.3243 - val_precision: 0.9560 - val_recall: 0.4603\n",
      "Epoch 3/5\n",
      "\u001b[1m103/103\u001b[0m \u001b[32m━━━━━━━━━━━━━━━━━━━━\u001b[0m\u001b[37m\u001b[0m \u001b[1m1s\u001b[0m 13ms/step - accuracy: 0.9842 - loss: 0.0681 - precision: 0.9963 - recall: 0.9290 - val_accuracy: 0.8596 - val_loss: 0.3771 - val_precision: 0.8854 - val_recall: 0.4497\n",
      "Epoch 4/5\n",
      "\u001b[1m103/103\u001b[0m \u001b[32m━━━━━━━━━━━━━━━━━━━━\u001b[0m\u001b[37m\u001b[0m \u001b[1m1s\u001b[0m 13ms/step - accuracy: 0.9995 - loss: 0.0135 - precision: 1.0000 - recall: 0.9976 - val_accuracy: 0.8584 - val_loss: 0.4274 - val_precision: 0.9011 - val_recall: 0.4339\n",
      "Epoch 5/5\n",
      "\u001b[1m103/103\u001b[0m \u001b[32m━━━━━━━━━━━━━━━━━━━━\u001b[0m\u001b[37m\u001b[0m \u001b[1m1s\u001b[0m 13ms/step - accuracy: 1.0000 - loss: 0.0048 - precision: 1.0000 - recall: 1.0000 - val_accuracy: 0.8596 - val_loss: 0.4674 - val_precision: 0.9022 - val_recall: 0.4392\n",
      "\u001b[1m26/26\u001b[0m \u001b[32m━━━━━━━━━━━━━━━━━━━━\u001b[0m\u001b[37m\u001b[0m \u001b[1m0s\u001b[0m 3ms/step - accuracy: 0.8521 - loss: 0.5074 - precision: 0.8868 - recall: 0.4324\n",
      "Test Accuracy: 0.8595848679542542\n",
      "Test Precision: 0.9021739363670349\n",
      "Test Recall: 0.43915343284606934\n"
     ]
    }
   ],
   "source": [
    "# Example shapes (already defined):\n",
    "# X_train.shape == (3275, 160000)\n",
    "# y_train.shape == (3275,)\n",
    "# X_test.shape == (819, 160000)\n",
    "# y_test.shape == (819,)\n",
    "\n",
    "# Train the model\n",
    "history_slider = model_slider.fit(X_train, y_train, epochs=5, batch_size=32, validation_data=(X_test, y_test))\n",
    "\n",
    "# Evaluate the model\n",
    "evaluation = model_slider.evaluate(X_test, y_test)\n",
    "print(f\"Test Accuracy: {evaluation[1]}\")\n",
    "print(f\"Test Precision: {evaluation[2]}\")\n",
    "print(f\"Test Recall: {evaluation[3]}\")\n"
   ]
  },
  {
   "cell_type": "code",
   "execution_count": 24,
   "metadata": {},
   "outputs": [
    {
     "data": {
      "image/png": "[encoded data removed]",
      "text/plain": [
       "<Figure size 640x480 with 1 Axes>"
      ]
     },
     "metadata": {},
     "output_type": "display_data"
    }
   ],
   "source": [
    "\n",
    "plt.style.use('dark_background')\n",
    "\n",
    "plt.plot(history_slider.history['loss'])\n",
    "plt.plot(history_slider.history['val_loss'])\n",
    "plt.title('Slider model loss')\n",
    "plt.ylabel('loss')\n",
    "plt.xlabel('epoch')\n",
    "plt.legend(['train', 'test'], loc='upper left')\n",
    "plt.show()"
   ]
  },
  {
   "cell_type": "code",
   "execution_count": 14,
   "metadata": {},
   "outputs": [
    {
     "name": "stdout",
     "output_type": "stream",
     "text": [
      "Training data shape: (4440, 160000), Training labels shape: (4440,)\n",
      "Testing data shape: (1110, 160000), Testing labels shape: (1110,)\n"
     ]
    },
    {
     "data": {
      "text/html": [
       "<pre style=\"white-space:pre;overflow-x:auto;line-height:normal;font-family:Menlo,'DejaVu Sans Mono',consolas,'Courier New',monospace\"><span style=\"font-weight: bold\">Model: \"sequential\"</span>\n",
       "</pre>\n"
      ],
      "text/plain": [
       "\u001b[1mModel: \"sequential\"\u001b[0m\n"
      ]
     },
     "metadata": {},
     "output_type": "display_data"
    },
    {
     "data": {
      "text/html": [
       "<pre style=\"white-space:pre;overflow-x:auto;line-height:normal;font-family:Menlo,'DejaVu Sans Mono',consolas,'Courier New',monospace\">┏━━━━━━━━━━━━━━━━━━━━━━━━━━━━━━━━━┳━━━━━━━━━━━━━━━━━━━━━━━━┳━━━━━━━━━━━━━━━┓\n",
       "┃<span style=\"font-weight: bold\"> Layer (type)                    </span>┃<span style=\"font-weight: bold\"> Output Shape           </span>┃<span style=\"font-weight: bold\">       Param # </span>┃\n",
       "┡━━━━━━━━━━━━━━━━━━━━━━━━━━━━━━━━━╇━━━━━━━━━━━━━━━━━━━━━━━━╇━━━━━━━━━━━━━━━┩\n",
       "│ flatten (<span style=\"color: #0087ff; text-decoration-color: #0087ff\">Flatten</span>)               │ (<span style=\"color: #00d7ff; text-decoration-color: #00d7ff\">None</span>, <span style=\"color: #00af00; text-decoration-color: #00af00\">160000</span>)         │             <span style=\"color: #00af00; text-decoration-color: #00af00\">0</span> │\n",
       "├─────────────────────────────────┼────────────────────────┼───────────────┤\n",
       "│ dense (<span style=\"color: #0087ff; text-decoration-color: #0087ff\">Dense</span>)                   │ (<span style=\"color: #00d7ff; text-decoration-color: #00d7ff\">None</span>, <span style=\"color: #00af00; text-decoration-color: #00af00\">32</span>)             │     <span style=\"color: #00af00; text-decoration-color: #00af00\">5,120,032</span> │\n",
       "├─────────────────────────────────┼────────────────────────┼───────────────┤\n",
       "│ dense_1 (<span style=\"color: #0087ff; text-decoration-color: #0087ff\">Dense</span>)                 │ (<span style=\"color: #00d7ff; text-decoration-color: #00d7ff\">None</span>, <span style=\"color: #00af00; text-decoration-color: #00af00\">16</span>)             │           <span style=\"color: #00af00; text-decoration-color: #00af00\">528</span> │\n",
       "├─────────────────────────────────┼────────────────────────┼───────────────┤\n",
       "│ dense_2 (<span style=\"color: #0087ff; text-decoration-color: #0087ff\">Dense</span>)                 │ (<span style=\"color: #00d7ff; text-decoration-color: #00d7ff\">None</span>, <span style=\"color: #00af00; text-decoration-color: #00af00\">1</span>)              │            <span style=\"color: #00af00; text-decoration-color: #00af00\">17</span> │\n",
       "└─────────────────────────────────┴────────────────────────┴───────────────┘\n",
       "</pre>\n"
      ],
      "text/plain": [
       "┏━━━━━━━━━━━━━━━━━━━━━━━━━━━━━━━━━┳━━━━━━━━━━━━━━━━━━━━━━━━┳━━━━━━━━━━━━━━━┓\n",
       "┃\u001b[1m \u001b[0m\u001b[1mLayer (type)                   \u001b[0m\u001b[1m \u001b[0m┃\u001b[1m \u001b[0m\u001b[1mOutput Shape          \u001b[0m\u001b[1m \u001b[0m┃\u001b[1m \u001b[0m\u001b[1m      Param #\u001b[0m\u001b[1m \u001b[0m┃\n",
       "┡━━━━━━━━━━━━━━━━━━━━━━━━━━━━━━━━━╇━━━━━━━━━━━━━━━━━━━━━━━━╇━━━━━━━━━━━━━━━┩\n",
       "│ flatten (\u001b[38;5;33mFlatten\u001b[0m)               │ (\u001b[38;5;45mNone\u001b[0m, \u001b[38;5;34m160000\u001b[0m)         │             \u001b[38;5;34m0\u001b[0m │\n",
       "├─────────────────────────────────┼────────────────────────┼───────────────┤\n",
       "│ dense (\u001b[38;5;33mDense\u001b[0m)                   │ (\u001b[38;5;45mNone\u001b[0m, \u001b[38;5;34m32\u001b[0m)             │     \u001b[38;5;34m5,120,032\u001b[0m │\n",
       "├─────────────────────────────────┼────────────────────────┼───────────────┤\n",
       "│ dense_1 (\u001b[38;5;33mDense\u001b[0m)                 │ (\u001b[38;5;45mNone\u001b[0m, \u001b[38;5;34m16\u001b[0m)             │           \u001b[38;5;34m528\u001b[0m │\n",
       "├─────────────────────────────────┼────────────────────────┼───────────────┤\n",
       "│ dense_2 (\u001b[38;5;33mDense\u001b[0m)                 │ (\u001b[38;5;45mNone\u001b[0m, \u001b[38;5;34m1\u001b[0m)              │            \u001b[38;5;34m17\u001b[0m │\n",
       "└─────────────────────────────────┴────────────────────────┴───────────────┘\n"
      ]
     },
     "metadata": {},
     "output_type": "display_data"
    },
    {
     "data": {
      "text/html": [
       "<pre style=\"white-space:pre;overflow-x:auto;line-height:normal;font-family:Menlo,'DejaVu Sans Mono',consolas,'Courier New',monospace\"><span style=\"font-weight: bold\"> Total params: </span><span style=\"color: #00af00; text-decoration-color: #00af00\">5,120,577</span> (19.53 MB)\n",
       "</pre>\n"
      ],
      "text/plain": [
       "\u001b[1m Total params: \u001b[0m\u001b[38;5;34m5,120,577\u001b[0m (19.53 MB)\n"
      ]
     },
     "metadata": {},
     "output_type": "display_data"
    },
    {
     "data": {
      "text/html": [
       "<pre style=\"white-space:pre;overflow-x:auto;line-height:normal;font-family:Menlo,'DejaVu Sans Mono',consolas,'Courier New',monospace\"><span style=\"font-weight: bold\"> Trainable params: </span><span style=\"color: #00af00; text-decoration-color: #00af00\">5,120,577</span> (19.53 MB)\n",
       "</pre>\n"
      ],
      "text/plain": [
       "\u001b[1m Trainable params: \u001b[0m\u001b[38;5;34m5,120,577\u001b[0m (19.53 MB)\n"
      ]
     },
     "metadata": {},
     "output_type": "display_data"
    },
    {
     "data": {
      "text/html": [
       "<pre style=\"white-space:pre;overflow-x:auto;line-height:normal;font-family:Menlo,'DejaVu Sans Mono',consolas,'Courier New',monospace\"><span style=\"font-weight: bold\"> Non-trainable params: </span><span style=\"color: #00af00; text-decoration-color: #00af00\">0</span> (0.00 B)\n",
       "</pre>\n"
      ],
      "text/plain": [
       "\u001b[1m Non-trainable params: \u001b[0m\u001b[38;5;34m0\u001b[0m (0.00 B)\n"
      ]
     },
     "metadata": {},
     "output_type": "display_data"
    },
    {
     "name": "stdout",
     "output_type": "stream",
     "text": [
      "None\n"
     ]
    }
   ],
   "source": [
    "X, y = create_training_data(fan_df)\n",
    "\n",
    "\n",
    "# Split the data into training and testing sets\n",
    "X_train, X_test, y_train, y_test = train_test_split(X, y, test_size=0.2, random_state=42)\n",
    "\n",
    "# Check the shapes of the splits\n",
    "print(f'Training data shape: {X_train.shape}, Training labels shape: {y_train.shape}')\n",
    "print(f'Testing data shape: {X_test.shape}, Testing labels shape: {y_test.shape}')\n",
    "\n",
    "# Define the input shape\n",
    "input_shape = (160000,)\n",
    "learning_rate = 0.001\n",
    "\n",
    "# Build the model\n",
    "model_fan = build_model_binary_classification(input_shape, learning_rate)\n",
    "print(model_fan.summary())"
   ]
  },
  {
   "cell_type": "code",
   "execution_count": 15,
   "metadata": {},
   "outputs": [
    {
     "name": "stdout",
     "output_type": "stream",
     "text": [
      "Epoch 1/5\n",
      "\u001b[1m139/139\u001b[0m \u001b[32m━━━━━━━━━━━━━━━━━━━━\u001b[0m\u001b[37m\u001b[0m \u001b[1m4s\u001b[0m 23ms/step - accuracy: 0.6969 - loss: 0.6083 - precision: 0.4306 - recall: 0.1647 - val_accuracy: 0.8036 - val_loss: 0.4444 - val_precision: 0.8804 - val_recall: 0.2812\n",
      "Epoch 2/5\n",
      "\u001b[1m139/139\u001b[0m \u001b[32m━━━━━━━━━━━━━━━━━━━━\u001b[0m\u001b[37m\u001b[0m \u001b[1m3s\u001b[0m 18ms/step - accuracy: 0.9107 - loss: 0.2346 - precision: 0.9960 - recall: 0.6731 - val_accuracy: 0.8225 - val_loss: 0.3680 - val_precision: 0.6730 - val_recall: 0.6146\n",
      "Epoch 3/5\n",
      "\u001b[1m139/139\u001b[0m \u001b[32m━━━━━━━━━━━━━━━━━━━━\u001b[0m\u001b[37m\u001b[0m \u001b[1m2s\u001b[0m 15ms/step - accuracy: 0.9990 - loss: 0.0252 - precision: 0.9997 - recall: 0.9968 - val_accuracy: 0.8279 - val_loss: 0.3905 - val_precision: 0.6655 - val_recall: 0.6771\n",
      "Epoch 4/5\n",
      "\u001b[1m139/139\u001b[0m \u001b[32m━━━━━━━━━━━━━━━━━━━━\u001b[0m\u001b[37m\u001b[0m \u001b[1m2s\u001b[0m 16ms/step - accuracy: 1.0000 - loss: 0.0039 - precision: 1.0000 - recall: 1.0000 - val_accuracy: 0.8288 - val_loss: 0.4091 - val_precision: 0.6655 - val_recall: 0.6840\n",
      "Epoch 5/5\n",
      "\u001b[1m139/139\u001b[0m \u001b[32m━━━━━━━━━━━━━━━━━━━━\u001b[0m\u001b[37m\u001b[0m \u001b[1m2s\u001b[0m 15ms/step - accuracy: 1.0000 - loss: 0.0018 - precision: 1.0000 - recall: 1.0000 - val_accuracy: 0.8306 - val_loss: 0.4236 - val_precision: 0.6689 - val_recall: 0.6875\n",
      "\u001b[1m35/35\u001b[0m \u001b[32m━━━━━━━━━━━━━━━━━━━━\u001b[0m\u001b[37m\u001b[0m \u001b[1m0s\u001b[0m 3ms/step - accuracy: 0.8300 - loss: 0.3871 - precision: 0.6552 - recall: 0.7009\n",
      "Test Accuracy: 0.8306306600570679\n",
      "Test Precision: 0.6689189076423645\n",
      "Test Recall: 0.6875\n"
     ]
    }
   ],
   "source": [
    "# Example shapes (already defined):\n",
    "# X_train.shape == (3275, 160000)\n",
    "# y_train.shape == (3275,)\n",
    "# X_test.shape == (819, 160000)\n",
    "# y_test.shape == (819,)\n",
    "\n",
    "# Train the model\n",
    "history_fan = model_fan.fit(X_train, y_train, epochs=5, batch_size=32, validation_data=(X_test, y_test))\n",
    "\n",
    "# Evaluate the model\n",
    "evaluation = model_fan.evaluate(X_test, y_test)\n",
    "print(f\"Test Accuracy: {evaluation[1]}\")\n",
    "print(f\"Test Precision: {evaluation[2]}\")\n",
    "print(f\"Test Recall: {evaluation[3]}\")\n"
   ]
  },
  {
   "cell_type": "code",
   "execution_count": 23,
   "metadata": {},
   "outputs": [
    {
     "data": {
      "image/png": "[encoded data removed]",
      "text/plain": [
       "<Figure size 640x480 with 1 Axes>"
      ]
     },
     "metadata": {},
     "output_type": "display_data"
    }
   ],
   "source": [
    "\n",
    "plt.style.use('dark_background')\n",
    "\n",
    "plt.plot(history_fan.history['loss'])\n",
    "plt.plot(history_fan.history['val_loss'])\n",
    "plt.title('Fan model loss')\n",
    "plt.ylabel('loss')\n",
    "plt.xlabel('epoch')\n",
    "plt.legend(['train', 'test'], loc='upper left')\n",
    "plt.show()"
   ]
  },
  {
   "cell_type": "code",
   "execution_count": 16,
   "metadata": {},
   "outputs": [
    {
     "name": "stdout",
     "output_type": "stream",
     "text": [
      "Training data shape: (3336, 160000), Training labels shape: (3336,)\n",
      "Testing data shape: (834, 160000), Testing labels shape: (834,)\n"
     ]
    },
    {
     "data": {
      "text/html": [
       "<pre style=\"white-space:pre;overflow-x:auto;line-height:normal;font-family:Menlo,'DejaVu Sans Mono',consolas,'Courier New',monospace\"><span style=\"font-weight: bold\">Model: \"sequential\"</span>\n",
       "</pre>\n"
      ],
      "text/plain": [
       "\u001b[1mModel: \"sequential\"\u001b[0m\n"
      ]
     },
     "metadata": {},
     "output_type": "display_data"
    },
    {
     "data": {
      "text/html": [
       "<pre style=\"white-space:pre;overflow-x:auto;line-height:normal;font-family:Menlo,'DejaVu Sans Mono',consolas,'Courier New',monospace\">┏━━━━━━━━━━━━━━━━━━━━━━━━━━━━━━━━━┳━━━━━━━━━━━━━━━━━━━━━━━━┳━━━━━━━━━━━━━━━┓\n",
       "┃<span style=\"font-weight: bold\"> Layer (type)                    </span>┃<span style=\"font-weight: bold\"> Output Shape           </span>┃<span style=\"font-weight: bold\">       Param # </span>┃\n",
       "┡━━━━━━━━━━━━━━━━━━━━━━━━━━━━━━━━━╇━━━━━━━━━━━━━━━━━━━━━━━━╇━━━━━━━━━━━━━━━┩\n",
       "│ flatten (<span style=\"color: #0087ff; text-decoration-color: #0087ff\">Flatten</span>)               │ (<span style=\"color: #00d7ff; text-decoration-color: #00d7ff\">None</span>, <span style=\"color: #00af00; text-decoration-color: #00af00\">160000</span>)         │             <span style=\"color: #00af00; text-decoration-color: #00af00\">0</span> │\n",
       "├─────────────────────────────────┼────────────────────────┼───────────────┤\n",
       "│ dense (<span style=\"color: #0087ff; text-decoration-color: #0087ff\">Dense</span>)                   │ (<span style=\"color: #00d7ff; text-decoration-color: #00d7ff\">None</span>, <span style=\"color: #00af00; text-decoration-color: #00af00\">32</span>)             │     <span style=\"color: #00af00; text-decoration-color: #00af00\">5,120,032</span> │\n",
       "├─────────────────────────────────┼────────────────────────┼───────────────┤\n",
       "│ dense_1 (<span style=\"color: #0087ff; text-decoration-color: #0087ff\">Dense</span>)                 │ (<span style=\"color: #00d7ff; text-decoration-color: #00d7ff\">None</span>, <span style=\"color: #00af00; text-decoration-color: #00af00\">16</span>)             │           <span style=\"color: #00af00; text-decoration-color: #00af00\">528</span> │\n",
       "├─────────────────────────────────┼────────────────────────┼───────────────┤\n",
       "│ dense_2 (<span style=\"color: #0087ff; text-decoration-color: #0087ff\">Dense</span>)                 │ (<span style=\"color: #00d7ff; text-decoration-color: #00d7ff\">None</span>, <span style=\"color: #00af00; text-decoration-color: #00af00\">1</span>)              │            <span style=\"color: #00af00; text-decoration-color: #00af00\">17</span> │\n",
       "└─────────────────────────────────┴────────────────────────┴───────────────┘\n",
       "</pre>\n"
      ],
      "text/plain": [
       "┏━━━━━━━━━━━━━━━━━━━━━━━━━━━━━━━━━┳━━━━━━━━━━━━━━━━━━━━━━━━┳━━━━━━━━━━━━━━━┓\n",
       "┃\u001b[1m \u001b[0m\u001b[1mLayer (type)                   \u001b[0m\u001b[1m \u001b[0m┃\u001b[1m \u001b[0m\u001b[1mOutput Shape          \u001b[0m\u001b[1m \u001b[0m┃\u001b[1m \u001b[0m\u001b[1m      Param #\u001b[0m\u001b[1m \u001b[0m┃\n",
       "┡━━━━━━━━━━━━━━━━━━━━━━━━━━━━━━━━━╇━━━━━━━━━━━━━━━━━━━━━━━━╇━━━━━━━━━━━━━━━┩\n",
       "│ flatten (\u001b[38;5;33mFlatten\u001b[0m)               │ (\u001b[38;5;45mNone\u001b[0m, \u001b[38;5;34m160000\u001b[0m)         │             \u001b[38;5;34m0\u001b[0m │\n",
       "├─────────────────────────────────┼────────────────────────┼───────────────┤\n",
       "│ dense (\u001b[38;5;33mDense\u001b[0m)                   │ (\u001b[38;5;45mNone\u001b[0m, \u001b[38;5;34m32\u001b[0m)             │     \u001b[38;5;34m5,120,032\u001b[0m │\n",
       "├─────────────────────────────────┼────────────────────────┼───────────────┤\n",
       "│ dense_1 (\u001b[38;5;33mDense\u001b[0m)                 │ (\u001b[38;5;45mNone\u001b[0m, \u001b[38;5;34m16\u001b[0m)             │           \u001b[38;5;34m528\u001b[0m │\n",
       "├─────────────────────────────────┼────────────────────────┼───────────────┤\n",
       "│ dense_2 (\u001b[38;5;33mDense\u001b[0m)                 │ (\u001b[38;5;45mNone\u001b[0m, \u001b[38;5;34m1\u001b[0m)              │            \u001b[38;5;34m17\u001b[0m │\n",
       "└─────────────────────────────────┴────────────────────────┴───────────────┘\n"
      ]
     },
     "metadata": {},
     "output_type": "display_data"
    },
    {
     "data": {
      "text/html": [
       "<pre style=\"white-space:pre;overflow-x:auto;line-height:normal;font-family:Menlo,'DejaVu Sans Mono',consolas,'Courier New',monospace\"><span style=\"font-weight: bold\"> Total params: </span><span style=\"color: #00af00; text-decoration-color: #00af00\">5,120,577</span> (19.53 MB)\n",
       "</pre>\n"
      ],
      "text/plain": [
       "\u001b[1m Total params: \u001b[0m\u001b[38;5;34m5,120,577\u001b[0m (19.53 MB)\n"
      ]
     },
     "metadata": {},
     "output_type": "display_data"
    },
    {
     "data": {
      "text/html": [
       "<pre style=\"white-space:pre;overflow-x:auto;line-height:normal;font-family:Menlo,'DejaVu Sans Mono',consolas,'Courier New',monospace\"><span style=\"font-weight: bold\"> Trainable params: </span><span style=\"color: #00af00; text-decoration-color: #00af00\">5,120,577</span> (19.53 MB)\n",
       "</pre>\n"
      ],
      "text/plain": [
       "\u001b[1m Trainable params: \u001b[0m\u001b[38;5;34m5,120,577\u001b[0m (19.53 MB)\n"
      ]
     },
     "metadata": {},
     "output_type": "display_data"
    },
    {
     "data": {
      "text/html": [
       "<pre style=\"white-space:pre;overflow-x:auto;line-height:normal;font-family:Menlo,'DejaVu Sans Mono',consolas,'Courier New',monospace\"><span style=\"font-weight: bold\"> Non-trainable params: </span><span style=\"color: #00af00; text-decoration-color: #00af00\">0</span> (0.00 B)\n",
       "</pre>\n"
      ],
      "text/plain": [
       "\u001b[1m Non-trainable params: \u001b[0m\u001b[38;5;34m0\u001b[0m (0.00 B)\n"
      ]
     },
     "metadata": {},
     "output_type": "display_data"
    },
    {
     "name": "stdout",
     "output_type": "stream",
     "text": [
      "None\n"
     ]
    }
   ],
   "source": [
    "X, y = create_training_data(valve_df)\n",
    "\n",
    "\n",
    "# Split the data into training and testing sets\n",
    "X_train, X_test, y_train, y_test = train_test_split(X, y, test_size=0.2, random_state=42)\n",
    "\n",
    "# Check the shapes of the splits\n",
    "print(f'Training data shape: {X_train.shape}, Training labels shape: {y_train.shape}')\n",
    "print(f'Testing data shape: {X_test.shape}, Testing labels shape: {y_test.shape}')\n",
    "\n",
    "# Define the input shape\n",
    "input_shape = (160000,)\n",
    "learning_rate = 0.001\n",
    "\n",
    "# Build the model\n",
    "model_valve = build_model_binary_classification(input_shape, learning_rate)\n",
    "print(model_valve.summary())"
   ]
  },
  {
   "cell_type": "code",
   "execution_count": 17,
   "metadata": {},
   "outputs": [
    {
     "name": "stdout",
     "output_type": "stream",
     "text": [
      "Epoch 1/5\n",
      "\u001b[1m105/105\u001b[0m \u001b[32m━━━━━━━━━━━━━━━━━━━━\u001b[0m\u001b[37m\u001b[0m \u001b[1m3s\u001b[0m 21ms/step - accuracy: 0.8748 - loss: 0.5929 - precision: 0.0724 - recall: 0.0152 - val_accuracy: 0.8633 - val_loss: 0.4552 - val_precision: 0.0000e+00 - val_recall: 0.0000e+00\n",
      "Epoch 2/5\n",
      "\u001b[1m105/105\u001b[0m \u001b[32m━━━━━━━━━━━━━━━━━━━━\u001b[0m\u001b[37m\u001b[0m \u001b[1m1s\u001b[0m 13ms/step - accuracy: 0.8920 - loss: 0.2508 - precision: 0.4434 - recall: 0.0098 - val_accuracy: 0.8633 - val_loss: 0.4638 - val_precision: 0.0000e+00 - val_recall: 0.0000e+00\n",
      "Epoch 3/5\n",
      "\u001b[1m105/105\u001b[0m \u001b[32m━━━━━━━━━━━━━━━━━━━━\u001b[0m\u001b[37m\u001b[0m \u001b[1m1s\u001b[0m 13ms/step - accuracy: 0.9789 - loss: 0.0732 - precision: 0.9991 - recall: 0.8052 - val_accuracy: 0.8549 - val_loss: 0.5382 - val_precision: 0.1818 - val_recall: 0.0175\n",
      "Epoch 4/5\n",
      "\u001b[1m105/105\u001b[0m \u001b[32m━━━━━━━━━━━━━━━━━━━━\u001b[0m\u001b[37m\u001b[0m \u001b[1m1s\u001b[0m 13ms/step - accuracy: 0.9994 - loss: 0.0130 - precision: 0.9992 - recall: 0.9951 - val_accuracy: 0.8537 - val_loss: 0.6020 - val_precision: 0.1667 - val_recall: 0.0175\n",
      "Epoch 5/5\n",
      "\u001b[1m105/105\u001b[0m \u001b[32m━━━━━━━━━━━━━━━━━━━━\u001b[0m\u001b[37m\u001b[0m \u001b[1m1s\u001b[0m 13ms/step - accuracy: 0.9999 - loss: 0.0041 - precision: 0.9992 - recall: 1.0000 - val_accuracy: 0.8537 - val_loss: 0.6503 - val_precision: 0.1667 - val_recall: 0.0175\n",
      "\u001b[1m27/27\u001b[0m \u001b[32m━━━━━━━━━━━━━━━━━━━━\u001b[0m\u001b[37m\u001b[0m \u001b[1m0s\u001b[0m 3ms/step - accuracy: 0.8548 - loss: 0.6559 - precision: 0.1135 - recall: 0.0108        \n",
      "Test Accuracy: 0.853717029094696\n",
      "Test Precision: 0.1666666716337204\n",
      "Test Recall: 0.017543859779834747\n"
     ]
    }
   ],
   "source": [
    "# Example shapes (already defined):\n",
    "# X_train.shape == (3275, 160000)\n",
    "# y_train.shape == (3275,)\n",
    "# X_test.shape == (819, 160000)\n",
    "# y_test.shape == (819,)\n",
    "\n",
    "# Train the model\n",
    "history_valve = model_valve.fit(X_train, y_train, epochs=5, batch_size=32, validation_data=(X_test, y_test))\n",
    "\n",
    "# Evaluate the model\n",
    "evaluation_valve = model_valve.evaluate(X_test, y_test)\n",
    "print(f\"Test Accuracy: {evaluation_valve[1]}\")\n",
    "print(f\"Test Precision: {evaluation_valve[2]}\")\n",
    "print(f\"Test Recall: {evaluation_valve[3]}\")\n"
   ]
  },
  {
   "cell_type": "code",
   "execution_count": 21,
   "metadata": {},
   "outputs": [
    {
     "data": {
      "image/png": "[encoded data removed]",
      "text/plain": [
       "<Figure size 640x480 with 1 Axes>"
      ]
     },
     "metadata": {},
     "output_type": "display_data"
    }
   ],
   "source": [
    "\n",
    "plt.style.use('dark_background')\n",
    "\n",
    "plt.plot(history_valve.history['loss'])\n",
    "plt.plot(history_valve.history['val_loss'])\n",
    "plt.title('Valve model loss')\n",
    "plt.ylabel('loss')\n",
    "plt.xlabel('epoch')\n",
    "plt.legend(['train', 'test'], loc='upper left')\n",
    "plt.show()"
   ]
  },
  {
   "cell_type": "code",
   "execution_count": 18,
   "metadata": {},
   "outputs": [
    {
     "name": "stdout",
     "output_type": "stream",
     "text": [
      "Training data shape: (3364, 160000), Training labels shape: (3364,)\n",
      "Testing data shape: (841, 160000), Testing labels shape: (841,)\n"
     ]
    },
    {
     "data": {
      "text/html": [
       "<pre style=\"white-space:pre;overflow-x:auto;line-height:normal;font-family:Menlo,'DejaVu Sans Mono',consolas,'Courier New',monospace\"><span style=\"font-weight: bold\">Model: \"sequential\"</span>\n",
       "</pre>\n"
      ],
      "text/plain": [
       "\u001b[1mModel: \"sequential\"\u001b[0m\n"
      ]
     },
     "metadata": {},
     "output_type": "display_data"
    },
    {
     "data": {
      "text/html": [
       "<pre style=\"white-space:pre;overflow-x:auto;line-height:normal;font-family:Menlo,'DejaVu Sans Mono',consolas,'Courier New',monospace\">┏━━━━━━━━━━━━━━━━━━━━━━━━━━━━━━━━━┳━━━━━━━━━━━━━━━━━━━━━━━━┳━━━━━━━━━━━━━━━┓\n",
       "┃<span style=\"font-weight: bold\"> Layer (type)                    </span>┃<span style=\"font-weight: bold\"> Output Shape           </span>┃<span style=\"font-weight: bold\">       Param # </span>┃\n",
       "┡━━━━━━━━━━━━━━━━━━━━━━━━━━━━━━━━━╇━━━━━━━━━━━━━━━━━━━━━━━━╇━━━━━━━━━━━━━━━┩\n",
       "│ flatten (<span style=\"color: #0087ff; text-decoration-color: #0087ff\">Flatten</span>)               │ (<span style=\"color: #00d7ff; text-decoration-color: #00d7ff\">None</span>, <span style=\"color: #00af00; text-decoration-color: #00af00\">160000</span>)         │             <span style=\"color: #00af00; text-decoration-color: #00af00\">0</span> │\n",
       "├─────────────────────────────────┼────────────────────────┼───────────────┤\n",
       "│ dense (<span style=\"color: #0087ff; text-decoration-color: #0087ff\">Dense</span>)                   │ (<span style=\"color: #00d7ff; text-decoration-color: #00d7ff\">None</span>, <span style=\"color: #00af00; text-decoration-color: #00af00\">32</span>)             │     <span style=\"color: #00af00; text-decoration-color: #00af00\">5,120,032</span> │\n",
       "├─────────────────────────────────┼────────────────────────┼───────────────┤\n",
       "│ dense_1 (<span style=\"color: #0087ff; text-decoration-color: #0087ff\">Dense</span>)                 │ (<span style=\"color: #00d7ff; text-decoration-color: #00d7ff\">None</span>, <span style=\"color: #00af00; text-decoration-color: #00af00\">16</span>)             │           <span style=\"color: #00af00; text-decoration-color: #00af00\">528</span> │\n",
       "├─────────────────────────────────┼────────────────────────┼───────────────┤\n",
       "│ dense_2 (<span style=\"color: #0087ff; text-decoration-color: #0087ff\">Dense</span>)                 │ (<span style=\"color: #00d7ff; text-decoration-color: #00d7ff\">None</span>, <span style=\"color: #00af00; text-decoration-color: #00af00\">1</span>)              │            <span style=\"color: #00af00; text-decoration-color: #00af00\">17</span> │\n",
       "└─────────────────────────────────┴────────────────────────┴───────────────┘\n",
       "</pre>\n"
      ],
      "text/plain": [
       "┏━━━━━━━━━━━━━━━━━━━━━━━━━━━━━━━━━┳━━━━━━━━━━━━━━━━━━━━━━━━┳━━━━━━━━━━━━━━━┓\n",
       "┃\u001b[1m \u001b[0m\u001b[1mLayer (type)                   \u001b[0m\u001b[1m \u001b[0m┃\u001b[1m \u001b[0m\u001b[1mOutput Shape          \u001b[0m\u001b[1m \u001b[0m┃\u001b[1m \u001b[0m\u001b[1m      Param #\u001b[0m\u001b[1m \u001b[0m┃\n",
       "┡━━━━━━━━━━━━━━━━━━━━━━━━━━━━━━━━━╇━━━━━━━━━━━━━━━━━━━━━━━━╇━━━━━━━━━━━━━━━┩\n",
       "│ flatten (\u001b[38;5;33mFlatten\u001b[0m)               │ (\u001b[38;5;45mNone\u001b[0m, \u001b[38;5;34m160000\u001b[0m)         │             \u001b[38;5;34m0\u001b[0m │\n",
       "├─────────────────────────────────┼────────────────────────┼───────────────┤\n",
       "│ dense (\u001b[38;5;33mDense\u001b[0m)                   │ (\u001b[38;5;45mNone\u001b[0m, \u001b[38;5;34m32\u001b[0m)             │     \u001b[38;5;34m5,120,032\u001b[0m │\n",
       "├─────────────────────────────────┼────────────────────────┼───────────────┤\n",
       "│ dense_1 (\u001b[38;5;33mDense\u001b[0m)                 │ (\u001b[38;5;45mNone\u001b[0m, \u001b[38;5;34m16\u001b[0m)             │           \u001b[38;5;34m528\u001b[0m │\n",
       "├─────────────────────────────────┼────────────────────────┼───────────────┤\n",
       "│ dense_2 (\u001b[38;5;33mDense\u001b[0m)                 │ (\u001b[38;5;45mNone\u001b[0m, \u001b[38;5;34m1\u001b[0m)              │            \u001b[38;5;34m17\u001b[0m │\n",
       "└─────────────────────────────────┴────────────────────────┴───────────────┘\n"
      ]
     },
     "metadata": {},
     "output_type": "display_data"
    },
    {
     "data": {
      "text/html": [
       "<pre style=\"white-space:pre;overflow-x:auto;line-height:normal;font-family:Menlo,'DejaVu Sans Mono',consolas,'Courier New',monospace\"><span style=\"font-weight: bold\"> Total params: </span><span style=\"color: #00af00; text-decoration-color: #00af00\">5,120,577</span> (19.53 MB)\n",
       "</pre>\n"
      ],
      "text/plain": [
       "\u001b[1m Total params: \u001b[0m\u001b[38;5;34m5,120,577\u001b[0m (19.53 MB)\n"
      ]
     },
     "metadata": {},
     "output_type": "display_data"
    },
    {
     "data": {
      "text/html": [
       "<pre style=\"white-space:pre;overflow-x:auto;line-height:normal;font-family:Menlo,'DejaVu Sans Mono',consolas,'Courier New',monospace\"><span style=\"font-weight: bold\"> Trainable params: </span><span style=\"color: #00af00; text-decoration-color: #00af00\">5,120,577</span> (19.53 MB)\n",
       "</pre>\n"
      ],
      "text/plain": [
       "\u001b[1m Trainable params: \u001b[0m\u001b[38;5;34m5,120,577\u001b[0m (19.53 MB)\n"
      ]
     },
     "metadata": {},
     "output_type": "display_data"
    },
    {
     "data": {
      "text/html": [
       "<pre style=\"white-space:pre;overflow-x:auto;line-height:normal;font-family:Menlo,'DejaVu Sans Mono',consolas,'Courier New',monospace\"><span style=\"font-weight: bold\"> Non-trainable params: </span><span style=\"color: #00af00; text-decoration-color: #00af00\">0</span> (0.00 B)\n",
       "</pre>\n"
      ],
      "text/plain": [
       "\u001b[1m Non-trainable params: \u001b[0m\u001b[38;5;34m0\u001b[0m (0.00 B)\n"
      ]
     },
     "metadata": {},
     "output_type": "display_data"
    },
    {
     "name": "stdout",
     "output_type": "stream",
     "text": [
      "None\n"
     ]
    }
   ],
   "source": [
    "X, y = create_training_data(pump_df)\n",
    "\n",
    "\n",
    "# Split the data into training and testing sets\n",
    "X_train, X_test, y_train, y_test = train_test_split(X, y, test_size=0.2, random_state=42)\n",
    "\n",
    "# Check the shapes of the splits\n",
    "print(f'Training data shape: {X_train.shape}, Training labels shape: {y_train.shape}')\n",
    "print(f'Testing data shape: {X_test.shape}, Testing labels shape: {y_test.shape}')\n",
    "\n",
    "# Define the input shape\n",
    "input_shape = (160000,)\n",
    "learning_rate = 0.001\n",
    "\n",
    "# Build the model\n",
    "model_pump = build_model_binary_classification(input_shape, learning_rate)\n",
    "print(model_pump.summary())"
   ]
  },
  {
   "cell_type": "code",
   "execution_count": 19,
   "metadata": {},
   "outputs": [
    {
     "name": "stdout",
     "output_type": "stream",
     "text": [
      "Epoch 1/5\n",
      "\u001b[1m106/106\u001b[0m \u001b[32m━━━━━━━━━━━━━━━━━━━━\u001b[0m\u001b[37m\u001b[0m \u001b[1m3s\u001b[0m 20ms/step - accuracy: 0.8612 - loss: 0.5988 - precision: 0.1354 - recall: 0.0646 - val_accuracy: 0.8728 - val_loss: 0.3895 - val_precision: 0.0000e+00 - val_recall: 0.0000e+00\n",
      "Epoch 2/5\n",
      "\u001b[1m106/106\u001b[0m \u001b[32m━━━━━━━━━━━━━━━━━━━━\u001b[0m\u001b[37m\u001b[0m \u001b[1m1s\u001b[0m 14ms/step - accuracy: 0.9019 - loss: 0.2157 - precision: 0.7477 - recall: 0.0302 - val_accuracy: 0.8787 - val_loss: 0.4279 - val_precision: 1.0000 - val_recall: 0.0467\n",
      "Epoch 3/5\n",
      "\u001b[1m106/106\u001b[0m \u001b[32m━━━━━━━━━━━━━━━━━━━━\u001b[0m\u001b[37m\u001b[0m \u001b[1m1s\u001b[0m 13ms/step - accuracy: 0.9601 - loss: 0.0723 - precision: 0.9813 - recall: 0.5989 - val_accuracy: 0.8811 - val_loss: 0.4929 - val_precision: 0.7333 - val_recall: 0.1028\n",
      "Epoch 4/5\n",
      "\u001b[1m106/106\u001b[0m \u001b[32m━━━━━━━━━━━━━━━━━━━━\u001b[0m\u001b[37m\u001b[0m \u001b[1m1s\u001b[0m 13ms/step - accuracy: 0.9964 - loss: 0.0200 - precision: 1.0000 - recall: 0.9644 - val_accuracy: 0.8811 - val_loss: 0.5539 - val_precision: 0.6842 - val_recall: 0.1215\n",
      "Epoch 5/5\n",
      "\u001b[1m106/106\u001b[0m \u001b[32m━━━━━━━━━━━━━━━━━━━━\u001b[0m\u001b[37m\u001b[0m \u001b[1m1s\u001b[0m 13ms/step - accuracy: 1.0000 - loss: 0.0067 - precision: 1.0000 - recall: 1.0000 - val_accuracy: 0.8811 - val_loss: 0.6021 - val_precision: 0.6842 - val_recall: 0.1215\n",
      "\u001b[1m27/27\u001b[0m \u001b[32m━━━━━━━━━━━━━━━━━━━━\u001b[0m\u001b[37m\u001b[0m \u001b[1m0s\u001b[0m 3ms/step - accuracy: 0.8719 - loss: 0.6312 - precision: 0.5198 - recall: 0.0841        \n",
      "Test Accuracy: 0.8810939192771912\n",
      "Test Precision: 0.6842105388641357\n",
      "Test Recall: 0.1214953288435936\n"
     ]
    }
   ],
   "source": [
    "# Example shapes (already defined):\n",
    "# X_train.shape == (3275, 160000)\n",
    "# y_train.shape == (3275,)\n",
    "# X_test.shape == (819, 160000)\n",
    "# y_test.shape == (819,)\n",
    "\n",
    "# Train the model\n",
    "history_pump = model_pump.fit(X_train, y_train, epochs=5, batch_size=32, validation_data=(X_test, y_test))\n",
    "\n",
    "# Evaluate the model\n",
    "evaluation_pump = model_pump.evaluate(X_test, y_test)\n",
    "print(f\"Test Accuracy: {evaluation_pump[1]}\")\n",
    "print(f\"Test Precision: {evaluation_pump[2]}\")\n",
    "print(f\"Test Recall: {evaluation_pump[3]}\")\n"
   ]
  },
  {
   "cell_type": "code",
   "execution_count": 20,
   "metadata": {},
   "outputs": [
    {
     "data": {
      "image/png": "[encoded data removed]",
      "text/plain": [
       "<Figure size 640x480 with 1 Axes>"
      ]
     },
     "metadata": {},
     "output_type": "display_data"
    }
   ],
   "source": [
    "\n",
    "plt.style.use('dark_background')\n",
    "\n",
    "plt.plot(history_pump.history['loss'])\n",
    "plt.plot(history_pump.history['val_loss'])\n",
    "plt.title('Pump model loss')\n",
    "plt.ylabel('loss')\n",
    "plt.xlabel('epoch')\n",
    "plt.legend(['train', 'test'], loc='upper left')\n",
    "plt.show()"
   ]
  },
  {
   "cell_type": "code",
   "execution_count": null,
   "metadata": {},
   "outputs": [],
   "source": []
  }
 ],
 "metadata": {
  "kernelspec": {
   "display_name": "keyword-spotting-sAmOcFYZ-py3.10",
   "language": "python",
   "name": "python3"
  },
  "language_info": {
   "codemirror_mode": {
    "name": "ipython",
    "version": 3
   },
   "file_extension": ".py",
   "mimetype": "text/x-python",
   "name": "python",
   "nbconvert_exporter": "python",
   "pygments_lexer": "ipython3",
   "version": "3.10.1"
  },
  "orig_nbformat": 4,
  "vscode": {
   "interpreter": {
    "hash": "b7dc3670f032e27d098f92b49a682037b5073a6296046954dc126e384951f05c"
   }
  }
 },
 "nbformat": 4,
 "nbformat_minor": 2
}
