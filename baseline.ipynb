{
 "cells": [
  {
   "cell_type": "code",
   "execution_count": 1,
   "id": "4eafb0ec-24e1-45a0-833c-e198ed0360b0",
   "metadata": {},
   "outputs": [],
   "source": [
    "# Import Libraries\n",
    "import os\n",
    "import pandas as pd\n",
    "import numpy as np\n",
    "import librosa\n",
    "\n",
    "from matplotlib import pyplot as plt\n",
    "import seaborn as sns\n",
    "sns.set(style=\"darkgrid\")\n",
    "\n",
    "from IPython.display import Image\n",
    "\n",
    "from sklearn.model_selection import train_test_split, GridSearchCV, RandomizedSearchCV\n",
    "from sklearn.linear_model import LogisticRegression\n",
    "from sklearn.preprocessing import LabelEncoder\n",
    "from sklearn.metrics import accuracy_score\n"
   ]
  },
  {
   "cell_type": "code",
   "execution_count": 2,
   "id": "b435b044-90a2-4cf1-8780-2c55c8646109",
   "metadata": {},
   "outputs": [
    {
     "data": {
      "text/html": [
       "<div>\n",
       "<style scoped>\n",
       "    .dataframe tbody tr th:only-of-type {\n",
       "        vertical-align: middle;\n",
       "    }\n",
       "\n",
       "    .dataframe tbody tr th {\n",
       "        vertical-align: top;\n",
       "    }\n",
       "\n",
       "    .dataframe thead th {\n",
       "        text-align: right;\n",
       "    }\n",
       "</style>\n",
       "<table border=\"1\" class=\"dataframe\">\n",
       "  <thead>\n",
       "    <tr style=\"text-align: right;\">\n",
       "      <th></th>\n",
       "      <th>Sound Source</th>\n",
       "      <th>SNR</th>\n",
       "      <th>Model</th>\n",
       "      <th>.wav File</th>\n",
       "      <th>Sample Rate</th>\n",
       "      <th>Raw Data</th>\n",
       "      <th>Classification</th>\n",
       "    </tr>\n",
       "  </thead>\n",
       "  <tbody>\n",
       "    <tr>\n",
       "      <th>145</th>\n",
       "      <td>fan</td>\n",
       "      <td>-6dB</td>\n",
       "      <td>id_00</td>\n",
       "      <td>00000174.wav</td>\n",
       "      <td>16000</td>\n",
       "      <td>[-0.005207062, -0.0051956177, -0.00573349, -0....</td>\n",
       "      <td>abnormal</td>\n",
       "    </tr>\n",
       "    <tr>\n",
       "      <th>170</th>\n",
       "      <td>fan</td>\n",
       "      <td>-6dB</td>\n",
       "      <td>id_00</td>\n",
       "      <td>00000188.wav</td>\n",
       "      <td>16000</td>\n",
       "      <td>[0.010253906, 0.013095856, 0.013023376, 0.0088...</td>\n",
       "      <td>abnormal</td>\n",
       "    </tr>\n",
       "    <tr>\n",
       "      <th>2</th>\n",
       "      <td>fan</td>\n",
       "      <td>-6dB</td>\n",
       "      <td>id_00</td>\n",
       "      <td>00000065.wav</td>\n",
       "      <td>16000</td>\n",
       "      <td>[-0.0024223328, -0.004142761, -0.003967285, -0...</td>\n",
       "      <td>abnormal</td>\n",
       "    </tr>\n",
       "    <tr>\n",
       "      <th>329</th>\n",
       "      <td>fan</td>\n",
       "      <td>-6dB</td>\n",
       "      <td>id_00</td>\n",
       "      <td>00000251.wav</td>\n",
       "      <td>16000</td>\n",
       "      <td>[-0.0028533936, -0.005077362, -0.0044822693, -...</td>\n",
       "      <td>abnormal</td>\n",
       "    </tr>\n",
       "    <tr>\n",
       "      <th>362</th>\n",
       "      <td>fan</td>\n",
       "      <td>-6dB</td>\n",
       "      <td>id_00</td>\n",
       "      <td>00000308.wav</td>\n",
       "      <td>16000</td>\n",
       "      <td>[-0.005332947, -0.0024414062, 0.00037002563, 0...</td>\n",
       "      <td>abnormal</td>\n",
       "    </tr>\n",
       "  </tbody>\n",
       "</table>\n",
       "</div>"
      ],
      "text/plain": [
       "    Sound Source   SNR  Model     .wav File Sample Rate  \\\n",
       "145          fan  -6dB  id_00  00000174.wav       16000   \n",
       "170          fan  -6dB  id_00  00000188.wav       16000   \n",
       "2            fan  -6dB  id_00  00000065.wav       16000   \n",
       "329          fan  -6dB  id_00  00000251.wav       16000   \n",
       "362          fan  -6dB  id_00  00000308.wav       16000   \n",
       "\n",
       "                                              Raw Data Classification  \n",
       "145  [-0.005207062, -0.0051956177, -0.00573349, -0....       abnormal  \n",
       "170  [0.010253906, 0.013095856, 0.013023376, 0.0088...       abnormal  \n",
       "2    [-0.0024223328, -0.004142761, -0.003967285, -0...       abnormal  \n",
       "329  [-0.0028533936, -0.005077362, -0.0044822693, -...       abnormal  \n",
       "362  [-0.005332947, -0.0024414062, 0.00037002563, 0...       abnormal  "
      ]
     },
     "execution_count": 2,
     "metadata": {},
     "output_type": "execute_result"
    }
   ],
   "source": [
    "# Read data frame from pickle file\n",
    "df = pd.read_pickle('sampled_audio_data.pkl')\n",
    "df.head()"
   ]
  },
  {
   "cell_type": "markdown",
   "id": "bc08cff5-3572-44a6-a09b-4de029e6bb4f",
   "metadata": {},
   "source": [
    "## Processing labels and Train/Test/Val Split for Multiclass classification"
   ]
  },
  {
   "cell_type": "code",
   "execution_count": 3,
   "id": "fbc19908-f865-4048-b73d-88ba8db46c1e",
   "metadata": {},
   "outputs": [],
   "source": [
    "# Hold audio vectors and labels as numpy array\n",
    "features = []\n",
    "machine_labels = []\n",
    "\n",
    "\n",
    "# Encode 'Sound Source' labels\n",
    "machine_label_encoder = LabelEncoder()\n",
    "df['Sound Source'] = machine_label_encoder.fit_transform(df['Sound Source'])\n",
    "machine_label_mapping = {index: label for index, label in enumerate(machine_label_encoder.classes_)}\n",
    "\n",
    "# Encode 'Classification' labels\n",
    "state_label_encoder = LabelEncoder()\n",
    "df['Classification'] = state_label_encoder.fit_transform(df['Classification'])\n",
    "state_label_mapping = {index: label for index, label in enumerate(state_label_encoder.classes_)}\n",
    "\n",
    "# Convert labales to integers and store vectors/labels\n",
    "for idx, row in df.iterrows():\n",
    "    audio_vector = row['Raw Data']\n",
    "    machine_label = row['Sound Source']\n",
    "    features.append(audio_vector)\n",
    "    machine_labels.append(machine_label)\n",
    "\n",
    "X = np.array(features)\n",
    "y_machine = np.array(machine_labels)"
   ]
  },
  {
   "cell_type": "code",
   "execution_count": 4,
   "id": "a57118dc-c1b2-4f38-bd73-ebd8f75c909e",
   "metadata": {},
   "outputs": [
    {
     "data": {
      "text/plain": [
       "{0: 'fan', 1: 'pump', 2: 'slider', 3: 'valve'}"
      ]
     },
     "execution_count": 4,
     "metadata": {},
     "output_type": "execute_result"
    }
   ],
   "source": [
    "# See label encoding for machine type\n",
    "machine_label_mapping"
   ]
  },
  {
   "cell_type": "code",
   "execution_count": 5,
   "id": "0991b220-f297-47f8-9d92-94cc2a95636c",
   "metadata": {},
   "outputs": [
    {
     "data": {
      "text/plain": [
       "{0: 'abnormal', 1: 'normal'}"
      ]
     },
     "execution_count": 5,
     "metadata": {},
     "output_type": "execute_result"
    }
   ],
   "source": [
    "# See label encoding for machine status\n",
    "state_label_mapping"
   ]
  },
  {
   "cell_type": "code",
   "execution_count": 6,
   "id": "22f6546c-f2d8-4ca7-9362-bfd9ce4c7f49",
   "metadata": {},
   "outputs": [],
   "source": [
    "# Split data to train/test/val sets with distribution of 0.7/0.15/0.15\n",
    "X_train, X_temp, y_train, y_temp = train_test_split(X, y_machine, test_size=0.3, random_state=42)\n",
    "X_test, X_val, y_test, y_val = train_test_split(X_temp, y_temp, test_size=0.5, random_state=42)"
   ]
  },
  {
   "cell_type": "code",
   "execution_count": 7,
   "id": "494e9341-bf5e-4e10-a0bb-9c614764a85b",
   "metadata": {},
   "outputs": [
    {
     "name": "stdout",
     "output_type": "stream",
     "text": [
      "(7660, 160000)\n",
      "(1642, 160000)\n",
      "(1642, 160000)\n"
     ]
    }
   ],
   "source": [
    "print(X_train.shape)\n",
    "print(X_test.shape)\n",
    "print(X_val.shape)"
   ]
  },
  {
   "cell_type": "code",
   "execution_count": 8,
   "id": "1a78b310-0979-40db-bf83-16da8db1c56d",
   "metadata": {},
   "outputs": [
    {
     "name": "stdout",
     "output_type": "stream",
     "text": [
      "Distribution of labels in the different sets\n",
      "\n",
      "{0: 1907, 1: 1921, 2: 1900, 3: 1932}\n",
      "{0: 414, 1: 400, 2: 430, 3: 398}\n",
      "{0: 415, 1: 415, 2: 406, 3: 406}\n"
     ]
    }
   ],
   "source": [
    "# Check the distribution of labels\n",
    "ylabels = [y_train, y_test, y_val]\n",
    "\n",
    "print('Distribution of labels in the different sets\\n')\n",
    "for l in ylabels:\n",
    "    unique_values, counts = np.unique(l, return_counts=True)\n",
    "    print(dict(zip(unique_values, counts)))"
   ]
  },
  {
   "cell_type": "markdown",
   "id": "93b2cca8-20b7-4105-9c12-343ae6648a45",
   "metadata": {},
   "source": [
    "## Processing labels and Train/Test/Val Split for Binary classification"
   ]
  },
  {
   "cell_type": "code",
   "execution_count": 32,
   "id": "5dac594d-2268-4377-8e1e-34d7762de8cd",
   "metadata": {},
   "outputs": [],
   "source": [
    "# Separate data for each machine type for binary classification\n",
    "fan_df = df[df['Sound Source'] == 0]\n",
    "pump_df = df[df['Sound Source'] == 1]\n",
    "slider_df = df[df['Sound Source'] == 2]\n",
    "valve_df = df[df['Sound Source'] == 3]\n",
    "\n",
    "# Fans\n",
    "X_fan = []\n",
    "fan_labels = []\n",
    "\n",
    "for idx, row in fan_df.iterrows():\n",
    "    audio_vector = row['Raw Data']\n",
    "    label = row['Classification']\n",
    "    X_fan.append(audio_vector)\n",
    "    fan_labels.append(label)\n",
    "    \n",
    "X_fan = np.array(X_fan)\n",
    "fan_labels = np.array(fan_labels)\n",
    "\n",
    "# Pumps\n",
    "X_pump = []\n",
    "pump_labels = []\n",
    "\n",
    "for idx, row in pump_df.iterrows():\n",
    "    audio_vector = row['Raw Data']\n",
    "    label = row['Classification']\n",
    "    X_pump.append(audio_vector)\n",
    "    pump_labels.append(label)\n",
    "    \n",
    "X_pump = np.array(X_pump)\n",
    "pump_labels = np.array(pump_labels)\n",
    "\n",
    "# Sliders\n",
    "X_slider = []\n",
    "slider_labels = []\n",
    "\n",
    "for idx, row in slider_df.iterrows():\n",
    "    audio_vector = row['Raw Data']\n",
    "    label = row['Classification']\n",
    "    X_slider.append(audio_vector)\n",
    "    slider_labels.append(label)\n",
    "    \n",
    "X_slider = np.array(X_slider)\n",
    "slider_labels = np.array(slider_labels)\n",
    "\n",
    "# Valves\n",
    "X_valve = []\n",
    "valve_labels = []\n",
    "\n",
    "for idx, row in valve_df.iterrows():\n",
    "    audio_vector = row['Raw Data']\n",
    "    label = row['Classification']\n",
    "    X_valve.append(audio_vector)\n",
    "    valve_labels.append(label)\n",
    "    \n",
    "X_valve = np.array(X_valve)\n",
    "valve_labels = np.array(valve_labels)"
   ]
  },
  {
   "cell_type": "code",
   "execution_count": 33,
   "id": "eadb0c3a-65f8-45be-81eb-e3546285552b",
   "metadata": {},
   "outputs": [],
   "source": [
    "# Split data to train/test/val sets with distribution of 0.7/0.15/0.15 for FANS\n",
    "X_train_fan, X_temp, y_train_fan, y_temp = train_test_split(X_fan, fan_labels, test_size=0.3, random_state=42)\n",
    "X_test_fan, X_val_fan, y_test_fan, y_val_fan = train_test_split(X_temp, y_temp, test_size=0.5, random_state=42)\n",
    "\n",
    "# Split data to train/test/val sets with distribution of 0.7/0.15/0.15 for PUMPS\n",
    "X_train_pump, X_temp, y_train_pump, y_temp = train_test_split(X_pump, pump_labels, test_size=0.3, random_state=42)\n",
    "X_test_pump, X_val_pump, y_test_pump, y_val_pump = train_test_split(X_temp, y_temp, test_size=0.5, random_state=42)\n",
    "\n",
    "# Split data to train/test/val sets with distribution of 0.7/0.15/0.15 for SLIDERS\n",
    "X_train_slider, X_temp, y_train_slider, y_temp = train_test_split(X_slider, slider_labels, test_size=0.3, random_state=42)\n",
    "X_test_slider, X_val_slider, y_test_slider, y_val_slider = train_test_split(X_temp, y_temp, test_size=0.5, random_state=42)\n",
    "\n",
    "# Split data to train/test/val sets with distribution of 0.7/0.15/0.15 for VALVES\n",
    "X_train_valve, X_temp, y_train_valve, y_temp = train_test_split(X_valve, valve_labels, test_size=0.3, random_state=42)\n",
    "X_test_valve, X_val_valve, y_test_valve, y_val_valve = train_test_split(X_temp, y_temp, test_size=0.5, random_state=42)"
   ]
  },
  {
   "cell_type": "code",
   "execution_count": 11,
   "id": "8f39995b-a3fa-4fdc-b95b-28638ec767de",
   "metadata": {},
   "outputs": [
    {
     "name": "stdout",
     "output_type": "stream",
     "text": [
      "Distribution of labels in the different sets for fans\n",
      "\n",
      "{0: 950, 1: 965}\n",
      "{0: 227, 1: 183}\n",
      "{0: 191, 1: 220}\n",
      "\n",
      "Distribution of labels in the different sets for pumps\n",
      "\n",
      "{0: 950, 1: 965}\n",
      "{0: 227, 1: 183}\n",
      "{0: 191, 1: 220}\n",
      "\n",
      "Distribution of labels in the different sets for sliders\n",
      "\n",
      "{0: 950, 1: 965}\n",
      "{0: 227, 1: 183}\n",
      "{0: 191, 1: 220}\n",
      "\n",
      "Distribution of labels in the different sets for valves\n",
      "\n",
      "{0: 950, 1: 965}\n",
      "{0: 227, 1: 183}\n",
      "{0: 191, 1: 220}\n"
     ]
    }
   ],
   "source": [
    "# Check the distribution of labels\n",
    "ylabels = [y_train_fan, y_test_fan, y_val_fan]\n",
    "\n",
    "print('Distribution of labels in the different sets for fans\\n')\n",
    "for l in ylabels:\n",
    "    unique_values, counts = np.unique(l, return_counts=True)\n",
    "    print(dict(zip(unique_values, counts)))\n",
    "\n",
    "\n",
    "ylabels = [y_train_pump, y_test_pump, y_val_pump]\n",
    "\n",
    "print('\\nDistribution of labels in the different sets for pumps\\n')\n",
    "for l in ylabels:\n",
    "    unique_values, counts = np.unique(l, return_counts=True)\n",
    "    print(dict(zip(unique_values, counts)))\n",
    "\n",
    "\n",
    "ylabels = [y_train_slider, y_test_slider, y_val_slider]\n",
    "\n",
    "print('\\nDistribution of labels in the different sets for sliders\\n')\n",
    "for l in ylabels:\n",
    "    unique_values, counts = np.unique(l, return_counts=True)\n",
    "    print(dict(zip(unique_values, counts)))\n",
    "\n",
    "\n",
    "ylabels = [y_train_valve, y_test_valve, y_val_valve]\n",
    "\n",
    "print('\\nDistribution of labels in the different sets for valves\\n')\n",
    "for l in ylabels:\n",
    "    unique_values, counts = np.unique(l, return_counts=True)\n",
    "    print(dict(zip(unique_values, counts)))"
   ]
  },
  {
   "cell_type": "markdown",
   "id": "c84bd628-4a1a-4561-b657-16fca1bed59a",
   "metadata": {},
   "source": [
    "## Model training (Multi-class) - baseline with raw audio vectors"
   ]
  },
  {
   "cell_type": "code",
   "execution_count": 34,
   "id": "72f8932f-97a7-4f69-9a1c-cc4bf1d49005",
   "metadata": {},
   "outputs": [
    {
     "data": {
      "text/html": [
       "<style>#sk-container-id-6 {color: black;}#sk-container-id-6 pre{padding: 0;}#sk-container-id-6 div.sk-toggleable {background-color: white;}#sk-container-id-6 label.sk-toggleable__label {cursor: pointer;display: block;width: 100%;margin-bottom: 0;padding: 0.3em;box-sizing: border-box;text-align: center;}#sk-container-id-6 label.sk-toggleable__label-arrow:before {content: \"▸\";float: left;margin-right: 0.25em;color: #696969;}#sk-container-id-6 label.sk-toggleable__label-arrow:hover:before {color: black;}#sk-container-id-6 div.sk-estimator:hover label.sk-toggleable__label-arrow:before {color: black;}#sk-container-id-6 div.sk-toggleable__content {max-height: 0;max-width: 0;overflow: hidden;text-align: left;background-color: #f0f8ff;}#sk-container-id-6 div.sk-toggleable__content pre {margin: 0.2em;color: black;border-radius: 0.25em;background-color: #f0f8ff;}#sk-container-id-6 input.sk-toggleable__control:checked~div.sk-toggleable__content {max-height: 200px;max-width: 100%;overflow: auto;}#sk-container-id-6 input.sk-toggleable__control:checked~label.sk-toggleable__label-arrow:before {content: \"▾\";}#sk-container-id-6 div.sk-estimator input.sk-toggleable__control:checked~label.sk-toggleable__label {background-color: #d4ebff;}#sk-container-id-6 div.sk-label input.sk-toggleable__control:checked~label.sk-toggleable__label {background-color: #d4ebff;}#sk-container-id-6 input.sk-hidden--visually {border: 0;clip: rect(1px 1px 1px 1px);clip: rect(1px, 1px, 1px, 1px);height: 1px;margin: -1px;overflow: hidden;padding: 0;position: absolute;width: 1px;}#sk-container-id-6 div.sk-estimator {font-family: monospace;background-color: #f0f8ff;border: 1px dotted black;border-radius: 0.25em;box-sizing: border-box;margin-bottom: 0.5em;}#sk-container-id-6 div.sk-estimator:hover {background-color: #d4ebff;}#sk-container-id-6 div.sk-parallel-item::after {content: \"\";width: 100%;border-bottom: 1px solid gray;flex-grow: 1;}#sk-container-id-6 div.sk-label:hover label.sk-toggleable__label {background-color: #d4ebff;}#sk-container-id-6 div.sk-serial::before {content: \"\";position: absolute;border-left: 1px solid gray;box-sizing: border-box;top: 0;bottom: 0;left: 50%;z-index: 0;}#sk-container-id-6 div.sk-serial {display: flex;flex-direction: column;align-items: center;background-color: white;padding-right: 0.2em;padding-left: 0.2em;position: relative;}#sk-container-id-6 div.sk-item {position: relative;z-index: 1;}#sk-container-id-6 div.sk-parallel {display: flex;align-items: stretch;justify-content: center;background-color: white;position: relative;}#sk-container-id-6 div.sk-item::before, #sk-container-id-6 div.sk-parallel-item::before {content: \"\";position: absolute;border-left: 1px solid gray;box-sizing: border-box;top: 0;bottom: 0;left: 50%;z-index: -1;}#sk-container-id-6 div.sk-parallel-item {display: flex;flex-direction: column;z-index: 1;position: relative;background-color: white;}#sk-container-id-6 div.sk-parallel-item:first-child::after {align-self: flex-end;width: 50%;}#sk-container-id-6 div.sk-parallel-item:last-child::after {align-self: flex-start;width: 50%;}#sk-container-id-6 div.sk-parallel-item:only-child::after {width: 0;}#sk-container-id-6 div.sk-dashed-wrapped {border: 1px dashed gray;margin: 0 0.4em 0.5em 0.4em;box-sizing: border-box;padding-bottom: 0.4em;background-color: white;}#sk-container-id-6 div.sk-label label {font-family: monospace;font-weight: bold;display: inline-block;line-height: 1.2em;}#sk-container-id-6 div.sk-label-container {text-align: center;}#sk-container-id-6 div.sk-container {/* jupyter's `normalize.less` sets `[hidden] { display: none; }` but bootstrap.min.css set `[hidden] { display: none !important; }` so we also need the `!important` here to be able to override the default hidden behavior on the sphinx rendered scikit-learn.org. See: https://github.com/scikit-learn/scikit-learn/issues/21755 */display: inline-block !important;position: relative;}#sk-container-id-6 div.sk-text-repr-fallback {display: none;}</style><div id=\"sk-container-id-6\" class=\"sk-top-container\"><div class=\"sk-text-repr-fallback\"><pre>LogisticRegression(max_iter=10000, multi_class=&#x27;multinomial&#x27;)</pre><b>In a Jupyter environment, please rerun this cell to show the HTML representation or trust the notebook. <br />On GitHub, the HTML representation is unable to render, please try loading this page with nbviewer.org.</b></div><div class=\"sk-container\" hidden><div class=\"sk-item\"><div class=\"sk-estimator sk-toggleable\"><input class=\"sk-toggleable__control sk-hidden--visually\" id=\"sk-estimator-id-6\" type=\"checkbox\" checked><label for=\"sk-estimator-id-6\" class=\"sk-toggleable__label sk-toggleable__label-arrow\">LogisticRegression</label><div class=\"sk-toggleable__content\"><pre>LogisticRegression(max_iter=10000, multi_class=&#x27;multinomial&#x27;)</pre></div></div></div></div></div>"
      ],
      "text/plain": [
       "LogisticRegression(max_iter=10000, multi_class='multinomial')"
      ]
     },
     "execution_count": 34,
     "metadata": {},
     "output_type": "execute_result"
    }
   ],
   "source": [
    "# Multi_class Logistic Regression \n",
    "clf = LogisticRegression(multi_class='multinomial', max_iter=10000)\n",
    "clf.fit(X_train, y_train)"
   ]
  },
  {
   "cell_type": "code",
   "execution_count": 35,
   "id": "cd7442f0-74c5-491a-b78e-10c4507a5fef",
   "metadata": {},
   "outputs": [
    {
     "name": "stdout",
     "output_type": "stream",
     "text": [
      "Accuracy: 0.6218026796589525\n"
     ]
    }
   ],
   "source": [
    "y_val_pred = clf.predict(X_val)\n",
    "print(f\"Accuracy: {accuracy_score(y_val, y_val_pred)}\")"
   ]
  },
  {
   "cell_type": "markdown",
   "id": "dc612937-76f9-4c7b-b9b6-6088ccf7547d",
   "metadata": {},
   "source": [
    "## Model training (Multi-class) - baseline with features selected"
   ]
  },
  {
   "cell_type": "code",
   "execution_count": 19,
   "id": "e7e62110-924c-40be-9e47-3db84ab74a16",
   "metadata": {},
   "outputs": [],
   "source": [
    "def extract_mfccs(audio_data, sample_rate=16000, n_mfcc=13):\n",
    "    # Extract MFCCs for each audio sample in the dataset\n",
    "    mfccs_list = []\n",
    "    for raw_audio in audio_data:\n",
    "        mfccs = librosa.feature.mfcc(y=raw_audio, sr=sample_rate, n_mfcc=n_mfcc)\n",
    "        mfccs_processed = np.mean(mfccs.T, axis=0)\n",
    "        mfccs_list.append(mfccs_processed)\n",
    "    return np.array(mfccs_list)\n",
    "\n",
    "def extract_temporal_features(audio_data):\n",
    "    # Extract temporal features for each audio sample in the dataset\n",
    "    temporal_features_list = []\n",
    "    for raw_audio in audio_data:\n",
    "        zero_crossing_rate = librosa.feature.zero_crossing_rate(raw_audio)[0]\n",
    "        autocorrelation = librosa.autocorrelate(raw_audio)\n",
    "        temporal_features = [np.mean(zero_crossing_rate), np.mean(autocorrelation)]\n",
    "        temporal_features_list.append(temporal_features)\n",
    "    return np.array(temporal_features_list)\n",
    "\n",
    "def extract_spectral_features(audio_data, sample_rate=16000):\n",
    "    # Extract spectral features for each audio sample in the dataset\n",
    "    spectral_features_list = []\n",
    "    for raw_audio in audio_data:\n",
    "        spectral_centroids = librosa.feature.spectral_centroid(y=raw_audio, sr=sample_rate)[0]\n",
    "        spectral_rollof = librosa.feature.spectral_rolloff(y=raw_audio, sr=sample_rate)[0]\n",
    "        spectral_contrast = librosa.feature.spectral_contrast(y=raw_audio, sr=sample_rate)[0]\n",
    "        spectral_features = [np.mean(spectral_centroids), np.mean(spectral_rollof), np.mean(spectral_contrast)]\n",
    "        spectral_features_list.append(spectral_features)\n",
    "    return np.array(spectral_features_list)\n",
    "\n",
    "def extract_features(audio_data, sample_rate=16000):\n",
    "    # Extract features from the entire numpy dataset\n",
    "    mfccs = extract_mfccs(audio_data, sample_rate)\n",
    "    temporal_features = extract_temporal_features(audio_data)\n",
    "    spectral_features = extract_spectral_features(audio_data, sample_rate)\n",
    "    \n",
    "    # Concatenate all features for each audio sample\n",
    "    features = np.hstack((mfccs, spectral_features, temporal_features))\n",
    "    return features"
   ]
  },
  {
   "cell_type": "code",
   "execution_count": 20,
   "id": "9602a81f-5f81-45d4-bf23-27c1209188b8",
   "metadata": {},
   "outputs": [],
   "source": [
    "X_train_vec = extract_features(X_train, sample_rate=16000)"
   ]
  },
  {
   "cell_type": "code",
   "execution_count": 23,
   "id": "a6f6e4f4-0e0e-445b-8eb2-ba94ff8dadbb",
   "metadata": {},
   "outputs": [],
   "source": [
    "X_val_vec = extract_features(X_val, sample_rate=16000)"
   ]
  },
  {
   "cell_type": "code",
   "execution_count": 30,
   "id": "941569ce-30a1-44b6-b535-8d753394647e",
   "metadata": {},
   "outputs": [
    {
     "data": {
      "text/html": [
       "<style>#sk-container-id-5 {color: black;}#sk-container-id-5 pre{padding: 0;}#sk-container-id-5 div.sk-toggleable {background-color: white;}#sk-container-id-5 label.sk-toggleable__label {cursor: pointer;display: block;width: 100%;margin-bottom: 0;padding: 0.3em;box-sizing: border-box;text-align: center;}#sk-container-id-5 label.sk-toggleable__label-arrow:before {content: \"▸\";float: left;margin-right: 0.25em;color: #696969;}#sk-container-id-5 label.sk-toggleable__label-arrow:hover:before {color: black;}#sk-container-id-5 div.sk-estimator:hover label.sk-toggleable__label-arrow:before {color: black;}#sk-container-id-5 div.sk-toggleable__content {max-height: 0;max-width: 0;overflow: hidden;text-align: left;background-color: #f0f8ff;}#sk-container-id-5 div.sk-toggleable__content pre {margin: 0.2em;color: black;border-radius: 0.25em;background-color: #f0f8ff;}#sk-container-id-5 input.sk-toggleable__control:checked~div.sk-toggleable__content {max-height: 200px;max-width: 100%;overflow: auto;}#sk-container-id-5 input.sk-toggleable__control:checked~label.sk-toggleable__label-arrow:before {content: \"▾\";}#sk-container-id-5 div.sk-estimator input.sk-toggleable__control:checked~label.sk-toggleable__label {background-color: #d4ebff;}#sk-container-id-5 div.sk-label input.sk-toggleable__control:checked~label.sk-toggleable__label {background-color: #d4ebff;}#sk-container-id-5 input.sk-hidden--visually {border: 0;clip: rect(1px 1px 1px 1px);clip: rect(1px, 1px, 1px, 1px);height: 1px;margin: -1px;overflow: hidden;padding: 0;position: absolute;width: 1px;}#sk-container-id-5 div.sk-estimator {font-family: monospace;background-color: #f0f8ff;border: 1px dotted black;border-radius: 0.25em;box-sizing: border-box;margin-bottom: 0.5em;}#sk-container-id-5 div.sk-estimator:hover {background-color: #d4ebff;}#sk-container-id-5 div.sk-parallel-item::after {content: \"\";width: 100%;border-bottom: 1px solid gray;flex-grow: 1;}#sk-container-id-5 div.sk-label:hover label.sk-toggleable__label {background-color: #d4ebff;}#sk-container-id-5 div.sk-serial::before {content: \"\";position: absolute;border-left: 1px solid gray;box-sizing: border-box;top: 0;bottom: 0;left: 50%;z-index: 0;}#sk-container-id-5 div.sk-serial {display: flex;flex-direction: column;align-items: center;background-color: white;padding-right: 0.2em;padding-left: 0.2em;position: relative;}#sk-container-id-5 div.sk-item {position: relative;z-index: 1;}#sk-container-id-5 div.sk-parallel {display: flex;align-items: stretch;justify-content: center;background-color: white;position: relative;}#sk-container-id-5 div.sk-item::before, #sk-container-id-5 div.sk-parallel-item::before {content: \"\";position: absolute;border-left: 1px solid gray;box-sizing: border-box;top: 0;bottom: 0;left: 50%;z-index: -1;}#sk-container-id-5 div.sk-parallel-item {display: flex;flex-direction: column;z-index: 1;position: relative;background-color: white;}#sk-container-id-5 div.sk-parallel-item:first-child::after {align-self: flex-end;width: 50%;}#sk-container-id-5 div.sk-parallel-item:last-child::after {align-self: flex-start;width: 50%;}#sk-container-id-5 div.sk-parallel-item:only-child::after {width: 0;}#sk-container-id-5 div.sk-dashed-wrapped {border: 1px dashed gray;margin: 0 0.4em 0.5em 0.4em;box-sizing: border-box;padding-bottom: 0.4em;background-color: white;}#sk-container-id-5 div.sk-label label {font-family: monospace;font-weight: bold;display: inline-block;line-height: 1.2em;}#sk-container-id-5 div.sk-label-container {text-align: center;}#sk-container-id-5 div.sk-container {/* jupyter's `normalize.less` sets `[hidden] { display: none; }` but bootstrap.min.css set `[hidden] { display: none !important; }` so we also need the `!important` here to be able to override the default hidden behavior on the sphinx rendered scikit-learn.org. See: https://github.com/scikit-learn/scikit-learn/issues/21755 */display: inline-block !important;position: relative;}#sk-container-id-5 div.sk-text-repr-fallback {display: none;}</style><div id=\"sk-container-id-5\" class=\"sk-top-container\"><div class=\"sk-text-repr-fallback\"><pre>LogisticRegression(max_iter=10000, multi_class=&#x27;multinomial&#x27;)</pre><b>In a Jupyter environment, please rerun this cell to show the HTML representation or trust the notebook. <br />On GitHub, the HTML representation is unable to render, please try loading this page with nbviewer.org.</b></div><div class=\"sk-container\" hidden><div class=\"sk-item\"><div class=\"sk-estimator sk-toggleable\"><input class=\"sk-toggleable__control sk-hidden--visually\" id=\"sk-estimator-id-5\" type=\"checkbox\" checked><label for=\"sk-estimator-id-5\" class=\"sk-toggleable__label sk-toggleable__label-arrow\">LogisticRegression</label><div class=\"sk-toggleable__content\"><pre>LogisticRegression(max_iter=10000, multi_class=&#x27;multinomial&#x27;)</pre></div></div></div></div></div>"
      ],
      "text/plain": [
       "LogisticRegression(max_iter=10000, multi_class='multinomial')"
      ]
     },
     "execution_count": 30,
     "metadata": {},
     "output_type": "execute_result"
    }
   ],
   "source": [
    "clf = LogisticRegression(multi_class='multinomial', max_iter=10000)\n",
    "clf.fit(X_train_vec, y_train)"
   ]
  },
  {
   "cell_type": "code",
   "execution_count": 31,
   "id": "5efc1b96-1ace-4b27-8809-6ffc20b1a1d7",
   "metadata": {},
   "outputs": [
    {
     "name": "stdout",
     "output_type": "stream",
     "text": [
      "Accuracy: 0.7539585870889159\n"
     ]
    }
   ],
   "source": [
    "y_val_pred = clf.predict(X_val_vec)\n",
    "print(f\"Accuracy: {accuracy_score(y_val, y_val_pred)}\")"
   ]
  },
  {
   "cell_type": "markdown",
   "id": "acde56ea-1a25-4000-b1de-c382a70a71aa",
   "metadata": {},
   "source": [
    "## Model training (Binary) - baseline with raw audio vectors"
   ]
  },
  {
   "cell_type": "code",
   "execution_count": 14,
   "id": "a0e538d1-35db-497e-833a-5f860212ec20",
   "metadata": {},
   "outputs": [
    {
     "name": "stdout",
     "output_type": "stream",
     "text": [
      "Accuracy: 0.8418491484184915\n"
     ]
    }
   ],
   "source": [
    "# Fans\n",
    "\n",
    "clf = LogisticRegression(max_iter=1000)\n",
    "clf.fit(X_train_fan, y_train_fan)\n",
    "\n",
    "y_val_pred = clf.predict(X_val_fan)\n",
    "print(f\"Accuracy: {accuracy_score(y_val_fan, y_val_pred)}\")"
   ]
  },
  {
   "cell_type": "code",
   "execution_count": 15,
   "id": "8a77a3a0-1450-47fd-aea4-2fe641c91ac8",
   "metadata": {},
   "outputs": [
    {
     "name": "stdout",
     "output_type": "stream",
     "text": [
      "Accuracy: 0.8637469586374696\n"
     ]
    }
   ],
   "source": [
    "# Pumps\n",
    "\n",
    "clf = LogisticRegression(max_iter=1000)\n",
    "clf.fit(X_train_pump, y_train_pump)\n",
    "\n",
    "y_val_pred = clf.predict(X_val_pump)\n",
    "print(f\"Accuracy: {accuracy_score(y_val_pump, y_val_pred)}\")"
   ]
  },
  {
   "cell_type": "code",
   "execution_count": 16,
   "id": "ad038eae-3a04-4568-982a-e8c9c9f0d76a",
   "metadata": {},
   "outputs": [
    {
     "name": "stdout",
     "output_type": "stream",
     "text": [
      "Accuracy: 0.8004866180048662\n"
     ]
    }
   ],
   "source": [
    "# Sliders\n",
    "\n",
    "clf = LogisticRegression(max_iter=1000)\n",
    "clf.fit(X_train_slider, y_train_slider)\n",
    "\n",
    "y_val_pred = clf.predict(X_val_slider)\n",
    "print(f\"Accuracy: {accuracy_score(y_val_slider, y_val_pred)}\")"
   ]
  },
  {
   "cell_type": "code",
   "execution_count": 17,
   "id": "28e29879-b8d0-4f30-ab31-e778c7d1ef34",
   "metadata": {},
   "outputs": [
    {
     "name": "stdout",
     "output_type": "stream",
     "text": [
      "Accuracy: 0.7055961070559611\n"
     ]
    }
   ],
   "source": [
    "# Valves\n",
    "\n",
    "clf = LogisticRegression(max_iter=1000)\n",
    "clf.fit(X_train_valve, y_train_valve)\n",
    "\n",
    "y_val_pred = clf.predict(X_val_valve)\n",
    "print(f\"Accuracy: {accuracy_score(y_val_valve, y_val_pred)}\")"
   ]
  },
  {
   "cell_type": "markdown",
   "id": "eec4e501-b387-4b47-982a-ab1d9b017a33",
   "metadata": {},
   "source": [
    "## Model training (Binary) - baseline with features selected"
   ]
  },
  {
   "cell_type": "code",
   "execution_count": 36,
   "id": "5a944144-4f87-43ac-9dac-13ca82aa37e1",
   "metadata": {},
   "outputs": [
    {
     "name": "stdout",
     "output_type": "stream",
     "text": [
      "Accuracy: 0.7128953771289538\n"
     ]
    }
   ],
   "source": [
    "# Fans\n",
    "\n",
    "X_train_fan_vec = extract_features(X_train_fan, sample_rate=16000)\n",
    "X_val_fan_vec = extract_features(X_val_fan, sample_rate=16000)\n",
    "\n",
    "clf = LogisticRegression(max_iter=10000)\n",
    "clf.fit(X_train_fan_vec, y_train_fan)\n",
    "\n",
    "y_val_pred = clf.predict(X_val_fan_vec)\n",
    "print(f\"Accuracy: {accuracy_score(y_val_fan, y_val_pred)}\")"
   ]
  },
  {
   "cell_type": "code",
   "execution_count": 37,
   "id": "cb5559d8-edcd-4359-91f2-adca5f2db3d7",
   "metadata": {},
   "outputs": [
    {
     "name": "stdout",
     "output_type": "stream",
     "text": [
      "Accuracy: 0.7591240875912408\n"
     ]
    }
   ],
   "source": [
    "# Pumps\n",
    "\n",
    "X_train_pump_vec = extract_features(X_train_pump, sample_rate=16000)\n",
    "X_val_pump_vec = extract_features(X_val_pump, sample_rate=16000)\n",
    "\n",
    "clf = LogisticRegression(max_iter=10000)\n",
    "clf.fit(X_train_pump_vec, y_train_pump)\n",
    "\n",
    "y_val_pred = clf.predict(X_val_pump_vec)\n",
    "print(f\"Accuracy: {accuracy_score(y_val_pump, y_val_pred)}\")"
   ]
  },
  {
   "cell_type": "code",
   "execution_count": 38,
   "id": "b1466dfb-0cbe-4d1f-bdb3-1d98a28f888e",
   "metadata": {},
   "outputs": [
    {
     "name": "stdout",
     "output_type": "stream",
     "text": [
      "Accuracy: 0.8880778588807786\n"
     ]
    }
   ],
   "source": [
    "# Sliders\n",
    "\n",
    "X_train_slider_vec = extract_features(X_train_slider, sample_rate=16000)\n",
    "X_val_slider_vec = extract_features(X_val_slider, sample_rate=16000)\n",
    "\n",
    "clf = LogisticRegression(max_iter=10000)\n",
    "clf.fit(X_train_slider_vec, y_train_slider)\n",
    "\n",
    "y_val_pred = clf.predict(X_val_slider_vec)\n",
    "print(f\"Accuracy: {accuracy_score(y_val_slider, y_val_pred)}\")"
   ]
  },
  {
   "cell_type": "code",
   "execution_count": 39,
   "id": "079ff66a-056f-433e-afd2-afa6b5ec21ed",
   "metadata": {},
   "outputs": [
    {
     "name": "stdout",
     "output_type": "stream",
     "text": [
      "Accuracy: 0.6058394160583942\n"
     ]
    }
   ],
   "source": [
    "# Valves\n",
    "\n",
    "X_train_valve_vec = extract_features(X_train_valve, sample_rate=16000)\n",
    "X_val_valve_vec = extract_features(X_val_valve, sample_rate=16000)\n",
    "\n",
    "clf = LogisticRegression(max_iter=10000)\n",
    "clf.fit(X_train_valve_vec, y_train_valve)\n",
    "\n",
    "y_val_pred = clf.predict(X_val_valve_vec)\n",
    "print(f\"Accuracy: {accuracy_score(y_val_valve, y_val_pred)}\")"
   ]
  },
  {
   "cell_type": "code",
   "execution_count": null,
   "id": "61e56bbe-ccb9-4b2b-8eb0-51c9f0ff3fa1",
   "metadata": {},
   "outputs": [],
   "source": []
  }
 ],
 "metadata": {
  "kernelspec": {
   "display_name": "keyword-spotting-sAmOcFYZ-py3.10",
   "language": "python",
   "name": "python3"
  },
  "language_info": {
   "codemirror_mode": {
    "name": "ipython",
    "version": 3
   },
   "file_extension": ".py",
   "mimetype": "text/x-python",
   "name": "python",
   "nbconvert_exporter": "python",
   "pygments_lexer": "ipython3",
   "version": "3.10.1 (v3.10.1:2cd268a3a9, Dec  6 2021, 14:28:59) [Clang 13.0.0 (clang-1300.0.29.3)]"
  },
  "vscode": {
   "interpreter": {
    "hash": "b7dc3670f032e27d098f92b49a682037b5073a6296046954dc126e384951f05c"
   }
  }
 },
 "nbformat": 4,
 "nbformat_minor": 5
}
