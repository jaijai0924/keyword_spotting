{
 "cells": [
  {
   "cell_type": "code",
   "execution_count": 1,
   "id": "4eafb0ec-24e1-45a0-833c-e198ed0360b0",
   "metadata": {},
   "outputs": [],
   "source": [
    "# Import Libraries\n",
    "import os\n",
    "import pandas as pd\n",
    "import numpy as np\n",
    "import librosa\n",
    "\n",
    "from matplotlib import pyplot as plt\n",
    "import seaborn as sns\n",
    "sns.set(style=\"darkgrid\")\n",
    "\n",
    "from IPython.display import Image\n",
    "\n",
    "from sklearn.model_selection import train_test_split, GridSearchCV, RandomizedSearchCV\n",
    "from sklearn.linear_model import LogisticRegression\n",
    "from sklearn.preprocessing import LabelEncoder\n",
    "from sklearn.metrics import accuracy_score, precision_score, recall_score\n",
    "from glob import glob\n"
   ]
  },
  {
   "cell_type": "code",
   "execution_count": 20,
   "id": "b435b044-90a2-4cf1-8780-2c55c8646109",
   "metadata": {},
   "outputs": [
    {
     "data": {
      "text/html": [
       "<div>\n",
       "<style scoped>\n",
       "    .dataframe tbody tr th:only-of-type {\n",
       "        vertical-align: middle;\n",
       "    }\n",
       "\n",
       "    .dataframe tbody tr th {\n",
       "        vertical-align: top;\n",
       "    }\n",
       "\n",
       "    .dataframe thead th {\n",
       "        text-align: right;\n",
       "    }\n",
       "</style>\n",
       "<table border=\"1\" class=\"dataframe\">\n",
       "  <thead>\n",
       "    <tr style=\"text-align: right;\">\n",
       "      <th></th>\n",
       "      <th>Sound Source</th>\n",
       "      <th>SNR</th>\n",
       "      <th>Model</th>\n",
       "      <th>.wav File</th>\n",
       "      <th>Sample Rate</th>\n",
       "      <th>Raw Data</th>\n",
       "      <th>Classification</th>\n",
       "    </tr>\n",
       "  </thead>\n",
       "  <tbody>\n",
       "    <tr>\n",
       "      <th>145</th>\n",
       "      <td>fan</td>\n",
       "      <td>-6dB</td>\n",
       "      <td>id_00</td>\n",
       "      <td>00000174.wav</td>\n",
       "      <td>16000</td>\n",
       "      <td>[-0.005207062, -0.0051956177, -0.00573349, -0....</td>\n",
       "      <td>abnormal</td>\n",
       "    </tr>\n",
       "    <tr>\n",
       "      <th>170</th>\n",
       "      <td>fan</td>\n",
       "      <td>-6dB</td>\n",
       "      <td>id_00</td>\n",
       "      <td>00000188.wav</td>\n",
       "      <td>16000</td>\n",
       "      <td>[0.010253906, 0.013095856, 0.013023376, 0.0088...</td>\n",
       "      <td>abnormal</td>\n",
       "    </tr>\n",
       "    <tr>\n",
       "      <th>2</th>\n",
       "      <td>fan</td>\n",
       "      <td>-6dB</td>\n",
       "      <td>id_00</td>\n",
       "      <td>00000065.wav</td>\n",
       "      <td>16000</td>\n",
       "      <td>[-0.0024223328, -0.004142761, -0.003967285, -0...</td>\n",
       "      <td>abnormal</td>\n",
       "    </tr>\n",
       "    <tr>\n",
       "      <th>329</th>\n",
       "      <td>fan</td>\n",
       "      <td>-6dB</td>\n",
       "      <td>id_00</td>\n",
       "      <td>00000251.wav</td>\n",
       "      <td>16000</td>\n",
       "      <td>[-0.0028533936, -0.005077362, -0.0044822693, -...</td>\n",
       "      <td>abnormal</td>\n",
       "    </tr>\n",
       "    <tr>\n",
       "      <th>362</th>\n",
       "      <td>fan</td>\n",
       "      <td>-6dB</td>\n",
       "      <td>id_00</td>\n",
       "      <td>00000308.wav</td>\n",
       "      <td>16000</td>\n",
       "      <td>[-0.005332947, -0.0024414062, 0.00037002563, 0...</td>\n",
       "      <td>abnormal</td>\n",
       "    </tr>\n",
       "  </tbody>\n",
       "</table>\n",
       "</div>"
      ],
      "text/plain": [
       "    Sound Source   SNR  Model     .wav File Sample Rate  \\\n",
       "145          fan  -6dB  id_00  00000174.wav       16000   \n",
       "170          fan  -6dB  id_00  00000188.wav       16000   \n",
       "2            fan  -6dB  id_00  00000065.wav       16000   \n",
       "329          fan  -6dB  id_00  00000251.wav       16000   \n",
       "362          fan  -6dB  id_00  00000308.wav       16000   \n",
       "\n",
       "                                              Raw Data Classification  \n",
       "145  [-0.005207062, -0.0051956177, -0.00573349, -0....       abnormal  \n",
       "170  [0.010253906, 0.013095856, 0.013023376, 0.0088...       abnormal  \n",
       "2    [-0.0024223328, -0.004142761, -0.003967285, -0...       abnormal  \n",
       "329  [-0.0028533936, -0.005077362, -0.0044822693, -...       abnormal  \n",
       "362  [-0.005332947, -0.0024414062, 0.00037002563, 0...       abnormal  "
      ]
     },
     "execution_count": 20,
     "metadata": {},
     "output_type": "execute_result"
    }
   ],
   "source": [
    "# Read data frame from pickle file\n",
    "df = pd.read_pickle('sampled_audio_data.pkl')\n",
    "df.head()"
   ]
  },
  {
   "cell_type": "markdown",
   "id": "bc08cff5-3572-44a6-a09b-4de029e6bb4f",
   "metadata": {},
   "source": [
    "## Processing labels and Train/Test/Val Split for Multiclass classification"
   ]
  },
  {
   "cell_type": "code",
   "execution_count": 21,
   "id": "fbc19908-f865-4048-b73d-88ba8db46c1e",
   "metadata": {},
   "outputs": [],
   "source": [
    "# Hold audio vectors and labels as numpy array\n",
    "features = []\n",
    "machine_labels = []\n",
    "\n",
    "\n",
    "# Encode 'Sound Source' labels\n",
    "machine_label_encoder = LabelEncoder()\n",
    "df['Sound Source'] = machine_label_encoder.fit_transform(df['Sound Source'])\n",
    "machine_label_mapping = {index: label for index, label in enumerate(machine_label_encoder.classes_)}\n",
    "\n",
    "# Encode 'Classification' labels\n",
    "state_label_encoder = LabelEncoder()\n",
    "df['Classification'] = state_label_encoder.fit_transform(df['Classification'])\n",
    "state_label_mapping = {index: label for index, label in enumerate(state_label_encoder.classes_)}\n",
    "\n",
    "# Convert labales to integers and store vectors/labels\n",
    "for idx, row in df.iterrows():\n",
    "    audio_vector = row['Raw Data']\n",
    "    machine_label = row['Sound Source']\n",
    "    features.append(audio_vector)\n",
    "    machine_labels.append(machine_label)\n",
    "\n",
    "X = np.array(features)\n",
    "y_machine = np.array(machine_labels)"
   ]
  },
  {
   "cell_type": "code",
   "execution_count": 22,
   "id": "a57118dc-c1b2-4f38-bd73-ebd8f75c909e",
   "metadata": {},
   "outputs": [
    {
     "data": {
      "text/plain": [
       "{0: 'fan', 1: 'pump', 2: 'slider', 3: 'valve'}"
      ]
     },
     "execution_count": 22,
     "metadata": {},
     "output_type": "execute_result"
    }
   ],
   "source": [
    "# See label encoding for machine type\n",
    "machine_label_mapping"
   ]
  },
  {
   "cell_type": "code",
   "execution_count": 23,
   "id": "0991b220-f297-47f8-9d92-94cc2a95636c",
   "metadata": {},
   "outputs": [
    {
     "data": {
      "text/plain": [
       "{0: 'abnormal', 1: 'normal'}"
      ]
     },
     "execution_count": 23,
     "metadata": {},
     "output_type": "execute_result"
    }
   ],
   "source": [
    "# See label encoding for machine status\n",
    "state_label_mapping"
   ]
  },
  {
   "cell_type": "code",
   "execution_count": 24,
   "id": "22f6546c-f2d8-4ca7-9362-bfd9ce4c7f49",
   "metadata": {},
   "outputs": [],
   "source": [
    "# Split data to train/test/val sets with distribution of 0.7/0.15/0.15\n",
    "X_train, X_temp, y_train, y_temp = train_test_split(X, y_machine, test_size=0.3, random_state=42)\n",
    "X_test, X_val, y_test, y_val = train_test_split(X_temp, y_temp, test_size=0.5, random_state=42)"
   ]
  },
  {
   "cell_type": "code",
   "execution_count": 25,
   "id": "494e9341-bf5e-4e10-a0bb-9c614764a85b",
   "metadata": {},
   "outputs": [
    {
     "name": "stdout",
     "output_type": "stream",
     "text": [
      "(7660, 160000)\n",
      "(1642, 160000)\n",
      "(1642, 160000)\n"
     ]
    }
   ],
   "source": [
    "print(X_train.shape)\n",
    "print(X_test.shape)\n",
    "print(X_val.shape)"
   ]
  },
  {
   "cell_type": "code",
   "execution_count": 26,
   "id": "1a78b310-0979-40db-bf83-16da8db1c56d",
   "metadata": {},
   "outputs": [
    {
     "name": "stdout",
     "output_type": "stream",
     "text": [
      "Distribution of labels in the different sets\n",
      "\n",
      "{0: 1907, 1: 1921, 2: 1900, 3: 1932}\n",
      "{0: 414, 1: 400, 2: 430, 3: 398}\n",
      "{0: 415, 1: 415, 2: 406, 3: 406}\n"
     ]
    }
   ],
   "source": [
    "# Check the distribution of labels\n",
    "ylabels = [y_train, y_test, y_val]\n",
    "\n",
    "print('Distribution of labels in the different sets\\n')\n",
    "for l in ylabels:\n",
    "    unique_values, counts = np.unique(l, return_counts=True)\n",
    "    print(dict(zip(unique_values, counts)))"
   ]
  },
  {
   "cell_type": "markdown",
   "id": "93b2cca8-20b7-4105-9c12-343ae6648a45",
   "metadata": {},
   "source": [
    "## Processing labels and Train/Test/Val Split for Binary classification"
   ]
  },
  {
   "cell_type": "code",
   "execution_count": 27,
   "id": "5dac594d-2268-4377-8e1e-34d7762de8cd",
   "metadata": {},
   "outputs": [],
   "source": [
    "# Separate data for each machine type for binary classification\n",
    "fan_df = df[df['Sound Source'] == 0]\n",
    "pump_df = df[df['Sound Source'] == 1]\n",
    "slider_df = df[df['Sound Source'] == 2]\n",
    "valve_df = df[df['Sound Source'] == 3]\n",
    "\n",
    "# Fans\n",
    "X_fan = []\n",
    "fan_labels = []\n",
    "\n",
    "for idx, row in fan_df.iterrows():\n",
    "    audio_vector = row['Raw Data']\n",
    "    label = row['Classification']\n",
    "    X_fan.append(audio_vector)\n",
    "    fan_labels.append(label)\n",
    "    \n",
    "X_fan = np.array(X_fan)\n",
    "fan_labels = np.array(fan_labels)\n",
    "\n",
    "# Pumps\n",
    "X_pump = []\n",
    "pump_labels = []\n",
    "\n",
    "for idx, row in pump_df.iterrows():\n",
    "    audio_vector = row['Raw Data']\n",
    "    label = row['Classification']\n",
    "    X_pump.append(audio_vector)\n",
    "    pump_labels.append(label)\n",
    "    \n",
    "X_pump = np.array(X_pump)\n",
    "pump_labels = np.array(pump_labels)\n",
    "\n",
    "# Sliders\n",
    "X_slider = []\n",
    "slider_labels = []\n",
    "\n",
    "for idx, row in slider_df.iterrows():\n",
    "    audio_vector = row['Raw Data']\n",
    "    label = row['Classification']\n",
    "    X_slider.append(audio_vector)\n",
    "    slider_labels.append(label)\n",
    "    \n",
    "X_slider = np.array(X_slider)\n",
    "slider_labels = np.array(slider_labels)\n",
    "\n",
    "# Valves\n",
    "X_valve = []\n",
    "valve_labels = []\n",
    "\n",
    "for idx, row in valve_df.iterrows():\n",
    "    audio_vector = row['Raw Data']\n",
    "    label = row['Classification']\n",
    "    X_valve.append(audio_vector)\n",
    "    valve_labels.append(label)\n",
    "    \n",
    "X_valve = np.array(X_valve)\n",
    "valve_labels = np.array(valve_labels)"
   ]
  },
  {
   "cell_type": "code",
   "execution_count": 28,
   "id": "eadb0c3a-65f8-45be-81eb-e3546285552b",
   "metadata": {},
   "outputs": [],
   "source": [
    "# Split data to train/test/val sets with distribution of 0.7/0.15/0.15 for FANS\n",
    "X_train_fan, X_temp, y_train_fan, y_temp = train_test_split(X_fan, fan_labels, test_size=0.3, random_state=42)\n",
    "X_test_fan, X_val_fan, y_test_fan, y_val_fan = train_test_split(X_temp, y_temp, test_size=0.5, random_state=42)\n",
    "\n",
    "# Split data to train/test/val sets with distribution of 0.7/0.15/0.15 for PUMPS\n",
    "X_train_pump, X_temp, y_train_pump, y_temp = train_test_split(X_pump, pump_labels, test_size=0.3, random_state=42)\n",
    "X_test_pump, X_val_pump, y_test_pump, y_val_pump = train_test_split(X_temp, y_temp, test_size=0.5, random_state=42)\n",
    "\n",
    "# Split data to train/test/val sets with distribution of 0.7/0.15/0.15 for SLIDERS\n",
    "X_train_slider, X_temp, y_train_slider, y_temp = train_test_split(X_slider, slider_labels, test_size=0.3, random_state=42)\n",
    "X_test_slider, X_val_slider, y_test_slider, y_val_slider = train_test_split(X_temp, y_temp, test_size=0.5, random_state=42)\n",
    "\n",
    "# Split data to train/test/val sets with distribution of 0.7/0.15/0.15 for VALVES\n",
    "X_train_valve, X_temp, y_train_valve, y_temp = train_test_split(X_valve, valve_labels, test_size=0.3, random_state=42)\n",
    "X_test_valve, X_val_valve, y_test_valve, y_val_valve = train_test_split(X_temp, y_temp, test_size=0.5, random_state=42)"
   ]
  },
  {
   "cell_type": "code",
   "execution_count": 29,
   "id": "8f39995b-a3fa-4fdc-b95b-28638ec767de",
   "metadata": {},
   "outputs": [
    {
     "name": "stdout",
     "output_type": "stream",
     "text": [
      "Distribution of labels in the different sets for fans\n",
      "\n",
      "{0: 950, 1: 965}\n",
      "{0: 227, 1: 183}\n",
      "{0: 191, 1: 220}\n",
      "\n",
      "Distribution of labels in the different sets for pumps\n",
      "\n",
      "{0: 950, 1: 965}\n",
      "{0: 227, 1: 183}\n",
      "{0: 191, 1: 220}\n",
      "\n",
      "Distribution of labels in the different sets for sliders\n",
      "\n",
      "{0: 950, 1: 965}\n",
      "{0: 227, 1: 183}\n",
      "{0: 191, 1: 220}\n",
      "\n",
      "Distribution of labels in the different sets for valves\n",
      "\n",
      "{0: 950, 1: 965}\n",
      "{0: 227, 1: 183}\n",
      "{0: 191, 1: 220}\n"
     ]
    }
   ],
   "source": [
    "# Check the distribution of labels\n",
    "ylabels = [y_train_fan, y_test_fan, y_val_fan]\n",
    "\n",
    "print('Distribution of labels in the different sets for fans\\n')\n",
    "for l in ylabels:\n",
    "    unique_values, counts = np.unique(l, return_counts=True)\n",
    "    print(dict(zip(unique_values, counts)))\n",
    "\n",
    "\n",
    "ylabels = [y_train_pump, y_test_pump, y_val_pump]\n",
    "\n",
    "print('\\nDistribution of labels in the different sets for pumps\\n')\n",
    "for l in ylabels:\n",
    "    unique_values, counts = np.unique(l, return_counts=True)\n",
    "    print(dict(zip(unique_values, counts)))\n",
    "\n",
    "\n",
    "ylabels = [y_train_slider, y_test_slider, y_val_slider]\n",
    "\n",
    "print('\\nDistribution of labels in the different sets for sliders\\n')\n",
    "for l in ylabels:\n",
    "    unique_values, counts = np.unique(l, return_counts=True)\n",
    "    print(dict(zip(unique_values, counts)))\n",
    "\n",
    "\n",
    "ylabels = [y_train_valve, y_test_valve, y_val_valve]\n",
    "\n",
    "print('\\nDistribution of labels in the different sets for valves\\n')\n",
    "for l in ylabels:\n",
    "    unique_values, counts = np.unique(l, return_counts=True)\n",
    "    print(dict(zip(unique_values, counts)))"
   ]
  },
  {
   "cell_type": "markdown",
   "id": "c84bd628-4a1a-4561-b657-16fca1bed59a",
   "metadata": {},
   "source": [
    "## Model training (Multi-class) - baseline with raw audio vectors"
   ]
  },
  {
   "cell_type": "code",
   "execution_count": 34,
   "id": "72f8932f-97a7-4f69-9a1c-cc4bf1d49005",
   "metadata": {},
   "outputs": [
    {
     "data": {
      "text/html": [
       "<style>#sk-container-id-6 {color: black;}#sk-container-id-6 pre{padding: 0;}#sk-container-id-6 div.sk-toggleable {background-color: white;}#sk-container-id-6 label.sk-toggleable__label {cursor: pointer;display: block;width: 100%;margin-bottom: 0;padding: 0.3em;box-sizing: border-box;text-align: center;}#sk-container-id-6 label.sk-toggleable__label-arrow:before {content: \"▸\";float: left;margin-right: 0.25em;color: #696969;}#sk-container-id-6 label.sk-toggleable__label-arrow:hover:before {color: black;}#sk-container-id-6 div.sk-estimator:hover label.sk-toggleable__label-arrow:before {color: black;}#sk-container-id-6 div.sk-toggleable__content {max-height: 0;max-width: 0;overflow: hidden;text-align: left;background-color: #f0f8ff;}#sk-container-id-6 div.sk-toggleable__content pre {margin: 0.2em;color: black;border-radius: 0.25em;background-color: #f0f8ff;}#sk-container-id-6 input.sk-toggleable__control:checked~div.sk-toggleable__content {max-height: 200px;max-width: 100%;overflow: auto;}#sk-container-id-6 input.sk-toggleable__control:checked~label.sk-toggleable__label-arrow:before {content: \"▾\";}#sk-container-id-6 div.sk-estimator input.sk-toggleable__control:checked~label.sk-toggleable__label {background-color: #d4ebff;}#sk-container-id-6 div.sk-label input.sk-toggleable__control:checked~label.sk-toggleable__label {background-color: #d4ebff;}#sk-container-id-6 input.sk-hidden--visually {border: 0;clip: rect(1px 1px 1px 1px);clip: rect(1px, 1px, 1px, 1px);height: 1px;margin: -1px;overflow: hidden;padding: 0;position: absolute;width: 1px;}#sk-container-id-6 div.sk-estimator {font-family: monospace;background-color: #f0f8ff;border: 1px dotted black;border-radius: 0.25em;box-sizing: border-box;margin-bottom: 0.5em;}#sk-container-id-6 div.sk-estimator:hover {background-color: #d4ebff;}#sk-container-id-6 div.sk-parallel-item::after {content: \"\";width: 100%;border-bottom: 1px solid gray;flex-grow: 1;}#sk-container-id-6 div.sk-label:hover label.sk-toggleable__label {background-color: #d4ebff;}#sk-container-id-6 div.sk-serial::before {content: \"\";position: absolute;border-left: 1px solid gray;box-sizing: border-box;top: 0;bottom: 0;left: 50%;z-index: 0;}#sk-container-id-6 div.sk-serial {display: flex;flex-direction: column;align-items: center;background-color: white;padding-right: 0.2em;padding-left: 0.2em;position: relative;}#sk-container-id-6 div.sk-item {position: relative;z-index: 1;}#sk-container-id-6 div.sk-parallel {display: flex;align-items: stretch;justify-content: center;background-color: white;position: relative;}#sk-container-id-6 div.sk-item::before, #sk-container-id-6 div.sk-parallel-item::before {content: \"\";position: absolute;border-left: 1px solid gray;box-sizing: border-box;top: 0;bottom: 0;left: 50%;z-index: -1;}#sk-container-id-6 div.sk-parallel-item {display: flex;flex-direction: column;z-index: 1;position: relative;background-color: white;}#sk-container-id-6 div.sk-parallel-item:first-child::after {align-self: flex-end;width: 50%;}#sk-container-id-6 div.sk-parallel-item:last-child::after {align-self: flex-start;width: 50%;}#sk-container-id-6 div.sk-parallel-item:only-child::after {width: 0;}#sk-container-id-6 div.sk-dashed-wrapped {border: 1px dashed gray;margin: 0 0.4em 0.5em 0.4em;box-sizing: border-box;padding-bottom: 0.4em;background-color: white;}#sk-container-id-6 div.sk-label label {font-family: monospace;font-weight: bold;display: inline-block;line-height: 1.2em;}#sk-container-id-6 div.sk-label-container {text-align: center;}#sk-container-id-6 div.sk-container {/* jupyter's `normalize.less` sets `[hidden] { display: none; }` but bootstrap.min.css set `[hidden] { display: none !important; }` so we also need the `!important` here to be able to override the default hidden behavior on the sphinx rendered scikit-learn.org. See: https://github.com/scikit-learn/scikit-learn/issues/21755 */display: inline-block !important;position: relative;}#sk-container-id-6 div.sk-text-repr-fallback {display: none;}</style><div id=\"sk-container-id-6\" class=\"sk-top-container\"><div class=\"sk-text-repr-fallback\"><pre>LogisticRegression(max_iter=10000, multi_class=&#x27;multinomial&#x27;)</pre><b>In a Jupyter environment, please rerun this cell to show the HTML representation or trust the notebook. <br />On GitHub, the HTML representation is unable to render, please try loading this page with nbviewer.org.</b></div><div class=\"sk-container\" hidden><div class=\"sk-item\"><div class=\"sk-estimator sk-toggleable\"><input class=\"sk-toggleable__control sk-hidden--visually\" id=\"sk-estimator-id-6\" type=\"checkbox\" checked><label for=\"sk-estimator-id-6\" class=\"sk-toggleable__label sk-toggleable__label-arrow\">LogisticRegression</label><div class=\"sk-toggleable__content\"><pre>LogisticRegression(max_iter=10000, multi_class=&#x27;multinomial&#x27;)</pre></div></div></div></div></div>"
      ],
      "text/plain": [
       "LogisticRegression(max_iter=10000, multi_class='multinomial')"
      ]
     },
     "execution_count": 34,
     "metadata": {},
     "output_type": "execute_result"
    }
   ],
   "source": [
    "# Multi_class Logistic Regression \n",
    "clf = LogisticRegression(multi_class='multinomial', max_iter=10000)\n",
    "clf.fit(X_train, y_train)"
   ]
  },
  {
   "cell_type": "code",
   "execution_count": 35,
   "id": "cd7442f0-74c5-491a-b78e-10c4507a5fef",
   "metadata": {},
   "outputs": [
    {
     "name": "stdout",
     "output_type": "stream",
     "text": [
      "Accuracy: 0.6218026796589525\n"
     ]
    }
   ],
   "source": [
    "y_val_pred = clf.predict(X_val)\n",
    "print(f\"Accuracy: {accuracy_score(y_val, y_val_pred)}\")"
   ]
  },
  {
   "cell_type": "markdown",
   "id": "dc612937-76f9-4c7b-b9b6-6088ccf7547d",
   "metadata": {},
   "source": [
    "## Model training (Multi-class) - baseline with features selected"
   ]
  },
  {
   "cell_type": "code",
   "execution_count": 2,
   "id": "e7e62110-924c-40be-9e47-3db84ab74a16",
   "metadata": {},
   "outputs": [],
   "source": [
    "def extract_mfccs(audio_data, sample_rate=16000, n_mfcc=13):\n",
    "    # Extract MFCCs for each audio sample in the dataset\n",
    "    mfccs_list = []\n",
    "    for raw_audio in audio_data:\n",
    "        mfccs = librosa.feature.mfcc(y=raw_audio, sr=sample_rate, n_mfcc=n_mfcc)\n",
    "        mfccs_processed = np.mean(mfccs.T, axis=0)\n",
    "        mfccs_list.append(mfccs_processed)\n",
    "    return np.array(mfccs_list)\n",
    "\n",
    "def extract_temporal_features(audio_data):\n",
    "    # Extract temporal features for each audio sample in the dataset\n",
    "    temporal_features_list = []\n",
    "    for raw_audio in audio_data:\n",
    "        zero_crossing_rate = librosa.feature.zero_crossing_rate(raw_audio)[0]\n",
    "        autocorrelation = librosa.autocorrelate(raw_audio)\n",
    "        temporal_features = [np.mean(zero_crossing_rate), np.mean(autocorrelation)]\n",
    "        temporal_features_list.append(temporal_features)\n",
    "    return np.array(temporal_features_list)\n",
    "\n",
    "def extract_spectral_features(audio_data, sample_rate=16000):\n",
    "    # Extract spectral features for each audio sample in the dataset\n",
    "    spectral_features_list = []\n",
    "    for raw_audio in audio_data:\n",
    "        spectral_centroids = librosa.feature.spectral_centroid(y=raw_audio, sr=sample_rate)[0]\n",
    "        spectral_rollof = librosa.feature.spectral_rolloff(y=raw_audio, sr=sample_rate)[0]\n",
    "        spectral_contrast = librosa.feature.spectral_contrast(y=raw_audio, sr=sample_rate)[0]\n",
    "        spectral_features = [np.mean(spectral_centroids), np.mean(spectral_rollof), np.mean(spectral_contrast)]\n",
    "        spectral_features_list.append(spectral_features)\n",
    "    return np.array(spectral_features_list)\n",
    "\n",
    "def extract_features(audio_data, sample_rate=16000):\n",
    "    # Extract features from the entire numpy dataset\n",
    "    mfccs = extract_mfccs(audio_data, sample_rate)\n",
    "    temporal_features = extract_temporal_features(audio_data)\n",
    "    spectral_features = extract_spectral_features(audio_data, sample_rate)\n",
    "    \n",
    "    # Concatenate all features for each audio sample\n",
    "    features = np.hstack((mfccs, spectral_features, temporal_features))\n",
    "    return features"
   ]
  },
  {
   "cell_type": "code",
   "execution_count": 20,
   "id": "9602a81f-5f81-45d4-bf23-27c1209188b8",
   "metadata": {},
   "outputs": [],
   "source": [
    "X_train_vec = extract_features(X_train, sample_rate=16000)"
   ]
  },
  {
   "cell_type": "code",
   "execution_count": 23,
   "id": "a6f6e4f4-0e0e-445b-8eb2-ba94ff8dadbb",
   "metadata": {},
   "outputs": [],
   "source": [
    "X_val_vec = extract_features(X_val, sample_rate=16000)"
   ]
  },
  {
   "cell_type": "code",
   "execution_count": 30,
   "id": "941569ce-30a1-44b6-b535-8d753394647e",
   "metadata": {},
   "outputs": [
    {
     "data": {
      "text/html": [
       "<style>#sk-container-id-5 {color: black;}#sk-container-id-5 pre{padding: 0;}#sk-container-id-5 div.sk-toggleable {background-color: white;}#sk-container-id-5 label.sk-toggleable__label {cursor: pointer;display: block;width: 100%;margin-bottom: 0;padding: 0.3em;box-sizing: border-box;text-align: center;}#sk-container-id-5 label.sk-toggleable__label-arrow:before {content: \"▸\";float: left;margin-right: 0.25em;color: #696969;}#sk-container-id-5 label.sk-toggleable__label-arrow:hover:before {color: black;}#sk-container-id-5 div.sk-estimator:hover label.sk-toggleable__label-arrow:before {color: black;}#sk-container-id-5 div.sk-toggleable__content {max-height: 0;max-width: 0;overflow: hidden;text-align: left;background-color: #f0f8ff;}#sk-container-id-5 div.sk-toggleable__content pre {margin: 0.2em;color: black;border-radius: 0.25em;background-color: #f0f8ff;}#sk-container-id-5 input.sk-toggleable__control:checked~div.sk-toggleable__content {max-height: 200px;max-width: 100%;overflow: auto;}#sk-container-id-5 input.sk-toggleable__control:checked~label.sk-toggleable__label-arrow:before {content: \"▾\";}#sk-container-id-5 div.sk-estimator input.sk-toggleable__control:checked~label.sk-toggleable__label {background-color: #d4ebff;}#sk-container-id-5 div.sk-label input.sk-toggleable__control:checked~label.sk-toggleable__label {background-color: #d4ebff;}#sk-container-id-5 input.sk-hidden--visually {border: 0;clip: rect(1px 1px 1px 1px);clip: rect(1px, 1px, 1px, 1px);height: 1px;margin: -1px;overflow: hidden;padding: 0;position: absolute;width: 1px;}#sk-container-id-5 div.sk-estimator {font-family: monospace;background-color: #f0f8ff;border: 1px dotted black;border-radius: 0.25em;box-sizing: border-box;margin-bottom: 0.5em;}#sk-container-id-5 div.sk-estimator:hover {background-color: #d4ebff;}#sk-container-id-5 div.sk-parallel-item::after {content: \"\";width: 100%;border-bottom: 1px solid gray;flex-grow: 1;}#sk-container-id-5 div.sk-label:hover label.sk-toggleable__label {background-color: #d4ebff;}#sk-container-id-5 div.sk-serial::before {content: \"\";position: absolute;border-left: 1px solid gray;box-sizing: border-box;top: 0;bottom: 0;left: 50%;z-index: 0;}#sk-container-id-5 div.sk-serial {display: flex;flex-direction: column;align-items: center;background-color: white;padding-right: 0.2em;padding-left: 0.2em;position: relative;}#sk-container-id-5 div.sk-item {position: relative;z-index: 1;}#sk-container-id-5 div.sk-parallel {display: flex;align-items: stretch;justify-content: center;background-color: white;position: relative;}#sk-container-id-5 div.sk-item::before, #sk-container-id-5 div.sk-parallel-item::before {content: \"\";position: absolute;border-left: 1px solid gray;box-sizing: border-box;top: 0;bottom: 0;left: 50%;z-index: -1;}#sk-container-id-5 div.sk-parallel-item {display: flex;flex-direction: column;z-index: 1;position: relative;background-color: white;}#sk-container-id-5 div.sk-parallel-item:first-child::after {align-self: flex-end;width: 50%;}#sk-container-id-5 div.sk-parallel-item:last-child::after {align-self: flex-start;width: 50%;}#sk-container-id-5 div.sk-parallel-item:only-child::after {width: 0;}#sk-container-id-5 div.sk-dashed-wrapped {border: 1px dashed gray;margin: 0 0.4em 0.5em 0.4em;box-sizing: border-box;padding-bottom: 0.4em;background-color: white;}#sk-container-id-5 div.sk-label label {font-family: monospace;font-weight: bold;display: inline-block;line-height: 1.2em;}#sk-container-id-5 div.sk-label-container {text-align: center;}#sk-container-id-5 div.sk-container {/* jupyter's `normalize.less` sets `[hidden] { display: none; }` but bootstrap.min.css set `[hidden] { display: none !important; }` so we also need the `!important` here to be able to override the default hidden behavior on the sphinx rendered scikit-learn.org. See: https://github.com/scikit-learn/scikit-learn/issues/21755 */display: inline-block !important;position: relative;}#sk-container-id-5 div.sk-text-repr-fallback {display: none;}</style><div id=\"sk-container-id-5\" class=\"sk-top-container\"><div class=\"sk-text-repr-fallback\"><pre>LogisticRegression(max_iter=10000, multi_class=&#x27;multinomial&#x27;)</pre><b>In a Jupyter environment, please rerun this cell to show the HTML representation or trust the notebook. <br />On GitHub, the HTML representation is unable to render, please try loading this page with nbviewer.org.</b></div><div class=\"sk-container\" hidden><div class=\"sk-item\"><div class=\"sk-estimator sk-toggleable\"><input class=\"sk-toggleable__control sk-hidden--visually\" id=\"sk-estimator-id-5\" type=\"checkbox\" checked><label for=\"sk-estimator-id-5\" class=\"sk-toggleable__label sk-toggleable__label-arrow\">LogisticRegression</label><div class=\"sk-toggleable__content\"><pre>LogisticRegression(max_iter=10000, multi_class=&#x27;multinomial&#x27;)</pre></div></div></div></div></div>"
      ],
      "text/plain": [
       "LogisticRegression(max_iter=10000, multi_class='multinomial')"
      ]
     },
     "execution_count": 30,
     "metadata": {},
     "output_type": "execute_result"
    }
   ],
   "source": [
    "clf = LogisticRegression(multi_class='multinomial', max_iter=10000)\n",
    "clf.fit(X_train_vec, y_train)"
   ]
  },
  {
   "cell_type": "code",
   "execution_count": 31,
   "id": "5efc1b96-1ace-4b27-8809-6ffc20b1a1d7",
   "metadata": {},
   "outputs": [
    {
     "name": "stdout",
     "output_type": "stream",
     "text": [
      "Accuracy: 0.7539585870889159\n"
     ]
    }
   ],
   "source": [
    "y_val_pred = clf.predict(X_val_vec)\n",
    "print(f\"Accuracy: {accuracy_score(y_val, y_val_pred)}\")"
   ]
  },
  {
   "cell_type": "markdown",
   "id": "acde56ea-1a25-4000-b1de-c382a70a71aa",
   "metadata": {},
   "source": [
    "## Model training (Binary) - baseline with raw audio vectors"
   ]
  },
  {
   "cell_type": "code",
   "execution_count": 31,
   "id": "a0e538d1-35db-497e-833a-5f860212ec20",
   "metadata": {},
   "outputs": [
    {
     "name": "stdout",
     "output_type": "stream",
     "text": [
      "Accuracy: 0.8418491484184915\n",
      "Precision: 0.8326180257510729\n",
      "Recall: 0.8818181818181818\n"
     ]
    }
   ],
   "source": [
    "# Fans\n",
    "\n",
    "clf = LogisticRegression(max_iter=1000)\n",
    "clf.fit(X_train_fan, y_train_fan)\n",
    "\n",
    "y_val_pred = clf.predict(X_val_fan)\n",
    "print(f\"Accuracy: {accuracy_score(y_val_fan, y_val_pred)}\")\n",
    "\n",
    "precision = precision_score(y_val_fan, y_val_pred)\n",
    "recall = recall_score(y_val_fan, y_val_pred)\n",
    "print(f\"Precision: {precision}\")\n",
    "print(f\"Recall: {recall}\")"
   ]
  },
  {
   "cell_type": "code",
   "execution_count": 32,
   "id": "8a77a3a0-1450-47fd-aea4-2fe641c91ac8",
   "metadata": {},
   "outputs": [
    {
     "name": "stdout",
     "output_type": "stream",
     "text": [
      "Accuracy: 0.8637469586374696\n",
      "Precision: 0.828\n",
      "Recall: 0.9409090909090909\n"
     ]
    }
   ],
   "source": [
    "# Pumps\n",
    "\n",
    "clf = LogisticRegression(max_iter=1000)\n",
    "clf.fit(X_train_pump, y_train_pump)\n",
    "\n",
    "y_val_pred = clf.predict(X_val_pump)\n",
    "print(f\"Accuracy: {accuracy_score(y_val_pump, y_val_pred)}\")\n",
    "\n",
    "precision = precision_score(y_val_pump, y_val_pred)\n",
    "recall = recall_score(y_val_pump, y_val_pred)\n",
    "print(f\"Precision: {precision}\")\n",
    "print(f\"Recall: {recall}\")"
   ]
  },
  {
   "cell_type": "code",
   "execution_count": 33,
   "id": "ad038eae-3a04-4568-982a-e8c9c9f0d76a",
   "metadata": {},
   "outputs": [
    {
     "name": "stdout",
     "output_type": "stream",
     "text": [
      "Accuracy: 0.8004866180048662\n",
      "Precision: 0.7716535433070866\n",
      "Recall: 0.8909090909090909\n"
     ]
    }
   ],
   "source": [
    "# Sliders\n",
    "\n",
    "clf = LogisticRegression(max_iter=1000)\n",
    "clf.fit(X_train_slider, y_train_slider)\n",
    "\n",
    "y_val_pred = clf.predict(X_val_slider)\n",
    "print(f\"Accuracy: {accuracy_score(y_val_slider, y_val_pred)}\")\n",
    "\n",
    "precision = precision_score(y_val_slider, y_val_pred)\n",
    "recall = recall_score(y_val_slider, y_val_pred)\n",
    "print(f\"Precision: {precision}\")\n",
    "print(f\"Recall: {recall}\")"
   ]
  },
  {
   "cell_type": "code",
   "execution_count": 34,
   "id": "28e29879-b8d0-4f30-ab31-e778c7d1ef34",
   "metadata": {},
   "outputs": [
    {
     "name": "stdout",
     "output_type": "stream",
     "text": [
      "Accuracy: 0.7055961070559611\n",
      "Precision: 0.7323943661971831\n",
      "Recall: 0.7090909090909091\n"
     ]
    }
   ],
   "source": [
    "# Valves\n",
    "\n",
    "clf = LogisticRegression(max_iter=1000)\n",
    "clf.fit(X_train_valve, y_train_valve)\n",
    "\n",
    "y_val_pred = clf.predict(X_val_valve)\n",
    "print(f\"Accuracy: {accuracy_score(y_val_valve, y_val_pred)}\")\n",
    "\n",
    "precision = precision_score(y_val_valve, y_val_pred)\n",
    "recall = recall_score(y_val_valve, y_val_pred)\n",
    "print(f\"Precision: {precision}\")\n",
    "print(f\"Recall: {recall}\")"
   ]
  },
  {
   "cell_type": "markdown",
   "id": "eec4e501-b387-4b47-982a-ab1d9b017a33",
   "metadata": {},
   "source": [
    "## Model training (Binary) - baseline with features selected"
   ]
  },
  {
   "cell_type": "code",
   "execution_count": 35,
   "id": "5a944144-4f87-43ac-9dac-13ca82aa37e1",
   "metadata": {},
   "outputs": [
    {
     "name": "stdout",
     "output_type": "stream",
     "text": [
      "Accuracy: 0.7128953771289538\n",
      "Precision: 0.7361111111111112\n",
      "Recall: 0.7227272727272728\n"
     ]
    }
   ],
   "source": [
    "# Fans\n",
    "\n",
    "X_train_fan_vec = extract_features(X_train_fan, sample_rate=16000)\n",
    "X_val_fan_vec = extract_features(X_val_fan, sample_rate=16000)\n",
    "\n",
    "clf = LogisticRegression(max_iter=10000)\n",
    "clf.fit(X_train_fan_vec, y_train_fan)\n",
    "\n",
    "y_val_pred = clf.predict(X_val_fan_vec)\n",
    "print(f\"Accuracy: {accuracy_score(y_val_fan, y_val_pred)}\")\n",
    "\n",
    "precision = precision_score(y_val_fan, y_val_pred)\n",
    "recall = recall_score(y_val_fan, y_val_pred)\n",
    "print(f\"Precision: {precision}\")\n",
    "print(f\"Recall: {recall}\")"
   ]
  },
  {
   "cell_type": "code",
   "execution_count": 36,
   "id": "cb5559d8-edcd-4359-91f2-adca5f2db3d7",
   "metadata": {},
   "outputs": [
    {
     "name": "stdout",
     "output_type": "stream",
     "text": [
      "Accuracy: 0.7591240875912408\n",
      "Precision: 0.7737556561085973\n",
      "Recall: 0.7772727272727272\n"
     ]
    }
   ],
   "source": [
    "# Pumps\n",
    "\n",
    "X_train_pump_vec = extract_features(X_train_pump, sample_rate=16000)\n",
    "X_val_pump_vec = extract_features(X_val_pump, sample_rate=16000)\n",
    "\n",
    "clf = LogisticRegression(max_iter=10000)\n",
    "clf.fit(X_train_pump_vec, y_train_pump)\n",
    "\n",
    "y_val_pred = clf.predict(X_val_pump_vec)\n",
    "print(f\"Accuracy: {accuracy_score(y_val_pump, y_val_pred)}\")\n",
    "\n",
    "precision = precision_score(y_val_pump, y_val_pred)\n",
    "recall = recall_score(y_val_pump, y_val_pred)\n",
    "print(f\"Precision: {precision}\")\n",
    "print(f\"Recall: {recall}\")"
   ]
  },
  {
   "cell_type": "code",
   "execution_count": 37,
   "id": "b1466dfb-0cbe-4d1f-bdb3-1d98a28f888e",
   "metadata": {},
   "outputs": [
    {
     "name": "stdout",
     "output_type": "stream",
     "text": [
      "Accuracy: 0.8880778588807786\n",
      "Precision: 0.8849557522123894\n",
      "Recall: 0.9090909090909091\n"
     ]
    }
   ],
   "source": [
    "# Sliders\n",
    "\n",
    "X_train_slider_vec = extract_features(X_train_slider, sample_rate=16000)\n",
    "X_val_slider_vec = extract_features(X_val_slider, sample_rate=16000)\n",
    "\n",
    "clf = LogisticRegression(max_iter=10000)\n",
    "clf.fit(X_train_slider_vec, y_train_slider)\n",
    "\n",
    "y_val_pred = clf.predict(X_val_slider_vec)\n",
    "print(f\"Accuracy: {accuracy_score(y_val_slider, y_val_pred)}\")\n",
    "\n",
    "precision = precision_score(y_val_slider, y_val_pred)\n",
    "recall = recall_score(y_val_slider, y_val_pred)\n",
    "print(f\"Precision: {precision}\")\n",
    "print(f\"Recall: {recall}\")"
   ]
  },
  {
   "cell_type": "code",
   "execution_count": 38,
   "id": "079ff66a-056f-433e-afd2-afa6b5ec21ed",
   "metadata": {},
   "outputs": [
    {
     "name": "stdout",
     "output_type": "stream",
     "text": [
      "Accuracy: 0.6058394160583942\n",
      "Precision: 0.6435643564356436\n",
      "Recall: 0.5909090909090909\n"
     ]
    }
   ],
   "source": [
    "# Valves\n",
    "\n",
    "X_train_valve_vec = extract_features(X_train_valve, sample_rate=16000)\n",
    "X_val_valve_vec = extract_features(X_val_valve, sample_rate=16000)\n",
    "\n",
    "clf = LogisticRegression(max_iter=10000)\n",
    "clf.fit(X_train_valve_vec, y_train_valve)\n",
    "\n",
    "y_val_pred = clf.predict(X_val_valve_vec)\n",
    "print(f\"Accuracy: {accuracy_score(y_val_valve, y_val_pred)}\")\n",
    "\n",
    "precision = precision_score(y_val_valve, y_val_pred)\n",
    "recall = recall_score(y_val_valve, y_val_pred)\n",
    "print(f\"Precision: {precision}\")\n",
    "print(f\"Recall: {recall}\")"
   ]
  },
  {
   "cell_type": "markdown",
   "id": "5dc75a16-cf38-48e0-8b2c-3b2e90b2fe46",
   "metadata": {},
   "source": [
    "# Unbalanced - Raw Audio Vector (Binary) & w/ Feature vector"
   ]
  },
  {
   "cell_type": "markdown",
   "id": "f7343653-b781-41c3-9083-4c1675a3049e",
   "metadata": {},
   "source": [
    "### Fans"
   ]
  },
  {
   "cell_type": "code",
   "execution_count": 2,
   "id": "535dba6f-e940-40b8-ac57-863f832e2d48",
   "metadata": {},
   "outputs": [],
   "source": [
    "fans = glob('/Users/sayyedjilani/datasci210/*_fan/*/*/*.wav')"
   ]
  },
  {
   "cell_type": "code",
   "execution_count": 4,
   "id": "bc6955f8-59e1-4ad4-84f7-785c61240f33",
   "metadata": {},
   "outputs": [],
   "source": [
    "raw_data_list = [] \n",
    "sample_rate_list = []\n",
    "sound_source_list = [] \n",
    "snr_list = []\n",
    "binary_classification_list = [] \n",
    "wav_file_list = [] \n",
    "model_list = []\n",
    "\n",
    "for audio_file in fans:\n",
    "    split_string = str(audio_file).split('/')\n",
    "    sound_source = split_string[-4].split('_')[1]\n",
    "    snr = split_string[-4].split('_')[0]\n",
    "    binary_classification = split_string[-2]\n",
    "    wav_file = split_string[-1]\n",
    "    model = split_string[-3]\n",
    "    raw_data, sample_rate = librosa.load(audio_file, sr=None)\n",
    "    sound_source_list.append(sound_source)\n",
    "    snr_list.append(snr)\n",
    "    binary_classification_list.append(binary_classification)\n",
    "    wav_file_list.append(wav_file)\n",
    "    raw_data_list.append(raw_data)\n",
    "    sample_rate_list.append(sample_rate)\n",
    "    model_list.append(model)"
   ]
  },
  {
   "cell_type": "code",
   "execution_count": 5,
   "id": "910a9483-df1a-4f7b-9ba5-9e9fb66c7134",
   "metadata": {},
   "outputs": [],
   "source": [
    "fans = pd.DataFrame(columns=[\"Sound Source\", \"SNR\", \"Model\", \".wav File\", \"Sample Rate\", \"Raw Data\", \"Classification\"])\n",
    "\n",
    "fans[\"Sound Source\"] = sound_source_list\n",
    "fans[\"SNR\"] = snr_list\n",
    "fans[\"Classification\"] = binary_classification_list\n",
    "fans[\".wav File\"] = wav_file_list\n",
    "fans[\"Sample Rate\"] = sample_rate_list\n",
    "fans[\"Raw Data\"] = raw_data_list\n",
    "fans[\"Model\"] = model_list"
   ]
  },
  {
   "cell_type": "code",
   "execution_count": 6,
   "id": "594623ba-4984-4673-a040-08c66c64d4f1",
   "metadata": {},
   "outputs": [
    {
     "data": {
      "text/html": [
       "<div>\n",
       "<style scoped>\n",
       "    .dataframe tbody tr th:only-of-type {\n",
       "        vertical-align: middle;\n",
       "    }\n",
       "\n",
       "    .dataframe tbody tr th {\n",
       "        vertical-align: top;\n",
       "    }\n",
       "\n",
       "    .dataframe thead th {\n",
       "        text-align: right;\n",
       "    }\n",
       "</style>\n",
       "<table border=\"1\" class=\"dataframe\">\n",
       "  <thead>\n",
       "    <tr style=\"text-align: right;\">\n",
       "      <th></th>\n",
       "      <th>Sound Source</th>\n",
       "      <th>SNR</th>\n",
       "      <th>Model</th>\n",
       "      <th>.wav File</th>\n",
       "      <th>Sample Rate</th>\n",
       "      <th>Raw Data</th>\n",
       "      <th>Classification</th>\n",
       "    </tr>\n",
       "  </thead>\n",
       "  <tbody>\n",
       "    <tr>\n",
       "      <th>0</th>\n",
       "      <td>fan</td>\n",
       "      <td>-6dB</td>\n",
       "      <td>id_00</td>\n",
       "      <td>00000059.wav</td>\n",
       "      <td>16000</td>\n",
       "      <td>[-0.015693665, -0.016227722, -0.015602112, -0....</td>\n",
       "      <td>abnormal</td>\n",
       "    </tr>\n",
       "    <tr>\n",
       "      <th>1</th>\n",
       "      <td>fan</td>\n",
       "      <td>-6dB</td>\n",
       "      <td>id_00</td>\n",
       "      <td>00000071.wav</td>\n",
       "      <td>16000</td>\n",
       "      <td>[0.008773804, 0.007896423, 0.0039596558, 0.000...</td>\n",
       "      <td>abnormal</td>\n",
       "    </tr>\n",
       "    <tr>\n",
       "      <th>2</th>\n",
       "      <td>fan</td>\n",
       "      <td>-6dB</td>\n",
       "      <td>id_00</td>\n",
       "      <td>00000065.wav</td>\n",
       "      <td>16000</td>\n",
       "      <td>[-0.0024223328, -0.004142761, -0.003967285, -0...</td>\n",
       "      <td>abnormal</td>\n",
       "    </tr>\n",
       "    <tr>\n",
       "      <th>3</th>\n",
       "      <td>fan</td>\n",
       "      <td>-6dB</td>\n",
       "      <td>id_00</td>\n",
       "      <td>00000273.wav</td>\n",
       "      <td>16000</td>\n",
       "      <td>[0.01563263, 0.012084961, 0.0070114136, 0.0028...</td>\n",
       "      <td>abnormal</td>\n",
       "    </tr>\n",
       "    <tr>\n",
       "      <th>4</th>\n",
       "      <td>fan</td>\n",
       "      <td>-6dB</td>\n",
       "      <td>id_00</td>\n",
       "      <td>00000267.wav</td>\n",
       "      <td>16000</td>\n",
       "      <td>[0.0054855347, 0.0052452087, 0.0067481995, 0.0...</td>\n",
       "      <td>abnormal</td>\n",
       "    </tr>\n",
       "  </tbody>\n",
       "</table>\n",
       "</div>"
      ],
      "text/plain": [
       "  Sound Source   SNR  Model     .wav File  Sample Rate  \\\n",
       "0          fan  -6dB  id_00  00000059.wav        16000   \n",
       "1          fan  -6dB  id_00  00000071.wav        16000   \n",
       "2          fan  -6dB  id_00  00000065.wav        16000   \n",
       "3          fan  -6dB  id_00  00000273.wav        16000   \n",
       "4          fan  -6dB  id_00  00000267.wav        16000   \n",
       "\n",
       "                                            Raw Data Classification  \n",
       "0  [-0.015693665, -0.016227722, -0.015602112, -0....       abnormal  \n",
       "1  [0.008773804, 0.007896423, 0.0039596558, 0.000...       abnormal  \n",
       "2  [-0.0024223328, -0.004142761, -0.003967285, -0...       abnormal  \n",
       "3  [0.01563263, 0.012084961, 0.0070114136, 0.0028...       abnormal  \n",
       "4  [0.0054855347, 0.0052452087, 0.0067481995, 0.0...       abnormal  "
      ]
     },
     "execution_count": 6,
     "metadata": {},
     "output_type": "execute_result"
    }
   ],
   "source": [
    "fans.head()"
   ]
  },
  {
   "cell_type": "code",
   "execution_count": 7,
   "id": "11ff9f9e-d16f-4b06-9fcb-7929fbf6e1a6",
   "metadata": {},
   "outputs": [
    {
     "data": {
      "text/html": [
       "<div>\n",
       "<style scoped>\n",
       "    .dataframe tbody tr th:only-of-type {\n",
       "        vertical-align: middle;\n",
       "    }\n",
       "\n",
       "    .dataframe tbody tr th {\n",
       "        vertical-align: top;\n",
       "    }\n",
       "\n",
       "    .dataframe thead th {\n",
       "        text-align: right;\n",
       "    }\n",
       "</style>\n",
       "<table border=\"1\" class=\"dataframe\">\n",
       "  <thead>\n",
       "    <tr style=\"text-align: right;\">\n",
       "      <th></th>\n",
       "      <th>Sound Source</th>\n",
       "      <th>SNR</th>\n",
       "      <th>Model</th>\n",
       "      <th>.wav File</th>\n",
       "      <th>Sample Rate</th>\n",
       "      <th>Raw Data</th>\n",
       "      <th>Classification</th>\n",
       "    </tr>\n",
       "  </thead>\n",
       "  <tbody>\n",
       "    <tr>\n",
       "      <th>16645</th>\n",
       "      <td>fan</td>\n",
       "      <td>6dB</td>\n",
       "      <td>id_02</td>\n",
       "      <td>00000068.wav</td>\n",
       "      <td>16000</td>\n",
       "      <td>[0.0015830994, 0.0014762878, -0.0020256042, -0...</td>\n",
       "      <td>normal</td>\n",
       "    </tr>\n",
       "    <tr>\n",
       "      <th>16646</th>\n",
       "      <td>fan</td>\n",
       "      <td>6dB</td>\n",
       "      <td>id_02</td>\n",
       "      <td>00000040.wav</td>\n",
       "      <td>16000</td>\n",
       "      <td>[-0.0051727295, -0.006072998, -0.005962372, -0...</td>\n",
       "      <td>normal</td>\n",
       "    </tr>\n",
       "    <tr>\n",
       "      <th>16647</th>\n",
       "      <td>fan</td>\n",
       "      <td>6dB</td>\n",
       "      <td>id_02</td>\n",
       "      <td>00000726.wav</td>\n",
       "      <td>16000</td>\n",
       "      <td>[0.0035820007, 0.0037155151, 0.0031433105, 0.0...</td>\n",
       "      <td>normal</td>\n",
       "    </tr>\n",
       "    <tr>\n",
       "      <th>16648</th>\n",
       "      <td>fan</td>\n",
       "      <td>6dB</td>\n",
       "      <td>id_02</td>\n",
       "      <td>00000732.wav</td>\n",
       "      <td>16000</td>\n",
       "      <td>[0.008575439, 0.008556366, 0.0054855347, 0.003...</td>\n",
       "      <td>normal</td>\n",
       "    </tr>\n",
       "    <tr>\n",
       "      <th>16649</th>\n",
       "      <td>fan</td>\n",
       "      <td>6dB</td>\n",
       "      <td>id_02</td>\n",
       "      <td>00000054.wav</td>\n",
       "      <td>16000</td>\n",
       "      <td>[-0.0002708435, -0.004306793, -0.0043907166, -...</td>\n",
       "      <td>normal</td>\n",
       "    </tr>\n",
       "  </tbody>\n",
       "</table>\n",
       "</div>"
      ],
      "text/plain": [
       "      Sound Source  SNR  Model     .wav File  Sample Rate  \\\n",
       "16645          fan  6dB  id_02  00000068.wav        16000   \n",
       "16646          fan  6dB  id_02  00000040.wav        16000   \n",
       "16647          fan  6dB  id_02  00000726.wav        16000   \n",
       "16648          fan  6dB  id_02  00000732.wav        16000   \n",
       "16649          fan  6dB  id_02  00000054.wav        16000   \n",
       "\n",
       "                                                Raw Data Classification  \n",
       "16645  [0.0015830994, 0.0014762878, -0.0020256042, -0...         normal  \n",
       "16646  [-0.0051727295, -0.006072998, -0.005962372, -0...         normal  \n",
       "16647  [0.0035820007, 0.0037155151, 0.0031433105, 0.0...         normal  \n",
       "16648  [0.008575439, 0.008556366, 0.0054855347, 0.003...         normal  \n",
       "16649  [-0.0002708435, -0.004306793, -0.0043907166, -...         normal  "
      ]
     },
     "execution_count": 7,
     "metadata": {},
     "output_type": "execute_result"
    }
   ],
   "source": [
    "fans.tail()"
   ]
  },
  {
   "cell_type": "code",
   "execution_count": 8,
   "id": "e111b88d-cf9a-412a-955c-607337f3622f",
   "metadata": {},
   "outputs": [],
   "source": [
    "fans.loc[fans['Classification'] == 'normal', 'Classification'] = 0\n",
    "fans.loc[fans['Classification'] == 'abnormal', 'Classification'] = 1\n",
    "\n",
    "# Fans\n",
    "X_fan = []\n",
    "fan_labels = []\n",
    "\n",
    "for idx, row in fans.iterrows():\n",
    "    audio_vector = row['Raw Data']\n",
    "    label = row['Classification']\n",
    "    X_fan.append(audio_vector)\n",
    "    fan_labels.append(label)\n",
    "    \n",
    "X_fan = np.array(X_fan)\n",
    "fan_labels = np.array(fan_labels)"
   ]
  },
  {
   "cell_type": "code",
   "execution_count": 9,
   "id": "322f907c-930a-4d29-a972-89c4059a558e",
   "metadata": {},
   "outputs": [],
   "source": [
    "X_train_fan, X_temp, y_train_fan, y_temp = train_test_split(X_fan, fan_labels, test_size=0.3, random_state=42)\n",
    "X_test_fan, X_val_fan, y_test_fan, y_val_fan = train_test_split(X_temp, y_temp, test_size=0.5, random_state=42)"
   ]
  },
  {
   "cell_type": "code",
   "execution_count": 10,
   "id": "60d13fa8-75d7-40c6-9018-b2ae2094920f",
   "metadata": {},
   "outputs": [
    {
     "name": "stdout",
     "output_type": "stream",
     "text": [
      "Accuracy: 0.7994395516413131\n",
      "Precision: 0.7597597597597597\n",
      "Recall: 0.37537091988130566\n"
     ]
    }
   ],
   "source": [
    "# Fans\n",
    "\n",
    "clf = LogisticRegression(max_iter=1000)\n",
    "clf.fit(X_train_fan, y_train_fan)\n",
    "\n",
    "y_val_pred = clf.predict(X_val_fan)\n",
    "print(f\"Accuracy: {accuracy_score(y_val_fan, y_val_pred)}\")\n",
    "\n",
    "precision = precision_score(y_val_fan, y_val_pred)\n",
    "recall = recall_score(y_val_fan, y_val_pred)\n",
    "print(f\"Precision: {precision}\")\n",
    "print(f\"Recall: {recall}\")"
   ]
  },
  {
   "cell_type": "code",
   "execution_count": 13,
   "id": "4ada41da-ed3d-4d57-881f-707a66cc6635",
   "metadata": {},
   "outputs": [
    {
     "name": "stdout",
     "output_type": "stream",
     "text": [
      "Accuracy: 0.7846277021617294\n",
      "Precision: 0.7\n",
      "Recall: 0.35311572700296734\n"
     ]
    }
   ],
   "source": [
    "X_train_fan_vec = extract_features(X_train_fan, sample_rate=16000)\n",
    "X_val_fan_vec = extract_features(X_val_fan, sample_rate=16000)\n",
    "\n",
    "clf = LogisticRegression(max_iter=10000)\n",
    "clf.fit(X_train_fan_vec, y_train_fan)\n",
    "\n",
    "y_val_pred = clf.predict(X_val_fan_vec)\n",
    "print(f\"Accuracy: {accuracy_score(y_val_fan, y_val_pred)}\")\n",
    "\n",
    "precision = precision_score(y_val_fan, y_val_pred)\n",
    "recall = recall_score(y_val_fan, y_val_pred)\n",
    "print(f\"Precision: {precision}\")\n",
    "print(f\"Recall: {recall}\")"
   ]
  },
  {
   "cell_type": "markdown",
   "id": "352a2e1a-ad59-4e6f-9b19-3804b5829fc7",
   "metadata": {},
   "source": [
    "## Pumps"
   ]
  },
  {
   "cell_type": "code",
   "execution_count": 14,
   "id": "f61429c3-8d7c-4532-9ee5-3a0eded8ef53",
   "metadata": {},
   "outputs": [],
   "source": [
    "pumps = glob('/Users/sayyedjilani/datasci210/*_pump/*/*/*.wav')\n",
    "\n",
    "raw_data_list = [] \n",
    "sample_rate_list = []\n",
    "sound_source_list = [] \n",
    "snr_list = []\n",
    "binary_classification_list = [] \n",
    "wav_file_list = [] \n",
    "model_list = []\n",
    "\n",
    "for audio_file in pumps:\n",
    "    split_string = str(audio_file).split('/')\n",
    "    sound_source = split_string[-4].split('_')[1]\n",
    "    snr = split_string[-4].split('_')[0]\n",
    "    binary_classification = split_string[-2]\n",
    "    wav_file = split_string[-1]\n",
    "    model = split_string[-3]\n",
    "    raw_data, sample_rate = librosa.load(audio_file, sr=None)\n",
    "    sound_source_list.append(sound_source)\n",
    "    snr_list.append(snr)\n",
    "    binary_classification_list.append(binary_classification)\n",
    "    wav_file_list.append(wav_file)\n",
    "    raw_data_list.append(raw_data)\n",
    "    sample_rate_list.append(sample_rate)\n",
    "    model_list.append(model)\n",
    "\n",
    "\n",
    "pumps = pd.DataFrame(columns=[\"Sound Source\", \"SNR\", \"Model\", \".wav File\", \"Sample Rate\", \"Raw Data\", \"Classification\"])\n",
    "\n",
    "pumps[\"Sound Source\"] = sound_source_list\n",
    "pumps[\"SNR\"] = snr_list\n",
    "pumps[\"Classification\"] = binary_classification_list\n",
    "pumps[\".wav File\"] = wav_file_list\n",
    "pumps[\"Sample Rate\"] = sample_rate_list\n",
    "pumps[\"Raw Data\"] = raw_data_list\n",
    "pumps[\"Model\"] = model_list"
   ]
  },
  {
   "cell_type": "code",
   "execution_count": 15,
   "id": "6aadad00-9002-40ce-a68d-426d5879dc7a",
   "metadata": {},
   "outputs": [],
   "source": [
    "pumps.loc[pumps['Classification'] == 'normal', 'Classification'] = 0\n",
    "pumps.loc[pumps['Classification'] == 'abnormal', 'Classification'] = 1\n",
    "\n",
    "# Fans\n",
    "X_pump = []\n",
    "pump_labels = []\n",
    "\n",
    "for idx, row in pumps.iterrows():\n",
    "    audio_vector = row['Raw Data']\n",
    "    label = row['Classification']\n",
    "    X_pump.append(audio_vector)\n",
    "    pump_labels.append(label)\n",
    "    \n",
    "X_pump = np.array(X_pump)\n",
    "pump_labels = np.array(pump_labels)"
   ]
  },
  {
   "cell_type": "code",
   "execution_count": 16,
   "id": "49e94b64-fd06-40da-98b0-f53065188c9f",
   "metadata": {},
   "outputs": [],
   "source": [
    "X_train_pump, X_temp, y_train_pump, y_temp = train_test_split(X_pump, pump_labels, test_size=0.3, random_state=42)\n",
    "X_test_pump, X_val_pump, y_test_pump, y_val_pump = train_test_split(X_temp, y_temp, test_size=0.5, random_state=42)"
   ]
  },
  {
   "cell_type": "code",
   "execution_count": 17,
   "id": "83619028-e797-47de-9252-ad9456e637b2",
   "metadata": {},
   "outputs": [
    {
     "name": "stdout",
     "output_type": "stream",
     "text": [
      "Accuracy: 0.9160063391442155\n",
      "Precision: 1.0\n",
      "Recall: 0.29646017699115046\n"
     ]
    }
   ],
   "source": [
    "# Pumps\n",
    "\n",
    "clf = LogisticRegression(max_iter=1000)\n",
    "clf.fit(X_train_pump, y_train_pump)\n",
    "\n",
    "y_val_pred = clf.predict(X_val_pump)\n",
    "print(f\"Accuracy: {accuracy_score(y_val_pump, y_val_pred)}\")\n",
    "\n",
    "precision = precision_score(y_val_pump, y_val_pred)\n",
    "recall = recall_score(y_val_pump, y_val_pred)\n",
    "print(f\"Precision: {precision}\")\n",
    "print(f\"Recall: {recall}\")"
   ]
  },
  {
   "cell_type": "code",
   "execution_count": 18,
   "id": "d3fd12ae-b877-4e61-84db-62c27872df2d",
   "metadata": {},
   "outputs": [
    {
     "name": "stdout",
     "output_type": "stream",
     "text": [
      "Accuracy: 0.9170628631801373\n",
      "Precision: 0.8415841584158416\n",
      "Recall: 0.37610619469026546\n"
     ]
    }
   ],
   "source": [
    "X_train_pump_vec = extract_features(X_train_pump, sample_rate=16000)\n",
    "X_val_pump_vec = extract_features(X_val_pump, sample_rate=16000)\n",
    "\n",
    "clf = LogisticRegression(max_iter=10000)\n",
    "clf.fit(X_train_pump_vec, y_train_pump)\n",
    "\n",
    "y_val_pred = clf.predict(X_val_pump_vec)\n",
    "print(f\"Accuracy: {accuracy_score(y_val_pump, y_val_pred)}\")\n",
    "\n",
    "precision = precision_score(y_val_pump, y_val_pred)\n",
    "recall = recall_score(y_val_pump, y_val_pred)\n",
    "print(f\"Precision: {precision}\")\n",
    "print(f\"Recall: {recall}\")"
   ]
  },
  {
   "cell_type": "markdown",
   "id": "5b9f5b22-9f57-47d2-b4bc-bdcb1e5c8b79",
   "metadata": {},
   "source": [
    "## Slider"
   ]
  },
  {
   "cell_type": "code",
   "execution_count": 3,
   "id": "ebaec9b9-027d-448f-a20d-933091cdfe3b",
   "metadata": {},
   "outputs": [],
   "source": [
    "sliders = glob('/Users/sayyedjilani/datasci210/*_slider/*/*/*.wav')\n",
    "\n",
    "raw_data_list = [] \n",
    "sample_rate_list = []\n",
    "sound_source_list = [] \n",
    "snr_list = []\n",
    "binary_classification_list = [] \n",
    "wav_file_list = [] \n",
    "model_list = []\n",
    "\n",
    "for audio_file in sliders:\n",
    "    split_string = str(audio_file).split('/')\n",
    "    sound_source = split_string[-4].split('_')[1]\n",
    "    snr = split_string[-4].split('_')[0]\n",
    "    binary_classification = split_string[-2]\n",
    "    wav_file = split_string[-1]\n",
    "    model = split_string[-3]\n",
    "    raw_data, sample_rate = librosa.load(audio_file, sr=None)\n",
    "    sound_source_list.append(sound_source)\n",
    "    snr_list.append(snr)\n",
    "    binary_classification_list.append(binary_classification)\n",
    "    wav_file_list.append(wav_file)\n",
    "    raw_data_list.append(raw_data)\n",
    "    sample_rate_list.append(sample_rate)\n",
    "    model_list.append(model)\n",
    "\n",
    "\n",
    "sliders = pd.DataFrame(columns=[\"Sound Source\", \"SNR\", \"Model\", \".wav File\", \"Sample Rate\", \"Raw Data\", \"Classification\"])\n",
    "\n",
    "sliders[\"Sound Source\"] = sound_source_list\n",
    "sliders[\"SNR\"] = snr_list\n",
    "sliders[\"Classification\"] = binary_classification_list\n",
    "sliders[\".wav File\"] = wav_file_list\n",
    "sliders[\"Sample Rate\"] = sample_rate_list\n",
    "sliders[\"Raw Data\"] = raw_data_list\n",
    "sliders[\"Model\"] = model_list"
   ]
  },
  {
   "cell_type": "code",
   "execution_count": 6,
   "id": "3f710506-c840-4ebc-a661-5819d5493650",
   "metadata": {},
   "outputs": [],
   "source": [
    "sliders.loc[sliders['Classification'] == 'normal', 'Classification'] = 0\n",
    "sliders.loc[sliders['Classification'] == 'abnormal', 'Classification'] = 1\n",
    "\n",
    "# sliders\n",
    "X_slider = []\n",
    "slider_labels = []\n",
    "\n",
    "for idx, row in sliders.iterrows():\n",
    "    audio_vector = row['Raw Data']\n",
    "    label = row['Classification']\n",
    "    X_slider.append(audio_vector)\n",
    "    slider_labels.append(label)\n",
    "    \n",
    "X_slider = np.array(X_slider)\n",
    "slider_labels = np.array(slider_labels)"
   ]
  },
  {
   "cell_type": "code",
   "execution_count": 7,
   "id": "f3cf4443-bcb7-4d7a-9db2-fe43bfb2a879",
   "metadata": {},
   "outputs": [],
   "source": [
    "X_train_slider, X_temp, y_train_slider, y_temp = train_test_split(X_slider, slider_labels, test_size=0.3, random_state=42)\n",
    "X_test_slider, X_val_slider, y_test_slider, y_val_slider = train_test_split(X_temp, y_temp, test_size=0.5, random_state=42)"
   ]
  },
  {
   "cell_type": "code",
   "execution_count": 8,
   "id": "c64911cc-029d-4b54-9c3e-388645d50fc6",
   "metadata": {},
   "outputs": [
    {
     "name": "stdout",
     "output_type": "stream",
     "text": [
      "Accuracy: 0.8247422680412371\n",
      "Precision: 0.875\n",
      "Recall: 0.2542372881355932\n"
     ]
    }
   ],
   "source": [
    "# Slider\n",
    "\n",
    "clf = LogisticRegression(max_iter=1000)\n",
    "clf.fit(X_train_slider, y_train_slider)\n",
    "\n",
    "y_val_pred = clf.predict(X_val_slider)\n",
    "print(f\"Accuracy: {accuracy_score(y_val_slider, y_val_pred)}\")\n",
    "\n",
    "precision = precision_score(y_val_slider, y_val_pred)\n",
    "recall = recall_score(y_val_slider, y_val_pred)\n",
    "print(f\"Precision: {precision}\")\n",
    "print(f\"Recall: {recall}\")"
   ]
  },
  {
   "cell_type": "code",
   "execution_count": 9,
   "id": "814066f7-3498-461e-b1fe-89c9bb92bd38",
   "metadata": {},
   "outputs": [
    {
     "name": "stdout",
     "output_type": "stream",
     "text": [
      "Accuracy: 0.9267498643516007\n",
      "Precision: 0.9064327485380117\n",
      "Recall: 0.7506053268765133\n"
     ]
    }
   ],
   "source": [
    "X_train_slider_vec = extract_features(X_train_slider, sample_rate=16000)\n",
    "X_val_slider_vec = extract_features(X_val_slider, sample_rate=16000)\n",
    "\n",
    "clf = LogisticRegression(max_iter=10000)\n",
    "clf.fit(X_train_slider_vec, y_train_slider)\n",
    "\n",
    "y_val_pred = clf.predict(X_val_slider_vec)\n",
    "print(f\"Accuracy: {accuracy_score(y_val_slider, y_val_pred)}\")\n",
    "\n",
    "precision = precision_score(y_val_slider, y_val_pred)\n",
    "recall = recall_score(y_val_slider, y_val_pred)\n",
    "print(f\"Precision: {precision}\")\n",
    "print(f\"Recall: {recall}\")"
   ]
  },
  {
   "cell_type": "markdown",
   "id": "28d92b9d-27ee-4d5f-8dcb-8084303ed199",
   "metadata": {},
   "source": [
    "## Valve"
   ]
  },
  {
   "cell_type": "code",
   "execution_count": 10,
   "id": "76e81947-742a-4fe6-b909-15b7fe9dc22d",
   "metadata": {},
   "outputs": [],
   "source": [
    "valves = glob('/Users/sayyedjilani/datasci210/*_valve/*/*/*.wav')\n",
    "\n",
    "raw_data_list = [] \n",
    "sample_rate_list = []\n",
    "sound_source_list = [] \n",
    "snr_list = []\n",
    "binary_classification_list = [] \n",
    "wav_file_list = [] \n",
    "model_list = []\n",
    "\n",
    "for audio_file in valves:\n",
    "    split_string = str(audio_file).split('/')\n",
    "    sound_source = split_string[-4].split('_')[1]\n",
    "    snr = split_string[-4].split('_')[0]\n",
    "    binary_classification = split_string[-2]\n",
    "    wav_file = split_string[-1]\n",
    "    model = split_string[-3]\n",
    "    raw_data, sample_rate = librosa.load(audio_file, sr=None)\n",
    "    sound_source_list.append(sound_source)\n",
    "    snr_list.append(snr)\n",
    "    binary_classification_list.append(binary_classification)\n",
    "    wav_file_list.append(wav_file)\n",
    "    raw_data_list.append(raw_data)\n",
    "    sample_rate_list.append(sample_rate)\n",
    "    model_list.append(model)\n",
    "\n",
    "\n",
    "valves = pd.DataFrame(columns=[\"Sound Source\", \"SNR\", \"Model\", \".wav File\", \"Sample Rate\", \"Raw Data\", \"Classification\"])\n",
    "\n",
    "valves[\"Sound Source\"] = sound_source_list\n",
    "valves[\"SNR\"] = snr_list\n",
    "valves[\"Classification\"] = binary_classification_list\n",
    "valves[\".wav File\"] = wav_file_list\n",
    "valves[\"Sample Rate\"] = sample_rate_list\n",
    "valves[\"Raw Data\"] = raw_data_list\n",
    "valves[\"Model\"] = model_list"
   ]
  },
  {
   "cell_type": "code",
   "execution_count": 11,
   "id": "d2d42dec-5b25-4b39-a783-1d89869354cb",
   "metadata": {},
   "outputs": [],
   "source": [
    "valves.loc[valves['Classification'] == 'normal', 'Classification'] = 0\n",
    "valves.loc[valves['Classification'] == 'abnormal', 'Classification'] = 1\n",
    "\n",
    "# valves\n",
    "X_valve = []\n",
    "valve_labels = []\n",
    "\n",
    "for idx, row in valves.iterrows():\n",
    "    audio_vector = row['Raw Data']\n",
    "    label = row['Classification']\n",
    "    X_valve.append(audio_vector)\n",
    "    valve_labels.append(label)\n",
    "    \n",
    "X_valve = np.array(X_valve)\n",
    "valve_labels = np.array(valve_labels)"
   ]
  },
  {
   "cell_type": "code",
   "execution_count": 13,
   "id": "b72940a6-6ba2-46ad-aa03-b65b386a6fb5",
   "metadata": {},
   "outputs": [],
   "source": [
    "X_train_valve, X_temp, y_train_valve, y_temp = train_test_split(X_valve, valve_labels, test_size=0.3, random_state=42)\n",
    "X_test_valve, X_val_valve, y_test_valve, y_val_valve = train_test_split(X_temp, y_temp, test_size=0.5, random_state=42)"
   ]
  },
  {
   "cell_type": "code",
   "execution_count": 14,
   "id": "98bf2aeb-b461-4787-b2f9-a786aaca035f",
   "metadata": {},
   "outputs": [
    {
     "name": "stdout",
     "output_type": "stream",
     "text": [
      "Accuracy: 0.8907831646244007\n",
      "Precision: 0.3333333333333333\n",
      "Recall: 0.01485148514851485\n"
     ]
    }
   ],
   "source": [
    "# Valve\n",
    "clf = LogisticRegression(max_iter=1000)\n",
    "clf.fit(X_train_valve, y_train_valve)\n",
    "\n",
    "y_val_pred = clf.predict(X_val_valve)\n",
    "print(f\"Accuracy: {accuracy_score(y_val_valve, y_val_pred)}\")\n",
    "\n",
    "precision = precision_score(y_val_valve, y_val_pred)\n",
    "recall = recall_score(y_val_valve, y_val_pred)\n",
    "print(f\"Precision: {precision}\")\n",
    "print(f\"Recall: {recall}\")"
   ]
  },
  {
   "cell_type": "code",
   "execution_count": 15,
   "id": "98f9f2db-e730-4c13-a9ba-40a6e8e45421",
   "metadata": {},
   "outputs": [
    {
     "name": "stdout",
     "output_type": "stream",
     "text": [
      "Accuracy: 0.8902503995737879\n",
      "Precision: 0.0\n",
      "Recall: 0.0\n"
     ]
    }
   ],
   "source": [
    "X_train_valve_vec = extract_features(X_train_valve, sample_rate=16000)\n",
    "X_val_valve_vec = extract_features(X_val_valve, sample_rate=16000)\n",
    "\n",
    "clf = LogisticRegression(max_iter=10000)\n",
    "clf.fit(X_train_valve_vec, y_train_valve)\n",
    "\n",
    "y_val_pred = clf.predict(X_val_valve_vec)\n",
    "print(f\"Accuracy: {accuracy_score(y_val_valve, y_val_pred)}\")\n",
    "\n",
    "precision = precision_score(y_val_valve, y_val_pred)\n",
    "recall = recall_score(y_val_valve, y_val_pred)\n",
    "print(f\"Precision: {precision}\")\n",
    "print(f\"Recall: {recall}\")"
   ]
  },
  {
   "cell_type": "code",
   "execution_count": null,
   "id": "823eab20-a854-4779-a0c0-a70c2485cc00",
   "metadata": {},
   "outputs": [],
   "source": []
  }
 ],
 "metadata": {
  "kernelspec": {
   "display_name": "keyword-spotting-sAmOcFYZ-py3.10",
   "language": "python",
   "name": "python3"
  },
  "language_info": {
   "codemirror_mode": {
    "name": "ipython",
    "version": 3
   },
   "file_extension": ".py",
   "mimetype": "text/x-python",
   "name": "python",
   "nbconvert_exporter": "python",
   "pygments_lexer": "ipython3",
   "version": "3.10.1 (v3.10.1:2cd268a3a9, Dec  6 2021, 14:28:59) [Clang 13.0.0 (clang-1300.0.29.3)]"
  },
  "vscode": {
   "interpreter": {
    "hash": "b7dc3670f032e27d098f92b49a682037b5073a6296046954dc126e384951f05c"
   }
  }
 },
 "nbformat": 4,
 "nbformat_minor": 5
}
