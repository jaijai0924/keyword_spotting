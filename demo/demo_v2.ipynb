{
 "cells": [
  {
   "cell_type": "code",
   "execution_count": 58,
   "id": "eaf05990-5de1-4b42-b91c-53ea4f1eca85",
   "metadata": {},
   "outputs": [],
   "source": [
    "import smtplib\n",
    "import sys\n",
    "\n",
    "from ultralytics import YOLO\n",
    "import numpy as np\n",
    "import os\n",
    "import matplotlib as mpl\n",
    "from matplotlib import pyplot as plt\n",
    "import librosa\n",
    "from PIL import Image\n",
    "import io\n",
    "import cv2\n",
    "from IPython.display import display\n",
    "import time\n",
    "from glob import glob\n",
    "import random\n",
    "import datetime\n",
    "import smtplib\n",
    "from email.message import EmailMessage\n"
   ]
  },
  {
   "cell_type": "code",
   "execution_count": 79,
   "id": "92bbf847-5940-47d2-9893-0bf56ef7a503",
   "metadata": {},
   "outputs": [],
   "source": [
    "appKey = \"dsla fups yjdh qlyf\"\n",
    " \n",
    "\n",
    "def send_message(senderEmail, phone_number, carrier, message):\n",
    "    \n",
    "    CARRIERS = {\n",
    "        \"att\": \"@mms.att.net\",\n",
    "        \"tmobile\": \"@tmomail.net\",\n",
    "        \"verizon\": \"@vtext.com\",\n",
    "        \"sprint\": \"@messaging.sprintpcs.com\"\n",
    "    }\n",
    "    \n",
    "    if carrier not in CARRIERS:\n",
    "        raise ValueError(\"Carrier not supported\")\n",
    "\n",
    "    msg = EmailMessage()\n",
    "    msg.set_content(message)\n",
    "    \n",
    "    recipient = phone_number + CARRIERS[carrier]\n",
    "\n",
    "    msg['From'] = senderEmail\n",
    "    msg['To'] = recipient\n",
    "    msg['Subject'] = ' '\n",
    "    \n",
    "    server = smtplib.SMTP('smtp.gmail.com', 587)\n",
    "    server.starttls()\n",
    "\n",
    "    server.login(senderEmail, appKey)\n",
    "    server.send_message(msg)\n",
    "    server.quit()\n",
    "     "
   ]
  },
  {
   "cell_type": "code",
   "execution_count": 3,
   "id": "ef64edff-1eba-40ba-920a-a09f3c41bb61",
   "metadata": {},
   "outputs": [],
   "source": [
    "# load trained models\n",
    "fan_model = YOLO('/Users/sayyedjilani/datasci210/full_models/runs/classify/train/weights/last.pt')\n",
    "pump_model = YOLO('/Users/sayyedjilani/datasci210/full_models/runs/classify/train2/weights/last.pt')\n",
    "slider_model = YOLO('/Users/sayyedjilani/datasci210/full_models/runs/classify/train3/weights/last.pt')\n",
    "valve_model = YOLO('/Users/sayyedjilani/datasci210/full_models/runs/classify/train4/weights/last.pt')"
   ]
  },
  {
   "cell_type": "code",
   "execution_count": 4,
   "id": "fb66e445-a24e-458d-a0b9-a38160a7ea8d",
   "metadata": {},
   "outputs": [],
   "source": [
    "def predict_from_audio(audio_path, model):\n",
    "    \n",
    "    # Load the .wav file\n",
    "    audio_vector, sr = librosa.load(audio_path, sr=None)\n",
    "    \n",
    "    # Set the figure size and DPI to get a 224x224 image\n",
    "    fig_size = 224 / 100  # inches (224 pixels / 100 DPI)\n",
    "    dpi = 100  # Dots per inch\n",
    "\n",
    "    # Plot and save Mel spectrogram as an image\n",
    "    fig, ax = plt.subplots(figsize=(fig_size, fig_size), dpi=dpi)\n",
    "    ax.set_axis_off()\n",
    "    fig.subplots_adjust(left=0, right=1, top=1, bottom=0)  # Remove padding\n",
    "    \n",
    "    sgram = librosa.stft(audio_vector)  # Extract short time fourier transform\n",
    "    sgram_mag, _ = librosa.magphase(sgram)\n",
    "    mel_scale_sgram = librosa.feature.melspectrogram(S=sgram_mag, sr=sr)\n",
    "    mel_sgram = librosa.amplitude_to_db(mel_scale_sgram, ref=np.min)  # Decibel scale\n",
    "    \n",
    "    librosa.display.specshow(mel_sgram, sr=sr, ax=ax)\n",
    "\n",
    "    buf = io.BytesIO()\n",
    "    plt.savefig(buf, format='png', bbox_inches='tight', pad_inches=0)\n",
    "    plt.close()\n",
    "\n",
    "    # Collect Mel from memory buffer\n",
    "    buf.seek(0)\n",
    "    mel_sgram_image = Image.open(buf).convert('RGB')\n",
    "\n",
    "    \n",
    "    # Make prediction on Mel\n",
    "    pred = model(mel_sgram_image,verbose=False)\n",
    "    pred_class = np.argmax(pred[0].probs.data.numpy())  \n",
    "\n",
    "    \n",
    "    # Output string values for the classification\n",
    "    if pred_class == 0:\n",
    "        pred_class = 'abnormal'\n",
    "    else:\n",
    "        pred_class = 'normal'\n",
    "    \n",
    "    return pred_class\n",
    "\n"
   ]
  },
  {
   "cell_type": "code",
   "execution_count": 84,
   "id": "1b59e20c-8f81-4014-b8f9-b217432ed79a",
   "metadata": {},
   "outputs": [],
   "source": [
    "# fan audio stream\n",
    "fans = glob('/Users/sayyedjilani/datasci210/*_fan/*/normal/*.wav')\n",
    "random.shuffle(fans)\n",
    "fans = fans[:10]\n",
    "\n",
    "# Get the list of abnormal fan audio files and shuffle it\n",
    "fans_ab = glob('/Users/sayyedjilani/datasci210/*_fan/*/abnormal/*.wav')\n",
    "random.shuffle(fans_ab)\n",
    "fans_ab = fans_ab[:3]\n",
    "\n",
    "fans.extend(fans_ab)\n",
    "random.shuffle(fans)\n"
   ]
  },
  {
   "cell_type": "code",
   "execution_count": 86,
   "id": "040665f1-f82a-471f-b2ab-0641fd9f9e22",
   "metadata": {},
   "outputs": [
    {
     "data": {
      "text/plain": [
       "['/Users/sayyedjilani/datasci210/6dB_fan/id_02/abnormal/00000007.wav',\n",
       " '/Users/sayyedjilani/datasci210/-6dB_fan/id_04/normal/00000489.wav',\n",
       " '/Users/sayyedjilani/datasci210/6dB_fan/id_00/normal/00000228.wav',\n",
       " '/Users/sayyedjilani/datasci210/6dB_fan/id_06/normal/00000222.wav',\n",
       " '/Users/sayyedjilani/datasci210/0dB_fan/id_02/abnormal/00000068.wav',\n",
       " '/Users/sayyedjilani/datasci210/-6dB_fan/id_04/normal/00000031.wav',\n",
       " '/Users/sayyedjilani/datasci210/6dB_fan/id_02/normal/00000232.wav',\n",
       " '/Users/sayyedjilani/datasci210/6dB_fan/id_00/normal/00000930.wav',\n",
       " '/Users/sayyedjilani/datasci210/0dB_fan/id_06/normal/00000273.wav',\n",
       " '/Users/sayyedjilani/datasci210/6dB_fan/id_06/normal/00000755.wav',\n",
       " '/Users/sayyedjilani/datasci210/0dB_fan/id_06/normal/00000156.wav',\n",
       " '/Users/sayyedjilani/datasci210/0dB_fan/id_04/abnormal/00000338.wav',\n",
       " '/Users/sayyedjilani/datasci210/0dB_fan/id_00/normal/00000860.wav']"
      ]
     },
     "execution_count": 86,
     "metadata": {},
     "output_type": "execute_result"
    }
   ],
   "source": [
    "fans"
   ]
  },
  {
   "cell_type": "code",
   "execution_count": 85,
   "id": "c4ae38ec-eeca-47b6-adcf-14bb57f7f6c5",
   "metadata": {},
   "outputs": [],
   "source": [
    "# fan audio stream\n",
    "fans = glob('/Users/sayyedjilani/datasci210/*_fan/*/normal/*.wav')\n",
    "random.shuffle(fans)\n",
    "fans = fans[:10]\n",
    "\n",
    "# Get the list of abnormal fan audio files and shuffle it\n",
    "fans_ab = glob('/Users/sayyedjilani/datasci210/*_fan/*/abnormal/*.wav')\n",
    "random.shuffle(fans_ab)\n",
    "fans_ab = fans_ab[:3]\n",
    "\n",
    "fans.extend(fans_ab)\n",
    "random.shuffle(fans)\n",
    "\n",
    "\n",
    "for fan_audio in fans:\n",
    "    \n",
    "    pred = predict_from_audio(fan_audio, fan_model)\n",
    "\n",
    "    id = fan_audio.split('/')[-3]\n",
    "    audio = fan_audio.split('/')[-1]\n",
    "\n",
    "    message = f\"\"\"POTENTIAL MECHANICAL FAILURE:\n",
    "    Machine: FAN\n",
    "    ID: {id}\n",
    "    FILE NAME: {audio}\n",
    "    WHEN: {datetime.datetime.now()}\n",
    "    \n",
    "    \"\"\"\n",
    "\n",
    "    if pred == 'abnormal':\n",
    "        send_message('sjilani07@gmail.com','7328615493', 'att', message = message)\n",
    "        \n",
    "    time.sleep(10)\n",
    "        "
   ]
  },
  {
   "cell_type": "code",
   "execution_count": null,
   "id": "7bc49f75-920f-4691-9836-2b8104ea835b",
   "metadata": {},
   "outputs": [],
   "source": []
  }
 ],
 "metadata": {
  "kernelspec": {
   "display_name": "keyword-spotting-sAmOcFYZ-py3.10",
   "language": "python",
   "name": "python3"
  },
  "language_info": {
   "codemirror_mode": {
    "name": "ipython",
    "version": 3
   },
   "file_extension": ".py",
   "mimetype": "text/x-python",
   "name": "python",
   "nbconvert_exporter": "python",
   "pygments_lexer": "ipython3",
   "version": "3.10.1 (v3.10.1:2cd268a3a9, Dec  6 2021, 14:28:59) [Clang 13.0.0 (clang-1300.0.29.3)]"
  },
  "vscode": {
   "interpreter": {
    "hash": "b7dc3670f032e27d098f92b49a682037b5073a6296046954dc126e384951f05c"
   }
  }
 },
 "nbformat": 4,
 "nbformat_minor": 5
}
