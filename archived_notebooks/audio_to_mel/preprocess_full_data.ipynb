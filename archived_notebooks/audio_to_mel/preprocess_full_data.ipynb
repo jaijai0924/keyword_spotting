{
 "cells": [
  {
   "cell_type": "code",
   "execution_count": 1,
   "id": "1154b9ee-a4fc-4791-b5f9-e836180038ff",
   "metadata": {},
   "outputs": [],
   "source": [
    "# Import Libraries\n",
    "import os\n",
    "import pandas as pd\n",
    "import numpy as np\n",
    "import librosa\n",
    "\n",
    "import matplotlib as mpl\n",
    "from matplotlib import pyplot as plt\n",
    "import seaborn as sns\n",
    "sns.set(style=\"darkgrid\")\n",
    "\n",
    "from IPython.display import Image\n",
    "\n",
    "from sklearn.model_selection import train_test_split, GridSearchCV, RandomizedSearchCV\n",
    "from sklearn.linear_model import LogisticRegression\n",
    "from sklearn.preprocessing import LabelEncoder\n",
    "from sklearn.metrics import accuracy_score, precision_score, recall_score\n",
    "from glob import glob\n"
   ]
  },
  {
   "cell_type": "code",
   "execution_count": null,
   "id": "1102ef88-1180-41c0-9dc1-3b7bad48b62e",
   "metadata": {},
   "outputs": [],
   "source": [
    "# Helper Functions"
   ]
  },
  {
   "cell_type": "code",
   "execution_count": 35,
   "id": "e37efb56-4e6d-4938-acf7-d41743dba9ab",
   "metadata": {},
   "outputs": [],
   "source": [
    "def create_directories(sound_source, categories):\n",
    "    for sound_source in sound_sources:\n",
    "        for category in categories:\n",
    "            os.makedirs(os.path.join('full_dataset',sound_source+'_data', 'train', category), exist_ok=True)\n",
    "            os.makedirs(os.path.join('full_dataset',sound_source+'_data', 'val', category), exist_ok=True)\n",
    "            os.makedirs(os.path.join('full_dataset',sound_source+'_data', 'test', category), exist_ok=True)\n",
    "            \n",
    "\n",
    "\n",
    "sound_sources = ['fan', 'pump', 'slider', 'valve']\n",
    "classifications = ['normal', 'abnormal']\n",
    "\n",
    "for sound_source in sound_sources:\n",
    "    for classification in classifications:\n",
    "        create_directories(sound_sources, classifications)\n"
   ]
  },
  {
   "cell_type": "code",
   "execution_count": 32,
   "id": "b710390c-17f2-40ff-a4c5-7d2fcf63b240",
   "metadata": {},
   "outputs": [],
   "source": [
    "def save_mel_spectrogram(audio_vector, sr, save_path):\n",
    "    # Set the figure size and DPI to get a 224x224 image\n",
    "    fig_size = 224 / 100  # inches (224 pixels / 100 DPI)\n",
    "    dpi = 100  # Dots per inch\n",
    "\n",
    "    # Plot and save Mel spectrogram as an image\n",
    "    fig, ax = plt.subplots(figsize=(fig_size, fig_size), dpi=dpi)\n",
    "    ax.set_axis_off()\n",
    "    fig.subplots_adjust(left=0, right=1, top=1, bottom=0)  # Remove padding\n",
    "    \n",
    "    sgram = librosa.stft(audio_vector)  # extract short time fourier transform\n",
    "    sgram_mag, _ = librosa.magphase(sgram)\n",
    "    mel_scale_sgram = librosa.feature.melspectrogram(S=sgram_mag, sr=sr)\n",
    "    mel_sgram = librosa.amplitude_to_db(mel_scale_sgram, ref=np.min)  # decibel scale\n",
    "    \n",
    "    librosa.display.specshow(mel_sgram, sr=sr, ax=ax)\n",
    "    \n",
    "    plt.savefig(save_path, bbox_inches='tight', pad_inches=0)\n",
    "    plt.close()"
   ]
  },
  {
   "cell_type": "code",
   "execution_count": 33,
   "id": "4408b2f8-a0f7-4757-a831-7ea4eda4d31f",
   "metadata": {},
   "outputs": [],
   "source": [
    "# Function to save Mel spectrogram images for a dataset\n",
    "def save_spectrogram_images(X, y, sound_source, data_type, base_dir='full_dataset'):\n",
    "\n",
    "    # Iterate through each sample\n",
    "    for idx, audio_vector in enumerate(X):\n",
    "        # Determine classification\n",
    "        classification = 'normal' if y[idx] == 0 else 'abnormal'\n",
    "        \n",
    "        # Define file path\n",
    "        file_path = os.path.join(base_dir, sound_source+'_data', data_type, classification, f'{idx}.png')\n",
    "\n",
    "        # Save Mel spectrogram image\n",
    "        save_mel_spectrogram(audio_vector, sr=16000, save_path=file_path)"
   ]
  },
  {
   "cell_type": "code",
   "execution_count": 27,
   "id": "470d33c8-57ae-4e15-a43d-58d23ed44d7d",
   "metadata": {},
   "outputs": [],
   "source": [
    "def train_test_split_audio(audio_file_list, random_state=42):\n",
    "    data = []\n",
    "    labels = []\n",
    "    \n",
    "    for audio_file in audio_file_list:\n",
    "        raw_data, sample_rate = librosa.load(audio_file, sr=None)\n",
    "        classification = str(audio_file).split('/')[-2]\n",
    "        \n",
    "        if classification == 'normal':\n",
    "            labels.append(0)\n",
    "        else:\n",
    "            labels.append(1) \n",
    "            \n",
    "        data.append(raw_data)\n",
    "    \n",
    "    data = np.array(data)\n",
    "    labels = np.array(labels)\n",
    "    \n",
    "    # Perform stratified split\n",
    "    X_train, X_temp, y_train, y_temp = train_test_split(data, labels, test_size=0.3, stratify=labels, random_state=random_state)\n",
    "    \n",
    "    X_test, X_val, y_test, y_val = train_test_split(X_temp, y_temp, test_size=0.5, stratify=y_temp, random_state=random_state)\n",
    "    \n",
    "    return X_train, X_test, X_val, y_train, y_test, y_val"
   ]
  },
  {
   "cell_type": "markdown",
   "id": "9414f05c-2f67-4e44-9c1b-0829ad6717d7",
   "metadata": {},
   "source": [
    "# Process Images"
   ]
  },
  {
   "cell_type": "code",
   "execution_count": null,
   "id": "e41000d5-25ad-4228-b6fc-87a277e4e9f9",
   "metadata": {},
   "outputs": [],
   "source": [
    "### fans"
   ]
  },
  {
   "cell_type": "code",
   "execution_count": 20,
   "id": "e97c9284-2bdb-46eb-8d34-e7c40cad503c",
   "metadata": {},
   "outputs": [],
   "source": [
    "fans = glob('/Users/sayyedjilani/datasci210/*_fan/*/normal/*.wav')\n",
    "fans_abnormal = glob('/Users/sayyedjilani/datasci210/*_fan/*/abnormal/*.wav')"
   ]
  },
  {
   "cell_type": "code",
   "execution_count": 21,
   "id": "7bc43c5f-3ce9-4cb8-91f8-1e5e8bcb4e85",
   "metadata": {},
   "outputs": [
    {
     "name": "stdout",
     "output_type": "stream",
     "text": [
      "Normal fans: 12225\n",
      "Abormal fans: 4425\n"
     ]
    }
   ],
   "source": [
    "print(f'Normal fans: {len(fans)}')\n",
    "print(f'Abormal fans: {len(fans_abnormal)}')"
   ]
  },
  {
   "cell_type": "code",
   "execution_count": 22,
   "id": "bfe766da-70cb-4b4e-abdf-1de2c2af2706",
   "metadata": {},
   "outputs": [],
   "source": [
    "fans.extend(fans_abnormal)"
   ]
  },
  {
   "cell_type": "code",
   "execution_count": 29,
   "id": "b3953c67-7270-4dcd-88fb-8ccf88774869",
   "metadata": {},
   "outputs": [],
   "source": [
    "X_train_fan, X_test_fan, X_val_fan, y_train_fan, y_test_fan, y_val_fan = train_test_split_audio(fans, random_state=42)"
   ]
  },
  {
   "cell_type": "code",
   "execution_count": 36,
   "id": "8ed72d40-aa13-4861-9bcd-7031f99d17a7",
   "metadata": {},
   "outputs": [],
   "source": [
    "save_spectrogram_images(X_train_fan, y_train_fan, 'fan', 'train')\n",
    "save_spectrogram_images(X_val_fan, y_val_fan, 'fan', 'val')\n",
    "save_spectrogram_images(X_test_fan, y_test_fan, 'fan', 'test')"
   ]
  },
  {
   "cell_type": "code",
   "execution_count": null,
   "id": "74bcda24-0383-436b-a056-59801b1c50e7",
   "metadata": {},
   "outputs": [],
   "source": [
    "### pumps"
   ]
  },
  {
   "cell_type": "code",
   "execution_count": 37,
   "id": "062753ff-0b83-41fd-ad84-b4c7732e7438",
   "metadata": {},
   "outputs": [],
   "source": [
    "pumps = glob('/Users/sayyedjilani/datasci210/*_pump/*/normal/*.wav')\n",
    "pumps_abnormal = glob('/Users/sayyedjilani/datasci210/*_pump/*/abnormal/*.wav')"
   ]
  },
  {
   "cell_type": "code",
   "execution_count": 38,
   "id": "749314bf-f562-46bb-8068-46178dffc0ba",
   "metadata": {},
   "outputs": [
    {
     "name": "stdout",
     "output_type": "stream",
     "text": [
      "Normal pumps: 11247\n",
      "Abormal pumps: 1368\n"
     ]
    }
   ],
   "source": [
    "print(f'Normal pumps: {len(pumps)}')\n",
    "print(f'Abormal pumps: {len(pumps_abnormal)}')\n",
    "\n",
    "pumps.extend(pumps_abnormal)"
   ]
  },
  {
   "cell_type": "code",
   "execution_count": 39,
   "id": "5870312f-2520-4286-ad7e-c77ed8bc32a2",
   "metadata": {},
   "outputs": [],
   "source": [
    "X_train_pump, X_test_pump, X_val_pump, y_train_pump, y_test_pump, y_val_pump = train_test_split_audio(pumps, random_state=42)"
   ]
  },
  {
   "cell_type": "code",
   "execution_count": 40,
   "id": "9254b053-0a3f-4b0a-bc7c-1fe716925480",
   "metadata": {},
   "outputs": [],
   "source": [
    "save_spectrogram_images(X_train_pump, y_train_pump, 'pump', 'train')\n",
    "save_spectrogram_images(X_val_pump, y_val_pump, 'pump', 'val')\n",
    "save_spectrogram_images(X_test_pump, y_test_pump, 'pump', 'test')"
   ]
  },
  {
   "cell_type": "code",
   "execution_count": null,
   "id": "ac5b7382-907e-4dc8-a5b2-7282a0c97014",
   "metadata": {},
   "outputs": [],
   "source": [
    "### sliders"
   ]
  },
  {
   "cell_type": "code",
   "execution_count": 41,
   "id": "44eb2657-d00b-427a-a024-ca13511a51eb",
   "metadata": {},
   "outputs": [],
   "source": [
    "sliders = glob('/Users/sayyedjilani/datasci210/*_slider/*/normal/*.wav')\n",
    "sliders_abnormal = glob('/Users/sayyedjilani/datasci210/*_slider/*/abnormal/*.wav')"
   ]
  },
  {
   "cell_type": "code",
   "execution_count": 42,
   "id": "50ef6ec6-ad7a-404b-8951-876cde7c1dbb",
   "metadata": {},
   "outputs": [
    {
     "name": "stdout",
     "output_type": "stream",
     "text": [
      "Normal sliders: 9612\n",
      "Abormal sliders: 2670\n"
     ]
    }
   ],
   "source": [
    "print(f'Normal sliders: {len(sliders)}')\n",
    "print(f'Abormal sliders: {len(sliders_abnormal)}')\n",
    "\n",
    "sliders.extend(sliders_abnormal)"
   ]
  },
  {
   "cell_type": "code",
   "execution_count": 43,
   "id": "5c48f789-a068-4ca3-aa8d-cbfa3f8e70d4",
   "metadata": {},
   "outputs": [],
   "source": [
    "X_train_slider, X_test_slider, X_val_slider, y_train_slider, y_test_slider, y_val_slider = train_test_split_audio(sliders, random_state=42)"
   ]
  },
  {
   "cell_type": "code",
   "execution_count": 44,
   "id": "895a3050-9283-4686-a636-bfbd30ea2bd8",
   "metadata": {},
   "outputs": [],
   "source": [
    "save_spectrogram_images(X_train_slider, y_train_slider, 'slider', 'train')\n",
    "save_spectrogram_images(X_val_slider, y_val_slider, 'slider', 'val')\n",
    "save_spectrogram_images(X_test_slider, y_test_slider, 'slider', 'test')"
   ]
  },
  {
   "cell_type": "code",
   "execution_count": null,
   "id": "5e8fa062-3630-4568-804d-97e011c14636",
   "metadata": {},
   "outputs": [],
   "source": [
    "### valves"
   ]
  },
  {
   "cell_type": "code",
   "execution_count": 45,
   "id": "b787db4b-94a0-4745-9b29-f52010966f52",
   "metadata": {},
   "outputs": [],
   "source": [
    "valves = glob('/Users/sayyedjilani/datasci210/*_valve/*/normal/*.wav')\n",
    "valves_abnormal = glob('/Users/sayyedjilani/datasci210/*_valve/*/abnormal/*.wav')"
   ]
  },
  {
   "cell_type": "code",
   "execution_count": 46,
   "id": "b8e77dbc-2589-4030-8540-29b627002900",
   "metadata": {},
   "outputs": [
    {
     "name": "stdout",
     "output_type": "stream",
     "text": [
      "Normal sliders: 11073\n",
      "Abormal sliders: 1437\n"
     ]
    }
   ],
   "source": [
    "print(f'Normal sliders: {len(valves)}')\n",
    "print(f'Abormal sliders: {len(valves_abnormal)}')\n",
    "\n",
    "valves.extend(valves_abnormal)"
   ]
  },
  {
   "cell_type": "code",
   "execution_count": 47,
   "id": "2b750751-10de-474c-8b17-83f6717cf5f8",
   "metadata": {},
   "outputs": [],
   "source": [
    "X_train_valve, X_test_valve, X_val_valve, y_train_valve, y_test_valve, y_val_valve = train_test_split_audio(valves, random_state=42)"
   ]
  },
  {
   "cell_type": "code",
   "execution_count": 48,
   "id": "e9ad5130-7463-4147-a245-1bcaa7f15019",
   "metadata": {},
   "outputs": [],
   "source": [
    "save_spectrogram_images(X_train_valve, y_train_valve, 'valve', 'train')\n",
    "save_spectrogram_images(X_val_valve, y_val_valve, 'valve', 'val')\n",
    "save_spectrogram_images(X_test_valve, y_test_valve, 'valve', 'test')"
   ]
  }
 ],
 "metadata": {
  "kernelspec": {
   "display_name": "keyword-spotting-sAmOcFYZ-py3.11",
   "language": "python",
   "name": "python3"
  },
  "language_info": {
   "codemirror_mode": {
    "name": "ipython",
    "version": 3
   },
   "file_extension": ".py",
   "mimetype": "text/x-python",
   "name": "python",
   "nbconvert_exporter": "python",
   "pygments_lexer": "ipython3",
   "version": "3.11.7 (main, Dec  4 2023, 18:10:11) [Clang 15.0.0 (clang-1500.1.0.2.5)]"
  },
  "vscode": {
   "interpreter": {
    "hash": "d5431be573657e510ac898c3a2550bd33c6bff719a8c14174b39b743b3a6c14c"
   }
  }
 },
 "nbformat": 4,
 "nbformat_minor": 5
}
