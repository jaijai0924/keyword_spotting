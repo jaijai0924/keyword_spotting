{
 "cells": [
  {
   "cell_type": "code",
   "execution_count": 1,
   "id": "d743a950-833e-48b7-b3ad-6a9c91c34881",
   "metadata": {},
   "outputs": [],
   "source": [
    "import os\n",
    "from glob import glob\n",
    "import boto3\n",
    "import pandas as pd\n",
    "import numpy as np\n",
    "import librosa\n",
    "from sklearn.model_selection import train_test_split\n",
    "\n",
    "import random\n"
   ]
  },
  {
   "cell_type": "code",
   "execution_count": 2,
   "id": "bb73d3a3-b5e9-4f2a-9af7-1111f9f3c22a",
   "metadata": {},
   "outputs": [
    {
     "data": {
      "text/plain": [
       "'/Users/sayyedjilani/datasci210'"
      ]
     },
     "execution_count": 2,
     "metadata": {},
     "output_type": "execute_result"
    }
   ],
   "source": [
    "dir = '/Users/sayyedjilani/datasci210/'\n",
    "os.chdir(dir)\n",
    "os.getcwd()"
   ]
  },
  {
   "cell_type": "markdown",
   "id": "f2806fc0-8282-4991-95de-6d86ae3c9407",
   "metadata": {},
   "source": [
    "## Downsampling"
   ]
  },
  {
   "cell_type": "code",
   "execution_count": 3,
   "id": "f2f0cef8-ef3e-4cb6-b976-810ea464cb17",
   "metadata": {},
   "outputs": [],
   "source": [
    "fan_minus6 = glob('/Users/sayyedjilani/datasci210/-6dB_fan/*/*/*.wav')\n",
    "pump_minus6 = glob('/Users/sayyedjilani/datasci210/-6dB_pump/*/*/*.wav')\n",
    "slider_minus6 = glob('/Users/sayyedjilani/datasci210/-6dB_slider/*/*/*.wav')\n",
    "valve_minus6 = glob('/Users/sayyedjilani/datasci210/-6dB_valve/*/*/*.wav')"
   ]
  },
  {
   "cell_type": "code",
   "execution_count": 4,
   "id": "603d19ca-8590-484a-8ebd-778d96303a16",
   "metadata": {},
   "outputs": [],
   "source": [
    "raw_data_list = [] \n",
    "sample_rate_list = []\n",
    "sound_source_list = [] \n",
    "snr_list = []\n",
    "binary_classification_list = [] \n",
    "wav_file_list = [] \n",
    "model_list = []\n",
    "\n",
    "for audio_file in fan_minus6:\n",
    "    split_string = str(audio_file).split('/')\n",
    "    sound_source = split_string[-4].split('_')[1]\n",
    "    snr = split_string[-4].split('_')[0]\n",
    "    binary_classification = split_string[-2]\n",
    "    wav_file = split_string[-1]\n",
    "    model = split_string[-3]\n",
    "    raw_data, sample_rate = librosa.load(audio_file, sr=None)\n",
    "    sound_source_list.append(sound_source)\n",
    "    snr_list.append(snr)\n",
    "    binary_classification_list.append(binary_classification)\n",
    "    wav_file_list.append(wav_file)\n",
    "    raw_data_list.append(raw_data)\n",
    "    sample_rate_list.append(sample_rate)\n",
    "    model_list.append(model)"
   ]
  },
  {
   "cell_type": "code",
   "execution_count": 5,
   "id": "159725d9-a920-44ae-ba39-d9505f959781",
   "metadata": {},
   "outputs": [],
   "source": [
    "df = pd.DataFrame(columns=[\"Sound Source\", \"SNR\", \"Model\", \".wav File\", \"Sample Rate\", \"Raw Data\", \"Classification\"])\n",
    "\n",
    "df[\"Sound Source\"] = sound_source_list\n",
    "df[\"SNR\"] = snr_list\n",
    "df[\"Classification\"] = binary_classification_list\n",
    "df[\".wav File\"] = wav_file_list\n",
    "df[\"Sample Rate\"] = sample_rate_list\n",
    "df[\"Raw Data\"] = raw_data_list\n",
    "df[\"Model\"] = model_list"
   ]
  },
  {
   "cell_type": "code",
   "execution_count": 6,
   "id": "a79d945b-eda0-412e-a36f-378e7e1d2f15",
   "metadata": {},
   "outputs": [
    {
     "data": {
      "text/html": [
       "<div>\n",
       "<style scoped>\n",
       "    .dataframe tbody tr th:only-of-type {\n",
       "        vertical-align: middle;\n",
       "    }\n",
       "\n",
       "    .dataframe tbody tr th {\n",
       "        vertical-align: top;\n",
       "    }\n",
       "\n",
       "    .dataframe thead th {\n",
       "        text-align: right;\n",
       "    }\n",
       "</style>\n",
       "<table border=\"1\" class=\"dataframe\">\n",
       "  <thead>\n",
       "    <tr style=\"text-align: right;\">\n",
       "      <th></th>\n",
       "      <th>Sound Source</th>\n",
       "      <th>SNR</th>\n",
       "      <th>Model</th>\n",
       "      <th>.wav File</th>\n",
       "      <th>Sample Rate</th>\n",
       "      <th>Raw Data</th>\n",
       "      <th>Classification</th>\n",
       "    </tr>\n",
       "  </thead>\n",
       "  <tbody>\n",
       "    <tr>\n",
       "      <th>0</th>\n",
       "      <td>fan</td>\n",
       "      <td>-6dB</td>\n",
       "      <td>id_00</td>\n",
       "      <td>00000059.wav</td>\n",
       "      <td>16000</td>\n",
       "      <td>[-0.015693665, -0.016227722, -0.015602112, -0....</td>\n",
       "      <td>abnormal</td>\n",
       "    </tr>\n",
       "    <tr>\n",
       "      <th>1</th>\n",
       "      <td>fan</td>\n",
       "      <td>-6dB</td>\n",
       "      <td>id_00</td>\n",
       "      <td>00000071.wav</td>\n",
       "      <td>16000</td>\n",
       "      <td>[0.008773804, 0.007896423, 0.0039596558, 0.000...</td>\n",
       "      <td>abnormal</td>\n",
       "    </tr>\n",
       "    <tr>\n",
       "      <th>2</th>\n",
       "      <td>fan</td>\n",
       "      <td>-6dB</td>\n",
       "      <td>id_00</td>\n",
       "      <td>00000065.wav</td>\n",
       "      <td>16000</td>\n",
       "      <td>[-0.0024223328, -0.004142761, -0.003967285, -0...</td>\n",
       "      <td>abnormal</td>\n",
       "    </tr>\n",
       "    <tr>\n",
       "      <th>3</th>\n",
       "      <td>fan</td>\n",
       "      <td>-6dB</td>\n",
       "      <td>id_00</td>\n",
       "      <td>00000273.wav</td>\n",
       "      <td>16000</td>\n",
       "      <td>[0.01563263, 0.012084961, 0.0070114136, 0.0028...</td>\n",
       "      <td>abnormal</td>\n",
       "    </tr>\n",
       "    <tr>\n",
       "      <th>4</th>\n",
       "      <td>fan</td>\n",
       "      <td>-6dB</td>\n",
       "      <td>id_00</td>\n",
       "      <td>00000267.wav</td>\n",
       "      <td>16000</td>\n",
       "      <td>[0.0054855347, 0.0052452087, 0.0067481995, 0.0...</td>\n",
       "      <td>abnormal</td>\n",
       "    </tr>\n",
       "  </tbody>\n",
       "</table>\n",
       "</div>"
      ],
      "text/plain": [
       "  Sound Source   SNR  Model     .wav File  Sample Rate  \\\n",
       "0          fan  -6dB  id_00  00000059.wav        16000   \n",
       "1          fan  -6dB  id_00  00000071.wav        16000   \n",
       "2          fan  -6dB  id_00  00000065.wav        16000   \n",
       "3          fan  -6dB  id_00  00000273.wav        16000   \n",
       "4          fan  -6dB  id_00  00000267.wav        16000   \n",
       "\n",
       "                                            Raw Data Classification  \n",
       "0  [-0.015693665, -0.016227722, -0.015602112, -0....       abnormal  \n",
       "1  [0.008773804, 0.007896423, 0.0039596558, 0.000...       abnormal  \n",
       "2  [-0.0024223328, -0.004142761, -0.003967285, -0...       abnormal  \n",
       "3  [0.01563263, 0.012084961, 0.0070114136, 0.0028...       abnormal  \n",
       "4  [0.0054855347, 0.0052452087, 0.0067481995, 0.0...       abnormal  "
      ]
     },
     "execution_count": 6,
     "metadata": {},
     "output_type": "execute_result"
    }
   ],
   "source": [
    "df.head()"
   ]
  },
  {
   "cell_type": "code",
   "execution_count": 9,
   "id": "ba577b2c-053b-46ca-bd2b-fd656bd46414",
   "metadata": {},
   "outputs": [],
   "source": [
    "def stratified_sample(df, n_samples=450):\n",
    "    sampled_df = pd.DataFrame(columns=df.columns)\n",
    "    \n",
    "    for classification, group in df.groupby(['Sound Source', 'SNR', 'Classification']):\n",
    "        # Proportional sampling within each classification group\n",
    "        model_counts = group['Model'].value_counts()\n",
    "        total_count = model_counts.sum()\n",
    "        \n",
    "        stratified_group = pd.DataFrame(columns=group.columns)\n",
    "        \n",
    "        for model, count in model_counts.items():\n",
    "            model_sample_size = int((count / total_count) * n_samples)\n",
    "            stratified_group = pd.concat([stratified_group, group[group['Model'] == model].sample(min(len(group[group['Model'] == model]), model_sample_size), random_state=56)])\n",
    "        \n",
    "        # If there are not enough samples, randomly sample the remaining rows to fill the gap\n",
    "        if len(stratified_group) < n_samples:\n",
    "            additional_samples = group.drop(stratified_group.index).sample(n_samples - len(stratified_group), random_state=1, replace=True)\n",
    "            stratified_group = pd.concat([stratified_group, additional_samples])\n",
    "        \n",
    "        sampled_df = pd.concat([sampled_df, stratified_group])\n",
    "    \n",
    "    return sampled_df"
   ]
  },
  {
   "cell_type": "code",
   "execution_count": 10,
   "id": "7c284c4b-d452-4daf-ad5a-2fcb0f677993",
   "metadata": {},
   "outputs": [
    {
     "name": "stdout",
     "output_type": "stream",
     "text": [
      "Classification\n",
      "abnormal    456\n",
      "normal      456\n",
      "Name: count, dtype: int64\n",
      "\n",
      "Classification  Model\n",
      "abnormal        id_00    127\n",
      "                id_02    111\n",
      "                id_04    107\n",
      "                id_06    111\n",
      "normal          id_00    114\n",
      "                id_02    113\n",
      "                id_04    115\n",
      "                id_06    114\n",
      "dtype: int64\n"
     ]
    }
   ],
   "source": [
    "sampled_df = stratified_sample(df, n_samples=456)\n",
    "print(sampled_df['Classification'].value_counts())\n",
    "print()\n",
    "distribution = sampled_df.groupby(['Classification', 'Model']).size()\n",
    "print(distribution)"
   ]
  },
  {
   "cell_type": "code",
   "execution_count": 11,
   "id": "7a7558cd-98bc-43e5-8ad6-b74be6845aea",
   "metadata": {},
   "outputs": [],
   "source": [
    "fan_df = glob('/Users/sayyedjilani/datasci210/*_fan/*/*/*.wav')\n",
    "\n",
    "raw_data_list = [] \n",
    "sample_rate_list = []\n",
    "sound_source_list = [] \n",
    "snr_list = []\n",
    "binary_classification_list = [] \n",
    "wav_file_list = [] \n",
    "model_list = []\n",
    "\n",
    "for audio_file in fan_df:\n",
    "    split_string = str(audio_file).split('/')\n",
    "    sound_source = split_string[-4].split('_')[1]\n",
    "    snr = split_string[-4].split('_')[0]\n",
    "    binary_classification = split_string[-2]\n",
    "    wav_file = split_string[-1]\n",
    "    model = split_string[-3]\n",
    "    raw_data, sample_rate = librosa.load(audio_file, sr=None)\n",
    "    sound_source_list.append(sound_source)\n",
    "    snr_list.append(snr)\n",
    "    binary_classification_list.append(binary_classification)\n",
    "    wav_file_list.append(wav_file)\n",
    "    raw_data_list.append(raw_data)\n",
    "    sample_rate_list.append(sample_rate)\n",
    "    model_list.append(model)\n",
    "\n",
    "df = pd.DataFrame(columns=[\"Sound Source\", \"SNR\", \"Model\", \".wav File\", \"Sample Rate\", \"Raw Data\", \"Classification\"])\n",
    "\n",
    "df[\"Sound Source\"] = sound_source_list\n",
    "df[\"SNR\"] = snr_list\n",
    "df[\"Classification\"] = binary_classification_list\n",
    "df[\".wav File\"] = wav_file_list\n",
    "df[\"Sample Rate\"] = sample_rate_list\n",
    "df[\"Raw Data\"] = raw_data_list\n",
    "df[\"Model\"] = model_list"
   ]
  },
  {
   "cell_type": "code",
   "execution_count": 17,
   "id": "0fa07f1d-224e-44e2-9849-7b6d037388b8",
   "metadata": {},
   "outputs": [
    {
     "name": "stdout",
     "output_type": "stream",
     "text": [
      "Sound Source  SNR   Classification  Model\n",
      "fan           -6dB  abnormal        id_00    127\n",
      "                                    id_02    111\n",
      "                                    id_04    107\n",
      "                                    id_06    111\n",
      "                    normal          id_00    114\n",
      "                                    id_02    113\n",
      "                                    id_04    115\n",
      "                                    id_06    114\n",
      "              0dB   abnormal        id_00    127\n",
      "                                    id_02    111\n",
      "                                    id_04    107\n",
      "                                    id_06    111\n",
      "                    normal          id_00    114\n",
      "                                    id_02    113\n",
      "                                    id_04    115\n",
      "                                    id_06    114\n",
      "              6dB   abnormal        id_00    127\n",
      "                                    id_02    111\n",
      "                                    id_04    107\n",
      "                                    id_06    111\n",
      "                    normal          id_00    114\n",
      "                                    id_02    113\n",
      "                                    id_04    115\n",
      "                                    id_06    114\n",
      "dtype: int64\n"
     ]
    }
   ],
   "source": [
    "sampled_fans = stratified_sample(df, n_samples=456)\n",
    "distribution = sampled_fans.groupby(['Sound Source', 'SNR', 'Classification', 'Model']).size()\n",
    "print(distribution)"
   ]
  },
  {
   "cell_type": "code",
   "execution_count": 18,
   "id": "730381bf-503c-4005-b4dd-6709fcf5aead",
   "metadata": {},
   "outputs": [],
   "source": [
    "pump_df = glob('/Users/sayyedjilani/datasci210/*_pump/*/*/*.wav')\n",
    "\n",
    "raw_data_list = [] \n",
    "sample_rate_list = []\n",
    "sound_source_list = [] \n",
    "snr_list = []\n",
    "binary_classification_list = [] \n",
    "wav_file_list = [] \n",
    "model_list = []\n",
    "\n",
    "for audio_file in pump_df:\n",
    "    split_string = str(audio_file).split('/')\n",
    "    sound_source = split_string[-4].split('_')[1]\n",
    "    snr = split_string[-4].split('_')[0]\n",
    "    binary_classification = split_string[-2]\n",
    "    wav_file = split_string[-1]\n",
    "    model = split_string[-3]\n",
    "    raw_data, sample_rate = librosa.load(audio_file, sr=None)\n",
    "    sound_source_list.append(sound_source)\n",
    "    snr_list.append(snr)\n",
    "    binary_classification_list.append(binary_classification)\n",
    "    wav_file_list.append(wav_file)\n",
    "    raw_data_list.append(raw_data)\n",
    "    sample_rate_list.append(sample_rate)\n",
    "    model_list.append(model)"
   ]
  },
  {
   "cell_type": "code",
   "execution_count": 19,
   "id": "1d0d5f0d-8eca-4da9-ac0c-62417e5b4d4f",
   "metadata": {},
   "outputs": [],
   "source": [
    "df = pd.DataFrame(columns=[\"Sound Source\", \"SNR\", \"Model\", \".wav File\", \"Sample Rate\", \"Raw Data\", \"Classification\"])\n",
    "\n",
    "df[\"Sound Source\"] = sound_source_list\n",
    "df[\"SNR\"] = snr_list\n",
    "df[\"Classification\"] = binary_classification_list\n",
    "df[\".wav File\"] = wav_file_list\n",
    "df[\"Sample Rate\"] = sample_rate_list\n",
    "df[\"Raw Data\"] = raw_data_list\n",
    "df[\"Model\"] = model_list"
   ]
  },
  {
   "cell_type": "code",
   "execution_count": 20,
   "id": "112db166-1b09-4880-8114-eb5bf4e5893d",
   "metadata": {},
   "outputs": [
    {
     "name": "stdout",
     "output_type": "stream",
     "text": [
      "Sound Source  SNR   Classification  Model\n",
      "pump          -6dB  abnormal        id_00    143\n",
      "                                    id_02    111\n",
      "                                    id_04    100\n",
      "                                    id_06    102\n",
      "                    normal          id_00    122\n",
      "                                    id_02    122\n",
      "                                    id_04     85\n",
      "                                    id_06    127\n",
      "              0dB   abnormal        id_00    143\n",
      "                                    id_02    111\n",
      "                                    id_04    100\n",
      "                                    id_06    102\n",
      "                    normal          id_00    122\n",
      "                                    id_02    122\n",
      "                                    id_04     85\n",
      "                                    id_06    127\n",
      "              6dB   abnormal        id_00    143\n",
      "                                    id_02    111\n",
      "                                    id_04    100\n",
      "                                    id_06    102\n",
      "                    normal          id_00    122\n",
      "                                    id_02    122\n",
      "                                    id_04     85\n",
      "                                    id_06    127\n",
      "dtype: int64\n"
     ]
    }
   ],
   "source": [
    "sampled_pumps = stratified_sample(df, n_samples=456)\n",
    "distribution = sampled_pumps.groupby(['Sound Source', 'SNR', 'Classification', 'Model']).size()\n",
    "print(distribution)"
   ]
  },
  {
   "cell_type": "code",
   "execution_count": 21,
   "id": "92c97646-5705-40bb-9c66-33088ca96b5f",
   "metadata": {},
   "outputs": [],
   "source": [
    "slider_df = glob('/Users/sayyedjilani/datasci210/*_slider/*/*/*.wav')\n",
    "\n",
    "raw_data_list = [] \n",
    "sample_rate_list = []\n",
    "sound_source_list = [] \n",
    "snr_list = []\n",
    "binary_classification_list = [] \n",
    "wav_file_list = [] \n",
    "model_list = []\n",
    "\n",
    "for audio_file in slider_df:\n",
    "    split_string = str(audio_file).split('/')\n",
    "    sound_source = split_string[-4].split('_')[1]\n",
    "    snr = split_string[-4].split('_')[0]\n",
    "    binary_classification = split_string[-2]\n",
    "    wav_file = split_string[-1]\n",
    "    model = split_string[-3]\n",
    "    raw_data, sample_rate = librosa.load(audio_file, sr=None)\n",
    "    sound_source_list.append(sound_source)\n",
    "    snr_list.append(snr)\n",
    "    binary_classification_list.append(binary_classification)\n",
    "    wav_file_list.append(wav_file)\n",
    "    raw_data_list.append(raw_data)\n",
    "    sample_rate_list.append(sample_rate)\n",
    "    model_list.append(model)"
   ]
  },
  {
   "cell_type": "code",
   "execution_count": 22,
   "id": "e4d46774-ee72-4d3f-a53b-f7dc4082fd41",
   "metadata": {},
   "outputs": [],
   "source": [
    "df = pd.DataFrame(columns=[\"Sound Source\", \"SNR\", \"Model\", \".wav File\", \"Sample Rate\", \"Raw Data\", \"Classification\"])\n",
    "\n",
    "df[\"Sound Source\"] = sound_source_list\n",
    "df[\"SNR\"] = snr_list\n",
    "df[\"Classification\"] = binary_classification_list\n",
    "df[\".wav File\"] = wav_file_list\n",
    "df[\"Sample Rate\"] = sample_rate_list\n",
    "df[\"Raw Data\"] = raw_data_list\n",
    "df[\"Model\"] = model_list"
   ]
  },
  {
   "cell_type": "code",
   "execution_count": 23,
   "id": "990d5be4-296f-4ad9-bc37-775327467dc5",
   "metadata": {},
   "outputs": [
    {
     "name": "stdout",
     "output_type": "stream",
     "text": [
      "Sound Source  SNR   Classification  Model\n",
      "slider        -6dB  abnormal        id_00    183\n",
      "                                    id_02    136\n",
      "                                    id_04     92\n",
      "                                    id_06     45\n",
      "                    normal          id_00    152\n",
      "                                    id_02    152\n",
      "                                    id_04     76\n",
      "                                    id_06     76\n",
      "              0dB   abnormal        id_00    183\n",
      "                                    id_02    136\n",
      "                                    id_04     92\n",
      "                                    id_06     45\n",
      "                    normal          id_00    152\n",
      "                                    id_02    152\n",
      "                                    id_04     76\n",
      "                                    id_06     76\n",
      "              6dB   abnormal        id_00    183\n",
      "                                    id_02    136\n",
      "                                    id_04     92\n",
      "                                    id_06     45\n",
      "                    normal          id_00    152\n",
      "                                    id_02    152\n",
      "                                    id_04     76\n",
      "                                    id_06     76\n",
      "dtype: int64\n"
     ]
    }
   ],
   "source": [
    "sampled_sliders = stratified_sample(df, n_samples=456)\n",
    "distribution = sampled_sliders.groupby(['Sound Source', 'SNR', 'Classification', 'Model']).size()\n",
    "print(distribution)"
   ]
  },
  {
   "cell_type": "code",
   "execution_count": 24,
   "id": "300648c3-a4dc-4626-bd58-05dd0c64c6f8",
   "metadata": {},
   "outputs": [],
   "source": [
    "valve_df = glob('/Users/sayyedjilani/datasci210/*_valve/*/*/*.wav')\n",
    "\n",
    "raw_data_list = [] \n",
    "sample_rate_list = []\n",
    "sound_source_list = [] \n",
    "snr_list = []\n",
    "binary_classification_list = [] \n",
    "wav_file_list = [] \n",
    "model_list = []\n",
    "\n",
    "for audio_file in valve_df:\n",
    "    split_string = str(audio_file).split('/')\n",
    "    sound_source = split_string[-4].split('_')[1]\n",
    "    snr = split_string[-4].split('_')[0]\n",
    "    binary_classification = split_string[-2]\n",
    "    wav_file = split_string[-1]\n",
    "    model = split_string[-3]\n",
    "    raw_data, sample_rate = librosa.load(audio_file, sr=None)\n",
    "    sound_source_list.append(sound_source)\n",
    "    snr_list.append(snr)\n",
    "    binary_classification_list.append(binary_classification)\n",
    "    wav_file_list.append(wav_file)\n",
    "    raw_data_list.append(raw_data)\n",
    "    sample_rate_list.append(sample_rate)\n",
    "    model_list.append(model)"
   ]
  },
  {
   "cell_type": "code",
   "execution_count": 25,
   "id": "0343a0f8-afbd-4430-99d7-133a8b43829a",
   "metadata": {},
   "outputs": [],
   "source": [
    "df = pd.DataFrame(columns=[\"Sound Source\", \"SNR\", \"Model\", \".wav File\", \"Sample Rate\", \"Raw Data\", \"Classification\"])\n",
    "\n",
    "df[\"Sound Source\"] = sound_source_list\n",
    "df[\"SNR\"] = snr_list\n",
    "df[\"Classification\"] = binary_classification_list\n",
    "df[\".wav File\"] = wav_file_list\n",
    "df[\"Sample Rate\"] = sample_rate_list\n",
    "df[\"Raw Data\"] = raw_data_list\n",
    "df[\"Model\"] = model_list"
   ]
  },
  {
   "cell_type": "code",
   "execution_count": 26,
   "id": "18171c40-9802-4420-b264-b53c3552b81b",
   "metadata": {},
   "outputs": [
    {
     "name": "stdout",
     "output_type": "stream",
     "text": [
      "Sound Source  SNR   Classification  Model\n",
      "valve         -6dB  abnormal        id_00    114\n",
      "                                    id_02    114\n",
      "                                    id_04    114\n",
      "                                    id_06    114\n",
      "                    normal          id_00    123\n",
      "                                    id_02     87\n",
      "                                    id_04    123\n",
      "                                    id_06    123\n",
      "              0dB   abnormal        id_00    114\n",
      "                                    id_02    114\n",
      "                                    id_04    114\n",
      "                                    id_06    114\n",
      "                    normal          id_00    123\n",
      "                                    id_02     87\n",
      "                                    id_04    123\n",
      "                                    id_06    123\n",
      "              6dB   abnormal        id_00    114\n",
      "                                    id_02    114\n",
      "                                    id_04    114\n",
      "                                    id_06    114\n",
      "                    normal          id_00    123\n",
      "                                    id_02     87\n",
      "                                    id_04    123\n",
      "                                    id_06    123\n",
      "dtype: int64\n"
     ]
    }
   ],
   "source": [
    "sampled_valves = stratified_sample(df, n_samples=456)\n",
    "distribution = sampled_valves.groupby(['Sound Source', 'SNR', 'Classification', 'Model']).size()\n",
    "print(distribution)"
   ]
  },
  {
   "cell_type": "markdown",
   "id": "0298f34a-98d8-4a53-ac33-50dae409f652",
   "metadata": {},
   "source": [
    "### Concat all dfs, save as pkl and upload to bucket"
   ]
  },
  {
   "cell_type": "code",
   "execution_count": 35,
   "id": "37828671-8f15-412e-a3ba-6c71013e5550",
   "metadata": {},
   "outputs": [
    {
     "data": {
      "text/plain": [
       "(10944, 7)"
      ]
     },
     "execution_count": 35,
     "metadata": {},
     "output_type": "execute_result"
    }
   ],
   "source": [
    "df = pd.concat([sampled_fans, sampled_pumps, sampled_sliders, sampled_valves])\n",
    "df.shape"
   ]
  },
  {
   "cell_type": "code",
   "execution_count": 36,
   "id": "c47177b4-ff98-44a6-9d7e-823fea745fcb",
   "metadata": {},
   "outputs": [
    {
     "data": {
      "text/html": [
       "<div>\n",
       "<style scoped>\n",
       "    .dataframe tbody tr th:only-of-type {\n",
       "        vertical-align: middle;\n",
       "    }\n",
       "\n",
       "    .dataframe tbody tr th {\n",
       "        vertical-align: top;\n",
       "    }\n",
       "\n",
       "    .dataframe thead th {\n",
       "        text-align: right;\n",
       "    }\n",
       "</style>\n",
       "<table border=\"1\" class=\"dataframe\">\n",
       "  <thead>\n",
       "    <tr style=\"text-align: right;\">\n",
       "      <th></th>\n",
       "      <th>Sound Source</th>\n",
       "      <th>SNR</th>\n",
       "      <th>Model</th>\n",
       "      <th>.wav File</th>\n",
       "      <th>Sample Rate</th>\n",
       "      <th>Raw Data</th>\n",
       "      <th>Classification</th>\n",
       "    </tr>\n",
       "  </thead>\n",
       "  <tbody>\n",
       "    <tr>\n",
       "      <th>145</th>\n",
       "      <td>fan</td>\n",
       "      <td>-6dB</td>\n",
       "      <td>id_00</td>\n",
       "      <td>00000174.wav</td>\n",
       "      <td>16000</td>\n",
       "      <td>[-0.005207062, -0.0051956177, -0.00573349, -0....</td>\n",
       "      <td>abnormal</td>\n",
       "    </tr>\n",
       "    <tr>\n",
       "      <th>170</th>\n",
       "      <td>fan</td>\n",
       "      <td>-6dB</td>\n",
       "      <td>id_00</td>\n",
       "      <td>00000188.wav</td>\n",
       "      <td>16000</td>\n",
       "      <td>[0.010253906, 0.013095856, 0.013023376, 0.0088...</td>\n",
       "      <td>abnormal</td>\n",
       "    </tr>\n",
       "    <tr>\n",
       "      <th>2</th>\n",
       "      <td>fan</td>\n",
       "      <td>-6dB</td>\n",
       "      <td>id_00</td>\n",
       "      <td>00000065.wav</td>\n",
       "      <td>16000</td>\n",
       "      <td>[-0.0024223328, -0.004142761, -0.003967285, -0...</td>\n",
       "      <td>abnormal</td>\n",
       "    </tr>\n",
       "    <tr>\n",
       "      <th>329</th>\n",
       "      <td>fan</td>\n",
       "      <td>-6dB</td>\n",
       "      <td>id_00</td>\n",
       "      <td>00000251.wav</td>\n",
       "      <td>16000</td>\n",
       "      <td>[-0.0028533936, -0.005077362, -0.0044822693, -...</td>\n",
       "      <td>abnormal</td>\n",
       "    </tr>\n",
       "    <tr>\n",
       "      <th>362</th>\n",
       "      <td>fan</td>\n",
       "      <td>-6dB</td>\n",
       "      <td>id_00</td>\n",
       "      <td>00000308.wav</td>\n",
       "      <td>16000</td>\n",
       "      <td>[-0.005332947, -0.0024414062, 0.00037002563, 0...</td>\n",
       "      <td>abnormal</td>\n",
       "    </tr>\n",
       "  </tbody>\n",
       "</table>\n",
       "</div>"
      ],
      "text/plain": [
       "    Sound Source   SNR  Model     .wav File Sample Rate  \\\n",
       "145          fan  -6dB  id_00  00000174.wav       16000   \n",
       "170          fan  -6dB  id_00  00000188.wav       16000   \n",
       "2            fan  -6dB  id_00  00000065.wav       16000   \n",
       "329          fan  -6dB  id_00  00000251.wav       16000   \n",
       "362          fan  -6dB  id_00  00000308.wav       16000   \n",
       "\n",
       "                                              Raw Data Classification  \n",
       "145  [-0.005207062, -0.0051956177, -0.00573349, -0....       abnormal  \n",
       "170  [0.010253906, 0.013095856, 0.013023376, 0.0088...       abnormal  \n",
       "2    [-0.0024223328, -0.004142761, -0.003967285, -0...       abnormal  \n",
       "329  [-0.0028533936, -0.005077362, -0.0044822693, -...       abnormal  \n",
       "362  [-0.005332947, -0.0024414062, 0.00037002563, 0...       abnormal  "
      ]
     },
     "execution_count": 36,
     "metadata": {},
     "output_type": "execute_result"
    }
   ],
   "source": [
    "df.head()"
   ]
  },
  {
   "cell_type": "code",
   "execution_count": 64,
   "id": "9d19124a-da69-4f92-99c3-7836bebcf956",
   "metadata": {},
   "outputs": [
    {
     "data": {
      "text/html": [
       "<div>\n",
       "<style scoped>\n",
       "    .dataframe tbody tr th:only-of-type {\n",
       "        vertical-align: middle;\n",
       "    }\n",
       "\n",
       "    .dataframe tbody tr th {\n",
       "        vertical-align: top;\n",
       "    }\n",
       "\n",
       "    .dataframe thead th {\n",
       "        text-align: right;\n",
       "    }\n",
       "</style>\n",
       "<table border=\"1\" class=\"dataframe\">\n",
       "  <thead>\n",
       "    <tr style=\"text-align: right;\">\n",
       "      <th></th>\n",
       "      <th>Sound Source</th>\n",
       "      <th>SNR</th>\n",
       "      <th>Model</th>\n",
       "      <th>.wav File</th>\n",
       "      <th>Sample Rate</th>\n",
       "      <th>Raw Data</th>\n",
       "      <th>Classification</th>\n",
       "    </tr>\n",
       "  </thead>\n",
       "  <tbody>\n",
       "    <tr>\n",
       "      <th>12496</th>\n",
       "      <td>valve</td>\n",
       "      <td>6dB</td>\n",
       "      <td>id_02</td>\n",
       "      <td>00000322.wav</td>\n",
       "      <td>16000</td>\n",
       "      <td>[-0.0011672974, -0.0015106201, -0.0015563965, ...</td>\n",
       "      <td>normal</td>\n",
       "    </tr>\n",
       "    <tr>\n",
       "      <th>12138</th>\n",
       "      <td>valve</td>\n",
       "      <td>6dB</td>\n",
       "      <td>id_02</td>\n",
       "      <td>00000635.wav</td>\n",
       "      <td>16000</td>\n",
       "      <td>[0.00038146973, -0.0006790161, -0.00093078613,...</td>\n",
       "      <td>normal</td>\n",
       "    </tr>\n",
       "    <tr>\n",
       "      <th>12096</th>\n",
       "      <td>valve</td>\n",
       "      <td>6dB</td>\n",
       "      <td>id_02</td>\n",
       "      <td>00000177.wav</td>\n",
       "      <td>16000</td>\n",
       "      <td>[-0.0018463135, -0.0012435913, -0.00075149536,...</td>\n",
       "      <td>normal</td>\n",
       "    </tr>\n",
       "    <tr>\n",
       "      <th>9784</th>\n",
       "      <td>valve</td>\n",
       "      <td>6dB</td>\n",
       "      <td>id_06</td>\n",
       "      <td>00000471.wav</td>\n",
       "      <td>16000</td>\n",
       "      <td>[-0.0062789917, -0.0063591003, -0.0060272217, ...</td>\n",
       "      <td>normal</td>\n",
       "    </tr>\n",
       "    <tr>\n",
       "      <th>8721</th>\n",
       "      <td>valve</td>\n",
       "      <td>6dB</td>\n",
       "      <td>id_00</td>\n",
       "      <td>00000198.wav</td>\n",
       "      <td>16000</td>\n",
       "      <td>[-0.0014572144, -0.0020713806, -0.0020561218, ...</td>\n",
       "      <td>normal</td>\n",
       "    </tr>\n",
       "  </tbody>\n",
       "</table>\n",
       "</div>"
      ],
      "text/plain": [
       "      Sound Source  SNR  Model     .wav File Sample Rate  \\\n",
       "12496        valve  6dB  id_02  00000322.wav       16000   \n",
       "12138        valve  6dB  id_02  00000635.wav       16000   \n",
       "12096        valve  6dB  id_02  00000177.wav       16000   \n",
       "9784         valve  6dB  id_06  00000471.wav       16000   \n",
       "8721         valve  6dB  id_00  00000198.wav       16000   \n",
       "\n",
       "                                                Raw Data Classification  \n",
       "12496  [-0.0011672974, -0.0015106201, -0.0015563965, ...         normal  \n",
       "12138  [0.00038146973, -0.0006790161, -0.00093078613,...         normal  \n",
       "12096  [-0.0018463135, -0.0012435913, -0.00075149536,...         normal  \n",
       "9784   [-0.0062789917, -0.0063591003, -0.0060272217, ...         normal  \n",
       "8721   [-0.0014572144, -0.0020713806, -0.0020561218, ...         normal  "
      ]
     },
     "execution_count": 64,
     "metadata": {},
     "output_type": "execute_result"
    }
   ],
   "source": [
    "df.tail()"
   ]
  },
  {
   "cell_type": "code",
   "execution_count": 46,
   "id": "ac16bb5d-7e20-4a8d-9142-cb01218ee81a",
   "metadata": {},
   "outputs": [],
   "source": [
    "df.to_pickle('sampled_audio_data.pkl')"
   ]
  },
  {
   "cell_type": "code",
   "execution_count": 48,
   "id": "fc3a440c-7c51-4af7-942b-d33a40f45b02",
   "metadata": {},
   "outputs": [],
   "source": [
    "df_read = pd.read_pickle('sampled_audio_data.pkl')"
   ]
  },
  {
   "cell_type": "code",
   "execution_count": 61,
   "id": "7fca0d82-0c7c-460a-99a3-44610939fb94",
   "metadata": {},
   "outputs": [
    {
     "data": {
      "text/plain": [
       "(160000,)"
      ]
     },
     "execution_count": 61,
     "metadata": {},
     "output_type": "execute_result"
    }
   ],
   "source": [
    "# check if vectors are preserved\n",
    "df_read.iloc[0]['Raw Data'].shape"
   ]
  }
 ],
 "metadata": {
  "kernelspec": {
   "display_name": "keyword-spotting-sAmOcFYZ-py3.10",
   "language": "python",
   "name": "python3"
  },
  "language_info": {
   "codemirror_mode": {
    "name": "ipython",
    "version": 3
   },
   "file_extension": ".py",
   "mimetype": "text/x-python",
   "name": "python",
   "nbconvert_exporter": "python",
   "pygments_lexer": "ipython3",
   "version": "3.10.1 (v3.10.1:2cd268a3a9, Dec  6 2021, 14:28:59) [Clang 13.0.0 (clang-1300.0.29.3)]"
  },
  "vscode": {
   "interpreter": {
    "hash": "b7dc3670f032e27d098f92b49a682037b5073a6296046954dc126e384951f05c"
   }
  }
 },
 "nbformat": 4,
 "nbformat_minor": 5
}
