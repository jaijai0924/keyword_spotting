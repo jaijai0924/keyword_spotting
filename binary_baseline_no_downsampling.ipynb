{
 "cells": [
  {
   "cell_type": "code",
   "execution_count": 1,
   "id": "8c409925-607b-4fad-bfe9-074081451be8",
   "metadata": {},
   "outputs": [],
   "source": [
    "import os\n",
    "import sys\n",
    "from glob import glob\n",
    "import io\n",
    "import wave\n",
    "from itertools import cycle\n",
    "from scipy.stats import spearmanr\n",
    "from scipy.stats import ttest_ind\n",
    "\n",
    "import pandas as pd\n",
    "import numpy as np\n",
    "import matplotlib.pylab as plt\n",
    "import seaborn as sns\n",
    "\n",
    "import librosa\n",
    "import librosa.display\n",
    "\n",
    "import IPython.display as ipd\n",
    "\n",
    "from sklearn.model_selection import train_test_split\n",
    "from sklearn.preprocessing import LabelEncoder\n",
    "from sklearn.metrics import accuracy_score, f1_score\n",
    "\n",
    "from sklearn.naive_bayes import GaussianNB\n",
    "from sklearn.linear_model import SGDClassifier, LogisticRegression\n",
    "from sklearn.neighbors import KNeighborsClassifier\n",
    "from sklearn.tree import DecisionTreeClassifier\n",
    "from sklearn.ensemble import RandomForestClassifier\n",
    "from sklearn.ensemble import GradientBoostingClassifier\n",
    "from sklearn.svm import SVC\n",
    "from sklearn.neural_network import MLPClassifier\n",
    "\n",
    "from xgboost import XGBClassifier, XGBRFClassifier\n",
    "from xgboost import plot_tree, plot_importance\n",
    "\n",
    "from sklearn.metrics import confusion_matrix, ConfusionMatrixDisplay, accuracy_score, roc_auc_score, roc_curve, f1_score, precision_score, recall_score\n",
    "from sklearn import preprocessing\n",
    "from sklearn.model_selection import train_test_split\n",
    "from sklearn.model_selection import KFold, cross_val_score, GridSearchCV\n",
    "from sklearn.feature_selection import RFE\n",
    "\n",
    "sns.set_theme(style=\"white\", palette=None)\n",
    "color_pal = plt.rcParams[\"axes.prop_cycle\"].by_key()[\"color\"]\n",
    "color_cycle = cycle(plt.rcParams[\"axes.prop_cycle\"].by_key()[\"color\"])"
   ]
  },
  {
   "cell_type": "code",
   "execution_count": 2,
   "id": "f7f27301-4d27-4d29-8205-2529e91513de",
   "metadata": {},
   "outputs": [],
   "source": [
    "current_dir = os.getcwd()"
   ]
  },
  {
   "cell_type": "code",
   "execution_count": 3,
   "id": "cfc39aff-9aa3-457f-8a12-738807fbce13",
   "metadata": {},
   "outputs": [],
   "source": [
    "fan_audio_raw_files = glob(current_dir + \"/data/fan_*/*/*/*.wav\")\n",
    "pump_audio_raw_files = glob(current_dir + \"/data/pump_*/*/*/*.wav\")\n",
    "slider_audio_raw_files = glob(current_dir + \"/data/slider_*/*/*/*.wav\")\n",
    "valve_audio_raw_files = glob(current_dir + \"/data/valve_*/*/*/*.wav\")"
   ]
  },
  {
   "cell_type": "code",
   "execution_count": 4,
   "id": "c77d4d4e-6c79-453d-a333-a19e12b8e5c3",
   "metadata": {},
   "outputs": [
    {
     "name": "stdout",
     "output_type": "stream",
     "text": [
      "16650\n",
      "12615\n",
      "12282\n",
      "12510\n"
     ]
    }
   ],
   "source": [
    "print(len(fan_audio_raw_files))\n",
    "print(len(pump_audio_raw_files))\n",
    "print(len(slider_audio_raw_files))\n",
    "print(len(valve_audio_raw_files))"
   ]
  },
  {
   "cell_type": "code",
   "execution_count": 5,
   "id": "57ddd66b-4c70-4da6-bbf1-6592072054c8",
   "metadata": {},
   "outputs": [],
   "source": [
    "all_raw_audio_files = fan_audio_raw_files + pump_audio_raw_files + slider_audio_raw_files + valve_audio_raw_files"
   ]
  },
  {
   "cell_type": "code",
   "execution_count": null,
   "id": "a77b8df1-ba9a-4472-a552-a001ea4d0695",
   "metadata": {},
   "outputs": [],
   "source": [
    "raw_data_list = [] \n",
    "sample_rate_list = []\n",
    "sound_source_list = [] \n",
    "binary_classification_list = [] \n",
    "wav_file_list = [] \n",
    "name_classification_list = []\n",
    "\n",
    "for audio_raw_file in all_raw_audio_files:\n",
    "    split_string = str(audio_raw_file).split('/')\n",
    "    sound_source = split_string[-4]\n",
    "    name_classification = sound_source.split(\"_\")[0]\n",
    "    binary_classification = split_string[-2]\n",
    "    wav_file = split_string[-1]\n",
    "    raw_data, sample_rate = librosa.load(audio_raw_file, sr=None)\n",
    "    sound_source_list.append(sound_source)\n",
    "    binary_classification_list.append(binary_classification)\n",
    "    wav_file_list.append(wav_file)\n",
    "    raw_data_list.append(raw_data)\n",
    "    sample_rate_list.append(sample_rate)\n",
    "    name_classification_list.append(name_classification)\n",
    "\n",
    "\n",
    "df = pd.DataFrame(data={\"Sound Source\": sound_source_list,\n",
    "                        \"Machine Type\": name_classification_list,\n",
    "                        \"Classification\": binary_classification_list,\n",
    "                        \".wav File\": wav_file_list,\n",
    "                        \"Sample Rate\": sample_rate_list,\n",
    "                        \"Raw Data\": raw_data_list})"
   ]
  },
  {
   "cell_type": "code",
   "execution_count": null,
   "id": "3e38bcca-1a68-4cb2-bef6-766b4fd7774a",
   "metadata": {},
   "outputs": [],
   "source": [
    "df.head(10)"
   ]
  },
  {
   "cell_type": "code",
   "execution_count": null,
   "id": "d0b63567-e2ff-4a97-950a-9b4f6b6e283a",
   "metadata": {},
   "outputs": [],
   "source": [
    "df.tail(10)"
   ]
  },
  {
   "cell_type": "code",
   "execution_count": null,
   "id": "a5125c1a-2249-4401-bd83-32c4817c0ce8",
   "metadata": {},
   "outputs": [],
   "source": [
    "df.dtypes"
   ]
  },
  {
   "cell_type": "code",
   "execution_count": null,
   "id": "cecb4dc7-1009-4043-a7f2-23c056b50267",
   "metadata": {},
   "outputs": [],
   "source": [
    "df[\"label\"] = df.apply(lambda row: 1 if row.Classification == \"abnormal\" else 0, axis=1)"
   ]
  },
  {
   "cell_type": "code",
   "execution_count": 7,
   "id": "b7c85ee6-786f-4376-966c-abb3c2485c74",
   "metadata": {},
   "outputs": [],
   "source": [
    "def extract_mfccs(raw_audio, sample_rate, n_mfcc=20):\n",
    "    # Extract the mfccs as numpy arrays\n",
    "    mfccs = librosa.feature.mfcc(y=raw_audio, sr=sample_rate, n_mfcc=n_mfcc)\n",
    "\n",
    "    # Find the average coefficient accross time of the processed audio file in the MFCC sequence\n",
    "    mfccs_processed = np.mean(mfccs.T, axis=0)\n",
    "    \n",
    "    return mfccs_processed\n",
    "\n",
    "\n",
    "def extract_temporal_features(raw_audio):\n",
    "\n",
    "    # the rate at which a signal changes from positive to zero to negative or from negative to zero to positive.\n",
    "    zero_crossing_rate=librosa.feature.zero_crossing_rate(raw_audio)[0]\n",
    "    \n",
    "    # Bounded-lag auto-correlation\n",
    "    # The autocorrelation is useful for finding repeated patterns in a signal.\n",
    "    # For example, at short lags, the autocorrelation can tell us something about the signal's fundamental frequency.\n",
    "    # For longer lags, the autocorrelation may tell us something about the tempo of a musical signal.\n",
    "    autocorrelation = librosa.autocorrelate(raw_audio)\n",
    "    \n",
    "    return np.mean(zero_crossing_rate), np.mean(autocorrelation)\n",
    "\n",
    "\n",
    "def extract_spectral_features(raw_audio, sample_rate):\n",
    "    \n",
    "    spectral_centroids = librosa.feature.spectral_centroid(y=raw_audio, sr=sample_rate)[0]\n",
    "    spectral_rollof = librosa.feature.spectral_rolloff(y=raw_audio, sr=sample_rate)[0]\n",
    "    spectral_contrast = librosa.feature.spectral_contrast(y=raw_audio, sr=sample_rate)[0]\n",
    "    \n",
    "    return np.mean(spectral_centroids), np.mean(spectral_rollof), np.mean(spectral_contrast)"
   ]
  },
  {
   "cell_type": "code",
   "execution_count": null,
   "id": "2ce7e50e-a1c9-48f7-b689-df8e16e4c85e",
   "metadata": {},
   "outputs": [],
   "source": [
    "list_of_mfccs = []\n",
    "list_temporal_features = []\n",
    "list_spectral_features = []\n",
    "\n",
    "for idx, row in df.iterrows():\n",
    "    result_mfccs = extract_mfccs(row[\"Raw Data\"], row[\"Sample Rate\"])\n",
    "    result_temporal = extract_temporal_features(row[\"Raw Data\"])\n",
    "    result_spectral = extract_spectral_features(row[\"Raw Data\"], row[\"Sample Rate\"])\n",
    "    list_of_mfccs.append(result_mfccs)\n",
    "    list_temporal_features.append(result_temporal)\n",
    "    list_spectral_features.append(result_spectral)\n",
    "\n",
    "\n",
    "# Traditionally the first 13 MFCC's are the most descriptive in signal processing\n",
    "n_mfcc = 20\n",
    "mfcc_labels = [f\"MFCC_{i+1}\" for i in range(n_mfcc)]\n",
    "\n",
    "# 3 spectral features\n",
    "spectral_labels = ['spectral_centroid', 'spectral_rolloff', 'spectral_contrast']\n",
    "\n",
    "# 2 temporal features\n",
    "temporal_labels = ['zero_crossing_rate', 'autocorrelation']\n",
    "\n",
    "# Combine all feature labels into a single list\n",
    "feature_names = mfcc_labels + spectral_labels + temporal_labels\n",
    "\n",
    "df_mfcc = pd.DataFrame(data=list_of_mfccs, columns=mfcc_labels)\n",
    "df_spectral = pd.DataFrame(data=list_spectral_features, columns=spectral_labels)\n",
    "df_temporal = pd.DataFrame(data=list_temporal_features, columns=temporal_labels)\n",
    "\n",
    "# concatenate the dataframes horizontally\n",
    "df_features = pd.concat([df_mfcc, df_spectral, df_temporal], axis=1)\n",
    "\n",
    "df_all_features = pd.merge(df, df_features, left_index=True, right_index=True)"
   ]
  },
  {
   "cell_type": "code",
   "execution_count": 10,
   "id": "8fc75718-4a7f-46c7-b145-d344bdc25121",
   "metadata": {},
   "outputs": [
    {
     "data": {
      "text/html": [
       "<div>\n",
       "<style scoped>\n",
       "    .dataframe tbody tr th:only-of-type {\n",
       "        vertical-align: middle;\n",
       "    }\n",
       "\n",
       "    .dataframe tbody tr th {\n",
       "        vertical-align: top;\n",
       "    }\n",
       "\n",
       "    .dataframe thead th {\n",
       "        text-align: right;\n",
       "    }\n",
       "</style>\n",
       "<table border=\"1\" class=\"dataframe\">\n",
       "  <thead>\n",
       "    <tr style=\"text-align: right;\">\n",
       "      <th></th>\n",
       "      <th>Sound Source</th>\n",
       "      <th>Machine Type</th>\n",
       "      <th>Classification</th>\n",
       "      <th>.wav File</th>\n",
       "      <th>Sample Rate</th>\n",
       "      <th>Raw Data</th>\n",
       "      <th>label</th>\n",
       "      <th>MFCC_1</th>\n",
       "      <th>MFCC_2</th>\n",
       "      <th>MFCC_3</th>\n",
       "      <th>...</th>\n",
       "      <th>MFCC_16</th>\n",
       "      <th>MFCC_17</th>\n",
       "      <th>MFCC_18</th>\n",
       "      <th>MFCC_19</th>\n",
       "      <th>MFCC_20</th>\n",
       "      <th>spectral_centroid</th>\n",
       "      <th>spectral_rolloff</th>\n",
       "      <th>spectral_contrast</th>\n",
       "      <th>zero_crossing_rate</th>\n",
       "      <th>autocorrelation</th>\n",
       "    </tr>\n",
       "  </thead>\n",
       "  <tbody>\n",
       "    <tr>\n",
       "      <th>0</th>\n",
       "      <td>fan_0_db</td>\n",
       "      <td>fan</td>\n",
       "      <td>abnormal</td>\n",
       "      <td>00000059.wav</td>\n",
       "      <td>16000</td>\n",
       "      <td>[0.009010315, 0.008777618, 0.007923126, 0.0066...</td>\n",
       "      <td>1</td>\n",
       "      <td>-371.859314</td>\n",
       "      <td>113.486099</td>\n",
       "      <td>18.810814</td>\n",
       "      <td>...</td>\n",
       "      <td>0.168235</td>\n",
       "      <td>-0.470244</td>\n",
       "      <td>1.984596</td>\n",
       "      <td>6.285768</td>\n",
       "      <td>2.654916</td>\n",
       "      <td>1266.055936</td>\n",
       "      <td>2858.102037</td>\n",
       "      <td>26.339263</td>\n",
       "      <td>0.042744</td>\n",
       "      <td>0.000043</td>\n",
       "    </tr>\n",
       "    <tr>\n",
       "      <th>1</th>\n",
       "      <td>fan_0_db</td>\n",
       "      <td>fan</td>\n",
       "      <td>abnormal</td>\n",
       "      <td>00000071.wav</td>\n",
       "      <td>16000</td>\n",
       "      <td>[-0.010116577, -0.010787964, -0.011062622, -0....</td>\n",
       "      <td>1</td>\n",
       "      <td>-397.188812</td>\n",
       "      <td>154.759766</td>\n",
       "      <td>-5.939932</td>\n",
       "      <td>...</td>\n",
       "      <td>4.807566</td>\n",
       "      <td>1.653242</td>\n",
       "      <td>1.415375</td>\n",
       "      <td>0.412774</td>\n",
       "      <td>0.533738</td>\n",
       "      <td>824.260416</td>\n",
       "      <td>1657.148562</td>\n",
       "      <td>22.740603</td>\n",
       "      <td>0.029732</td>\n",
       "      <td>0.000045</td>\n",
       "    </tr>\n",
       "    <tr>\n",
       "      <th>2</th>\n",
       "      <td>fan_0_db</td>\n",
       "      <td>fan</td>\n",
       "      <td>abnormal</td>\n",
       "      <td>00000065.wav</td>\n",
       "      <td>16000</td>\n",
       "      <td>[0.020389557, 0.019676208, 0.01964569, 0.01977...</td>\n",
       "      <td>1</td>\n",
       "      <td>-388.468506</td>\n",
       "      <td>129.784851</td>\n",
       "      <td>20.890654</td>\n",
       "      <td>...</td>\n",
       "      <td>0.120793</td>\n",
       "      <td>-7.694414</td>\n",
       "      <td>-1.887065</td>\n",
       "      <td>4.981663</td>\n",
       "      <td>8.837887</td>\n",
       "      <td>1063.434283</td>\n",
       "      <td>1969.324081</td>\n",
       "      <td>26.106510</td>\n",
       "      <td>0.037813</td>\n",
       "      <td>0.000048</td>\n",
       "    </tr>\n",
       "    <tr>\n",
       "      <th>3</th>\n",
       "      <td>fan_0_db</td>\n",
       "      <td>fan</td>\n",
       "      <td>abnormal</td>\n",
       "      <td>00000273.wav</td>\n",
       "      <td>16000</td>\n",
       "      <td>[0.011543274, 0.01014328, 0.011035919, 0.01088...</td>\n",
       "      <td>1</td>\n",
       "      <td>-366.914093</td>\n",
       "      <td>106.355804</td>\n",
       "      <td>17.865118</td>\n",
       "      <td>...</td>\n",
       "      <td>4.231652</td>\n",
       "      <td>-3.307648</td>\n",
       "      <td>-4.035701</td>\n",
       "      <td>-3.882074</td>\n",
       "      <td>-3.099382</td>\n",
       "      <td>1486.769328</td>\n",
       "      <td>3365.065895</td>\n",
       "      <td>21.156002</td>\n",
       "      <td>0.077304</td>\n",
       "      <td>0.000018</td>\n",
       "    </tr>\n",
       "    <tr>\n",
       "      <th>4</th>\n",
       "      <td>fan_0_db</td>\n",
       "      <td>fan</td>\n",
       "      <td>abnormal</td>\n",
       "      <td>00000267.wav</td>\n",
       "      <td>16000</td>\n",
       "      <td>[0.0021133423, 0.0019378662, 0.002155304, 0.00...</td>\n",
       "      <td>1</td>\n",
       "      <td>-419.280609</td>\n",
       "      <td>130.316925</td>\n",
       "      <td>0.243935</td>\n",
       "      <td>...</td>\n",
       "      <td>4.747648</td>\n",
       "      <td>3.382546</td>\n",
       "      <td>2.288590</td>\n",
       "      <td>0.893118</td>\n",
       "      <td>2.209656</td>\n",
       "      <td>1200.572023</td>\n",
       "      <td>2400.683906</td>\n",
       "      <td>22.433544</td>\n",
       "      <td>0.067153</td>\n",
       "      <td>0.000012</td>\n",
       "    </tr>\n",
       "  </tbody>\n",
       "</table>\n",
       "<p>5 rows × 32 columns</p>\n",
       "</div>"
      ],
      "text/plain": [
       "  Sound Source Machine Type Classification     .wav File  Sample Rate  \\\n",
       "0     fan_0_db          fan       abnormal  00000059.wav        16000   \n",
       "1     fan_0_db          fan       abnormal  00000071.wav        16000   \n",
       "2     fan_0_db          fan       abnormal  00000065.wav        16000   \n",
       "3     fan_0_db          fan       abnormal  00000273.wav        16000   \n",
       "4     fan_0_db          fan       abnormal  00000267.wav        16000   \n",
       "\n",
       "                                            Raw Data  label      MFCC_1  \\\n",
       "0  [0.009010315, 0.008777618, 0.007923126, 0.0066...      1 -371.859314   \n",
       "1  [-0.010116577, -0.010787964, -0.011062622, -0....      1 -397.188812   \n",
       "2  [0.020389557, 0.019676208, 0.01964569, 0.01977...      1 -388.468506   \n",
       "3  [0.011543274, 0.01014328, 0.011035919, 0.01088...      1 -366.914093   \n",
       "4  [0.0021133423, 0.0019378662, 0.002155304, 0.00...      1 -419.280609   \n",
       "\n",
       "       MFCC_2     MFCC_3  ...   MFCC_16   MFCC_17   MFCC_18   MFCC_19  \\\n",
       "0  113.486099  18.810814  ...  0.168235 -0.470244  1.984596  6.285768   \n",
       "1  154.759766  -5.939932  ...  4.807566  1.653242  1.415375  0.412774   \n",
       "2  129.784851  20.890654  ...  0.120793 -7.694414 -1.887065  4.981663   \n",
       "3  106.355804  17.865118  ...  4.231652 -3.307648 -4.035701 -3.882074   \n",
       "4  130.316925   0.243935  ...  4.747648  3.382546  2.288590  0.893118   \n",
       "\n",
       "    MFCC_20  spectral_centroid  spectral_rolloff  spectral_contrast  \\\n",
       "0  2.654916        1266.055936       2858.102037          26.339263   \n",
       "1  0.533738         824.260416       1657.148562          22.740603   \n",
       "2  8.837887        1063.434283       1969.324081          26.106510   \n",
       "3 -3.099382        1486.769328       3365.065895          21.156002   \n",
       "4  2.209656        1200.572023       2400.683906          22.433544   \n",
       "\n",
       "   zero_crossing_rate  autocorrelation  \n",
       "0            0.042744         0.000043  \n",
       "1            0.029732         0.000045  \n",
       "2            0.037813         0.000048  \n",
       "3            0.077304         0.000018  \n",
       "4            0.067153         0.000012  \n",
       "\n",
       "[5 rows x 32 columns]"
      ]
     },
     "execution_count": 10,
     "metadata": {},
     "output_type": "execute_result"
    }
   ],
   "source": [
    "df_all_features.head(5)"
   ]
  },
  {
   "cell_type": "code",
   "execution_count": 11,
   "id": "242d87b8-ee9c-4888-9ded-e539eb77b2f5",
   "metadata": {},
   "outputs": [
    {
     "data": {
      "text/html": [
       "<div>\n",
       "<style scoped>\n",
       "    .dataframe tbody tr th:only-of-type {\n",
       "        vertical-align: middle;\n",
       "    }\n",
       "\n",
       "    .dataframe tbody tr th {\n",
       "        vertical-align: top;\n",
       "    }\n",
       "\n",
       "    .dataframe thead th {\n",
       "        text-align: right;\n",
       "    }\n",
       "</style>\n",
       "<table border=\"1\" class=\"dataframe\">\n",
       "  <thead>\n",
       "    <tr style=\"text-align: right;\">\n",
       "      <th></th>\n",
       "      <th>Sound Source</th>\n",
       "      <th>Machine Type</th>\n",
       "      <th>Classification</th>\n",
       "      <th>.wav File</th>\n",
       "      <th>Sample Rate</th>\n",
       "      <th>Raw Data</th>\n",
       "      <th>label</th>\n",
       "      <th>MFCC_1</th>\n",
       "      <th>MFCC_2</th>\n",
       "      <th>MFCC_3</th>\n",
       "      <th>...</th>\n",
       "      <th>MFCC_16</th>\n",
       "      <th>MFCC_17</th>\n",
       "      <th>MFCC_18</th>\n",
       "      <th>MFCC_19</th>\n",
       "      <th>MFCC_20</th>\n",
       "      <th>spectral_centroid</th>\n",
       "      <th>spectral_rolloff</th>\n",
       "      <th>spectral_contrast</th>\n",
       "      <th>zero_crossing_rate</th>\n",
       "      <th>autocorrelation</th>\n",
       "    </tr>\n",
       "  </thead>\n",
       "  <tbody>\n",
       "    <tr>\n",
       "      <th>54052</th>\n",
       "      <td>valve_pos_6_db</td>\n",
       "      <td>valve</td>\n",
       "      <td>normal</td>\n",
       "      <td>00000083.wav</td>\n",
       "      <td>16000</td>\n",
       "      <td>[-0.0015220642, -0.0024032593, -0.0027389526, ...</td>\n",
       "      <td>0</td>\n",
       "      <td>-461.993317</td>\n",
       "      <td>120.006790</td>\n",
       "      <td>4.047363</td>\n",
       "      <td>...</td>\n",
       "      <td>3.983354</td>\n",
       "      <td>5.578707</td>\n",
       "      <td>-2.271346</td>\n",
       "      <td>-2.386443</td>\n",
       "      <td>0.055717</td>\n",
       "      <td>1354.455519</td>\n",
       "      <td>2729.582668</td>\n",
       "      <td>15.742184</td>\n",
       "      <td>0.075481</td>\n",
       "      <td>0.000004</td>\n",
       "    </tr>\n",
       "    <tr>\n",
       "      <th>54053</th>\n",
       "      <td>valve_pos_6_db</td>\n",
       "      <td>valve</td>\n",
       "      <td>normal</td>\n",
       "      <td>00000097.wav</td>\n",
       "      <td>16000</td>\n",
       "      <td>[-0.0033035278, -0.0030288696, -0.0026435852, ...</td>\n",
       "      <td>0</td>\n",
       "      <td>-467.100433</td>\n",
       "      <td>122.616463</td>\n",
       "      <td>1.585401</td>\n",
       "      <td>...</td>\n",
       "      <td>4.170306</td>\n",
       "      <td>4.880260</td>\n",
       "      <td>-3.512892</td>\n",
       "      <td>-3.420836</td>\n",
       "      <td>0.288180</td>\n",
       "      <td>1297.779951</td>\n",
       "      <td>2619.109425</td>\n",
       "      <td>16.184888</td>\n",
       "      <td>0.071587</td>\n",
       "      <td>0.000004</td>\n",
       "    </tr>\n",
       "    <tr>\n",
       "      <th>54054</th>\n",
       "      <td>valve_pos_6_db</td>\n",
       "      <td>valve</td>\n",
       "      <td>normal</td>\n",
       "      <td>00000068.wav</td>\n",
       "      <td>16000</td>\n",
       "      <td>[-0.0005912781, -1.9073486e-05, 0.00062179565,...</td>\n",
       "      <td>0</td>\n",
       "      <td>-399.985413</td>\n",
       "      <td>46.368267</td>\n",
       "      <td>-6.757586</td>\n",
       "      <td>...</td>\n",
       "      <td>8.408872</td>\n",
       "      <td>1.843847</td>\n",
       "      <td>0.245745</td>\n",
       "      <td>2.056376</td>\n",
       "      <td>0.157858</td>\n",
       "      <td>2730.940755</td>\n",
       "      <td>5277.381190</td>\n",
       "      <td>15.716011</td>\n",
       "      <td>0.258477</td>\n",
       "      <td>0.000003</td>\n",
       "    </tr>\n",
       "    <tr>\n",
       "      <th>54055</th>\n",
       "      <td>valve_pos_6_db</td>\n",
       "      <td>valve</td>\n",
       "      <td>normal</td>\n",
       "      <td>00000040.wav</td>\n",
       "      <td>16000</td>\n",
       "      <td>[-0.00061035156, -0.0008201599, -0.00074768066...</td>\n",
       "      <td>0</td>\n",
       "      <td>-476.076263</td>\n",
       "      <td>123.163536</td>\n",
       "      <td>18.350065</td>\n",
       "      <td>...</td>\n",
       "      <td>1.855357</td>\n",
       "      <td>-0.249104</td>\n",
       "      <td>-0.348117</td>\n",
       "      <td>1.215526</td>\n",
       "      <td>0.913831</td>\n",
       "      <td>1268.054232</td>\n",
       "      <td>2596.270966</td>\n",
       "      <td>15.248544</td>\n",
       "      <td>0.063949</td>\n",
       "      <td>0.000004</td>\n",
       "    </tr>\n",
       "    <tr>\n",
       "      <th>54056</th>\n",
       "      <td>valve_pos_6_db</td>\n",
       "      <td>valve</td>\n",
       "      <td>normal</td>\n",
       "      <td>00000054.wav</td>\n",
       "      <td>16000</td>\n",
       "      <td>[-0.0022010803, -0.0014953613, -0.00020980835,...</td>\n",
       "      <td>0</td>\n",
       "      <td>-445.143768</td>\n",
       "      <td>119.515709</td>\n",
       "      <td>-2.394872</td>\n",
       "      <td>...</td>\n",
       "      <td>4.990331</td>\n",
       "      <td>3.213632</td>\n",
       "      <td>-0.346797</td>\n",
       "      <td>-0.993934</td>\n",
       "      <td>-2.435366</td>\n",
       "      <td>1372.769833</td>\n",
       "      <td>2895.542133</td>\n",
       "      <td>15.384354</td>\n",
       "      <td>0.080554</td>\n",
       "      <td>0.000004</td>\n",
       "    </tr>\n",
       "  </tbody>\n",
       "</table>\n",
       "<p>5 rows × 32 columns</p>\n",
       "</div>"
      ],
      "text/plain": [
       "         Sound Source Machine Type Classification     .wav File  Sample Rate  \\\n",
       "54052  valve_pos_6_db        valve         normal  00000083.wav        16000   \n",
       "54053  valve_pos_6_db        valve         normal  00000097.wav        16000   \n",
       "54054  valve_pos_6_db        valve         normal  00000068.wav        16000   \n",
       "54055  valve_pos_6_db        valve         normal  00000040.wav        16000   \n",
       "54056  valve_pos_6_db        valve         normal  00000054.wav        16000   \n",
       "\n",
       "                                                Raw Data  label      MFCC_1  \\\n",
       "54052  [-0.0015220642, -0.0024032593, -0.0027389526, ...      0 -461.993317   \n",
       "54053  [-0.0033035278, -0.0030288696, -0.0026435852, ...      0 -467.100433   \n",
       "54054  [-0.0005912781, -1.9073486e-05, 0.00062179565,...      0 -399.985413   \n",
       "54055  [-0.00061035156, -0.0008201599, -0.00074768066...      0 -476.076263   \n",
       "54056  [-0.0022010803, -0.0014953613, -0.00020980835,...      0 -445.143768   \n",
       "\n",
       "           MFCC_2     MFCC_3  ...   MFCC_16   MFCC_17   MFCC_18   MFCC_19  \\\n",
       "54052  120.006790   4.047363  ...  3.983354  5.578707 -2.271346 -2.386443   \n",
       "54053  122.616463   1.585401  ...  4.170306  4.880260 -3.512892 -3.420836   \n",
       "54054   46.368267  -6.757586  ...  8.408872  1.843847  0.245745  2.056376   \n",
       "54055  123.163536  18.350065  ...  1.855357 -0.249104 -0.348117  1.215526   \n",
       "54056  119.515709  -2.394872  ...  4.990331  3.213632 -0.346797 -0.993934   \n",
       "\n",
       "        MFCC_20  spectral_centroid  spectral_rolloff  spectral_contrast  \\\n",
       "54052  0.055717        1354.455519       2729.582668          15.742184   \n",
       "54053  0.288180        1297.779951       2619.109425          16.184888   \n",
       "54054  0.157858        2730.940755       5277.381190          15.716011   \n",
       "54055  0.913831        1268.054232       2596.270966          15.248544   \n",
       "54056 -2.435366        1372.769833       2895.542133          15.384354   \n",
       "\n",
       "       zero_crossing_rate  autocorrelation  \n",
       "54052            0.075481         0.000004  \n",
       "54053            0.071587         0.000004  \n",
       "54054            0.258477         0.000003  \n",
       "54055            0.063949         0.000004  \n",
       "54056            0.080554         0.000004  \n",
       "\n",
       "[5 rows x 32 columns]"
      ]
     },
     "execution_count": 11,
     "metadata": {},
     "output_type": "execute_result"
    }
   ],
   "source": [
    "df_all_features.tail(5)"
   ]
  },
  {
   "cell_type": "code",
   "execution_count": null,
   "id": "4ce4bf03-e6b0-430d-987e-c0c83734ef27",
   "metadata": {},
   "outputs": [],
   "source": [
    "df_all_features.to_pickle(current_dir + \"/data/full_audio_data.pkl\")"
   ]
  },
  {
   "cell_type": "markdown",
   "id": "00a6046b-e51a-4946-b4fd-ade3e7e4c18d",
   "metadata": {},
   "source": [
    "# Binary Classification: Normal or Abnormal Sounds"
   ]
  },
  {
   "cell_type": "code",
   "execution_count": 12,
   "id": "1799c7c2-501c-4154-87fb-1398678980e1",
   "metadata": {},
   "outputs": [],
   "source": [
    "# Split dataframes by machine type\n",
    "df_fan = df_all_features[df_all_features[\"Machine Type\"] == \"fan\"]\n",
    "df_pump = df_all_features[df_all_features[\"Machine Type\"] == \"pump\"]\n",
    "df_slider = df_all_features[df_all_features[\"Machine Type\"] == \"slider\"]\n",
    "df_valve = df_all_features[df_all_features[\"Machine Type\"] == \"valve\"]"
   ]
  },
  {
   "cell_type": "code",
   "execution_count": 13,
   "id": "0c4d9cd1-5cf9-45d6-a51e-67bfba8d7208",
   "metadata": {},
   "outputs": [],
   "source": [
    "min_max_scaler = preprocessing.MinMaxScaler()\n",
    "le = LabelEncoder()"
   ]
  },
  {
   "cell_type": "markdown",
   "id": "726236f3-3612-4309-bbf1-20b8993cf8bf",
   "metadata": {},
   "source": [
    "### Fans"
   ]
  },
  {
   "cell_type": "code",
   "execution_count": 14,
   "id": "8e2094d2-df3d-48f4-93da-97305ffab3a2",
   "metadata": {},
   "outputs": [],
   "source": [
    "y_fan = df_fan['label']\n",
    "y_fan = le.fit_transform(y_fan)"
   ]
  },
  {
   "cell_type": "code",
   "execution_count": 15,
   "id": "0b4c66e0-a027-4648-8abd-fde8988e52b1",
   "metadata": {},
   "outputs": [
    {
     "data": {
      "text/plain": [
       "['MFCC_1',\n",
       " 'MFCC_2',\n",
       " 'MFCC_3',\n",
       " 'MFCC_4',\n",
       " 'MFCC_5',\n",
       " 'MFCC_6',\n",
       " 'MFCC_7',\n",
       " 'MFCC_8',\n",
       " 'MFCC_9',\n",
       " 'MFCC_10',\n",
       " 'MFCC_11',\n",
       " 'MFCC_12',\n",
       " 'MFCC_13',\n",
       " 'MFCC_14',\n",
       " 'MFCC_15',\n",
       " 'MFCC_16',\n",
       " 'MFCC_17',\n",
       " 'MFCC_18',\n",
       " 'MFCC_19',\n",
       " 'MFCC_20',\n",
       " 'spectral_centroid',\n",
       " 'spectral_rolloff',\n",
       " 'spectral_contrast',\n",
       " 'zero_crossing_rate',\n",
       " 'autocorrelation']"
      ]
     },
     "execution_count": 15,
     "metadata": {},
     "output_type": "execute_result"
    }
   ],
   "source": [
    "feature_names"
   ]
  },
  {
   "cell_type": "code",
   "execution_count": 16,
   "id": "4f5e0408-fb53-4a9a-9468-ac274fb695c9",
   "metadata": {},
   "outputs": [
    {
     "data": {
      "text/html": [
       "<div>\n",
       "<style scoped>\n",
       "    .dataframe tbody tr th:only-of-type {\n",
       "        vertical-align: middle;\n",
       "    }\n",
       "\n",
       "    .dataframe tbody tr th {\n",
       "        vertical-align: top;\n",
       "    }\n",
       "\n",
       "    .dataframe thead th {\n",
       "        text-align: right;\n",
       "    }\n",
       "</style>\n",
       "<table border=\"1\" class=\"dataframe\">\n",
       "  <thead>\n",
       "    <tr style=\"text-align: right;\">\n",
       "      <th></th>\n",
       "      <th>MFCC_1</th>\n",
       "      <th>MFCC_2</th>\n",
       "      <th>MFCC_3</th>\n",
       "      <th>MFCC_4</th>\n",
       "      <th>MFCC_5</th>\n",
       "      <th>MFCC_6</th>\n",
       "      <th>MFCC_7</th>\n",
       "      <th>MFCC_8</th>\n",
       "      <th>MFCC_9</th>\n",
       "      <th>MFCC_10</th>\n",
       "      <th>...</th>\n",
       "      <th>MFCC_16</th>\n",
       "      <th>MFCC_17</th>\n",
       "      <th>MFCC_18</th>\n",
       "      <th>MFCC_19</th>\n",
       "      <th>MFCC_20</th>\n",
       "      <th>spectral_centroid</th>\n",
       "      <th>spectral_rolloff</th>\n",
       "      <th>spectral_contrast</th>\n",
       "      <th>zero_crossing_rate</th>\n",
       "      <th>autocorrelation</th>\n",
       "    </tr>\n",
       "  </thead>\n",
       "  <tbody>\n",
       "    <tr>\n",
       "      <th>0</th>\n",
       "      <td>-371.859314</td>\n",
       "      <td>113.486099</td>\n",
       "      <td>18.810814</td>\n",
       "      <td>17.080877</td>\n",
       "      <td>1.204625</td>\n",
       "      <td>9.886292</td>\n",
       "      <td>11.080414</td>\n",
       "      <td>11.740403</td>\n",
       "      <td>-5.676914</td>\n",
       "      <td>3.241524</td>\n",
       "      <td>...</td>\n",
       "      <td>0.168235</td>\n",
       "      <td>-0.470244</td>\n",
       "      <td>1.984596</td>\n",
       "      <td>6.285768</td>\n",
       "      <td>2.654916</td>\n",
       "      <td>1266.055936</td>\n",
       "      <td>2858.102037</td>\n",
       "      <td>26.339263</td>\n",
       "      <td>0.042744</td>\n",
       "      <td>0.000043</td>\n",
       "    </tr>\n",
       "    <tr>\n",
       "      <th>1</th>\n",
       "      <td>-397.188812</td>\n",
       "      <td>154.759766</td>\n",
       "      <td>-5.939932</td>\n",
       "      <td>36.076820</td>\n",
       "      <td>1.171455</td>\n",
       "      <td>16.975294</td>\n",
       "      <td>-1.910571</td>\n",
       "      <td>5.978245</td>\n",
       "      <td>0.101822</td>\n",
       "      <td>6.181811</td>\n",
       "      <td>...</td>\n",
       "      <td>4.807566</td>\n",
       "      <td>1.653242</td>\n",
       "      <td>1.415375</td>\n",
       "      <td>0.412774</td>\n",
       "      <td>0.533738</td>\n",
       "      <td>824.260416</td>\n",
       "      <td>1657.148562</td>\n",
       "      <td>22.740603</td>\n",
       "      <td>0.029732</td>\n",
       "      <td>0.000045</td>\n",
       "    </tr>\n",
       "    <tr>\n",
       "      <th>2</th>\n",
       "      <td>-388.468506</td>\n",
       "      <td>129.784851</td>\n",
       "      <td>20.890654</td>\n",
       "      <td>7.433893</td>\n",
       "      <td>8.337717</td>\n",
       "      <td>8.820606</td>\n",
       "      <td>7.673026</td>\n",
       "      <td>11.175337</td>\n",
       "      <td>6.273690</td>\n",
       "      <td>0.861285</td>\n",
       "      <td>...</td>\n",
       "      <td>0.120793</td>\n",
       "      <td>-7.694414</td>\n",
       "      <td>-1.887065</td>\n",
       "      <td>4.981663</td>\n",
       "      <td>8.837887</td>\n",
       "      <td>1063.434283</td>\n",
       "      <td>1969.324081</td>\n",
       "      <td>26.106510</td>\n",
       "      <td>0.037813</td>\n",
       "      <td>0.000048</td>\n",
       "    </tr>\n",
       "    <tr>\n",
       "      <th>3</th>\n",
       "      <td>-366.914093</td>\n",
       "      <td>106.355804</td>\n",
       "      <td>17.865118</td>\n",
       "      <td>18.438393</td>\n",
       "      <td>-0.680915</td>\n",
       "      <td>4.703062</td>\n",
       "      <td>7.155754</td>\n",
       "      <td>-0.872129</td>\n",
       "      <td>-2.990783</td>\n",
       "      <td>9.555454</td>\n",
       "      <td>...</td>\n",
       "      <td>4.231652</td>\n",
       "      <td>-3.307648</td>\n",
       "      <td>-4.035701</td>\n",
       "      <td>-3.882074</td>\n",
       "      <td>-3.099382</td>\n",
       "      <td>1486.769328</td>\n",
       "      <td>3365.065895</td>\n",
       "      <td>21.156002</td>\n",
       "      <td>0.077304</td>\n",
       "      <td>0.000018</td>\n",
       "    </tr>\n",
       "    <tr>\n",
       "      <th>4</th>\n",
       "      <td>-419.280609</td>\n",
       "      <td>130.316925</td>\n",
       "      <td>0.243935</td>\n",
       "      <td>24.220707</td>\n",
       "      <td>0.952382</td>\n",
       "      <td>10.387427</td>\n",
       "      <td>0.529726</td>\n",
       "      <td>4.714439</td>\n",
       "      <td>1.933908</td>\n",
       "      <td>2.826862</td>\n",
       "      <td>...</td>\n",
       "      <td>4.747648</td>\n",
       "      <td>3.382546</td>\n",
       "      <td>2.288590</td>\n",
       "      <td>0.893118</td>\n",
       "      <td>2.209656</td>\n",
       "      <td>1200.572023</td>\n",
       "      <td>2400.683906</td>\n",
       "      <td>22.433544</td>\n",
       "      <td>0.067153</td>\n",
       "      <td>0.000012</td>\n",
       "    </tr>\n",
       "    <tr>\n",
       "      <th>...</th>\n",
       "      <td>...</td>\n",
       "      <td>...</td>\n",
       "      <td>...</td>\n",
       "      <td>...</td>\n",
       "      <td>...</td>\n",
       "      <td>...</td>\n",
       "      <td>...</td>\n",
       "      <td>...</td>\n",
       "      <td>...</td>\n",
       "      <td>...</td>\n",
       "      <td>...</td>\n",
       "      <td>...</td>\n",
       "      <td>...</td>\n",
       "      <td>...</td>\n",
       "      <td>...</td>\n",
       "      <td>...</td>\n",
       "      <td>...</td>\n",
       "      <td>...</td>\n",
       "      <td>...</td>\n",
       "      <td>...</td>\n",
       "      <td>...</td>\n",
       "    </tr>\n",
       "    <tr>\n",
       "      <th>16645</th>\n",
       "      <td>-289.845154</td>\n",
       "      <td>115.345360</td>\n",
       "      <td>-8.021118</td>\n",
       "      <td>25.872128</td>\n",
       "      <td>-0.576749</td>\n",
       "      <td>7.003337</td>\n",
       "      <td>-3.896083</td>\n",
       "      <td>4.549372</td>\n",
       "      <td>-0.550484</td>\n",
       "      <td>4.081668</td>\n",
       "      <td>...</td>\n",
       "      <td>1.510764</td>\n",
       "      <td>-0.128047</td>\n",
       "      <td>0.168220</td>\n",
       "      <td>1.743035</td>\n",
       "      <td>0.791535</td>\n",
       "      <td>1395.047386</td>\n",
       "      <td>2952.600839</td>\n",
       "      <td>17.417328</td>\n",
       "      <td>0.089538</td>\n",
       "      <td>0.000055</td>\n",
       "    </tr>\n",
       "    <tr>\n",
       "      <th>16646</th>\n",
       "      <td>-290.003784</td>\n",
       "      <td>116.386360</td>\n",
       "      <td>-6.261634</td>\n",
       "      <td>26.947845</td>\n",
       "      <td>-0.972674</td>\n",
       "      <td>5.020364</td>\n",
       "      <td>-4.700207</td>\n",
       "      <td>4.268027</td>\n",
       "      <td>-2.059419</td>\n",
       "      <td>2.563062</td>\n",
       "      <td>...</td>\n",
       "      <td>0.623116</td>\n",
       "      <td>-0.949848</td>\n",
       "      <td>-1.193861</td>\n",
       "      <td>0.411840</td>\n",
       "      <td>0.851374</td>\n",
       "      <td>1382.261180</td>\n",
       "      <td>2925.344449</td>\n",
       "      <td>17.452538</td>\n",
       "      <td>0.087015</td>\n",
       "      <td>0.000056</td>\n",
       "    </tr>\n",
       "    <tr>\n",
       "      <th>16647</th>\n",
       "      <td>-291.225800</td>\n",
       "      <td>115.094711</td>\n",
       "      <td>-6.148879</td>\n",
       "      <td>26.874372</td>\n",
       "      <td>-1.063623</td>\n",
       "      <td>6.478925</td>\n",
       "      <td>-3.760066</td>\n",
       "      <td>5.358610</td>\n",
       "      <td>-0.555379</td>\n",
       "      <td>3.806834</td>\n",
       "      <td>...</td>\n",
       "      <td>1.697564</td>\n",
       "      <td>0.455676</td>\n",
       "      <td>0.949088</td>\n",
       "      <td>1.193066</td>\n",
       "      <td>0.358778</td>\n",
       "      <td>1393.097554</td>\n",
       "      <td>2969.523762</td>\n",
       "      <td>17.881778</td>\n",
       "      <td>0.087430</td>\n",
       "      <td>0.000054</td>\n",
       "    </tr>\n",
       "    <tr>\n",
       "      <th>16648</th>\n",
       "      <td>-303.369293</td>\n",
       "      <td>115.575081</td>\n",
       "      <td>-1.230798</td>\n",
       "      <td>25.511805</td>\n",
       "      <td>1.026673</td>\n",
       "      <td>3.466041</td>\n",
       "      <td>-5.279933</td>\n",
       "      <td>1.947524</td>\n",
       "      <td>1.214805</td>\n",
       "      <td>4.300354</td>\n",
       "      <td>...</td>\n",
       "      <td>-0.224103</td>\n",
       "      <td>-1.034999</td>\n",
       "      <td>1.217464</td>\n",
       "      <td>3.748657</td>\n",
       "      <td>1.893888</td>\n",
       "      <td>1373.806433</td>\n",
       "      <td>2969.573682</td>\n",
       "      <td>15.121883</td>\n",
       "      <td>0.085081</td>\n",
       "      <td>0.000051</td>\n",
       "    </tr>\n",
       "    <tr>\n",
       "      <th>16649</th>\n",
       "      <td>-295.753784</td>\n",
       "      <td>104.712288</td>\n",
       "      <td>-5.246375</td>\n",
       "      <td>8.855892</td>\n",
       "      <td>-1.208456</td>\n",
       "      <td>1.483178</td>\n",
       "      <td>-0.483537</td>\n",
       "      <td>2.962756</td>\n",
       "      <td>-3.613970</td>\n",
       "      <td>0.585309</td>\n",
       "      <td>...</td>\n",
       "      <td>-5.191081</td>\n",
       "      <td>-2.130761</td>\n",
       "      <td>4.452005</td>\n",
       "      <td>1.585678</td>\n",
       "      <td>-1.938254</td>\n",
       "      <td>1595.276232</td>\n",
       "      <td>3330.146765</td>\n",
       "      <td>21.831981</td>\n",
       "      <td>0.105459</td>\n",
       "      <td>0.000050</td>\n",
       "    </tr>\n",
       "  </tbody>\n",
       "</table>\n",
       "<p>16650 rows × 25 columns</p>\n",
       "</div>"
      ],
      "text/plain": [
       "           MFCC_1      MFCC_2     MFCC_3     MFCC_4    MFCC_5     MFCC_6  \\\n",
       "0     -371.859314  113.486099  18.810814  17.080877  1.204625   9.886292   \n",
       "1     -397.188812  154.759766  -5.939932  36.076820  1.171455  16.975294   \n",
       "2     -388.468506  129.784851  20.890654   7.433893  8.337717   8.820606   \n",
       "3     -366.914093  106.355804  17.865118  18.438393 -0.680915   4.703062   \n",
       "4     -419.280609  130.316925   0.243935  24.220707  0.952382  10.387427   \n",
       "...           ...         ...        ...        ...       ...        ...   \n",
       "16645 -289.845154  115.345360  -8.021118  25.872128 -0.576749   7.003337   \n",
       "16646 -290.003784  116.386360  -6.261634  26.947845 -0.972674   5.020364   \n",
       "16647 -291.225800  115.094711  -6.148879  26.874372 -1.063623   6.478925   \n",
       "16648 -303.369293  115.575081  -1.230798  25.511805  1.026673   3.466041   \n",
       "16649 -295.753784  104.712288  -5.246375   8.855892 -1.208456   1.483178   \n",
       "\n",
       "          MFCC_7     MFCC_8    MFCC_9   MFCC_10  ...   MFCC_16   MFCC_17  \\\n",
       "0      11.080414  11.740403 -5.676914  3.241524  ...  0.168235 -0.470244   \n",
       "1      -1.910571   5.978245  0.101822  6.181811  ...  4.807566  1.653242   \n",
       "2       7.673026  11.175337  6.273690  0.861285  ...  0.120793 -7.694414   \n",
       "3       7.155754  -0.872129 -2.990783  9.555454  ...  4.231652 -3.307648   \n",
       "4       0.529726   4.714439  1.933908  2.826862  ...  4.747648  3.382546   \n",
       "...          ...        ...       ...       ...  ...       ...       ...   \n",
       "16645  -3.896083   4.549372 -0.550484  4.081668  ...  1.510764 -0.128047   \n",
       "16646  -4.700207   4.268027 -2.059419  2.563062  ...  0.623116 -0.949848   \n",
       "16647  -3.760066   5.358610 -0.555379  3.806834  ...  1.697564  0.455676   \n",
       "16648  -5.279933   1.947524  1.214805  4.300354  ... -0.224103 -1.034999   \n",
       "16649  -0.483537   2.962756 -3.613970  0.585309  ... -5.191081 -2.130761   \n",
       "\n",
       "        MFCC_18   MFCC_19   MFCC_20  spectral_centroid  spectral_rolloff  \\\n",
       "0      1.984596  6.285768  2.654916        1266.055936       2858.102037   \n",
       "1      1.415375  0.412774  0.533738         824.260416       1657.148562   \n",
       "2     -1.887065  4.981663  8.837887        1063.434283       1969.324081   \n",
       "3     -4.035701 -3.882074 -3.099382        1486.769328       3365.065895   \n",
       "4      2.288590  0.893118  2.209656        1200.572023       2400.683906   \n",
       "...         ...       ...       ...                ...               ...   \n",
       "16645  0.168220  1.743035  0.791535        1395.047386       2952.600839   \n",
       "16646 -1.193861  0.411840  0.851374        1382.261180       2925.344449   \n",
       "16647  0.949088  1.193066  0.358778        1393.097554       2969.523762   \n",
       "16648  1.217464  3.748657  1.893888        1373.806433       2969.573682   \n",
       "16649  4.452005  1.585678 -1.938254        1595.276232       3330.146765   \n",
       "\n",
       "       spectral_contrast  zero_crossing_rate  autocorrelation  \n",
       "0              26.339263            0.042744         0.000043  \n",
       "1              22.740603            0.029732         0.000045  \n",
       "2              26.106510            0.037813         0.000048  \n",
       "3              21.156002            0.077304         0.000018  \n",
       "4              22.433544            0.067153         0.000012  \n",
       "...                  ...                 ...              ...  \n",
       "16645          17.417328            0.089538         0.000055  \n",
       "16646          17.452538            0.087015         0.000056  \n",
       "16647          17.881778            0.087430         0.000054  \n",
       "16648          15.121883            0.085081         0.000051  \n",
       "16649          21.831981            0.105459         0.000050  \n",
       "\n",
       "[16650 rows x 25 columns]"
      ]
     },
     "execution_count": 16,
     "metadata": {},
     "output_type": "execute_result"
    }
   ],
   "source": [
    "df_fan[feature_names]"
   ]
  },
  {
   "cell_type": "code",
   "execution_count": 17,
   "id": "ab19b80c-8104-42b1-b57a-4dedcda82474",
   "metadata": {},
   "outputs": [],
   "source": [
    "X_fan = df_fan[feature_names]\n",
    "cols_fan = X_fan.columns\n",
    "np_scaled_fan = min_max_scaler.fit_transform(X_fan)\n"
   ]
  },
  {
   "cell_type": "code",
   "execution_count": 18,
   "id": "60961ec9-ea78-4584-bf83-ddafbb9283da",
   "metadata": {},
   "outputs": [],
   "source": [
    "# new data frame with the new scaled data. \n",
    "X_fan = pd.DataFrame(np_scaled_fan, columns = cols_fan)"
   ]
  },
  {
   "cell_type": "code",
   "execution_count": 19,
   "id": "e97e35ce-85e5-4302-9403-88a2e6940abe",
   "metadata": {},
   "outputs": [],
   "source": [
    "X_train_fan, X_test_fan, y_train_fan, y_test_fan = train_test_split(X_fan,\n",
    "                                                                    y_fan,\n",
    "                                                                    test_size=0.2,\n",
    "                                                                    random_state=42,\n",
    "                                                                    stratify=y_fan,\n",
    "                                                                    shuffle=True)"
   ]
  },
  {
   "cell_type": "code",
   "execution_count": 20,
   "id": "388633ad-e9f0-4e30-b517-b356c29f9cc4",
   "metadata": {},
   "outputs": [
    {
     "name": "stdout",
     "output_type": "stream",
     "text": [
      "Accuracy: 0.83814 \n",
      "\n",
      "Precision: 0.80565 \n",
      "\n",
      "Recall: 0.51525 \n",
      "\n",
      "F1 Score: 0.62853 \n",
      "\n"
     ]
    }
   ],
   "source": [
    "# Logistic Regression\n",
    "lg_fan = LogisticRegression(random_state=16, solver='liblinear', max_iter=5000, multi_class=\"ovr\")\n",
    "lg_fan.fit(X_train_fan, y_train_fan)\n",
    "preds_fan = lg_fan.predict(X_test_fan)\n",
    "#print(confusion_matrix(y_test, preds))\n",
    "print('Accuracy:', round(accuracy_score(y_test_fan, preds_fan), 5), '\\n')\n",
    "print('Precision:', round(precision_score(y_test_fan, preds_fan, average='binary'), 5), '\\n')\n",
    "print('Recall:', round(recall_score(y_test_fan, preds_fan, average='binary'), 5), '\\n')\n",
    "print('F1 Score:', round(f1_score(y_test_fan, preds_fan, average='binary'), 5), '\\n')"
   ]
  },
  {
   "cell_type": "code",
   "execution_count": 21,
   "id": "61778f8c-df41-4c3f-be1e-ff1f188d698a",
   "metadata": {},
   "outputs": [],
   "source": [
    "cm = confusion_matrix(y_test_fan, preds_fan, labels=lg_fan.classes_)"
   ]
  },
  {
   "cell_type": "code",
   "execution_count": 22,
   "id": "7bf56e54-f7f3-4c44-b0de-1da26e6e3e68",
   "metadata": {},
   "outputs": [
    {
     "data": {
      "text/plain": [
       "<sklearn.metrics._plot.confusion_matrix.ConfusionMatrixDisplay at 0x15f309ad0>"
      ]
     },
     "execution_count": 22,
     "metadata": {},
     "output_type": "execute_result"
    },
    {
     "data": {
      "image/png": "[encoded data removed]",
      "text/plain": [
       "<Figure size 640x480 with 2 Axes>"
      ]
     },
     "metadata": {},
     "output_type": "display_data"
    }
   ],
   "source": [
    "disp = ConfusionMatrixDisplay(confusion_matrix=cm, display_labels=lg_fan.classes_)\n",
    "disp.plot()"
   ]
  },
  {
   "cell_type": "code",
   "execution_count": 23,
   "id": "ca007be9-95de-4795-bb1b-6f183c9403ae",
   "metadata": {},
   "outputs": [
    {
     "data": {
      "image/png": "[encoded data removed]",
      "text/plain": [
       "<Figure size 800x600 with 2 Axes>"
      ]
     },
     "metadata": {},
     "output_type": "display_data"
    }
   ],
   "source": [
    "plt.figure(figsize=(8, 6))\n",
    "sns.heatmap(cm, annot=True, fmt='d', cmap='Blues', xticklabels=['Normal', 'Abormal'], yticklabels=['Normal', 'Abnormal'])\n",
    "plt.ylabel('True label')\n",
    "plt.xlabel('Predicted label')\n",
    "plt.title('Confusion Matrix')\n",
    "plt.show()"
   ]
  },
  {
   "cell_type": "markdown",
   "id": "96bb8f38-cf13-4922-86b9-89a7279bf202",
   "metadata": {},
   "source": [
    "### Stratified k-Fold Cross-Validation for Fans"
   ]
  },
  {
   "cell_type": "code",
   "execution_count": 72,
   "id": "e2544bc2-c040-4a84-94a4-7ec960df35c9",
   "metadata": {},
   "outputs": [
    {
     "name": "stdout",
     "output_type": "stream",
     "text": [
      "Cross-validation scores: [0.83723724 0.86876877 0.85615616 0.76996997 0.78828829]\n",
      "Average cross-validation score: 0.82\n"
     ]
    }
   ],
   "source": [
    "k_fold_fan = KFold(n_splits=10, shuffle=True, random_state=0)\n",
    "\n",
    "scores_fan = cross_val_score(estimator=lg_fan,\n",
    "                              X=X_fan,\n",
    "                              y=y_fan,\n",
    "                              groups=None,\n",
    "                              scoring=None,\n",
    "                              cv=5,\n",
    "                              n_jobs=None,\n",
    "                              verbose=0,\n",
    "                              error_score=np.nan)\n",
    "\n",
    "print(f\"Cross-validation scores: {scores_fan}\")\n",
    "print(f\"Average cross-validation score: {scores_fan.mean():.2f}\")"
   ]
  },
  {
   "cell_type": "code",
   "execution_count": 73,
   "id": "8ae4e25a-9da4-4af4-b86e-996b33f8679e",
   "metadata": {},
   "outputs": [
    {
     "name": "stdout",
     "output_type": "stream",
     "text": [
      "Cross-validation scores: [0.83903904 0.83663664 0.83243243 0.83063063 0.82642643 0.83543544\n",
      " 0.83903904 0.83783784 0.84204204 0.84324324]\n",
      "Average cross-validation score: 0.84\n"
     ]
    }
   ],
   "source": [
    "scores_fan = cross_val_score(estimator=lg_fan,\n",
    "                              X=X_fan,\n",
    "                              y=y_fan,\n",
    "                              groups=None,\n",
    "                              scoring=None,\n",
    "                              cv=k_fold_fan,\n",
    "                              n_jobs=None,\n",
    "                              verbose=0,\n",
    "                              error_score=np.nan)\n",
    "\n",
    "print(f\"Cross-validation scores: {scores_fan}\")\n",
    "print(f\"Average cross-validation score: {scores_fan.mean():.2f}\")"
   ]
  },
  {
   "cell_type": "code",
   "execution_count": null,
   "id": "fa84d3a8-4e8f-49b9-9e1a-50b02edb7522",
   "metadata": {},
   "outputs": [],
   "source": []
  },
  {
   "cell_type": "markdown",
   "id": "03734a3c-cbb8-4233-b382-79246d763af3",
   "metadata": {},
   "source": [
    "### GridSearch Cross-Validation for Fans"
   ]
  },
  {
   "cell_type": "code",
   "execution_count": 74,
   "id": "b3d12226-42f1-480e-86fd-003e97d78208",
   "metadata": {},
   "outputs": [
    {
     "name": "stderr",
     "output_type": "stream",
     "text": [
      "/opt/anaconda3/envs/dev_tf_audio_class/lib/python3.11/site-packages/sklearn/svm/_base.py:1244: ConvergenceWarning: Liblinear failed to converge, increase the number of iterations.\n",
      "  warnings.warn(\n",
      "/opt/anaconda3/envs/dev_tf_audio_class/lib/python3.11/site-packages/sklearn/svm/_base.py:1244: ConvergenceWarning: Liblinear failed to converge, increase the number of iterations.\n",
      "  warnings.warn(\n",
      "/opt/anaconda3/envs/dev_tf_audio_class/lib/python3.11/site-packages/sklearn/svm/_base.py:1244: ConvergenceWarning: Liblinear failed to converge, increase the number of iterations.\n",
      "  warnings.warn(\n",
      "/opt/anaconda3/envs/dev_tf_audio_class/lib/python3.11/site-packages/sklearn/svm/_base.py:1244: ConvergenceWarning: Liblinear failed to converge, increase the number of iterations.\n",
      "  warnings.warn(\n",
      "/opt/anaconda3/envs/dev_tf_audio_class/lib/python3.11/site-packages/sklearn/svm/_base.py:1244: ConvergenceWarning: Liblinear failed to converge, increase the number of iterations.\n",
      "  warnings.warn(\n"
     ]
    },
    {
     "data": {
      "text/html": [
       "<style>#sk-container-id-4 {color: black;background-color: white;}#sk-container-id-4 pre{padding: 0;}#sk-container-id-4 div.sk-toggleable {background-color: white;}#sk-container-id-4 label.sk-toggleable__label {cursor: pointer;display: block;width: 100%;margin-bottom: 0;padding: 0.3em;box-sizing: border-box;text-align: center;}#sk-container-id-4 label.sk-toggleable__label-arrow:before {content: \"▸\";float: left;margin-right: 0.25em;color: #696969;}#sk-container-id-4 label.sk-toggleable__label-arrow:hover:before {color: black;}#sk-container-id-4 div.sk-estimator:hover label.sk-toggleable__label-arrow:before {color: black;}#sk-container-id-4 div.sk-toggleable__content {max-height: 0;max-width: 0;overflow: hidden;text-align: left;background-color: #f0f8ff;}#sk-container-id-4 div.sk-toggleable__content pre {margin: 0.2em;color: black;border-radius: 0.25em;background-color: #f0f8ff;}#sk-container-id-4 input.sk-toggleable__control:checked~div.sk-toggleable__content {max-height: 200px;max-width: 100%;overflow: auto;}#sk-container-id-4 input.sk-toggleable__control:checked~label.sk-toggleable__label-arrow:before {content: \"▾\";}#sk-container-id-4 div.sk-estimator input.sk-toggleable__control:checked~label.sk-toggleable__label {background-color: #d4ebff;}#sk-container-id-4 div.sk-label input.sk-toggleable__control:checked~label.sk-toggleable__label {background-color: #d4ebff;}#sk-container-id-4 input.sk-hidden--visually {border: 0;clip: rect(1px 1px 1px 1px);clip: rect(1px, 1px, 1px, 1px);height: 1px;margin: -1px;overflow: hidden;padding: 0;position: absolute;width: 1px;}#sk-container-id-4 div.sk-estimator {font-family: monospace;background-color: #f0f8ff;border: 1px dotted black;border-radius: 0.25em;box-sizing: border-box;margin-bottom: 0.5em;}#sk-container-id-4 div.sk-estimator:hover {background-color: #d4ebff;}#sk-container-id-4 div.sk-parallel-item::after {content: \"\";width: 100%;border-bottom: 1px solid gray;flex-grow: 1;}#sk-container-id-4 div.sk-label:hover label.sk-toggleable__label {background-color: #d4ebff;}#sk-container-id-4 div.sk-serial::before {content: \"\";position: absolute;border-left: 1px solid gray;box-sizing: border-box;top: 0;bottom: 0;left: 50%;z-index: 0;}#sk-container-id-4 div.sk-serial {display: flex;flex-direction: column;align-items: center;background-color: white;padding-right: 0.2em;padding-left: 0.2em;position: relative;}#sk-container-id-4 div.sk-item {position: relative;z-index: 1;}#sk-container-id-4 div.sk-parallel {display: flex;align-items: stretch;justify-content: center;background-color: white;position: relative;}#sk-container-id-4 div.sk-item::before, #sk-container-id-4 div.sk-parallel-item::before {content: \"\";position: absolute;border-left: 1px solid gray;box-sizing: border-box;top: 0;bottom: 0;left: 50%;z-index: -1;}#sk-container-id-4 div.sk-parallel-item {display: flex;flex-direction: column;z-index: 1;position: relative;background-color: white;}#sk-container-id-4 div.sk-parallel-item:first-child::after {align-self: flex-end;width: 50%;}#sk-container-id-4 div.sk-parallel-item:last-child::after {align-self: flex-start;width: 50%;}#sk-container-id-4 div.sk-parallel-item:only-child::after {width: 0;}#sk-container-id-4 div.sk-dashed-wrapped {border: 1px dashed gray;margin: 0 0.4em 0.5em 0.4em;box-sizing: border-box;padding-bottom: 0.4em;background-color: white;}#sk-container-id-4 div.sk-label label {font-family: monospace;font-weight: bold;display: inline-block;line-height: 1.2em;}#sk-container-id-4 div.sk-label-container {text-align: center;}#sk-container-id-4 div.sk-container {/* jupyter's `normalize.less` sets `[hidden] { display: none; }` but bootstrap.min.css set `[hidden] { display: none !important; }` so we also need the `!important` here to be able to override the default hidden behavior on the sphinx rendered scikit-learn.org. See: https://github.com/scikit-learn/scikit-learn/issues/21755 */display: inline-block !important;position: relative;}#sk-container-id-4 div.sk-text-repr-fallback {display: none;}</style><div id=\"sk-container-id-4\" class=\"sk-top-container\"><div class=\"sk-text-repr-fallback\"><pre>GridSearchCV(estimator=LogisticRegression(),\n",
       "             param_grid=[{&#x27;C&#x27;: array([1.00000000e-04, 2.63665090e-04, 6.95192796e-04, 1.83298071e-03,\n",
       "       4.83293024e-03, 1.27427499e-02, 3.35981829e-02, 8.85866790e-02,\n",
       "       2.33572147e-01, 6.15848211e-01, 1.62377674e+00, 4.28133240e+00,\n",
       "       1.12883789e+01, 2.97635144e+01, 7.84759970e+01, 2.06913808e+02,\n",
       "       5.45559478e+02, 1.43844989e+03, 3.79269019e+03, 1.00000000e+04]),\n",
       "                          &#x27;penalty&#x27;: [&#x27;l1&#x27;, &#x27;l2&#x27;], &#x27;solver&#x27;: [&#x27;liblinear&#x27;]}])</pre><b>In a Jupyter environment, please rerun this cell to show the HTML representation or trust the notebook. <br />On GitHub, the HTML representation is unable to render, please try loading this page with nbviewer.org.</b></div><div class=\"sk-container\" hidden><div class=\"sk-item sk-dashed-wrapped\"><div class=\"sk-label-container\"><div class=\"sk-label sk-toggleable\"><input class=\"sk-toggleable__control sk-hidden--visually\" id=\"sk-estimator-id-10\" type=\"checkbox\" ><label for=\"sk-estimator-id-10\" class=\"sk-toggleable__label sk-toggleable__label-arrow\">GridSearchCV</label><div class=\"sk-toggleable__content\"><pre>GridSearchCV(estimator=LogisticRegression(),\n",
       "             param_grid=[{&#x27;C&#x27;: array([1.00000000e-04, 2.63665090e-04, 6.95192796e-04, 1.83298071e-03,\n",
       "       4.83293024e-03, 1.27427499e-02, 3.35981829e-02, 8.85866790e-02,\n",
       "       2.33572147e-01, 6.15848211e-01, 1.62377674e+00, 4.28133240e+00,\n",
       "       1.12883789e+01, 2.97635144e+01, 7.84759970e+01, 2.06913808e+02,\n",
       "       5.45559478e+02, 1.43844989e+03, 3.79269019e+03, 1.00000000e+04]),\n",
       "                          &#x27;penalty&#x27;: [&#x27;l1&#x27;, &#x27;l2&#x27;], &#x27;solver&#x27;: [&#x27;liblinear&#x27;]}])</pre></div></div></div><div class=\"sk-parallel\"><div class=\"sk-parallel-item\"><div class=\"sk-item\"><div class=\"sk-label-container\"><div class=\"sk-label sk-toggleable\"><input class=\"sk-toggleable__control sk-hidden--visually\" id=\"sk-estimator-id-11\" type=\"checkbox\" ><label for=\"sk-estimator-id-11\" class=\"sk-toggleable__label sk-toggleable__label-arrow\">estimator: LogisticRegression</label><div class=\"sk-toggleable__content\"><pre>LogisticRegression()</pre></div></div></div><div class=\"sk-serial\"><div class=\"sk-item\"><div class=\"sk-estimator sk-toggleable\"><input class=\"sk-toggleable__control sk-hidden--visually\" id=\"sk-estimator-id-12\" type=\"checkbox\" ><label for=\"sk-estimator-id-12\" class=\"sk-toggleable__label sk-toggleable__label-arrow\">LogisticRegression</label><div class=\"sk-toggleable__content\"><pre>LogisticRegression()</pre></div></div></div></div></div></div></div></div></div></div>"
      ],
      "text/plain": [
       "GridSearchCV(estimator=LogisticRegression(),\n",
       "             param_grid=[{'C': array([1.00000000e-04, 2.63665090e-04, 6.95192796e-04, 1.83298071e-03,\n",
       "       4.83293024e-03, 1.27427499e-02, 3.35981829e-02, 8.85866790e-02,\n",
       "       2.33572147e-01, 6.15848211e-01, 1.62377674e+00, 4.28133240e+00,\n",
       "       1.12883789e+01, 2.97635144e+01, 7.84759970e+01, 2.06913808e+02,\n",
       "       5.45559478e+02, 1.43844989e+03, 3.79269019e+03, 1.00000000e+04]),\n",
       "                          'penalty': ['l1', 'l2'], 'solver': ['liblinear']}])"
      ]
     },
     "execution_count": 74,
     "metadata": {},
     "output_type": "execute_result"
    }
   ],
   "source": [
    "param_grid = [\n",
    "    {'penalty' : ['l1', 'l2'],\n",
    "     'C' : np.logspace(-4, 4, 20),\n",
    "     'solver' : ['liblinear']}\n",
    "]\n",
    "\n",
    "grid_search = GridSearchCV(estimator=LogisticRegression(),\n",
    "                           param_grid=param_grid,\n",
    "                           scoring=None,\n",
    "                           n_jobs=None,\n",
    "                           refit=True,\n",
    "                           cv=None,\n",
    "                           verbose=0,\n",
    "                           pre_dispatch='2*n_jobs',\n",
    "                           error_score=np.nan,\n",
    "                           return_train_score=False)\n",
    "\n",
    "grid_search.fit(X_train_fan, y_train_fan)"
   ]
  },
  {
   "cell_type": "code",
   "execution_count": 75,
   "id": "86273a62-ea5d-40da-89d6-70a0f8c1aeb6",
   "metadata": {},
   "outputs": [
    {
     "name": "stdout",
     "output_type": "stream",
     "text": [
      "Test set score: 0.85\n",
      "Best parameters: {'C': 29.763514416313132, 'penalty': 'l2', 'solver': 'liblinear'}\n",
      "Best cross-validation score: 0.84\n",
      "Best estimator:\n",
      "LogisticRegression(C=29.763514416313132, solver='liblinear')\n"
     ]
    }
   ],
   "source": [
    "print(f\"Test set score: {grid_search.score(X_test_fan, y_test_fan):.2f}\")\n",
    "print(f\"Best parameters: {grid_search.best_params_}\")\n",
    "print(f\"Best cross-validation score: {grid_search.best_score_:.2f}\")\n",
    "print(f\"Best estimator:\\n{grid_search.best_estimator_}\")"
   ]
  },
  {
   "cell_type": "code",
   "execution_count": 76,
   "id": "d6a9b0b1-30f2-4435-a0e9-75df98e23f94",
   "metadata": {},
   "outputs": [
    {
     "data": {
      "text/html": [
       "<div>\n",
       "<style scoped>\n",
       "    .dataframe tbody tr th:only-of-type {\n",
       "        vertical-align: middle;\n",
       "    }\n",
       "\n",
       "    .dataframe tbody tr th {\n",
       "        vertical-align: top;\n",
       "    }\n",
       "\n",
       "    .dataframe thead th {\n",
       "        text-align: right;\n",
       "    }\n",
       "</style>\n",
       "<table border=\"1\" class=\"dataframe\">\n",
       "  <thead>\n",
       "    <tr style=\"text-align: right;\">\n",
       "      <th></th>\n",
       "      <th>mean_fit_time</th>\n",
       "      <th>std_fit_time</th>\n",
       "      <th>mean_score_time</th>\n",
       "      <th>std_score_time</th>\n",
       "      <th>param_C</th>\n",
       "      <th>param_penalty</th>\n",
       "      <th>param_solver</th>\n",
       "      <th>params</th>\n",
       "      <th>split0_test_score</th>\n",
       "      <th>split1_test_score</th>\n",
       "      <th>split2_test_score</th>\n",
       "      <th>split3_test_score</th>\n",
       "      <th>split4_test_score</th>\n",
       "      <th>mean_test_score</th>\n",
       "      <th>std_test_score</th>\n",
       "      <th>rank_test_score</th>\n",
       "    </tr>\n",
       "  </thead>\n",
       "  <tbody>\n",
       "    <tr>\n",
       "      <th>0</th>\n",
       "      <td>0.010521</td>\n",
       "      <td>0.001588</td>\n",
       "      <td>0.001995</td>\n",
       "      <td>0.000396</td>\n",
       "      <td>0.0001</td>\n",
       "      <td>l1</td>\n",
       "      <td>liblinear</td>\n",
       "      <td>{'C': 0.0001, 'penalty': 'l1', 'solver': 'libl...</td>\n",
       "      <td>0.734234</td>\n",
       "      <td>0.734234</td>\n",
       "      <td>0.734234</td>\n",
       "      <td>0.734234</td>\n",
       "      <td>0.734234</td>\n",
       "      <td>0.734234</td>\n",
       "      <td>0.0</td>\n",
       "      <td>32</td>\n",
       "    </tr>\n",
       "    <tr>\n",
       "      <th>1</th>\n",
       "      <td>0.011017</td>\n",
       "      <td>0.000535</td>\n",
       "      <td>0.001522</td>\n",
       "      <td>0.000086</td>\n",
       "      <td>0.0001</td>\n",
       "      <td>l2</td>\n",
       "      <td>liblinear</td>\n",
       "      <td>{'C': 0.0001, 'penalty': 'l2', 'solver': 'libl...</td>\n",
       "      <td>0.734234</td>\n",
       "      <td>0.734234</td>\n",
       "      <td>0.734234</td>\n",
       "      <td>0.734234</td>\n",
       "      <td>0.734234</td>\n",
       "      <td>0.734234</td>\n",
       "      <td>0.0</td>\n",
       "      <td>32</td>\n",
       "    </tr>\n",
       "    <tr>\n",
       "      <th>2</th>\n",
       "      <td>0.006514</td>\n",
       "      <td>0.000262</td>\n",
       "      <td>0.001386</td>\n",
       "      <td>0.000070</td>\n",
       "      <td>0.000264</td>\n",
       "      <td>l1</td>\n",
       "      <td>liblinear</td>\n",
       "      <td>{'C': 0.00026366508987303583, 'penalty': 'l1',...</td>\n",
       "      <td>0.734234</td>\n",
       "      <td>0.734234</td>\n",
       "      <td>0.734234</td>\n",
       "      <td>0.734234</td>\n",
       "      <td>0.734234</td>\n",
       "      <td>0.734234</td>\n",
       "      <td>0.0</td>\n",
       "      <td>32</td>\n",
       "    </tr>\n",
       "    <tr>\n",
       "      <th>3</th>\n",
       "      <td>0.010884</td>\n",
       "      <td>0.000925</td>\n",
       "      <td>0.001377</td>\n",
       "      <td>0.000108</td>\n",
       "      <td>0.000264</td>\n",
       "      <td>l2</td>\n",
       "      <td>liblinear</td>\n",
       "      <td>{'C': 0.00026366508987303583, 'penalty': 'l2',...</td>\n",
       "      <td>0.734234</td>\n",
       "      <td>0.734234</td>\n",
       "      <td>0.734234</td>\n",
       "      <td>0.734234</td>\n",
       "      <td>0.734234</td>\n",
       "      <td>0.734234</td>\n",
       "      <td>0.0</td>\n",
       "      <td>32</td>\n",
       "    </tr>\n",
       "    <tr>\n",
       "      <th>4</th>\n",
       "      <td>0.008054</td>\n",
       "      <td>0.000229</td>\n",
       "      <td>0.001343</td>\n",
       "      <td>0.000030</td>\n",
       "      <td>0.000695</td>\n",
       "      <td>l1</td>\n",
       "      <td>liblinear</td>\n",
       "      <td>{'C': 0.0006951927961775605, 'penalty': 'l1', ...</td>\n",
       "      <td>0.734234</td>\n",
       "      <td>0.734234</td>\n",
       "      <td>0.734234</td>\n",
       "      <td>0.734234</td>\n",
       "      <td>0.734234</td>\n",
       "      <td>0.734234</td>\n",
       "      <td>0.0</td>\n",
       "      <td>32</td>\n",
       "    </tr>\n",
       "  </tbody>\n",
       "</table>\n",
       "</div>"
      ],
      "text/plain": [
       "   mean_fit_time  std_fit_time  mean_score_time  std_score_time   param_C  \\\n",
       "0       0.010521      0.001588         0.001995        0.000396    0.0001   \n",
       "1       0.011017      0.000535         0.001522        0.000086    0.0001   \n",
       "2       0.006514      0.000262         0.001386        0.000070  0.000264   \n",
       "3       0.010884      0.000925         0.001377        0.000108  0.000264   \n",
       "4       0.008054      0.000229         0.001343        0.000030  0.000695   \n",
       "\n",
       "  param_penalty param_solver  \\\n",
       "0            l1    liblinear   \n",
       "1            l2    liblinear   \n",
       "2            l1    liblinear   \n",
       "3            l2    liblinear   \n",
       "4            l1    liblinear   \n",
       "\n",
       "                                              params  split0_test_score  \\\n",
       "0  {'C': 0.0001, 'penalty': 'l1', 'solver': 'libl...           0.734234   \n",
       "1  {'C': 0.0001, 'penalty': 'l2', 'solver': 'libl...           0.734234   \n",
       "2  {'C': 0.00026366508987303583, 'penalty': 'l1',...           0.734234   \n",
       "3  {'C': 0.00026366508987303583, 'penalty': 'l2',...           0.734234   \n",
       "4  {'C': 0.0006951927961775605, 'penalty': 'l1', ...           0.734234   \n",
       "\n",
       "   split1_test_score  split2_test_score  split3_test_score  split4_test_score  \\\n",
       "0           0.734234           0.734234           0.734234           0.734234   \n",
       "1           0.734234           0.734234           0.734234           0.734234   \n",
       "2           0.734234           0.734234           0.734234           0.734234   \n",
       "3           0.734234           0.734234           0.734234           0.734234   \n",
       "4           0.734234           0.734234           0.734234           0.734234   \n",
       "\n",
       "   mean_test_score  std_test_score  rank_test_score  \n",
       "0         0.734234             0.0               32  \n",
       "1         0.734234             0.0               32  \n",
       "2         0.734234             0.0               32  \n",
       "3         0.734234             0.0               32  \n",
       "4         0.734234             0.0               32  "
      ]
     },
     "metadata": {},
     "output_type": "display_data"
    }
   ],
   "source": [
    "results = pd.DataFrame(grid_search.cv_results_)\n",
    "display(results.head())"
   ]
  },
  {
   "cell_type": "markdown",
   "id": "92c342cb-4d37-435b-8895-5402f7e2a871",
   "metadata": {},
   "source": [
    "### Pumps"
   ]
  },
  {
   "cell_type": "code",
   "execution_count": 24,
   "id": "88ea72aa-a68e-45d4-b50d-dd0ece7ec65d",
   "metadata": {},
   "outputs": [],
   "source": [
    "y_pump = df_pump['label']\n",
    "X_pump = df_pump[feature_names]\n",
    "cols_pump = X_pump.columns\n",
    "np_scaled_pump = min_max_scaler.fit_transform(X_pump)"
   ]
  },
  {
   "cell_type": "code",
   "execution_count": 25,
   "id": "53b44eab-932d-47fe-9bbb-f66d59471bdc",
   "metadata": {},
   "outputs": [],
   "source": [
    "# new data frame with the new scaled data. \n",
    "X_pump = pd.DataFrame(np_scaled_pump, columns = cols_pump)"
   ]
  },
  {
   "cell_type": "code",
   "execution_count": 26,
   "id": "25eada9a-1680-4218-b9c8-8ff88a544723",
   "metadata": {},
   "outputs": [],
   "source": [
    "X_train_pump, X_test_pump, y_train_pump, y_test_pump = train_test_split(X_pump,\n",
    "                                                                    y_pump,\n",
    "                                                                    test_size=0.2,\n",
    "                                                                    random_state=42,\n",
    "                                                                    stratify=y_pump,\n",
    "                                                                    shuffle=True)"
   ]
  },
  {
   "cell_type": "code",
   "execution_count": 27,
   "id": "6eb24c58-60df-4f1d-ab77-3870ef6605bd",
   "metadata": {},
   "outputs": [
    {
     "name": "stdout",
     "output_type": "stream",
     "text": [
      "Accuracy: 0.3805 \n",
      "\n",
      "Precision: 0.10677 \n",
      "\n",
      "Recall: 0.63869 \n",
      "\n",
      "F1 Score: 0.18296 \n",
      "\n"
     ]
    }
   ],
   "source": [
    "# Logistic Regression\n",
    "lg_pump = LogisticRegression(random_state=16, solver='liblinear', max_iter=5000, multi_class=\"ovr\")\n",
    "lg_pump.fit(X_train_pump, y_train_pump)\n",
    "preds_pump = lg_fan.predict(X_test_pump)\n",
    "#print(confusion_matrix(y_test, preds))\n",
    "print('Accuracy:', round(accuracy_score(y_test_pump, preds_pump), 5), '\\n')\n",
    "print('Precision:', round(precision_score(y_test_pump, preds_pump, average='binary'), 5), '\\n')\n",
    "print('Recall:', round(recall_score(y_test_pump, preds_pump, average='binary'), 5), '\\n')\n",
    "print('F1 Score:', round(f1_score(y_test_pump, preds_pump, average='binary'), 5), '\\n')"
   ]
  },
  {
   "cell_type": "code",
   "execution_count": 28,
   "id": "c8960ba0-2d89-4a68-8512-800cb3f22d56",
   "metadata": {},
   "outputs": [],
   "source": [
    "cm = confusion_matrix(y_test_pump, preds_pump, labels=lg_pump.classes_)"
   ]
  },
  {
   "cell_type": "code",
   "execution_count": 29,
   "id": "bfeef53a-8b02-470f-b9d6-27fca654be35",
   "metadata": {},
   "outputs": [
    {
     "data": {
      "image/png": "[encoded data removed]",
      "text/plain": [
       "<Figure size 800x600 with 2 Axes>"
      ]
     },
     "metadata": {},
     "output_type": "display_data"
    }
   ],
   "source": [
    "plt.figure(figsize=(8, 6))\n",
    "sns.heatmap(cm, annot=True, fmt='d', cmap='Blues', xticklabels=['Normal', 'Abormal'], yticklabels=['Normal', 'Abnormal'])\n",
    "plt.ylabel('True label')\n",
    "plt.xlabel('Predicted label')\n",
    "plt.title('Confusion Matrix')\n",
    "plt.show()"
   ]
  },
  {
   "cell_type": "markdown",
   "id": "8d68127a-b1cd-4f5e-9973-244fc6c1c0a8",
   "metadata": {},
   "source": []
  },
  {
   "cell_type": "markdown",
   "id": "a599405b-e933-497e-931e-20be54b9262d",
   "metadata": {},
   "source": [
    "### Stratified k-Fold Cross-Validation for Pumps"
   ]
  },
  {
   "cell_type": "code",
   "execution_count": 67,
   "id": "54b96b56-9882-4e13-9341-13c5a06a73b9",
   "metadata": {},
   "outputs": [
    {
     "name": "stdout",
     "output_type": "stream",
     "text": [
      "Cross-validation scores: [0.921522   0.89774078 0.92310741 0.92667459 0.93499802]\n",
      "Average cross-validation score: 0.92\n"
     ]
    }
   ],
   "source": [
    "k_fold_pump = KFold(n_splits=10, shuffle=True, random_state=0)\n",
    "\n",
    "scores_pump = cross_val_score(estimator=lg_pump,\n",
    "                              X=X_pump,\n",
    "                              y=y_pump,\n",
    "                              groups=None,\n",
    "                              scoring=None,\n",
    "                              cv=5,\n",
    "                              n_jobs=None,\n",
    "                              verbose=0,\n",
    "                              error_score=np.nan)\n",
    "\n",
    "print(f\"Cross-validation scores: {scores_pump}\")\n",
    "print(f\"Average cross-validation score: {scores_pump.mean():.2f}\")"
   ]
  },
  {
   "cell_type": "code",
   "execution_count": 68,
   "id": "792336d6-7fe0-4391-aecf-007475e869df",
   "metadata": {},
   "outputs": [
    {
     "name": "stdout",
     "output_type": "stream",
     "text": [
      "Cross-validation scores: [0.92789223 0.93106181 0.92551506 0.93106181 0.91442155 0.91990484\n",
      " 0.92545599 0.93021412 0.91911182 0.91990484]\n",
      "Average cross-validation score: 0.92\n"
     ]
    }
   ],
   "source": [
    "scores_pump = cross_val_score(estimator=lg_pump,\n",
    "                              X=X_pump,\n",
    "                              y=y_pump,\n",
    "                              groups=None,\n",
    "                              scoring=None,\n",
    "                              cv=k_fold_pump,\n",
    "                              n_jobs=None,\n",
    "                              verbose=0,\n",
    "                              error_score=np.nan)\n",
    "\n",
    "print(f\"Cross-validation scores: {scores_pump}\")\n",
    "print(f\"Average cross-validation score: {scores_pump.mean():.2f}\")"
   ]
  },
  {
   "cell_type": "code",
   "execution_count": null,
   "id": "e7e8197d-05d9-442a-b733-47b9a546e79b",
   "metadata": {},
   "outputs": [],
   "source": []
  },
  {
   "cell_type": "markdown",
   "id": "4693cc0e-ebc5-4623-8563-d30da7099ac3",
   "metadata": {},
   "source": [
    "### GridSearch Cross-Validation for Pumps"
   ]
  },
  {
   "cell_type": "code",
   "execution_count": 69,
   "id": "1595a863-17e1-4040-b538-4e9395fa2700",
   "metadata": {},
   "outputs": [
    {
     "data": {
      "text/html": [
       "<style>#sk-container-id-3 {color: black;background-color: white;}#sk-container-id-3 pre{padding: 0;}#sk-container-id-3 div.sk-toggleable {background-color: white;}#sk-container-id-3 label.sk-toggleable__label {cursor: pointer;display: block;width: 100%;margin-bottom: 0;padding: 0.3em;box-sizing: border-box;text-align: center;}#sk-container-id-3 label.sk-toggleable__label-arrow:before {content: \"▸\";float: left;margin-right: 0.25em;color: #696969;}#sk-container-id-3 label.sk-toggleable__label-arrow:hover:before {color: black;}#sk-container-id-3 div.sk-estimator:hover label.sk-toggleable__label-arrow:before {color: black;}#sk-container-id-3 div.sk-toggleable__content {max-height: 0;max-width: 0;overflow: hidden;text-align: left;background-color: #f0f8ff;}#sk-container-id-3 div.sk-toggleable__content pre {margin: 0.2em;color: black;border-radius: 0.25em;background-color: #f0f8ff;}#sk-container-id-3 input.sk-toggleable__control:checked~div.sk-toggleable__content {max-height: 200px;max-width: 100%;overflow: auto;}#sk-container-id-3 input.sk-toggleable__control:checked~label.sk-toggleable__label-arrow:before {content: \"▾\";}#sk-container-id-3 div.sk-estimator input.sk-toggleable__control:checked~label.sk-toggleable__label {background-color: #d4ebff;}#sk-container-id-3 div.sk-label input.sk-toggleable__control:checked~label.sk-toggleable__label {background-color: #d4ebff;}#sk-container-id-3 input.sk-hidden--visually {border: 0;clip: rect(1px 1px 1px 1px);clip: rect(1px, 1px, 1px, 1px);height: 1px;margin: -1px;overflow: hidden;padding: 0;position: absolute;width: 1px;}#sk-container-id-3 div.sk-estimator {font-family: monospace;background-color: #f0f8ff;border: 1px dotted black;border-radius: 0.25em;box-sizing: border-box;margin-bottom: 0.5em;}#sk-container-id-3 div.sk-estimator:hover {background-color: #d4ebff;}#sk-container-id-3 div.sk-parallel-item::after {content: \"\";width: 100%;border-bottom: 1px solid gray;flex-grow: 1;}#sk-container-id-3 div.sk-label:hover label.sk-toggleable__label {background-color: #d4ebff;}#sk-container-id-3 div.sk-serial::before {content: \"\";position: absolute;border-left: 1px solid gray;box-sizing: border-box;top: 0;bottom: 0;left: 50%;z-index: 0;}#sk-container-id-3 div.sk-serial {display: flex;flex-direction: column;align-items: center;background-color: white;padding-right: 0.2em;padding-left: 0.2em;position: relative;}#sk-container-id-3 div.sk-item {position: relative;z-index: 1;}#sk-container-id-3 div.sk-parallel {display: flex;align-items: stretch;justify-content: center;background-color: white;position: relative;}#sk-container-id-3 div.sk-item::before, #sk-container-id-3 div.sk-parallel-item::before {content: \"\";position: absolute;border-left: 1px solid gray;box-sizing: border-box;top: 0;bottom: 0;left: 50%;z-index: -1;}#sk-container-id-3 div.sk-parallel-item {display: flex;flex-direction: column;z-index: 1;position: relative;background-color: white;}#sk-container-id-3 div.sk-parallel-item:first-child::after {align-self: flex-end;width: 50%;}#sk-container-id-3 div.sk-parallel-item:last-child::after {align-self: flex-start;width: 50%;}#sk-container-id-3 div.sk-parallel-item:only-child::after {width: 0;}#sk-container-id-3 div.sk-dashed-wrapped {border: 1px dashed gray;margin: 0 0.4em 0.5em 0.4em;box-sizing: border-box;padding-bottom: 0.4em;background-color: white;}#sk-container-id-3 div.sk-label label {font-family: monospace;font-weight: bold;display: inline-block;line-height: 1.2em;}#sk-container-id-3 div.sk-label-container {text-align: center;}#sk-container-id-3 div.sk-container {/* jupyter's `normalize.less` sets `[hidden] { display: none; }` but bootstrap.min.css set `[hidden] { display: none !important; }` so we also need the `!important` here to be able to override the default hidden behavior on the sphinx rendered scikit-learn.org. See: https://github.com/scikit-learn/scikit-learn/issues/21755 */display: inline-block !important;position: relative;}#sk-container-id-3 div.sk-text-repr-fallback {display: none;}</style><div id=\"sk-container-id-3\" class=\"sk-top-container\"><div class=\"sk-text-repr-fallback\"><pre>GridSearchCV(estimator=LogisticRegression(),\n",
       "             param_grid=[{&#x27;C&#x27;: array([1.00000000e-04, 2.63665090e-04, 6.95192796e-04, 1.83298071e-03,\n",
       "       4.83293024e-03, 1.27427499e-02, 3.35981829e-02, 8.85866790e-02,\n",
       "       2.33572147e-01, 6.15848211e-01, 1.62377674e+00, 4.28133240e+00,\n",
       "       1.12883789e+01, 2.97635144e+01, 7.84759970e+01, 2.06913808e+02,\n",
       "       5.45559478e+02, 1.43844989e+03, 3.79269019e+03, 1.00000000e+04]),\n",
       "                          &#x27;penalty&#x27;: [&#x27;l1&#x27;, &#x27;l2&#x27;], &#x27;solver&#x27;: [&#x27;liblinear&#x27;]}])</pre><b>In a Jupyter environment, please rerun this cell to show the HTML representation or trust the notebook. <br />On GitHub, the HTML representation is unable to render, please try loading this page with nbviewer.org.</b></div><div class=\"sk-container\" hidden><div class=\"sk-item sk-dashed-wrapped\"><div class=\"sk-label-container\"><div class=\"sk-label sk-toggleable\"><input class=\"sk-toggleable__control sk-hidden--visually\" id=\"sk-estimator-id-7\" type=\"checkbox\" ><label for=\"sk-estimator-id-7\" class=\"sk-toggleable__label sk-toggleable__label-arrow\">GridSearchCV</label><div class=\"sk-toggleable__content\"><pre>GridSearchCV(estimator=LogisticRegression(),\n",
       "             param_grid=[{&#x27;C&#x27;: array([1.00000000e-04, 2.63665090e-04, 6.95192796e-04, 1.83298071e-03,\n",
       "       4.83293024e-03, 1.27427499e-02, 3.35981829e-02, 8.85866790e-02,\n",
       "       2.33572147e-01, 6.15848211e-01, 1.62377674e+00, 4.28133240e+00,\n",
       "       1.12883789e+01, 2.97635144e+01, 7.84759970e+01, 2.06913808e+02,\n",
       "       5.45559478e+02, 1.43844989e+03, 3.79269019e+03, 1.00000000e+04]),\n",
       "                          &#x27;penalty&#x27;: [&#x27;l1&#x27;, &#x27;l2&#x27;], &#x27;solver&#x27;: [&#x27;liblinear&#x27;]}])</pre></div></div></div><div class=\"sk-parallel\"><div class=\"sk-parallel-item\"><div class=\"sk-item\"><div class=\"sk-label-container\"><div class=\"sk-label sk-toggleable\"><input class=\"sk-toggleable__control sk-hidden--visually\" id=\"sk-estimator-id-8\" type=\"checkbox\" ><label for=\"sk-estimator-id-8\" class=\"sk-toggleable__label sk-toggleable__label-arrow\">estimator: LogisticRegression</label><div class=\"sk-toggleable__content\"><pre>LogisticRegression()</pre></div></div></div><div class=\"sk-serial\"><div class=\"sk-item\"><div class=\"sk-estimator sk-toggleable\"><input class=\"sk-toggleable__control sk-hidden--visually\" id=\"sk-estimator-id-9\" type=\"checkbox\" ><label for=\"sk-estimator-id-9\" class=\"sk-toggleable__label sk-toggleable__label-arrow\">LogisticRegression</label><div class=\"sk-toggleable__content\"><pre>LogisticRegression()</pre></div></div></div></div></div></div></div></div></div></div>"
      ],
      "text/plain": [
       "GridSearchCV(estimator=LogisticRegression(),\n",
       "             param_grid=[{'C': array([1.00000000e-04, 2.63665090e-04, 6.95192796e-04, 1.83298071e-03,\n",
       "       4.83293024e-03, 1.27427499e-02, 3.35981829e-02, 8.85866790e-02,\n",
       "       2.33572147e-01, 6.15848211e-01, 1.62377674e+00, 4.28133240e+00,\n",
       "       1.12883789e+01, 2.97635144e+01, 7.84759970e+01, 2.06913808e+02,\n",
       "       5.45559478e+02, 1.43844989e+03, 3.79269019e+03, 1.00000000e+04]),\n",
       "                          'penalty': ['l1', 'l2'], 'solver': ['liblinear']}])"
      ]
     },
     "execution_count": 69,
     "metadata": {},
     "output_type": "execute_result"
    }
   ],
   "source": [
    "param_grid = [\n",
    "    {'penalty' : ['l1', 'l2'],\n",
    "     'C' : np.logspace(-4, 4, 20),\n",
    "     'solver' : ['liblinear']}\n",
    "]\n",
    "\n",
    "grid_search = GridSearchCV(estimator=LogisticRegression(),\n",
    "                           param_grid=param_grid,\n",
    "                           scoring=None,\n",
    "                           n_jobs=None,\n",
    "                           refit=True,\n",
    "                           cv=None,\n",
    "                           verbose=0,\n",
    "                           pre_dispatch='2*n_jobs',\n",
    "                           error_score=np.nan,\n",
    "                           return_train_score=False)\n",
    "\n",
    "grid_search.fit(X_train_pump, y_train_pump)"
   ]
  },
  {
   "cell_type": "code",
   "execution_count": 70,
   "id": "b259f48e-7258-4105-afef-876ee85c24c5",
   "metadata": {},
   "outputs": [
    {
     "name": "stdout",
     "output_type": "stream",
     "text": [
      "Test set score: 0.93\n",
      "Best parameters: {'C': 78.47599703514607, 'penalty': 'l1', 'solver': 'liblinear'}\n",
      "Best cross-validation score: 0.93\n",
      "Best estimator:\n",
      "LogisticRegression(C=78.47599703514607, penalty='l1', solver='liblinear')\n"
     ]
    }
   ],
   "source": [
    "print(f\"Test set score: {grid_search.score(X_test_pump, y_test_pump):.2f}\")\n",
    "print(f\"Best parameters: {grid_search.best_params_}\")\n",
    "print(f\"Best cross-validation score: {grid_search.best_score_:.2f}\")\n",
    "print(f\"Best estimator:\\n{grid_search.best_estimator_}\")"
   ]
  },
  {
   "cell_type": "code",
   "execution_count": 71,
   "id": "78439b9e-54f7-4c50-abb2-31b3bd02a740",
   "metadata": {},
   "outputs": [
    {
     "data": {
      "text/html": [
       "<div>\n",
       "<style scoped>\n",
       "    .dataframe tbody tr th:only-of-type {\n",
       "        vertical-align: middle;\n",
       "    }\n",
       "\n",
       "    .dataframe tbody tr th {\n",
       "        vertical-align: top;\n",
       "    }\n",
       "\n",
       "    .dataframe thead th {\n",
       "        text-align: right;\n",
       "    }\n",
       "</style>\n",
       "<table border=\"1\" class=\"dataframe\">\n",
       "  <thead>\n",
       "    <tr style=\"text-align: right;\">\n",
       "      <th></th>\n",
       "      <th>mean_fit_time</th>\n",
       "      <th>std_fit_time</th>\n",
       "      <th>mean_score_time</th>\n",
       "      <th>std_score_time</th>\n",
       "      <th>param_C</th>\n",
       "      <th>param_penalty</th>\n",
       "      <th>param_solver</th>\n",
       "      <th>params</th>\n",
       "      <th>split0_test_score</th>\n",
       "      <th>split1_test_score</th>\n",
       "      <th>split2_test_score</th>\n",
       "      <th>split3_test_score</th>\n",
       "      <th>split4_test_score</th>\n",
       "      <th>mean_test_score</th>\n",
       "      <th>std_test_score</th>\n",
       "      <th>rank_test_score</th>\n",
       "    </tr>\n",
       "  </thead>\n",
       "  <tbody>\n",
       "    <tr>\n",
       "      <th>0</th>\n",
       "      <td>0.007852</td>\n",
       "      <td>0.001361</td>\n",
       "      <td>0.002250</td>\n",
       "      <td>0.000339</td>\n",
       "      <td>0.0001</td>\n",
       "      <td>l1</td>\n",
       "      <td>liblinear</td>\n",
       "      <td>{'C': 0.0001, 'penalty': 'l1', 'solver': 'libl...</td>\n",
       "      <td>0.89153</td>\n",
       "      <td>0.89153</td>\n",
       "      <td>0.891972</td>\n",
       "      <td>0.891477</td>\n",
       "      <td>0.891477</td>\n",
       "      <td>0.891597</td>\n",
       "      <td>0.000189</td>\n",
       "      <td>29</td>\n",
       "    </tr>\n",
       "    <tr>\n",
       "      <th>1</th>\n",
       "      <td>0.010841</td>\n",
       "      <td>0.001093</td>\n",
       "      <td>0.001715</td>\n",
       "      <td>0.000152</td>\n",
       "      <td>0.0001</td>\n",
       "      <td>l2</td>\n",
       "      <td>liblinear</td>\n",
       "      <td>{'C': 0.0001, 'penalty': 'l2', 'solver': 'libl...</td>\n",
       "      <td>0.89153</td>\n",
       "      <td>0.89153</td>\n",
       "      <td>0.891972</td>\n",
       "      <td>0.891477</td>\n",
       "      <td>0.891477</td>\n",
       "      <td>0.891597</td>\n",
       "      <td>0.000189</td>\n",
       "      <td>29</td>\n",
       "    </tr>\n",
       "    <tr>\n",
       "      <th>2</th>\n",
       "      <td>0.006228</td>\n",
       "      <td>0.000283</td>\n",
       "      <td>0.001886</td>\n",
       "      <td>0.000137</td>\n",
       "      <td>0.000264</td>\n",
       "      <td>l1</td>\n",
       "      <td>liblinear</td>\n",
       "      <td>{'C': 0.00026366508987303583, 'penalty': 'l1',...</td>\n",
       "      <td>0.89153</td>\n",
       "      <td>0.89153</td>\n",
       "      <td>0.891972</td>\n",
       "      <td>0.891477</td>\n",
       "      <td>0.891477</td>\n",
       "      <td>0.891597</td>\n",
       "      <td>0.000189</td>\n",
       "      <td>29</td>\n",
       "    </tr>\n",
       "    <tr>\n",
       "      <th>3</th>\n",
       "      <td>0.009280</td>\n",
       "      <td>0.000838</td>\n",
       "      <td>0.001548</td>\n",
       "      <td>0.000178</td>\n",
       "      <td>0.000264</td>\n",
       "      <td>l2</td>\n",
       "      <td>liblinear</td>\n",
       "      <td>{'C': 0.00026366508987303583, 'penalty': 'l2',...</td>\n",
       "      <td>0.89153</td>\n",
       "      <td>0.89153</td>\n",
       "      <td>0.891972</td>\n",
       "      <td>0.891477</td>\n",
       "      <td>0.891477</td>\n",
       "      <td>0.891597</td>\n",
       "      <td>0.000189</td>\n",
       "      <td>29</td>\n",
       "    </tr>\n",
       "    <tr>\n",
       "      <th>4</th>\n",
       "      <td>0.007390</td>\n",
       "      <td>0.000562</td>\n",
       "      <td>0.001541</td>\n",
       "      <td>0.000083</td>\n",
       "      <td>0.000695</td>\n",
       "      <td>l1</td>\n",
       "      <td>liblinear</td>\n",
       "      <td>{'C': 0.0006951927961775605, 'penalty': 'l1', ...</td>\n",
       "      <td>0.89153</td>\n",
       "      <td>0.89153</td>\n",
       "      <td>0.891972</td>\n",
       "      <td>0.891477</td>\n",
       "      <td>0.891477</td>\n",
       "      <td>0.891597</td>\n",
       "      <td>0.000189</td>\n",
       "      <td>29</td>\n",
       "    </tr>\n",
       "  </tbody>\n",
       "</table>\n",
       "</div>"
      ],
      "text/plain": [
       "   mean_fit_time  std_fit_time  mean_score_time  std_score_time   param_C  \\\n",
       "0       0.007852      0.001361         0.002250        0.000339    0.0001   \n",
       "1       0.010841      0.001093         0.001715        0.000152    0.0001   \n",
       "2       0.006228      0.000283         0.001886        0.000137  0.000264   \n",
       "3       0.009280      0.000838         0.001548        0.000178  0.000264   \n",
       "4       0.007390      0.000562         0.001541        0.000083  0.000695   \n",
       "\n",
       "  param_penalty param_solver  \\\n",
       "0            l1    liblinear   \n",
       "1            l2    liblinear   \n",
       "2            l1    liblinear   \n",
       "3            l2    liblinear   \n",
       "4            l1    liblinear   \n",
       "\n",
       "                                              params  split0_test_score  \\\n",
       "0  {'C': 0.0001, 'penalty': 'l1', 'solver': 'libl...            0.89153   \n",
       "1  {'C': 0.0001, 'penalty': 'l2', 'solver': 'libl...            0.89153   \n",
       "2  {'C': 0.00026366508987303583, 'penalty': 'l1',...            0.89153   \n",
       "3  {'C': 0.00026366508987303583, 'penalty': 'l2',...            0.89153   \n",
       "4  {'C': 0.0006951927961775605, 'penalty': 'l1', ...            0.89153   \n",
       "\n",
       "   split1_test_score  split2_test_score  split3_test_score  split4_test_score  \\\n",
       "0            0.89153           0.891972           0.891477           0.891477   \n",
       "1            0.89153           0.891972           0.891477           0.891477   \n",
       "2            0.89153           0.891972           0.891477           0.891477   \n",
       "3            0.89153           0.891972           0.891477           0.891477   \n",
       "4            0.89153           0.891972           0.891477           0.891477   \n",
       "\n",
       "   mean_test_score  std_test_score  rank_test_score  \n",
       "0         0.891597        0.000189               29  \n",
       "1         0.891597        0.000189               29  \n",
       "2         0.891597        0.000189               29  \n",
       "3         0.891597        0.000189               29  \n",
       "4         0.891597        0.000189               29  "
      ]
     },
     "metadata": {},
     "output_type": "display_data"
    }
   ],
   "source": [
    "results = pd.DataFrame(grid_search.cv_results_)\n",
    "display(results.head())"
   ]
  },
  {
   "cell_type": "markdown",
   "id": "15ff8548-c25f-477a-b6b6-e3cdf466242f",
   "metadata": {},
   "source": [
    "### Sliders"
   ]
  },
  {
   "cell_type": "code",
   "execution_count": 30,
   "id": "fae3ced9-97c2-4ba6-b8c1-11fcda802b34",
   "metadata": {},
   "outputs": [],
   "source": [
    "y_slider = df_slider['label']\n",
    "X_slider = df_slider[feature_names]\n",
    "cols_slider = X_slider.columns\n",
    "np_scaled_slider = min_max_scaler.fit_transform(X_slider)"
   ]
  },
  {
   "cell_type": "code",
   "execution_count": 31,
   "id": "ea8f1752-4220-4b5e-83bd-0b127198047b",
   "metadata": {},
   "outputs": [],
   "source": [
    "# new data frame with the new scaled data. \n",
    "X_slider = pd.DataFrame(np_scaled_slider, columns = cols_slider)"
   ]
  },
  {
   "cell_type": "code",
   "execution_count": 32,
   "id": "53576439-765f-47c6-9c0f-149bd4156fdf",
   "metadata": {},
   "outputs": [],
   "source": [
    "X_train_slider, X_test_slider, y_train_slider, y_test_slider = train_test_split(X_slider,\n",
    "                                                                    y_slider,\n",
    "                                                                    test_size=0.2,\n",
    "                                                                    random_state=42,\n",
    "                                                                    stratify=y_slider,\n",
    "                                                                    shuffle=True)"
   ]
  },
  {
   "cell_type": "code",
   "execution_count": 33,
   "id": "75051f5f-b053-4d12-997a-42adb62a6fc0",
   "metadata": {},
   "outputs": [
    {
     "name": "stdout",
     "output_type": "stream",
     "text": [
      "Accuracy: 0.93814 \n",
      "\n",
      "Precision: 0.95913 \n",
      "\n",
      "Recall: 0.74719 \n",
      "\n",
      "F1 Score: 0.84 \n",
      "\n"
     ]
    }
   ],
   "source": [
    "# Logistic Regression\n",
    "lg_slider = LogisticRegression(random_state=16, solver='liblinear', max_iter=5000, multi_class=\"ovr\")\n",
    "lg_slider.fit(X_train_slider, y_train_slider)\n",
    "preds_slider = lg_slider.predict(X_test_slider)\n",
    "#print(confusion_matrix(y_test, preds))\n",
    "print('Accuracy:', round(accuracy_score(y_test_slider, preds_slider), 5), '\\n')\n",
    "print('Precision:', round(precision_score(y_test_slider, preds_slider, average='binary'), 5), '\\n')\n",
    "print('Recall:', round(recall_score(y_test_slider, preds_slider, average='binary'), 5), '\\n')\n",
    "print('F1 Score:', round(f1_score(y_test_slider, preds_slider, average='binary'), 5), '\\n')"
   ]
  },
  {
   "cell_type": "code",
   "execution_count": 34,
   "id": "4b9e9cc9-e1a8-417a-8d63-bb7613930d36",
   "metadata": {},
   "outputs": [
    {
     "data": {
      "text/plain": [
       "<sklearn.metrics._plot.confusion_matrix.ConfusionMatrixDisplay at 0x15f150490>"
      ]
     },
     "execution_count": 34,
     "metadata": {},
     "output_type": "execute_result"
    },
    {
     "data": {
      "image/png": "[encoded data removed]",
      "text/plain": [
       "<Figure size 640x480 with 2 Axes>"
      ]
     },
     "metadata": {},
     "output_type": "display_data"
    }
   ],
   "source": [
    "cm = confusion_matrix(y_test_slider, preds_slider, labels=lg_slider.classes_)\n",
    "disp = ConfusionMatrixDisplay(confusion_matrix=cm, display_labels=lg_slider.classes_)\n",
    "disp.plot()"
   ]
  },
  {
   "cell_type": "code",
   "execution_count": 35,
   "id": "8047f919-4662-42f0-9f7d-913a48fdeae8",
   "metadata": {},
   "outputs": [
    {
     "data": {
      "image/png": "[encoded data removed]",
      "text/plain": [
       "<Figure size 800x600 with 2 Axes>"
      ]
     },
     "metadata": {},
     "output_type": "display_data"
    }
   ],
   "source": [
    "plt.figure(figsize=(8, 6))\n",
    "sns.heatmap(cm, annot=True, fmt='d', cmap='Blues', xticklabels=['Normal', 'Abormal'], yticklabels=['Normal', 'Abnormal'])\n",
    "plt.ylabel('True label')\n",
    "plt.xlabel('Predicted label')\n",
    "plt.title('Confusion Matrix')\n",
    "plt.show()"
   ]
  },
  {
   "cell_type": "markdown",
   "id": "cddf7c00-ff76-4124-89fd-c0f0f523c131",
   "metadata": {},
   "source": [
    "### Stratified k-Fold Cross-Validation for Sliders "
   ]
  },
  {
   "cell_type": "code",
   "execution_count": 36,
   "id": "8bb17077-8f72-49c0-9f0e-ad3fb088dd20",
   "metadata": {},
   "outputs": [],
   "source": [
    "k_fold_slider = KFold(n_splits=10, shuffle=True, random_state=0)"
   ]
  },
  {
   "cell_type": "code",
   "execution_count": 37,
   "id": "f642d32e-b9b1-4658-920f-797879d78f1e",
   "metadata": {},
   "outputs": [
    {
     "name": "stdout",
     "output_type": "stream",
     "text": [
      "Cross-validation scores: [0.95482295 0.95482295 0.91368078 0.94381107 0.86604235]\n"
     ]
    }
   ],
   "source": [
    "scores_slider = cross_val_score(estimator=lg_slider,\n",
    "                              X=X_slider,\n",
    "                              y=y_slider,\n",
    "                              groups=None,\n",
    "                              scoring=None,\n",
    "                              cv=5,\n",
    "                              n_jobs=None,\n",
    "                              verbose=0,\n",
    "                              error_score=np.nan)\n",
    "\n",
    "print(f\"Cross-validation scores: {scores_slider}\")"
   ]
  },
  {
   "cell_type": "code",
   "execution_count": 38,
   "id": "403a5e82-e697-48f6-a36c-7bd5378d56e4",
   "metadata": {},
   "outputs": [
    {
     "name": "stdout",
     "output_type": "stream",
     "text": [
      "Average cross-validation score: 0.93\n"
     ]
    }
   ],
   "source": [
    "print(f\"Average cross-validation score: {scores_slider.mean():.2f}\")"
   ]
  },
  {
   "cell_type": "code",
   "execution_count": 39,
   "id": "0c04303b-5fa6-444a-a71a-71e267a08864",
   "metadata": {},
   "outputs": [
    {
     "name": "stdout",
     "output_type": "stream",
     "text": [
      "Cross-validation scores: [0.93246542 0.93002441 0.9242671  0.93648208 0.92915309 0.93729642\n",
      " 0.9218241  0.93241042 0.94136808 0.93322476]\n"
     ]
    }
   ],
   "source": [
    "scores_slider = cross_val_score(estimator=lg_slider,\n",
    "                              X=X_slider,\n",
    "                              y=y_slider,\n",
    "                              groups=None,\n",
    "                              scoring=None,\n",
    "                              cv=k_fold_slider,\n",
    "                              n_jobs=None,\n",
    "                              verbose=0,\n",
    "                              error_score=np.nan)\n",
    "\n",
    "print(f\"Cross-validation scores: {scores_slider}\")"
   ]
  },
  {
   "cell_type": "code",
   "execution_count": 40,
   "id": "8b59922a-6e0b-426f-9ec5-f9519523ea89",
   "metadata": {},
   "outputs": [
    {
     "name": "stdout",
     "output_type": "stream",
     "text": [
      "Average cross-validation score: 0.93\n"
     ]
    }
   ],
   "source": [
    "print(f\"Average cross-validation score: {scores_slider.mean():.2f}\")"
   ]
  },
  {
   "cell_type": "markdown",
   "id": "5f1d9e66-80b1-4144-a7c9-900a0f2df724",
   "metadata": {},
   "source": [
    "### GridSearch Cross-Validation for Sliders"
   ]
  },
  {
   "cell_type": "code",
   "execution_count": 62,
   "id": "28cd2a52-b291-4b38-bde2-bb95a0696ca5",
   "metadata": {},
   "outputs": [],
   "source": [
    "param_grid = [\n",
    "    {'penalty' : ['l1', 'l2'],\n",
    "     'C' : np.logspace(-4, 4, 20),\n",
    "     'solver' : ['liblinear']}\n",
    "]\n",
    "\n"
   ]
  },
  {
   "cell_type": "code",
   "execution_count": 63,
   "id": "d13c959b-e994-4683-816b-cfbabb366387",
   "metadata": {},
   "outputs": [],
   "source": [
    "grid_search = GridSearchCV(estimator=LogisticRegression(),\n",
    "                           param_grid=param_grid,\n",
    "                           scoring=None,\n",
    "                           n_jobs=None,\n",
    "                           refit=True,\n",
    "                           cv=None,\n",
    "                           verbose=0,\n",
    "                           pre_dispatch='2*n_jobs',\n",
    "                           error_score=np.nan,\n",
    "                           return_train_score=False)"
   ]
  },
  {
   "cell_type": "code",
   "execution_count": 64,
   "id": "d0e30411-66c4-4a6f-a4e2-f63a532aeeb9",
   "metadata": {},
   "outputs": [
    {
     "data": {
      "text/html": [
       "<style>#sk-container-id-2 {color: black;background-color: white;}#sk-container-id-2 pre{padding: 0;}#sk-container-id-2 div.sk-toggleable {background-color: white;}#sk-container-id-2 label.sk-toggleable__label {cursor: pointer;display: block;width: 100%;margin-bottom: 0;padding: 0.3em;box-sizing: border-box;text-align: center;}#sk-container-id-2 label.sk-toggleable__label-arrow:before {content: \"▸\";float: left;margin-right: 0.25em;color: #696969;}#sk-container-id-2 label.sk-toggleable__label-arrow:hover:before {color: black;}#sk-container-id-2 div.sk-estimator:hover label.sk-toggleable__label-arrow:before {color: black;}#sk-container-id-2 div.sk-toggleable__content {max-height: 0;max-width: 0;overflow: hidden;text-align: left;background-color: #f0f8ff;}#sk-container-id-2 div.sk-toggleable__content pre {margin: 0.2em;color: black;border-radius: 0.25em;background-color: #f0f8ff;}#sk-container-id-2 input.sk-toggleable__control:checked~div.sk-toggleable__content {max-height: 200px;max-width: 100%;overflow: auto;}#sk-container-id-2 input.sk-toggleable__control:checked~label.sk-toggleable__label-arrow:before {content: \"▾\";}#sk-container-id-2 div.sk-estimator input.sk-toggleable__control:checked~label.sk-toggleable__label {background-color: #d4ebff;}#sk-container-id-2 div.sk-label input.sk-toggleable__control:checked~label.sk-toggleable__label {background-color: #d4ebff;}#sk-container-id-2 input.sk-hidden--visually {border: 0;clip: rect(1px 1px 1px 1px);clip: rect(1px, 1px, 1px, 1px);height: 1px;margin: -1px;overflow: hidden;padding: 0;position: absolute;width: 1px;}#sk-container-id-2 div.sk-estimator {font-family: monospace;background-color: #f0f8ff;border: 1px dotted black;border-radius: 0.25em;box-sizing: border-box;margin-bottom: 0.5em;}#sk-container-id-2 div.sk-estimator:hover {background-color: #d4ebff;}#sk-container-id-2 div.sk-parallel-item::after {content: \"\";width: 100%;border-bottom: 1px solid gray;flex-grow: 1;}#sk-container-id-2 div.sk-label:hover label.sk-toggleable__label {background-color: #d4ebff;}#sk-container-id-2 div.sk-serial::before {content: \"\";position: absolute;border-left: 1px solid gray;box-sizing: border-box;top: 0;bottom: 0;left: 50%;z-index: 0;}#sk-container-id-2 div.sk-serial {display: flex;flex-direction: column;align-items: center;background-color: white;padding-right: 0.2em;padding-left: 0.2em;position: relative;}#sk-container-id-2 div.sk-item {position: relative;z-index: 1;}#sk-container-id-2 div.sk-parallel {display: flex;align-items: stretch;justify-content: center;background-color: white;position: relative;}#sk-container-id-2 div.sk-item::before, #sk-container-id-2 div.sk-parallel-item::before {content: \"\";position: absolute;border-left: 1px solid gray;box-sizing: border-box;top: 0;bottom: 0;left: 50%;z-index: -1;}#sk-container-id-2 div.sk-parallel-item {display: flex;flex-direction: column;z-index: 1;position: relative;background-color: white;}#sk-container-id-2 div.sk-parallel-item:first-child::after {align-self: flex-end;width: 50%;}#sk-container-id-2 div.sk-parallel-item:last-child::after {align-self: flex-start;width: 50%;}#sk-container-id-2 div.sk-parallel-item:only-child::after {width: 0;}#sk-container-id-2 div.sk-dashed-wrapped {border: 1px dashed gray;margin: 0 0.4em 0.5em 0.4em;box-sizing: border-box;padding-bottom: 0.4em;background-color: white;}#sk-container-id-2 div.sk-label label {font-family: monospace;font-weight: bold;display: inline-block;line-height: 1.2em;}#sk-container-id-2 div.sk-label-container {text-align: center;}#sk-container-id-2 div.sk-container {/* jupyter's `normalize.less` sets `[hidden] { display: none; }` but bootstrap.min.css set `[hidden] { display: none !important; }` so we also need the `!important` here to be able to override the default hidden behavior on the sphinx rendered scikit-learn.org. See: https://github.com/scikit-learn/scikit-learn/issues/21755 */display: inline-block !important;position: relative;}#sk-container-id-2 div.sk-text-repr-fallback {display: none;}</style><div id=\"sk-container-id-2\" class=\"sk-top-container\"><div class=\"sk-text-repr-fallback\"><pre>GridSearchCV(estimator=LogisticRegression(),\n",
       "             param_grid=[{&#x27;C&#x27;: array([1.00000000e-04, 2.63665090e-04, 6.95192796e-04, 1.83298071e-03,\n",
       "       4.83293024e-03, 1.27427499e-02, 3.35981829e-02, 8.85866790e-02,\n",
       "       2.33572147e-01, 6.15848211e-01, 1.62377674e+00, 4.28133240e+00,\n",
       "       1.12883789e+01, 2.97635144e+01, 7.84759970e+01, 2.06913808e+02,\n",
       "       5.45559478e+02, 1.43844989e+03, 3.79269019e+03, 1.00000000e+04]),\n",
       "                          &#x27;penalty&#x27;: [&#x27;l1&#x27;, &#x27;l2&#x27;], &#x27;solver&#x27;: [&#x27;liblinear&#x27;]}])</pre><b>In a Jupyter environment, please rerun this cell to show the HTML representation or trust the notebook. <br />On GitHub, the HTML representation is unable to render, please try loading this page with nbviewer.org.</b></div><div class=\"sk-container\" hidden><div class=\"sk-item sk-dashed-wrapped\"><div class=\"sk-label-container\"><div class=\"sk-label sk-toggleable\"><input class=\"sk-toggleable__control sk-hidden--visually\" id=\"sk-estimator-id-4\" type=\"checkbox\" ><label for=\"sk-estimator-id-4\" class=\"sk-toggleable__label sk-toggleable__label-arrow\">GridSearchCV</label><div class=\"sk-toggleable__content\"><pre>GridSearchCV(estimator=LogisticRegression(),\n",
       "             param_grid=[{&#x27;C&#x27;: array([1.00000000e-04, 2.63665090e-04, 6.95192796e-04, 1.83298071e-03,\n",
       "       4.83293024e-03, 1.27427499e-02, 3.35981829e-02, 8.85866790e-02,\n",
       "       2.33572147e-01, 6.15848211e-01, 1.62377674e+00, 4.28133240e+00,\n",
       "       1.12883789e+01, 2.97635144e+01, 7.84759970e+01, 2.06913808e+02,\n",
       "       5.45559478e+02, 1.43844989e+03, 3.79269019e+03, 1.00000000e+04]),\n",
       "                          &#x27;penalty&#x27;: [&#x27;l1&#x27;, &#x27;l2&#x27;], &#x27;solver&#x27;: [&#x27;liblinear&#x27;]}])</pre></div></div></div><div class=\"sk-parallel\"><div class=\"sk-parallel-item\"><div class=\"sk-item\"><div class=\"sk-label-container\"><div class=\"sk-label sk-toggleable\"><input class=\"sk-toggleable__control sk-hidden--visually\" id=\"sk-estimator-id-5\" type=\"checkbox\" ><label for=\"sk-estimator-id-5\" class=\"sk-toggleable__label sk-toggleable__label-arrow\">estimator: LogisticRegression</label><div class=\"sk-toggleable__content\"><pre>LogisticRegression()</pre></div></div></div><div class=\"sk-serial\"><div class=\"sk-item\"><div class=\"sk-estimator sk-toggleable\"><input class=\"sk-toggleable__control sk-hidden--visually\" id=\"sk-estimator-id-6\" type=\"checkbox\" ><label for=\"sk-estimator-id-6\" class=\"sk-toggleable__label sk-toggleable__label-arrow\">LogisticRegression</label><div class=\"sk-toggleable__content\"><pre>LogisticRegression()</pre></div></div></div></div></div></div></div></div></div></div>"
      ],
      "text/plain": [
       "GridSearchCV(estimator=LogisticRegression(),\n",
       "             param_grid=[{'C': array([1.00000000e-04, 2.63665090e-04, 6.95192796e-04, 1.83298071e-03,\n",
       "       4.83293024e-03, 1.27427499e-02, 3.35981829e-02, 8.85866790e-02,\n",
       "       2.33572147e-01, 6.15848211e-01, 1.62377674e+00, 4.28133240e+00,\n",
       "       1.12883789e+01, 2.97635144e+01, 7.84759970e+01, 2.06913808e+02,\n",
       "       5.45559478e+02, 1.43844989e+03, 3.79269019e+03, 1.00000000e+04]),\n",
       "                          'penalty': ['l1', 'l2'], 'solver': ['liblinear']}])"
      ]
     },
     "execution_count": 64,
     "metadata": {},
     "output_type": "execute_result"
    }
   ],
   "source": [
    "grid_search.fit(X_train_slider, y_train_slider)"
   ]
  },
  {
   "cell_type": "code",
   "execution_count": 65,
   "id": "e93ce612-7233-41bd-a07f-d164928e7fb1",
   "metadata": {},
   "outputs": [
    {
     "name": "stdout",
     "output_type": "stream",
     "text": [
      "Test set score: 0.94\n",
      "Best parameters: {'C': 29.763514416313132, 'penalty': 'l2', 'solver': 'liblinear'}\n",
      "Best cross-validation score: 0.93\n",
      "Best estimator:\n",
      "LogisticRegression(C=29.763514416313132, solver='liblinear')\n"
     ]
    }
   ],
   "source": [
    "print(f\"Test set score: {grid_search.score(X_test_slider, y_test_slider):.2f}\")\n",
    "print(f\"Best parameters: {grid_search.best_params_}\")\n",
    "print(f\"Best cross-validation score: {grid_search.best_score_:.2f}\")\n",
    "print(f\"Best estimator:\\n{grid_search.best_estimator_}\")"
   ]
  },
  {
   "cell_type": "code",
   "execution_count": 66,
   "id": "e5e59e6f-5517-401e-8f66-5e048838adb0",
   "metadata": {},
   "outputs": [
    {
     "data": {
      "text/html": [
       "<div>\n",
       "<style scoped>\n",
       "    .dataframe tbody tr th:only-of-type {\n",
       "        vertical-align: middle;\n",
       "    }\n",
       "\n",
       "    .dataframe tbody tr th {\n",
       "        vertical-align: top;\n",
       "    }\n",
       "\n",
       "    .dataframe thead th {\n",
       "        text-align: right;\n",
       "    }\n",
       "</style>\n",
       "<table border=\"1\" class=\"dataframe\">\n",
       "  <thead>\n",
       "    <tr style=\"text-align: right;\">\n",
       "      <th></th>\n",
       "      <th>mean_fit_time</th>\n",
       "      <th>std_fit_time</th>\n",
       "      <th>mean_score_time</th>\n",
       "      <th>std_score_time</th>\n",
       "      <th>param_C</th>\n",
       "      <th>param_penalty</th>\n",
       "      <th>param_solver</th>\n",
       "      <th>params</th>\n",
       "      <th>split0_test_score</th>\n",
       "      <th>split1_test_score</th>\n",
       "      <th>split2_test_score</th>\n",
       "      <th>split3_test_score</th>\n",
       "      <th>split4_test_score</th>\n",
       "      <th>mean_test_score</th>\n",
       "      <th>std_test_score</th>\n",
       "      <th>rank_test_score</th>\n",
       "    </tr>\n",
       "  </thead>\n",
       "  <tbody>\n",
       "    <tr>\n",
       "      <th>0</th>\n",
       "      <td>0.007444</td>\n",
       "      <td>0.000704</td>\n",
       "      <td>0.001966</td>\n",
       "      <td>0.000309</td>\n",
       "      <td>0.0001</td>\n",
       "      <td>l1</td>\n",
       "      <td>liblinear</td>\n",
       "      <td>{'C': 0.0001, 'penalty': 'l1', 'solver': 'libl...</td>\n",
       "      <td>0.782697</td>\n",
       "      <td>0.782697</td>\n",
       "      <td>0.782697</td>\n",
       "      <td>0.782697</td>\n",
       "      <td>0.782188</td>\n",
       "      <td>0.782595</td>\n",
       "      <td>0.000204</td>\n",
       "      <td>32</td>\n",
       "    </tr>\n",
       "    <tr>\n",
       "      <th>1</th>\n",
       "      <td>0.009522</td>\n",
       "      <td>0.000898</td>\n",
       "      <td>0.001781</td>\n",
       "      <td>0.000259</td>\n",
       "      <td>0.0001</td>\n",
       "      <td>l2</td>\n",
       "      <td>liblinear</td>\n",
       "      <td>{'C': 0.0001, 'penalty': 'l2', 'solver': 'libl...</td>\n",
       "      <td>0.782697</td>\n",
       "      <td>0.782697</td>\n",
       "      <td>0.782697</td>\n",
       "      <td>0.782697</td>\n",
       "      <td>0.782188</td>\n",
       "      <td>0.782595</td>\n",
       "      <td>0.000204</td>\n",
       "      <td>32</td>\n",
       "    </tr>\n",
       "    <tr>\n",
       "      <th>2</th>\n",
       "      <td>0.005446</td>\n",
       "      <td>0.000461</td>\n",
       "      <td>0.001532</td>\n",
       "      <td>0.000186</td>\n",
       "      <td>0.000264</td>\n",
       "      <td>l1</td>\n",
       "      <td>liblinear</td>\n",
       "      <td>{'C': 0.00026366508987303583, 'penalty': 'l1',...</td>\n",
       "      <td>0.782697</td>\n",
       "      <td>0.782697</td>\n",
       "      <td>0.782697</td>\n",
       "      <td>0.782697</td>\n",
       "      <td>0.782188</td>\n",
       "      <td>0.782595</td>\n",
       "      <td>0.000204</td>\n",
       "      <td>32</td>\n",
       "    </tr>\n",
       "    <tr>\n",
       "      <th>3</th>\n",
       "      <td>0.007898</td>\n",
       "      <td>0.000136</td>\n",
       "      <td>0.001465</td>\n",
       "      <td>0.000107</td>\n",
       "      <td>0.000264</td>\n",
       "      <td>l2</td>\n",
       "      <td>liblinear</td>\n",
       "      <td>{'C': 0.00026366508987303583, 'penalty': 'l2',...</td>\n",
       "      <td>0.782697</td>\n",
       "      <td>0.782697</td>\n",
       "      <td>0.782697</td>\n",
       "      <td>0.782697</td>\n",
       "      <td>0.782188</td>\n",
       "      <td>0.782595</td>\n",
       "      <td>0.000204</td>\n",
       "      <td>32</td>\n",
       "    </tr>\n",
       "    <tr>\n",
       "      <th>4</th>\n",
       "      <td>0.005950</td>\n",
       "      <td>0.000207</td>\n",
       "      <td>0.001353</td>\n",
       "      <td>0.000021</td>\n",
       "      <td>0.000695</td>\n",
       "      <td>l1</td>\n",
       "      <td>liblinear</td>\n",
       "      <td>{'C': 0.0006951927961775605, 'penalty': 'l1', ...</td>\n",
       "      <td>0.782697</td>\n",
       "      <td>0.782697</td>\n",
       "      <td>0.782697</td>\n",
       "      <td>0.782697</td>\n",
       "      <td>0.782188</td>\n",
       "      <td>0.782595</td>\n",
       "      <td>0.000204</td>\n",
       "      <td>32</td>\n",
       "    </tr>\n",
       "  </tbody>\n",
       "</table>\n",
       "</div>"
      ],
      "text/plain": [
       "   mean_fit_time  std_fit_time  mean_score_time  std_score_time   param_C  \\\n",
       "0       0.007444      0.000704         0.001966        0.000309    0.0001   \n",
       "1       0.009522      0.000898         0.001781        0.000259    0.0001   \n",
       "2       0.005446      0.000461         0.001532        0.000186  0.000264   \n",
       "3       0.007898      0.000136         0.001465        0.000107  0.000264   \n",
       "4       0.005950      0.000207         0.001353        0.000021  0.000695   \n",
       "\n",
       "  param_penalty param_solver  \\\n",
       "0            l1    liblinear   \n",
       "1            l2    liblinear   \n",
       "2            l1    liblinear   \n",
       "3            l2    liblinear   \n",
       "4            l1    liblinear   \n",
       "\n",
       "                                              params  split0_test_score  \\\n",
       "0  {'C': 0.0001, 'penalty': 'l1', 'solver': 'libl...           0.782697   \n",
       "1  {'C': 0.0001, 'penalty': 'l2', 'solver': 'libl...           0.782697   \n",
       "2  {'C': 0.00026366508987303583, 'penalty': 'l1',...           0.782697   \n",
       "3  {'C': 0.00026366508987303583, 'penalty': 'l2',...           0.782697   \n",
       "4  {'C': 0.0006951927961775605, 'penalty': 'l1', ...           0.782697   \n",
       "\n",
       "   split1_test_score  split2_test_score  split3_test_score  split4_test_score  \\\n",
       "0           0.782697           0.782697           0.782697           0.782188   \n",
       "1           0.782697           0.782697           0.782697           0.782188   \n",
       "2           0.782697           0.782697           0.782697           0.782188   \n",
       "3           0.782697           0.782697           0.782697           0.782188   \n",
       "4           0.782697           0.782697           0.782697           0.782188   \n",
       "\n",
       "   mean_test_score  std_test_score  rank_test_score  \n",
       "0         0.782595        0.000204               32  \n",
       "1         0.782595        0.000204               32  \n",
       "2         0.782595        0.000204               32  \n",
       "3         0.782595        0.000204               32  \n",
       "4         0.782595        0.000204               32  "
      ]
     },
     "metadata": {},
     "output_type": "display_data"
    }
   ],
   "source": [
    "results = pd.DataFrame(grid_search.cv_results_)\n",
    "display(results.head())"
   ]
  },
  {
   "cell_type": "markdown",
   "id": "e00407a7-247d-43d2-9094-ce5027ec9df6",
   "metadata": {},
   "source": [
    "### Valves"
   ]
  },
  {
   "cell_type": "code",
   "execution_count": 41,
   "id": "031c8a4a-90d9-4af3-b741-457613b93d44",
   "metadata": {},
   "outputs": [],
   "source": [
    "y_valve = df_valve['label']\n",
    "X_valve = df_valve[feature_names]\n",
    "cols_valve = X_valve.columns\n",
    "np_scaled_valve = min_max_scaler.fit_transform(X_valve)"
   ]
  },
  {
   "cell_type": "code",
   "execution_count": 42,
   "id": "0885a94d-8ba3-433e-9784-097102979868",
   "metadata": {},
   "outputs": [],
   "source": [
    "# new data frame with the new scaled data. \n",
    "X_valve = pd.DataFrame(np_scaled_valve, columns = cols_valve)"
   ]
  },
  {
   "cell_type": "code",
   "execution_count": 43,
   "id": "5d189e8f-891f-4f91-a38b-1efcc797345f",
   "metadata": {},
   "outputs": [],
   "source": [
    "X_train_valve, X_test_valve, y_train_valve, y_test_valve = train_test_split(X_valve,\n",
    "                                                                    y_valve,\n",
    "                                                                    test_size=0.2,\n",
    "                                                                    random_state=42,\n",
    "                                                                    stratify=y_valve,\n",
    "                                                                    shuffle=True)"
   ]
  },
  {
   "cell_type": "code",
   "execution_count": 44,
   "id": "0ea783be-db04-4d0b-9425-ae3949efd9f4",
   "metadata": {},
   "outputs": [
    {
     "name": "stdout",
     "output_type": "stream",
     "text": [
      "Accuracy: 0.85132 \n",
      "\n",
      "Precision: 0.11712 \n",
      "\n",
      "Recall: 0.0453 \n",
      "\n",
      "F1 Score: 0.06533 \n",
      "\n"
     ]
    }
   ],
   "source": [
    "# Logistic Regression\n",
    "lg_valve = LogisticRegression(random_state=16, solver='liblinear', max_iter=5000, multi_class=\"ovr\")\n",
    "lg_valve.fit(X_train_valve, y_train_valve)\n",
    "preds_valve = lg_slider.predict(X_test_valve)\n",
    "#print(confusion_matrix(y_test, preds))\n",
    "print('Accuracy:', round(accuracy_score(y_test_valve, preds_valve), 5), '\\n')\n",
    "print('Precision:', round(precision_score(y_test_valve, preds_valve, average='binary'), 5), '\\n')\n",
    "print('Recall:', round(recall_score(y_test_valve, preds_valve, average='binary'), 5), '\\n')\n",
    "print('F1 Score:', round(f1_score(y_test_valve, preds_valve, average='binary'), 5), '\\n')"
   ]
  },
  {
   "cell_type": "code",
   "execution_count": 45,
   "id": "bbfe6314-7746-4374-b4c4-cfefc4809947",
   "metadata": {},
   "outputs": [
    {
     "data": {
      "text/plain": [
       "<sklearn.metrics._plot.confusion_matrix.ConfusionMatrixDisplay at 0x15d54d910>"
      ]
     },
     "execution_count": 45,
     "metadata": {},
     "output_type": "execute_result"
    },
    {
     "data": {
      "image/png": "[encoded data removed]",
      "text/plain": [
       "<Figure size 640x480 with 2 Axes>"
      ]
     },
     "metadata": {},
     "output_type": "display_data"
    }
   ],
   "source": [
    "cm = confusion_matrix(y_test_valve, preds_valve, labels=lg_valve.classes_)\n",
    "disp = ConfusionMatrixDisplay(confusion_matrix=cm, display_labels=lg_valve.classes_)\n",
    "disp.plot()"
   ]
  },
  {
   "cell_type": "code",
   "execution_count": 46,
   "id": "73d678eb-e496-4599-8d90-187be6df1a10",
   "metadata": {},
   "outputs": [
    {
     "data": {
      "image/png": "[encoded data removed]",
      "text/plain": [
       "<Figure size 800x600 with 2 Axes>"
      ]
     },
     "metadata": {},
     "output_type": "display_data"
    }
   ],
   "source": [
    "plt.figure(figsize=(8, 6))\n",
    "sns.heatmap(cm, annot=True, fmt='d', cmap='Blues', xticklabels=['Normal', 'Abormal'], yticklabels=['Normal', 'Abnormal'])\n",
    "plt.ylabel('True label')\n",
    "plt.xlabel('Predicted label')\n",
    "plt.title('Confusion Matrix')\n",
    "plt.show()"
   ]
  },
  {
   "cell_type": "markdown",
   "id": "b9c289b2-c8d8-403b-af10-04fa936ea4b2",
   "metadata": {},
   "source": [
    "### Stratified k-Fold Cross-Validation for Valves"
   ]
  },
  {
   "cell_type": "code",
   "execution_count": 47,
   "id": "238337b9-09da-4144-afeb-b696ac0eb71d",
   "metadata": {},
   "outputs": [],
   "source": [
    "k_fold_valve = KFold(n_splits=10, shuffle=True, random_state=0)"
   ]
  },
  {
   "cell_type": "code",
   "execution_count": 48,
   "id": "f8ea316d-2565-4744-aeb1-02892a294d18",
   "metadata": {},
   "outputs": [],
   "source": [
    "\n",
    "\n",
    "scores_pump = cross_val_score(estimator=lg_valve,\n",
    "                              X=X_valve,\n",
    "                              y=y_valve,\n",
    "                              groups=None,\n",
    "                              scoring=None,\n",
    "                              cv=None,\n",
    "                              n_jobs=None,\n",
    "                              verbose=0,\n",
    "                              error_score=np.nan)"
   ]
  },
  {
   "cell_type": "code",
   "execution_count": 49,
   "id": "c1d9fa90-23d8-49e0-9fbd-5be00b76cc7f",
   "metadata": {},
   "outputs": [
    {
     "name": "stdout",
     "output_type": "stream",
     "text": [
      "Cross-validation scores: [0.88449241 0.88409273 0.882494   0.88449241 0.88489209]\n"
     ]
    }
   ],
   "source": [
    "print(f\"Cross-validation scores: {scores_pump}\")"
   ]
  },
  {
   "cell_type": "code",
   "execution_count": 50,
   "id": "8190ea68-0e1f-411e-ba3c-267f8cc1f2f2",
   "metadata": {},
   "outputs": [
    {
     "name": "stdout",
     "output_type": "stream",
     "text": [
      "Cross-validation scores: [0.88449241 0.88409273 0.882494   0.88449241 0.88489209]\n"
     ]
    }
   ],
   "source": [
    "scores_pump = cross_val_score(estimator=lg_valve,\n",
    "                              X=X_valve,\n",
    "                              y=y_valve,\n",
    "                              groups=None,\n",
    "                              scoring=None,\n",
    "                              cv=5,\n",
    "                              n_jobs=None,\n",
    "                              verbose=0,\n",
    "                              error_score=np.nan)\n",
    "\n",
    "print(f\"Cross-validation scores: {scores_pump}\")"
   ]
  },
  {
   "cell_type": "code",
   "execution_count": 51,
   "id": "4ad9feac-ee15-4df2-bbcb-7e101dd7ce73",
   "metadata": {},
   "outputs": [
    {
     "name": "stdout",
     "output_type": "stream",
     "text": [
      "Average cross-validation score: 0.88\n"
     ]
    }
   ],
   "source": [
    "print(f\"Average cross-validation score: {scores_pump.mean():.2f}\")"
   ]
  },
  {
   "cell_type": "code",
   "execution_count": 52,
   "id": "71fb07a1-6751-441a-80ab-7a594bcd14d0",
   "metadata": {},
   "outputs": [
    {
     "name": "stdout",
     "output_type": "stream",
     "text": [
      "Cross-validation scores: [0.90567546 0.882494   0.88968825 0.90167866 0.87130296 0.8745004\n",
      " 0.88009592 0.88968825 0.8705036  0.88089528]\n"
     ]
    }
   ],
   "source": [
    "scores_pump = cross_val_score(estimator=lg_valve,\n",
    "                              X=X_valve,\n",
    "                              y=y_valve,\n",
    "                              groups=None,\n",
    "                              scoring=None,\n",
    "                              cv=k_fold_valve,\n",
    "                              n_jobs=None,\n",
    "                              verbose=0,\n",
    "                              error_score=np.nan)\n",
    "\n",
    "print(f\"Cross-validation scores: {scores_pump}\")"
   ]
  },
  {
   "cell_type": "code",
   "execution_count": 53,
   "id": "cbf26a37-a83b-4290-a0b9-865b70504eb5",
   "metadata": {},
   "outputs": [],
   "source": [
    "lg_valve = LogisticRegression(random_state=16, solver='liblinear', max_iter=5000, multi_class=\"ovr\")\n",
    "\n",
    "lg_valve = LogisticRegression(penalty='l2',\n",
    "                              dual=False,\n",
    "                              tol=0.0001,\n",
    "                              C=1.0,\n",
    "                              fit_intercept=True,\n",
    "                              intercept_scaling=1,\n",
    "                              class_weight=None,\n",
    "                              random_state=None,\n",
    "                              solver='lbfgs',\n",
    "                              max_iter=100,\n",
    "                              multi_class='deprecated',\n",
    "                              verbose=0,\n",
    "                              warm_start=False,\n",
    "                              n_jobs=None,\n",
    "                              l1_ratio=None)\n",
    "\n",
    "\n",
    "param_grid = [\n",
    "    {'penalty' : ['l1', 'l2'],\n",
    "     'C' : np.logspace(-4, 4, 20),\n",
    "     'solver' : ['liblinear']}\n",
    "]"
   ]
  },
  {
   "cell_type": "markdown",
   "id": "b9425fcc-ffda-439c-aaf3-c6c92dc7a47c",
   "metadata": {},
   "source": [
    "### GridSearch Cross-Validation for Valves"
   ]
  },
  {
   "cell_type": "code",
   "execution_count": 54,
   "id": "ca7cf99a-ae42-4b74-a984-5a9b21202cb2",
   "metadata": {},
   "outputs": [],
   "source": [
    "grid_search = GridSearchCV(estimator=LogisticRegression(),\n",
    "                           param_grid=param_grid,\n",
    "                           scoring=None,\n",
    "                           n_jobs=None,\n",
    "                           refit=True,\n",
    "                           cv=None,\n",
    "                           verbose=0,\n",
    "                           pre_dispatch='2*n_jobs',\n",
    "                           error_score=np.nan,\n",
    "                           return_train_score=False)"
   ]
  },
  {
   "cell_type": "code",
   "execution_count": 55,
   "id": "39cdea4d-50de-46ab-bfd0-9bac200e6f7b",
   "metadata": {},
   "outputs": [
    {
     "name": "stderr",
     "output_type": "stream",
     "text": [
      "/opt/anaconda3/envs/dev_tf_audio_class/lib/python3.11/site-packages/sklearn/svm/_base.py:1244: ConvergenceWarning: Liblinear failed to converge, increase the number of iterations.\n",
      "  warnings.warn(\n"
     ]
    },
    {
     "data": {
      "text/html": [
       "<style>#sk-container-id-1 {color: black;background-color: white;}#sk-container-id-1 pre{padding: 0;}#sk-container-id-1 div.sk-toggleable {background-color: white;}#sk-container-id-1 label.sk-toggleable__label {cursor: pointer;display: block;width: 100%;margin-bottom: 0;padding: 0.3em;box-sizing: border-box;text-align: center;}#sk-container-id-1 label.sk-toggleable__label-arrow:before {content: \"▸\";float: left;margin-right: 0.25em;color: #696969;}#sk-container-id-1 label.sk-toggleable__label-arrow:hover:before {color: black;}#sk-container-id-1 div.sk-estimator:hover label.sk-toggleable__label-arrow:before {color: black;}#sk-container-id-1 div.sk-toggleable__content {max-height: 0;max-width: 0;overflow: hidden;text-align: left;background-color: #f0f8ff;}#sk-container-id-1 div.sk-toggleable__content pre {margin: 0.2em;color: black;border-radius: 0.25em;background-color: #f0f8ff;}#sk-container-id-1 input.sk-toggleable__control:checked~div.sk-toggleable__content {max-height: 200px;max-width: 100%;overflow: auto;}#sk-container-id-1 input.sk-toggleable__control:checked~label.sk-toggleable__label-arrow:before {content: \"▾\";}#sk-container-id-1 div.sk-estimator input.sk-toggleable__control:checked~label.sk-toggleable__label {background-color: #d4ebff;}#sk-container-id-1 div.sk-label input.sk-toggleable__control:checked~label.sk-toggleable__label {background-color: #d4ebff;}#sk-container-id-1 input.sk-hidden--visually {border: 0;clip: rect(1px 1px 1px 1px);clip: rect(1px, 1px, 1px, 1px);height: 1px;margin: -1px;overflow: hidden;padding: 0;position: absolute;width: 1px;}#sk-container-id-1 div.sk-estimator {font-family: monospace;background-color: #f0f8ff;border: 1px dotted black;border-radius: 0.25em;box-sizing: border-box;margin-bottom: 0.5em;}#sk-container-id-1 div.sk-estimator:hover {background-color: #d4ebff;}#sk-container-id-1 div.sk-parallel-item::after {content: \"\";width: 100%;border-bottom: 1px solid gray;flex-grow: 1;}#sk-container-id-1 div.sk-label:hover label.sk-toggleable__label {background-color: #d4ebff;}#sk-container-id-1 div.sk-serial::before {content: \"\";position: absolute;border-left: 1px solid gray;box-sizing: border-box;top: 0;bottom: 0;left: 50%;z-index: 0;}#sk-container-id-1 div.sk-serial {display: flex;flex-direction: column;align-items: center;background-color: white;padding-right: 0.2em;padding-left: 0.2em;position: relative;}#sk-container-id-1 div.sk-item {position: relative;z-index: 1;}#sk-container-id-1 div.sk-parallel {display: flex;align-items: stretch;justify-content: center;background-color: white;position: relative;}#sk-container-id-1 div.sk-item::before, #sk-container-id-1 div.sk-parallel-item::before {content: \"\";position: absolute;border-left: 1px solid gray;box-sizing: border-box;top: 0;bottom: 0;left: 50%;z-index: -1;}#sk-container-id-1 div.sk-parallel-item {display: flex;flex-direction: column;z-index: 1;position: relative;background-color: white;}#sk-container-id-1 div.sk-parallel-item:first-child::after {align-self: flex-end;width: 50%;}#sk-container-id-1 div.sk-parallel-item:last-child::after {align-self: flex-start;width: 50%;}#sk-container-id-1 div.sk-parallel-item:only-child::after {width: 0;}#sk-container-id-1 div.sk-dashed-wrapped {border: 1px dashed gray;margin: 0 0.4em 0.5em 0.4em;box-sizing: border-box;padding-bottom: 0.4em;background-color: white;}#sk-container-id-1 div.sk-label label {font-family: monospace;font-weight: bold;display: inline-block;line-height: 1.2em;}#sk-container-id-1 div.sk-label-container {text-align: center;}#sk-container-id-1 div.sk-container {/* jupyter's `normalize.less` sets `[hidden] { display: none; }` but bootstrap.min.css set `[hidden] { display: none !important; }` so we also need the `!important` here to be able to override the default hidden behavior on the sphinx rendered scikit-learn.org. See: https://github.com/scikit-learn/scikit-learn/issues/21755 */display: inline-block !important;position: relative;}#sk-container-id-1 div.sk-text-repr-fallback {display: none;}</style><div id=\"sk-container-id-1\" class=\"sk-top-container\"><div class=\"sk-text-repr-fallback\"><pre>GridSearchCV(estimator=LogisticRegression(),\n",
       "             param_grid=[{&#x27;C&#x27;: array([1.00000000e-04, 2.63665090e-04, 6.95192796e-04, 1.83298071e-03,\n",
       "       4.83293024e-03, 1.27427499e-02, 3.35981829e-02, 8.85866790e-02,\n",
       "       2.33572147e-01, 6.15848211e-01, 1.62377674e+00, 4.28133240e+00,\n",
       "       1.12883789e+01, 2.97635144e+01, 7.84759970e+01, 2.06913808e+02,\n",
       "       5.45559478e+02, 1.43844989e+03, 3.79269019e+03, 1.00000000e+04]),\n",
       "                          &#x27;penalty&#x27;: [&#x27;l1&#x27;, &#x27;l2&#x27;], &#x27;solver&#x27;: [&#x27;liblinear&#x27;]}])</pre><b>In a Jupyter environment, please rerun this cell to show the HTML representation or trust the notebook. <br />On GitHub, the HTML representation is unable to render, please try loading this page with nbviewer.org.</b></div><div class=\"sk-container\" hidden><div class=\"sk-item sk-dashed-wrapped\"><div class=\"sk-label-container\"><div class=\"sk-label sk-toggleable\"><input class=\"sk-toggleable__control sk-hidden--visually\" id=\"sk-estimator-id-1\" type=\"checkbox\" ><label for=\"sk-estimator-id-1\" class=\"sk-toggleable__label sk-toggleable__label-arrow\">GridSearchCV</label><div class=\"sk-toggleable__content\"><pre>GridSearchCV(estimator=LogisticRegression(),\n",
       "             param_grid=[{&#x27;C&#x27;: array([1.00000000e-04, 2.63665090e-04, 6.95192796e-04, 1.83298071e-03,\n",
       "       4.83293024e-03, 1.27427499e-02, 3.35981829e-02, 8.85866790e-02,\n",
       "       2.33572147e-01, 6.15848211e-01, 1.62377674e+00, 4.28133240e+00,\n",
       "       1.12883789e+01, 2.97635144e+01, 7.84759970e+01, 2.06913808e+02,\n",
       "       5.45559478e+02, 1.43844989e+03, 3.79269019e+03, 1.00000000e+04]),\n",
       "                          &#x27;penalty&#x27;: [&#x27;l1&#x27;, &#x27;l2&#x27;], &#x27;solver&#x27;: [&#x27;liblinear&#x27;]}])</pre></div></div></div><div class=\"sk-parallel\"><div class=\"sk-parallel-item\"><div class=\"sk-item\"><div class=\"sk-label-container\"><div class=\"sk-label sk-toggleable\"><input class=\"sk-toggleable__control sk-hidden--visually\" id=\"sk-estimator-id-2\" type=\"checkbox\" ><label for=\"sk-estimator-id-2\" class=\"sk-toggleable__label sk-toggleable__label-arrow\">estimator: LogisticRegression</label><div class=\"sk-toggleable__content\"><pre>LogisticRegression()</pre></div></div></div><div class=\"sk-serial\"><div class=\"sk-item\"><div class=\"sk-estimator sk-toggleable\"><input class=\"sk-toggleable__control sk-hidden--visually\" id=\"sk-estimator-id-3\" type=\"checkbox\" ><label for=\"sk-estimator-id-3\" class=\"sk-toggleable__label sk-toggleable__label-arrow\">LogisticRegression</label><div class=\"sk-toggleable__content\"><pre>LogisticRegression()</pre></div></div></div></div></div></div></div></div></div></div>"
      ],
      "text/plain": [
       "GridSearchCV(estimator=LogisticRegression(),\n",
       "             param_grid=[{'C': array([1.00000000e-04, 2.63665090e-04, 6.95192796e-04, 1.83298071e-03,\n",
       "       4.83293024e-03, 1.27427499e-02, 3.35981829e-02, 8.85866790e-02,\n",
       "       2.33572147e-01, 6.15848211e-01, 1.62377674e+00, 4.28133240e+00,\n",
       "       1.12883789e+01, 2.97635144e+01, 7.84759970e+01, 2.06913808e+02,\n",
       "       5.45559478e+02, 1.43844989e+03, 3.79269019e+03, 1.00000000e+04]),\n",
       "                          'penalty': ['l1', 'l2'], 'solver': ['liblinear']}])"
      ]
     },
     "execution_count": 55,
     "metadata": {},
     "output_type": "execute_result"
    }
   ],
   "source": [
    "grid_search.fit(X_train_valve, y_train_valve)"
   ]
  },
  {
   "cell_type": "code",
   "execution_count": 56,
   "id": "1c98863a-e899-45ce-a4d5-f857c25b5a91",
   "metadata": {},
   "outputs": [
    {
     "name": "stdout",
     "output_type": "stream",
     "text": [
      "Test set score: 0.89\n"
     ]
    }
   ],
   "source": [
    "print(f\"Test set score: {grid_search.score(X_test_valve, y_test_valve):.2f}\")"
   ]
  },
  {
   "cell_type": "code",
   "execution_count": 57,
   "id": "43e51901-6cc4-446e-9ee0-8848757ff319",
   "metadata": {},
   "outputs": [
    {
     "name": "stdout",
     "output_type": "stream",
     "text": [
      "Best parameters: {'C': 0.0001, 'penalty': 'l1', 'solver': 'liblinear'}\n",
      "Best cross-validation score: 0.89\n"
     ]
    }
   ],
   "source": [
    "print(f\"Best parameters: {grid_search.best_params_}\")\n",
    "print(f\"Best cross-validation score: {grid_search.best_score_:.2f}\")"
   ]
  },
  {
   "cell_type": "code",
   "execution_count": 58,
   "id": "39b7a4d2-0270-4a37-99b3-644714bf3c5c",
   "metadata": {},
   "outputs": [
    {
     "name": "stdout",
     "output_type": "stream",
     "text": [
      "Best estimator:\n",
      "LogisticRegression(C=0.0001, penalty='l1', solver='liblinear')\n"
     ]
    }
   ],
   "source": [
    "print(f\"Best estimator:\\n{grid_search.best_estimator_}\")"
   ]
  },
  {
   "cell_type": "code",
   "execution_count": 59,
   "id": "62e9727b-003a-4db9-9009-92f620f1df47",
   "metadata": {},
   "outputs": [
    {
     "data": {
      "text/html": [
       "<div>\n",
       "<style scoped>\n",
       "    .dataframe tbody tr th:only-of-type {\n",
       "        vertical-align: middle;\n",
       "    }\n",
       "\n",
       "    .dataframe tbody tr th {\n",
       "        vertical-align: top;\n",
       "    }\n",
       "\n",
       "    .dataframe thead th {\n",
       "        text-align: right;\n",
       "    }\n",
       "</style>\n",
       "<table border=\"1\" class=\"dataframe\">\n",
       "  <thead>\n",
       "    <tr style=\"text-align: right;\">\n",
       "      <th></th>\n",
       "      <th>mean_fit_time</th>\n",
       "      <th>std_fit_time</th>\n",
       "      <th>mean_score_time</th>\n",
       "      <th>std_score_time</th>\n",
       "      <th>param_C</th>\n",
       "      <th>param_penalty</th>\n",
       "      <th>param_solver</th>\n",
       "      <th>params</th>\n",
       "      <th>split0_test_score</th>\n",
       "      <th>split1_test_score</th>\n",
       "      <th>split2_test_score</th>\n",
       "      <th>split3_test_score</th>\n",
       "      <th>split4_test_score</th>\n",
       "      <th>mean_test_score</th>\n",
       "      <th>std_test_score</th>\n",
       "      <th>rank_test_score</th>\n",
       "    </tr>\n",
       "  </thead>\n",
       "  <tbody>\n",
       "    <tr>\n",
       "      <th>0</th>\n",
       "      <td>0.006678</td>\n",
       "      <td>0.002359</td>\n",
       "      <td>0.001484</td>\n",
       "      <td>0.000118</td>\n",
       "      <td>0.0001</td>\n",
       "      <td>l1</td>\n",
       "      <td>liblinear</td>\n",
       "      <td>{'C': 0.0001, 'penalty': 'l1', 'solver': 'libl...</td>\n",
       "      <td>0.885115</td>\n",
       "      <td>0.885115</td>\n",
       "      <td>0.885115</td>\n",
       "      <td>0.885057</td>\n",
       "      <td>0.885057</td>\n",
       "      <td>0.885092</td>\n",
       "      <td>0.000028</td>\n",
       "      <td>1</td>\n",
       "    </tr>\n",
       "    <tr>\n",
       "      <th>1</th>\n",
       "      <td>0.008181</td>\n",
       "      <td>0.000225</td>\n",
       "      <td>0.001398</td>\n",
       "      <td>0.000045</td>\n",
       "      <td>0.0001</td>\n",
       "      <td>l2</td>\n",
       "      <td>liblinear</td>\n",
       "      <td>{'C': 0.0001, 'penalty': 'l2', 'solver': 'libl...</td>\n",
       "      <td>0.885115</td>\n",
       "      <td>0.885115</td>\n",
       "      <td>0.885115</td>\n",
       "      <td>0.885057</td>\n",
       "      <td>0.885057</td>\n",
       "      <td>0.885092</td>\n",
       "      <td>0.000028</td>\n",
       "      <td>1</td>\n",
       "    </tr>\n",
       "    <tr>\n",
       "      <th>2</th>\n",
       "      <td>0.005072</td>\n",
       "      <td>0.000137</td>\n",
       "      <td>0.001367</td>\n",
       "      <td>0.000034</td>\n",
       "      <td>0.000264</td>\n",
       "      <td>l1</td>\n",
       "      <td>liblinear</td>\n",
       "      <td>{'C': 0.00026366508987303583, 'penalty': 'l1',...</td>\n",
       "      <td>0.885115</td>\n",
       "      <td>0.885115</td>\n",
       "      <td>0.885115</td>\n",
       "      <td>0.885057</td>\n",
       "      <td>0.885057</td>\n",
       "      <td>0.885092</td>\n",
       "      <td>0.000028</td>\n",
       "      <td>1</td>\n",
       "    </tr>\n",
       "    <tr>\n",
       "      <th>3</th>\n",
       "      <td>0.009170</td>\n",
       "      <td>0.000495</td>\n",
       "      <td>0.001432</td>\n",
       "      <td>0.000105</td>\n",
       "      <td>0.000264</td>\n",
       "      <td>l2</td>\n",
       "      <td>liblinear</td>\n",
       "      <td>{'C': 0.00026366508987303583, 'penalty': 'l2',...</td>\n",
       "      <td>0.885115</td>\n",
       "      <td>0.885115</td>\n",
       "      <td>0.885115</td>\n",
       "      <td>0.885057</td>\n",
       "      <td>0.885057</td>\n",
       "      <td>0.885092</td>\n",
       "      <td>0.000028</td>\n",
       "      <td>1</td>\n",
       "    </tr>\n",
       "    <tr>\n",
       "      <th>4</th>\n",
       "      <td>0.007716</td>\n",
       "      <td>0.000940</td>\n",
       "      <td>0.001482</td>\n",
       "      <td>0.000106</td>\n",
       "      <td>0.000695</td>\n",
       "      <td>l1</td>\n",
       "      <td>liblinear</td>\n",
       "      <td>{'C': 0.0006951927961775605, 'penalty': 'l1', ...</td>\n",
       "      <td>0.885115</td>\n",
       "      <td>0.885115</td>\n",
       "      <td>0.885115</td>\n",
       "      <td>0.885057</td>\n",
       "      <td>0.885057</td>\n",
       "      <td>0.885092</td>\n",
       "      <td>0.000028</td>\n",
       "      <td>1</td>\n",
       "    </tr>\n",
       "  </tbody>\n",
       "</table>\n",
       "</div>"
      ],
      "text/plain": [
       "   mean_fit_time  std_fit_time  mean_score_time  std_score_time   param_C  \\\n",
       "0       0.006678      0.002359         0.001484        0.000118    0.0001   \n",
       "1       0.008181      0.000225         0.001398        0.000045    0.0001   \n",
       "2       0.005072      0.000137         0.001367        0.000034  0.000264   \n",
       "3       0.009170      0.000495         0.001432        0.000105  0.000264   \n",
       "4       0.007716      0.000940         0.001482        0.000106  0.000695   \n",
       "\n",
       "  param_penalty param_solver  \\\n",
       "0            l1    liblinear   \n",
       "1            l2    liblinear   \n",
       "2            l1    liblinear   \n",
       "3            l2    liblinear   \n",
       "4            l1    liblinear   \n",
       "\n",
       "                                              params  split0_test_score  \\\n",
       "0  {'C': 0.0001, 'penalty': 'l1', 'solver': 'libl...           0.885115   \n",
       "1  {'C': 0.0001, 'penalty': 'l2', 'solver': 'libl...           0.885115   \n",
       "2  {'C': 0.00026366508987303583, 'penalty': 'l1',...           0.885115   \n",
       "3  {'C': 0.00026366508987303583, 'penalty': 'l2',...           0.885115   \n",
       "4  {'C': 0.0006951927961775605, 'penalty': 'l1', ...           0.885115   \n",
       "\n",
       "   split1_test_score  split2_test_score  split3_test_score  split4_test_score  \\\n",
       "0           0.885115           0.885115           0.885057           0.885057   \n",
       "1           0.885115           0.885115           0.885057           0.885057   \n",
       "2           0.885115           0.885115           0.885057           0.885057   \n",
       "3           0.885115           0.885115           0.885057           0.885057   \n",
       "4           0.885115           0.885115           0.885057           0.885057   \n",
       "\n",
       "   mean_test_score  std_test_score  rank_test_score  \n",
       "0         0.885092        0.000028                1  \n",
       "1         0.885092        0.000028                1  \n",
       "2         0.885092        0.000028                1  \n",
       "3         0.885092        0.000028                1  \n",
       "4         0.885092        0.000028                1  "
      ]
     },
     "metadata": {},
     "output_type": "display_data"
    }
   ],
   "source": [
    "results = pd.DataFrame(grid_search.cv_results_)\n",
    "display(results.head())"
   ]
  },
  {
   "cell_type": "code",
   "execution_count": null,
   "id": "c2856a08-abd4-405d-912e-974a91af47f1",
   "metadata": {},
   "outputs": [],
   "source": []
  }
 ],
 "metadata": {
  "kernelspec": {
   "display_name": "keyword-spotting-sAmOcFYZ-py3.10",
   "language": "python",
   "name": "python3"
  },
  "language_info": {
   "codemirror_mode": {
    "name": "ipython",
    "version": 3
   },
   "file_extension": ".py",
   "mimetype": "text/x-python",
   "name": "python",
   "nbconvert_exporter": "python",
   "pygments_lexer": "ipython3",
   "version": "3.10.1 (v3.10.1:2cd268a3a9, Dec  6 2021, 14:28:59) [Clang 13.0.0 (clang-1300.0.29.3)]"
  },
  "vscode": {
   "interpreter": {
    "hash": "b7dc3670f032e27d098f92b49a682037b5073a6296046954dc126e384951f05c"
   }
  }
 },
 "nbformat": 4,
 "nbformat_minor": 5
}
